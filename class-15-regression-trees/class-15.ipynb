{
 "cells": [
  {
   "cell_type": "markdown",
   "metadata": {},
   "source": [
    "# <center>Class 15: Regression Trees </center>"
   ]
  },
  {
   "cell_type": "markdown",
   "metadata": {},
   "source": [
    "#### Prerequisites\n",
    "\n",
    "In order to be able to display tree objects you need to get `Graphviz` installed on your computer. \n",
    "- Installation instructions for Windows can be found [here](https://forum.graphviz.org/t/new-simplified-installation-procedure-on-windows/224). Make soure you choose the `Add Graphviz to the system PATH for current user` option.\n",
    "- More on `Graphviz` [here](https://graphviz.org/about/)\n",
    "\n",
    "Once you installed `Graphviz` you need to restart your computer."
   ]
  },
  {
   "cell_type": "code",
   "execution_count": null,
   "metadata": {},
   "outputs": [],
   "source": [
    "import warnings\n",
    "warnings.filterwarnings('ignore')\n",
    "\n",
    "import pandas as pd\n",
    "import seaborn as sns\n",
    "import random\n",
    "import os\n",
    "import matplotlib.pyplot as plt\n",
    "import seaborn as sns\n",
    "import numpy as np\n",
    "import numpy as np\n",
    "import statsmodels.api as sm\n",
    "import statsmodels.formula.api as smf\n",
    "from stargazer import stargazer\n",
    "from statsmodels.tools.eval_measures import mse,rmse\n",
    "from patsy import dmatrices\n",
    "\n",
    "from sklearn.metrics import r2_score,mean_squared_error\n",
    "from sklearn.tree import DecisionTreeClassifier, export_graphviz\n",
    "from sklearn.tree import DecisionTreeRegressor\n",
    "from collections import Counter\n",
    "from IPython.display import Image, display"
   ]
  },
  {
   "cell_type": "code",
   "execution_count": null,
   "metadata": {},
   "outputs": [],
   "source": [
    "def seq(start, stop, by, round_n=3):\n",
    "    return [round(x, round_n) for x in list(np.arange(start, stop, by))]"
   ]
  },
  {
   "cell_type": "markdown",
   "metadata": {},
   "source": [
    "## Data"
   ]
  },
  {
   "cell_type": "code",
   "execution_count": null,
   "metadata": {},
   "outputs": [],
   "source": [
    "path = os.path.join(os.pardir, 'data', 'used-cars_2cities_prep.csv') # this will produce a path with the right syntax for your operating system\n",
    "path"
   ]
  },
  {
   "cell_type": "code",
   "execution_count": null,
   "metadata": {},
   "outputs": [],
   "source": [
    "# DATA IMPORT - FROM FILE\n",
    "df = pd.read_csv(path)"
   ]
  },
  {
   "cell_type": "code",
   "execution_count": null,
   "metadata": {},
   "outputs": [],
   "source": [
    "df.head()"
   ]
  },
  {
   "cell_type": "code",
   "execution_count": null,
   "metadata": {},
   "outputs": [],
   "source": [
    "df.info()"
   ]
  },
  {
   "cell_type": "markdown",
   "metadata": {},
   "source": [
    "### EDA & feature engineering"
   ]
  },
  {
   "cell_type": "markdown",
   "metadata": {},
   "source": [
    "**Filtering**"
   ]
  },
  {
   "cell_type": "code",
   "execution_count": null,
   "metadata": {},
   "outputs": [],
   "source": [
    "# Manage missing\n",
    "df[\"fuel\"] = df[\"fuel\"].fillna(\"Missing\")\n",
    "df[\"drive\"] = df[\"drive\"].fillna(\"Missing\")\n",
    "df[\"cylinders\"] = df[\"cylinders\"].fillna(\"Missing\")\n",
    "df[\"transmission\"] = df[\"transmission\"].fillna(\"Missing\")\n",
    "df[\"type\"] = df[\"type\"].fillna(\"Missing\")"
   ]
  },
  {
   "cell_type": "code",
   "execution_count": null,
   "metadata": {},
   "outputs": [],
   "source": [
    "df['condition'].value_counts()"
   ]
  },
  {
   "cell_type": "code",
   "execution_count": null,
   "metadata": {},
   "outputs": [],
   "source": [
    "df[\"condition\"] = df[\"condition\"].fillna(\"good\")"
   ]
  },
  {
   "cell_type": "code",
   "execution_count": null,
   "metadata": {},
   "outputs": [],
   "source": [
    "df['condition'].value_counts()"
   ]
  },
  {
   "cell_type": "code",
   "execution_count": null,
   "metadata": {},
   "outputs": [],
   "source": [
    "# drop hybrid models then drop column\n",
    "df = (df.query(\"Hybrid==0\")).drop([\"Hybrid\"], axis=1)\n",
    "\n",
    "# keep gas-fuelled vehicles\n",
    "df = df.query(\"fuel=='gas'\")\n",
    "    # alternative: df = df[df.fuel == 'gas']]\n",
    "\n",
    "# drop vehicles in fair and new condition, trucks\n",
    "df = df.query(\"condition not in ['new','fair']\")\n",
    "    # alternative: df = df[~df.condition.isin(['new','fair'])]"
   ]
  },
  {
   "cell_type": "code",
   "execution_count": null,
   "metadata": {},
   "outputs": [],
   "source": [
    "# drop unrealistic values for price and odometer reading\n",
    "df = df.query(\"price in @seq(500,25001, 1)\").query(\"odometer<=100\")\n",
    "\n",
    "# drop if price is smaller than 1000 and condition is like new or age is less than 8\n",
    "df = df.query(\"~(price < 1000 & (condition == 'like new'|age < 8))\")\n",
    "\n",
    "df = df.query(\"~(transmission=='manual')\")\n",
    "\n",
    "# drop if truck\n",
    "df = df.query(\"type not in ['truck','pickup']\")\n",
    "\n",
    "# drop pricestr\n",
    "df = df.drop([\"pricestr\"], axis=1)"
   ]
  },
  {
   "cell_type": "code",
   "execution_count": null,
   "metadata": {},
   "outputs": [],
   "source": [
    "# to be on the safe side\n",
    "df = df[df[\"price\"].notna()]\n",
    "df.reset_index(drop = True, inplace = True )"
   ]
  },
  {
   "cell_type": "code",
   "execution_count": null,
   "metadata": {},
   "outputs": [],
   "source": [
    "df.shape"
   ]
  },
  {
   "cell_type": "markdown",
   "metadata": {},
   "source": [
    "**Additional variables**"
   ]
  },
  {
   "cell_type": "code",
   "execution_count": null,
   "metadata": {},
   "outputs": [],
   "source": [
    "# condition\n",
    "df[\"cond_excellent\"] = np.where(df[\"condition\"] == \"excellent\", 1, 0)\n",
    "df[\"cond_good\"] = np.where(df[\"condition\"] == \"good\", 1, 0)\n",
    "df[\"cond_likenew\"] = np.where(df[\"condition\"] == \"like new\", 1, 0)\n",
    "# cylinders\n",
    "df[\"cylind6\"] = np.where(df[\"cylinders\"] == \"6 cylinders\", 1, 0)\n",
    "df.cylinders.value_counts()\n",
    "df.cylind6.value_counts()\n",
    "#chicago\n",
    "df[\"chicago\"] = np.where(df[\"area\"] == \"chicago\", 1, 0)\n",
    "# age: quadratic, cubic\n",
    "df[\"agesq\"] = df[\"age\"] ** 2\n",
    "df[\"agecu\"] = df[\"age\"] ** 3\n",
    "# odometer quadratic\n",
    "df[\"odometersq\"] = df[\"odometer\"] ** 3"
   ]
  },
  {
   "cell_type": "code",
   "execution_count": null,
   "metadata": {},
   "outputs": [],
   "source": [
    "df.price.describe().map('{:,.0f}'.format)"
   ]
  },
  {
   "cell_type": "code",
   "execution_count": null,
   "metadata": {},
   "outputs": [],
   "source": [
    "smp_size=np.floor(0.7*df.shape[0])\n",
    "smp_size"
   ]
  },
  {
   "cell_type": "code",
   "execution_count": null,
   "metadata": {},
   "outputs": [],
   "source": [
    "# Initialize random seed to make it reproducible\n",
    "random.seed(20250217)\n",
    "train_ids = random.sample(range(0, df.shape[0]), int(smp_size))\n",
    "train_ids[:10]"
   ]
  },
  {
   "cell_type": "code",
   "execution_count": null,
   "metadata": {},
   "outputs": [],
   "source": [
    "df[\"train\"] = 0\n",
    "df[\"train\"][train_ids] = 1"
   ]
  },
  {
   "cell_type": "code",
   "execution_count": null,
   "metadata": {},
   "outputs": [],
   "source": [
    "df[\"train\"].value_counts()"
   ]
  },
  {
   "cell_type": "code",
   "execution_count": null,
   "metadata": {},
   "outputs": [],
   "source": [
    "df_train = df.query('train==1')\n",
    "df_test = df.query('train==0')"
   ]
  },
  {
   "cell_type": "markdown",
   "metadata": {},
   "source": [
    "### CART using 'age' as a single predictor variable\n",
    "\n",
    "#### A single split"
   ]
  },
  {
   "cell_type": "code",
   "execution_count": null,
   "metadata": {},
   "outputs": [],
   "source": [
    "df_train.price.describe().map('{:,.0f}'.format)"
   ]
  },
  {
   "cell_type": "code",
   "execution_count": null,
   "metadata": {},
   "outputs": [],
   "source": [
    "df_test.price.describe().map('{:,.0f}'.format)"
   ]
  },
  {
   "cell_type": "code",
   "execution_count": null,
   "metadata": {},
   "outputs": [],
   "source": [
    "cart1 = DecisionTreeRegressor(random_state = 20250217, max_depth = 1)\n",
    "\n",
    "# Note X should be a matrix instead of series, that's why we need double []\n",
    "X = df_train[['age']]\n",
    "y = df_train['price']\n",
    "cart1.fit(X,y)"
   ]
  },
  {
   "cell_type": "code",
   "execution_count": null,
   "metadata": {},
   "outputs": [],
   "source": [
    "pred_cart1 = cart1.predict(df_test[[\"age\"]])\n",
    "\n",
    "rmse_cart1 = np.sqrt(mean_squared_error(df_test[\"price\"], pred_cart1))"
   ]
  },
  {
   "cell_type": "code",
   "execution_count": null,
   "metadata": {},
   "outputs": [],
   "source": [
    "from sklearn import tree"
   ]
  },
  {
   "cell_type": "code",
   "execution_count": null,
   "metadata": {},
   "outputs": [],
   "source": [
    "tree.plot_tree(cart1, filled = True, rounded = True, feature_names=[\"age\"], fontsize = 10);"
   ]
  },
  {
   "cell_type": "markdown",
   "metadata": {},
   "source": [
    "**Export as png**"
   ]
  },
  {
   "cell_type": "code",
   "execution_count": null,
   "metadata": {},
   "outputs": [],
   "source": [
    "!dot -Tpng tree.dot -o tree.png"
   ]
  },
  {
   "cell_type": "code",
   "execution_count": null,
   "metadata": {},
   "outputs": [],
   "source": [
    "pred_cart1t = cart1.predict(df_train[['age']])"
   ]
  },
  {
   "cell_type": "code",
   "execution_count": null,
   "metadata": {},
   "outputs": [],
   "source": [
    "cart1.tree_.threshold"
   ]
  },
  {
   "cell_type": "code",
   "execution_count": null,
   "metadata": {},
   "outputs": [],
   "source": [
    "cart1_cuts = cart1.tree_.threshold[cart1.tree_.threshold != -2]\n",
    "cart1_cuts"
   ]
  },
  {
   "cell_type": "code",
   "execution_count": null,
   "metadata": {},
   "outputs": [],
   "source": [
    "df_plot = df_train\n",
    "df_plot['predicted_price'] = pred_cart1t\n",
    "df_plot.sort_values(by = 'age', inplace = True)"
   ]
  },
  {
   "cell_type": "code",
   "execution_count": null,
   "metadata": {},
   "outputs": [],
   "source": [
    "plt.figure(figsize = (8,5))\n",
    "plt.scatter(x = df_plot.age, y = df_plot.price, marker = '.')\n",
    "plt.hlines(df_plot.predicted_price.max(), 0, cart1_cuts, color = 'k')\n",
    "plt.hlines(df_plot.predicted_price.min(), cart1_cuts, df_plot.age.max(), color = 'k', label = 'predicted')\n",
    "plt.legend()\n",
    "plt.ylabel('Price (USD)')\n",
    "plt.xlabel('Age')\n",
    "plt.title('Predicted and actual car prices')\n",
    "plt.show();"
   ]
  },
  {
   "cell_type": "markdown",
   "metadata": {},
   "source": [
    "### Splits at two levels (setting \"max_depth\" to 2)"
   ]
  },
  {
   "cell_type": "code",
   "execution_count": null,
   "metadata": {},
   "outputs": [],
   "source": [
    "cart2 = DecisionTreeRegressor(random_state=20250217, max_depth=2)\n",
    "# Note X should be a matrix instead of series, that's why we need double []\n",
    "X = df_train[[\"age\"]]\n",
    "y = df_train[\"price\"]\n",
    "cart2.fit(X, y)"
   ]
  },
  {
   "cell_type": "code",
   "execution_count": null,
   "metadata": {},
   "outputs": [],
   "source": [
    "plt.figure(figsize = (14,8))\n",
    "tree.plot_tree(cart2, filled = True, rounded = True, feature_names=[\"age\"], fontsize = 12, node_ids = True);"
   ]
  },
  {
   "cell_type": "code",
   "execution_count": null,
   "metadata": {},
   "outputs": [],
   "source": [
    "# Cut points\n",
    "cuts = cart2.tree_.threshold[cart2.tree_.threshold != -2]\n",
    "cuts"
   ]
  },
  {
   "cell_type": "code",
   "execution_count": null,
   "metadata": {},
   "outputs": [],
   "source": [
    "for x in cuts:\n",
    "    print(int(np.floor(x)), int(np.floor(x) + 1))"
   ]
  },
  {
   "cell_type": "code",
   "execution_count": null,
   "metadata": {},
   "outputs": [],
   "source": [
    "# Groups\n",
    "groups = [0]\n",
    "for x in cuts:\n",
    "    groups += [int(np.floor(x)), int(np.floor(x) + 1)]\n",
    "    \n",
    "groups = sorted(groups) + [\"or more\"]\n",
    "groups"
   ]
  },
  {
   "cell_type": "code",
   "execution_count": null,
   "metadata": {},
   "outputs": [],
   "source": [
    "# get the leaf for each observations for the training sample\n",
    "leaves_index = cart2.apply(X)\n",
    "leaves_index # => these are all terminal leaves only!"
   ]
  },
  {
   "cell_type": "code",
   "execution_count": null,
   "metadata": {},
   "outputs": [],
   "source": [
    "# use Counter to find the number of elements on each leaf\n",
    "cnt = Counter(sorted(leaves_index))\n",
    "cnt"
   ]
  },
  {
   "cell_type": "code",
   "execution_count": null,
   "metadata": {},
   "outputs": [],
   "source": [
    "# and now you can index each input to get the number of elements\n",
    "elems = [cnt[x] for x in leaves_index]\n",
    "print(elems[:10], '\\t', elems[-10:])"
   ]
  },
  {
   "cell_type": "code",
   "execution_count": null,
   "metadata": {},
   "outputs": [],
   "source": [
    "counts=list(cnt.values())\n",
    "counts"
   ]
  },
  {
   "cell_type": "code",
   "execution_count": null,
   "metadata": {},
   "outputs": [],
   "source": [
    "av_price = (\n",
    "    pd.DataFrame({\"index\": leaves_index, \"fit\": cart2.predict(X)})\n",
    "    .drop_duplicates()\n",
    "    .sort_values(\"index\")[\"fit\"]\n",
    "    .tolist()\n",
    ")\n",
    "av_price"
   ]
  },
  {
   "cell_type": "code",
   "execution_count": null,
   "metadata": {},
   "outputs": [],
   "source": [
    "for x, y in enumerate(\n",
    "                [\n",
    "                    \"Age \" + str(groups[i]) + \"-\" + str(groups[i + 1])\n",
    "                    for i in range(len(groups) - 1)\n",
    "                ]):\n",
    "    print(x, \"   \", y)"
   ]
  },
  {
   "cell_type": "code",
   "execution_count": null,
   "metadata": {},
   "outputs": [],
   "source": [
    "pd.DataFrame(\n",
    "    {\n",
    "        \"Category\": [\n",
    "            y\n",
    "            for x, y in enumerate(\n",
    "                [\n",
    "                    \"Age \" + str(groups[i]) + \"-\" + str(groups[i + 1])\n",
    "                    for i in range(len(groups) - 1)\n",
    "                ]\n",
    "            )\n",
    "            if x % 2 == 0\n",
    "        ],\n",
    "        \"Count\": counts,\n",
    "        \"Average_price\": av_price,\n",
    "    }\n",
    ")"
   ]
  },
  {
   "cell_type": "raw",
   "metadata": {},
   "source": [
    "df_train[(df_train.age>1)&(df_train.age<12)].shape"
   ]
  },
  {
   "cell_type": "code",
   "execution_count": null,
   "metadata": {},
   "outputs": [],
   "source": [
    "pred_cart2 = cart2.predict(df_test[[\"age\"]])\n",
    "\n",
    "rmse_cart2 = np.sqrt(mean_squared_error(df_test[\"price\"], pred_cart2))"
   ]
  },
  {
   "cell_type": "code",
   "execution_count": null,
   "metadata": {},
   "outputs": [],
   "source": [
    "print(f'CART2 RMSE: {rmse_cart2:,.1f}')"
   ]
  },
  {
   "cell_type": "code",
   "execution_count": null,
   "metadata": {},
   "outputs": [],
   "source": [
    "pred_cart2"
   ]
  },
  {
   "cell_type": "code",
   "execution_count": null,
   "metadata": {},
   "outputs": [],
   "source": [
    "df_plot = df_train\n",
    "df_plot['predicted_price'] = cart2.predict(df_train[[\"age\"]])\n",
    "df_plot.sort_values(by = 'age', inplace = True)"
   ]
  },
  {
   "cell_type": "code",
   "execution_count": null,
   "metadata": {},
   "outputs": [],
   "source": [
    "df_plot[['age', 'predicted_price']]"
   ]
  },
  {
   "cell_type": "code",
   "execution_count": null,
   "metadata": {},
   "outputs": [],
   "source": [
    "plt.figure(figsize = (8,5))\n",
    "plt.scatter(x = df_plot.age, y = df_plot.price, marker = '.')\n",
    "for price in df_plot.predicted_price.unique():\n",
    "    xmin = df_plot[df_plot.predicted_price == price].age.min() -0.5\n",
    "    xmax = df_plot[df_plot.predicted_price == price].age.max() + 0.5\n",
    "    plt.hlines(price, xmin, xmax, color = 'k')\n",
    "# plt.legend()\n",
    "plt.ylabel('Price (USD)')\n",
    "plt.xlabel('Age')\n",
    "plt.title('Predicted and actual car prices')\n",
    "plt.show();"
   ]
  },
  {
   "cell_type": "markdown",
   "metadata": {},
   "source": [
    "#### Splitting using the *complexity parameter*"
   ]
  },
  {
   "cell_type": "markdown",
   "metadata": {},
   "source": [
    "**Note**: \n",
    "- `min_impurity_decrease` in sklearn is considered to be the same as complexity parameter; the actual values are different but the purpose is the same\n",
    "- `squared error` as *criterion* (measuring the quality of the split) stands for `mean squared error`. There is no metric targeting $R^2$."
   ]
  },
  {
   "cell_type": "code",
   "execution_count": null,
   "metadata": {},
   "outputs": [],
   "source": [
    "cart3 = DecisionTreeRegressor(\n",
    "    random_state=20250217, criterion=\"squared_error\", min_impurity_decrease=50000\n",
    ")\n",
    "# Note X should be a matrix instead of series, that's why we need double []\n",
    "X = df_train[[\"age\"]]\n",
    "y = df_train[\"price\"]\n",
    "cart3.fit(X, y)"
   ]
  },
  {
   "cell_type": "code",
   "execution_count": null,
   "metadata": {},
   "outputs": [],
   "source": [
    "pred_cart3 = cart3.predict(df_test[[\"age\"]])\n",
    "\n",
    "rmse_cart3 = np.sqrt(mean_squared_error(df_test[\"price\"], pred_cart3))"
   ]
  },
  {
   "cell_type": "code",
   "execution_count": null,
   "metadata": {},
   "outputs": [],
   "source": [
    "print(f'CART3 RMSE: {rmse_cart3:,.1f}')"
   ]
  },
  {
   "cell_type": "code",
   "execution_count": null,
   "metadata": {},
   "outputs": [],
   "source": [
    "sorted([x for x in cart3.tree_.threshold if x > -2])"
   ]
  },
  {
   "cell_type": "code",
   "execution_count": null,
   "metadata": {},
   "outputs": [],
   "source": [
    "plt.figure(figsize = (40,20))\n",
    "tree.plot_tree(cart3, filled = True, rounded = True, feature_names=[\"age\"], fontsize = 12, node_ids = True);"
   ]
  },
  {
   "cell_type": "code",
   "execution_count": null,
   "metadata": {},
   "outputs": [],
   "source": [
    "pred_cart3t = cart3.predict(df_train[[\"age\"]])"
   ]
  },
  {
   "cell_type": "code",
   "execution_count": null,
   "metadata": {},
   "outputs": [],
   "source": [
    "df_plot = df_train\n",
    "df_plot['predicted_price'] = pred_cart3t\n",
    "df_plot.sort_values(by = 'age', inplace = True)"
   ]
  },
  {
   "cell_type": "code",
   "execution_count": null,
   "metadata": {},
   "outputs": [],
   "source": [
    "plt.figure(figsize = (8,5))\n",
    "plt.scatter(x = df_plot.age, y = df_plot.price, marker = '.')\n",
    "for price in df_plot.predicted_price.unique():\n",
    "    xmin = df_plot[df_plot.predicted_price == price].age.min() -0.5\n",
    "    xmax = df_plot[df_plot.predicted_price == price].age.max() + 0.5\n",
    "    plt.hlines(price, xmin, xmax, color = 'k')\n",
    "# plt.legend()\n",
    "plt.ylabel('Price (USD)')\n",
    "plt.xlabel('Age')\n",
    "plt.title('Predicted and actual car prices')\n",
    "plt.show();"
   ]
  },
  {
   "cell_type": "markdown",
   "metadata": {},
   "source": [
    "#### Age only linear regression\n",
    "---"
   ]
  },
  {
   "cell_type": "code",
   "execution_count": null,
   "metadata": {},
   "outputs": [],
   "source": [
    "linreg1=smf.ols(\"price~age\",data=df_train).fit()\n",
    "print(linreg1.summary())"
   ]
  },
  {
   "cell_type": "code",
   "execution_count": null,
   "metadata": {},
   "outputs": [],
   "source": [
    "linreg1.resid.plot(kind = 'hist', bins = 20, rwidth = 0.9);"
   ]
  },
  {
   "cell_type": "code",
   "execution_count": null,
   "metadata": {},
   "outputs": [],
   "source": [
    "pred_linreg1 = linreg1.predict(df_test)\n",
    "rmse_ols1 = np.sqrt(mean_squared_error(df_test[\"price\"], pred_linreg1))\n",
    "rmse_ols1"
   ]
  },
  {
   "cell_type": "code",
   "execution_count": null,
   "metadata": {},
   "outputs": [],
   "source": [
    "## Scatterplot with predicted values\n",
    "pred_linreg1t=linreg1.predict(df_train)"
   ]
  },
  {
   "cell_type": "code",
   "execution_count": null,
   "metadata": {},
   "outputs": [],
   "source": [
    "df_plot = df_train\n",
    "df_plot['predicted_price'] = pred_linreg1t\n",
    "df_plot.sort_values(by = 'age', inplace = True)"
   ]
  },
  {
   "cell_type": "code",
   "execution_count": null,
   "metadata": {},
   "outputs": [],
   "source": [
    "plt.figure(figsize = (8,5))\n",
    "plt.scatter(x = df_plot.age, y = df_plot.price, marker = '.')\n",
    "plt.plot(df_plot.age, df_plot.predicted_price, color = 'k')\n",
    "plt.ylabel('Price (USD)')\n",
    "plt.xlabel('Age')\n",
    "plt.title('Predicted and actual car prices')\n",
    "plt.show();"
   ]
  },
  {
   "cell_type": "markdown",
   "metadata": {},
   "source": [
    "#### Loess using `statsmodels`"
   ]
  },
  {
   "cell_type": "code",
   "execution_count": null,
   "metadata": {},
   "outputs": [],
   "source": [
    "lowess = sm.nonparametric.lowess"
   ]
  },
  {
   "cell_type": "code",
   "execution_count": null,
   "metadata": {},
   "outputs": [],
   "source": [
    "lowess1=lowess(df_train.price,df_train.age,)\n",
    "#lowess1=lowess(df_train.price,df_train.age)"
   ]
  },
  {
   "cell_type": "code",
   "execution_count": null,
   "metadata": {},
   "outputs": [],
   "source": [
    "pred_lowess1 = lowess(df_test.price, df_test.age)\n",
    "pred_lowess1 = [x[1] for x in pred_lowess1]\n",
    "rmse_lowess1 = np.sqrt(mean_squared_error(df_test[\"price\"], pred_lowess1))\n",
    "\n",
    "pred_lowess1t = lowess(df_train.price, df_train.age)\n",
    "pred_lowess1t = [x[1] for x in pred_lowess1t]"
   ]
  },
  {
   "cell_type": "code",
   "execution_count": null,
   "metadata": {},
   "outputs": [],
   "source": [
    "df_lowess = df_train.copy()\n",
    "df_lowess[\"pred_lowess1t\"] = pred_lowess1t\n",
    "df_lowess.sort_values(by = 'age', inplace = True)"
   ]
  },
  {
   "cell_type": "code",
   "execution_count": null,
   "metadata": {},
   "outputs": [],
   "source": [
    "plt.figure(figsize = (8,5))\n",
    "plt.scatter(x = df_lowess.age, y = df_lowess.price, marker = '.')\n",
    "plt.plot(df_lowess.age, df_lowess.pred_lowess1t, color = 'k')\n",
    "plt.ylabel('Price (USD)')\n",
    "plt.xlabel('Age')\n",
    "plt.title('Predicted and actual car prices - lowess')\n",
    "plt.show();"
   ]
  },
  {
   "cell_type": "markdown",
   "metadata": {},
   "source": [
    "### CART using multiple predictor variables\n",
    "\n",
    "#### Linear regression baselines"
   ]
  },
  {
   "cell_type": "code",
   "execution_count": null,
   "metadata": {},
   "outputs": [],
   "source": [
    "# Linear regression with multiple variables\n",
    "model2 = \"price ~ age + odometer + LE + XLE + SE + cond_excellent + cond_good + cylind6 + dealer + chicago\"\n",
    "linreg2 = smf.ols(model2, df_train).fit()\n",
    "print(linreg2.summary())"
   ]
  },
  {
   "cell_type": "code",
   "execution_count": null,
   "metadata": {},
   "outputs": [],
   "source": [
    "pred_linreg2 = linreg2.predict(df_test)\n",
    "rmse_linreg2 = np.sqrt(mean_squared_error(df_test[\"price\"], pred_linreg2))\n",
    "rmse_linreg2"
   ]
  },
  {
   "cell_type": "code",
   "execution_count": null,
   "metadata": {},
   "outputs": [],
   "source": [
    "# add squared for age, odometer\n",
    "model3 = \"price ~ age + agesq+ odometer+odometersq +LE + XLE + SE + cond_excellent + cond_good + cylind6 + dealer+chicago\"\n",
    "linreg3 = smf.ols(model3, df_train).fit()\n",
    "print(linreg3.summary())"
   ]
  },
  {
   "cell_type": "code",
   "execution_count": null,
   "metadata": {},
   "outputs": [],
   "source": [
    "pred_linreg3 = linreg3.predict(df_test)\n",
    "rmse_linreg3 = np.sqrt(mean_squared_error(df_test[\"price\"], pred_linreg3))\n",
    "rmse_linreg3"
   ]
  },
  {
   "cell_type": "markdown",
   "metadata": {},
   "source": [
    "#### Trees"
   ]
  },
  {
   "cell_type": "code",
   "execution_count": null,
   "metadata": {},
   "outputs": [],
   "source": [
    "y, X = dmatrices(model2, df_train)"
   ]
  },
  {
   "cell_type": "markdown",
   "metadata": {},
   "source": [
    "**Splitting at four levels, for illustrative purposes (by setting \"maxdepth\" to 3)**"
   ]
  },
  {
   "cell_type": "code",
   "execution_count": null,
   "metadata": {},
   "outputs": [],
   "source": [
    "cart4 = DecisionTreeRegressor(\n",
    "    random_state=20250217, criterion=\"squared_error\",max_depth=3\n",
    ")\n",
    "cart4.fit(X, y)"
   ]
  },
  {
   "cell_type": "code",
   "execution_count": null,
   "metadata": {},
   "outputs": [],
   "source": [
    "y_test, X_test = dmatrices(model2, df_test)\n",
    "\n",
    "pred_cart4 = cart4.predict(X_test)\n",
    "rmse_cart4 = np.sqrt(mean_squared_error(y_test, pred_cart4))\n",
    "rmse_cart4"
   ]
  },
  {
   "cell_type": "code",
   "execution_count": null,
   "metadata": {},
   "outputs": [],
   "source": [
    "feature_names_model2 = [\n",
    "    \"price\",\n",
    "    \"age\",\n",
    "    \"odometer\",\n",
    "    \"LE\",\n",
    "    \"XLE\",\n",
    "    \"SE\",\n",
    "    \"cond_excellent\",\n",
    "    \"cond_good\",\n",
    "    \"cylind6\",\n",
    "    \"dealer\",\n",
    "    \"chicago\",\n",
    "]"
   ]
  },
  {
   "cell_type": "code",
   "execution_count": null,
   "metadata": {},
   "outputs": [],
   "source": [
    "plt.figure(figsize = (35,15))\n",
    "tree.plot_tree(cart4, filled = True, rounded = True, feature_names= feature_names_model2, fontsize = 16);"
   ]
  },
  {
   "cell_type": "markdown",
   "metadata": {},
   "source": [
    "**Alternative: using of min_impurity_decrease**"
   ]
  },
  {
   "cell_type": "code",
   "execution_count": null,
   "metadata": {},
   "outputs": [],
   "source": [
    "cart4 = DecisionTreeRegressor(\n",
    "    random_state=20250217,\n",
    "    criterion=\"squared_error\",\n",
    "    min_impurity_decrease=145000,\n",
    "    min_samples_split=20,\n",
    ")\n",
    "cart4.fit(X, y)\n",
    "\n",
    "y_test, X_test = dmatrices(model2, df_test)\n",
    "\n",
    "pred_cart4 = cart4.predict(X_test)\n",
    "rmse_cart4 = np.sqrt(mean_squared_error(y_test, pred_cart4))\n",
    "rmse_cart4"
   ]
  },
  {
   "cell_type": "code",
   "execution_count": null,
   "metadata": {},
   "outputs": [],
   "source": [
    "cart5 = DecisionTreeRegressor(\n",
    "    random_state=20270217,\n",
    "    criterion=\"squared_error\",\n",
    "    min_impurity_decrease=20000,\n",
    ")\n",
    "cart5.fit(X, y)"
   ]
  },
  {
   "cell_type": "code",
   "execution_count": null,
   "metadata": {},
   "outputs": [],
   "source": [
    "pred_cart5 = cart5.predict(X_test)\n",
    "rmse_cart5 = np.sqrt(mean_squared_error(y_test, pred_cart5))\n",
    "rmse_cart5"
   ]
  },
  {
   "cell_type": "code",
   "execution_count": null,
   "metadata": {},
   "outputs": [],
   "source": [
    "plt.figure(figsize = (35,15))\n",
    "tree.plot_tree(cart5, filled = True, rounded = True, feature_names= feature_names_model2, fontsize = 12);"
   ]
  },
  {
   "cell_type": "markdown",
   "metadata": {},
   "source": [
    "**Build very large tree and prune it**\n",
    "\n",
    "Set the `ccp_alpha` [parameter](https://scikit-learn.org/stable/modules/tree.html#minimal-cost-complexity-pruning)."
   ]
  },
  {
   "cell_type": "code",
   "execution_count": null,
   "metadata": {},
   "outputs": [],
   "source": [
    "cart6 = DecisionTreeRegressor(\n",
    "    random_state=20250217, min_samples_split=4, criterion=\"squared_error\",ccp_alpha=30000\n",
    ")\n",
    "cart6.fit(X, y)"
   ]
  },
  {
   "cell_type": "code",
   "execution_count": null,
   "metadata": {},
   "outputs": [],
   "source": [
    "pred_cart6 = cart6.predict(X_test)\n",
    "rmse_cart6 = np.sqrt(mean_squared_error(y_test, pred_cart6))\n",
    "rmse_cart6"
   ]
  },
  {
   "cell_type": "code",
   "execution_count": null,
   "metadata": {},
   "outputs": [],
   "source": [
    "plt.figure(figsize = (35,15))\n",
    "tree.plot_tree(cart6, filled = True, rounded = True, feature_names= feature_names_model2, fontsize = 12);"
   ]
  },
  {
   "cell_type": "markdown",
   "metadata": {},
   "source": [
    "#### Plot variable importance for model 6"
   ]
  },
  {
   "cell_type": "code",
   "execution_count": null,
   "metadata": {},
   "outputs": [],
   "source": [
    "cart6.feature_importances_"
   ]
  },
  {
   "cell_type": "code",
   "execution_count": null,
   "metadata": {},
   "outputs": [],
   "source": [
    "cart6.feature_importances_.sum()"
   ]
  },
  {
   "cell_type": "code",
   "execution_count": null,
   "metadata": {},
   "outputs": [],
   "source": [
    "df_cart6_var_imp = (\n",
    "    pd.DataFrame(\n",
    "        {'variable': feature_names_model2, \n",
    "         'importance': cart6.feature_importances_}\n",
    "    ).sort_values(\n",
    "        by=[\"importance\"], ascending=False\n",
    "    ).reset_index(drop = True)\n",
    ")"
   ]
  },
  {
   "cell_type": "code",
   "execution_count": null,
   "metadata": {},
   "outputs": [],
   "source": [
    "df_cart6_var_imp"
   ]
  },
  {
   "cell_type": "markdown",
   "metadata": {},
   "source": [
    "Using Pandas `plot` method."
   ]
  },
  {
   "cell_type": "code",
   "execution_count": null,
   "metadata": {},
   "outputs": [],
   "source": [
    "df_ = df_cart6_var_imp.sort_values(by = 'importance', ascending = True)"
   ]
  },
  {
   "cell_type": "code",
   "execution_count": null,
   "metadata": {},
   "outputs": [],
   "source": [
    "df_.importance = df_.importance *100"
   ]
  },
  {
   "cell_type": "code",
   "execution_count": null,
   "metadata": {},
   "outputs": [],
   "source": [
    "import matplotlib.ticker as mtick\n",
    "\n",
    "plt.figure()\n",
    "ax = df_.plot(\n",
    "    kind = 'barh', x = 'variable', y = 'importance', \n",
    "    legend = False, grid = True, \n",
    "    xlabel = 'importance', ylabel = 'variable', \n",
    "    title = 'Variable importance for model CART6')\n",
    "ax.set_xticks([x for x in range(0,100, 10)])\n",
    "ax.xaxis.set_major_formatter(mtick.PercentFormatter())\n",
    "plt.plot();"
   ]
  },
  {
   "cell_type": "code",
   "execution_count": null,
   "metadata": {},
   "outputs": [],
   "source": [
    "pd.DataFrame(\n",
    "    {\n",
    "        \"Model\": [\"CART M\" + str(i) for i in range(1, 7)]\n",
    "        + [\"OLS M\" + str(i) for i in range(1, 4)],\n",
    "        \"Number of variables\": [1, 1, 7, 7, 7, 7, 1, 7, 7],\n",
    "        \"Model details\": [\n",
    "            \"2 levels\",\n",
    "            \"3 levels\",\n",
    "            \"min_impurity_decrease=50000\",\n",
    "            \"min_impurity_decrease=140000 & min_samples_split=20\",\n",
    "            \"min_impurity_decrease=20000\",\n",
    "            \"ccp_alpha=30000\",\n",
    "            \"linear\",\n",
    "            \"linear\",\n",
    "            \"w/ polynomial terms\",\n",
    "        ],\n",
    "        \"RMSE\": [\n",
    "            rmse_cart1,\n",
    "            rmse_cart2,\n",
    "            rmse_cart3,\n",
    "            rmse_cart4,\n",
    "            rmse_cart5,\n",
    "            rmse_cart6,\n",
    "            rmse_ols1,\n",
    "            rmse_linreg2,\n",
    "            rmse_linreg3,\n",
    "        ],\n",
    "    }\n",
    ").set_index(\"Model\")"
   ]
  },
  {
   "cell_type": "markdown",
   "metadata": {},
   "source": [
    "### Build a Simple OLS Based on CART Feature Importances"
   ]
  },
  {
   "cell_type": "code",
   "execution_count": null,
   "metadata": {},
   "outputs": [],
   "source": [
    "# add squared for age, odometer\n",
    "model_final = \"price ~ age + agesq+ odometer+odometersq\"\n",
    "linreg_final = smf.ols(model_final, df_train).fit()\n",
    "print(linreg_final.summary())"
   ]
  },
  {
   "cell_type": "code",
   "execution_count": null,
   "metadata": {},
   "outputs": [],
   "source": [
    "pred_linreg_final = linreg_final.predict(df_test)\n",
    "rmse_linreg_final = np.sqrt(mean_squared_error(df_test[\"price\"], pred_linreg_final))"
   ]
  },
  {
   "cell_type": "code",
   "execution_count": null,
   "metadata": {},
   "outputs": [],
   "source": [
    "print(f'{rmse_linreg_final:,.1f}')"
   ]
  },
  {
   "cell_type": "code",
   "execution_count": null,
   "metadata": {},
   "outputs": [],
   "source": [
    "linreg_final.params.map('{:,.1f}'.format)"
   ]
  },
  {
   "cell_type": "code",
   "execution_count": null,
   "metadata": {},
   "outputs": [],
   "source": []
  }
 ],
 "metadata": {
  "kernelspec": {
   "display_name": "Python 3 (ipykernel)",
   "language": "python",
   "name": "python3"
  },
  "language_info": {
   "codemirror_mode": {
    "name": "ipython",
    "version": 3
   },
   "file_extension": ".py",
   "mimetype": "text/x-python",
   "name": "python",
   "nbconvert_exporter": "python",
   "pygments_lexer": "ipython3",
   "version": "3.12.4"
  }
 },
 "nbformat": 4,
 "nbformat_minor": 4
}
