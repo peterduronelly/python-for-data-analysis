{
 "cells": [
  {
   "cell_type": "markdown",
   "id": "b9509911-ac78-40fa-b440-25ab2f03ce72",
   "metadata": {},
   "source": [
    "# <center>Class 6</center>"
   ]
  },
  {
   "cell_type": "markdown",
   "id": "7c83a148-c378-4e5c-a40f-dbf3e597ca6d",
   "metadata": {},
   "source": [
    "## Data Analysis using Pandas"
   ]
  },
  {
   "cell_type": "code",
   "execution_count": null,
   "id": "63c47203-3dab-4125-b652-9e9bf7ec68ab",
   "metadata": {},
   "outputs": [],
   "source": [
    "import pandas as pd\n",
    "import numpy as np\n",
    "import os\n",
    "import warnings\n",
    "warnings.filterwarnings('ignore')"
   ]
  },
  {
   "cell_type": "code",
   "execution_count": null,
   "id": "9e397269-fef1-4e3b-8629-91db6d5b9c57",
   "metadata": {},
   "outputs": [],
   "source": [
    "import matplotlib.pyplot as plt\n",
    "%matplotlib inline"
   ]
  },
  {
   "cell_type": "markdown",
   "id": "a10b3199-5e67-4900-977b-b25b0b2c0dbb",
   "metadata": {},
   "source": [
    "### Importing Match-level Data By Reading A CSV File"
   ]
  },
  {
   "cell_type": "code",
   "execution_count": null,
   "id": "0081d3c3-ba88-4c3f-ab34-01592c16a220",
   "metadata": {},
   "outputs": [],
   "source": [
    "file = os.path.join(os.pardir, 'data', 'E0.csv')"
   ]
  },
  {
   "cell_type": "code",
   "execution_count": null,
   "id": "9c701ec3-1dcb-4a54-9b1c-6b1a5a398906",
   "metadata": {},
   "outputs": [],
   "source": [
    "df_matches = pd.read_csv(file)"
   ]
  },
  {
   "cell_type": "markdown",
   "id": "82326c0b-bd1b-4a8f-993a-277f2275986a",
   "metadata": {},
   "source": [
    "<br>**What do we have?**   \n",
    "Let's interpret the columns! "
   ]
  },
  {
   "cell_type": "code",
   "execution_count": null,
   "id": "8690a212-f972-4b1e-b30f-cca944878ea3",
   "metadata": {},
   "outputs": [],
   "source": [
    "df_matches.head()"
   ]
  },
  {
   "cell_type": "code",
   "execution_count": null,
   "id": "b60e1167-6fc5-4686-9bcf-2e6b32bac7af",
   "metadata": {},
   "outputs": [],
   "source": [
    "df_matches.shape"
   ]
  },
  {
   "cell_type": "markdown",
   "id": "7734fd24-382c-49c9-97a7-e039ca869fbd",
   "metadata": {},
   "source": [
    "Too many columns to list detailed info. "
   ]
  },
  {
   "cell_type": "code",
   "execution_count": null,
   "id": "c031b115-5a88-4a1d-9187-4b0244cf20c2",
   "metadata": {},
   "outputs": [],
   "source": [
    "df_matches.info()"
   ]
  },
  {
   "cell_type": "code",
   "execution_count": null,
   "id": "1f9a8fe9-6cb3-4d78-b4d4-d685f26d0859",
   "metadata": {},
   "outputs": [],
   "source": [
    "df_matches[df_matches.HomeTeam == 'Arsenal'].head()"
   ]
  },
  {
   "cell_type": "code",
   "execution_count": null,
   "id": "e7f94ea5-fd79-4cab-8799-85f4ab73296b",
   "metadata": {},
   "outputs": [],
   "source": [
    "df_matches[df_matches.HomeTeam == 'Aston Villa'].shape"
   ]
  },
  {
   "cell_type": "code",
   "execution_count": null,
   "id": "f07e9991-77a0-4437-849d-3817c2369275",
   "metadata": {},
   "outputs": [],
   "source": [
    "df_matches[df_matches.AwayTeam == 'Aston Villa'].shape"
   ]
  },
  {
   "cell_type": "code",
   "execution_count": null,
   "id": "5ddafff5-12b4-4e61-bcc2-8aa4bd4c21bf",
   "metadata": {
    "tags": []
   },
   "outputs": [],
   "source": [
    "for col in df_matches.columns:\n",
    "    print(col)"
   ]
  },
  {
   "cell_type": "markdown",
   "id": "9c8348e0-0d2b-49ed-9971-37f09b8b72c3",
   "metadata": {},
   "source": [
    "**Limiting The Dataset**"
   ]
  },
  {
   "cell_type": "code",
   "execution_count": null,
   "id": "9a0e186f-e5bd-4729-b494-77c28c021066",
   "metadata": {},
   "outputs": [],
   "source": [
    "df_matches = df_matches[\n",
    "    ['Date', 'HomeTeam', 'AwayTeam', \n",
    "     'FTHG', 'FTAG', 'HS', 'AS', \n",
    "     'B365H', 'B365A']\n",
    "]"
   ]
  },
  {
   "cell_type": "markdown",
   "id": "0a6d1432-d013-4887-9a40-1a8bc2e131fe",
   "metadata": {},
   "source": [
    "columns\n",
    "- Date: date of the match\n",
    "- HomeTeam: the team playing in its home stadium\n",
    "- AwayTeam: the away team\n",
    "- FTHG: full-time home goals\n",
    "- FTAG: full-time away goals\n",
    "- HS: goal attempts (shots) by the home team\n",
    "- AS: goal attempts by the away team\n",
    "- B365H: Bet365 odds for the home team before the match\n",
    "- B365A: Bet365 odds for the away team before the match"
   ]
  },
  {
   "cell_type": "code",
   "execution_count": null,
   "id": "862a3a7d-3980-4d2a-8b5a-5ddc5c8d9ea1",
   "metadata": {},
   "outputs": [],
   "source": [
    "df_matches.head()"
   ]
  },
  {
   "cell_type": "code",
   "execution_count": null,
   "id": "707281cf-d34a-43a1-ab62-a29fadf19107",
   "metadata": {},
   "outputs": [],
   "source": [
    "df_matches.tail()"
   ]
  },
  {
   "cell_type": "code",
   "execution_count": null,
   "id": "d5478826-019f-4dac-96f6-2087d4e5d064",
   "metadata": {},
   "outputs": [],
   "source": [
    "df_matches.info()"
   ]
  },
  {
   "cell_type": "code",
   "execution_count": null,
   "id": "135d558f-26fd-4d50-851c-81dd39056e41",
   "metadata": {},
   "outputs": [],
   "source": [
    "df_matches.Date.iloc[0]"
   ]
  },
  {
   "cell_type": "code",
   "execution_count": null,
   "id": "b808150b-64b4-4030-a580-13cc21bbe403",
   "metadata": {},
   "outputs": [],
   "source": [
    "df_matches.Date.iloc[300]"
   ]
  },
  {
   "cell_type": "markdown",
   "id": "4a21a308-d21c-4071-b7dc-cf9cde997a12",
   "metadata": {},
   "source": [
    "<br>Date is a `string` which we may be better of with as a date-like object."
   ]
  },
  {
   "cell_type": "code",
   "execution_count": null,
   "id": "aa55ef05-27a9-4bba-aa0d-d478f0a1be42",
   "metadata": {},
   "outputs": [],
   "source": [
    "pd.to_datetime(df_matches.Date.iloc[300]) # the default parser reads it as month/day/year by american standards if the parsing produces meaningful date"
   ]
  },
  {
   "cell_type": "code",
   "execution_count": null,
   "id": "c2a70d88-3f2a-4c59-bb02-4c1808bdbdcf",
   "metadata": {},
   "outputs": [],
   "source": [
    "pd.to_datetime(df_matches.Date.iloc[300], format = '%d/%m/%Y') # redefine date convention for British standards"
   ]
  },
  {
   "cell_type": "code",
   "execution_count": null,
   "id": "313235e2-e977-4d28-a4ca-855992a35b5d",
   "metadata": {
    "tags": []
   },
   "outputs": [],
   "source": [
    "# How do we need to use the pd.to_datetime function ot make sure date strings are parsed properly? \n",
    "\n",
    "df_matches.Date = pd.to_datetime(df_matches.Date, format = '%d/%m/%Y')"
   ]
  },
  {
   "cell_type": "code",
   "execution_count": null,
   "id": "ae2ba10b-be68-403e-8cb6-1b1f2dec15e7",
   "metadata": {},
   "outputs": [],
   "source": [
    "df_matches.info()"
   ]
  },
  {
   "cell_type": "code",
   "execution_count": null,
   "id": "9d8a6470-8a01-4fe9-a854-433332230e4f",
   "metadata": {},
   "outputs": [],
   "source": [
    "# now it is - correctly - April\n",
    "df_matches.Date.iloc[300]"
   ]
  },
  {
   "cell_type": "markdown",
   "id": "bba2203c-743e-4ee2-b2ca-5b1b7107ad4b",
   "metadata": {
    "tags": []
   },
   "source": [
    "<br>\n",
    "\n",
    "### Match Stats Analysis - Plotting with Pandas `plot` method"
   ]
  },
  {
   "cell_type": "code",
   "execution_count": null,
   "id": "7f3a787e-3ad2-4667-b170-045a5056017b",
   "metadata": {},
   "outputs": [],
   "source": [
    "df_matches.describe()"
   ]
  },
  {
   "cell_type": "code",
   "execution_count": null,
   "id": "a5ced3b8-19de-4f85-8d38-2c559fdb8dfa",
   "metadata": {},
   "outputs": [],
   "source": [
    "df_matches.describe().transpose()"
   ]
  },
  {
   "cell_type": "markdown",
   "id": "1cea66da-89da-4339-affd-4a3b0a45fe62",
   "metadata": {},
   "source": [
    "Interesting fact: which team shot 6 goals on an away match?"
   ]
  },
  {
   "cell_type": "code",
   "execution_count": null,
   "id": "cbc770c8-6b7b-4644-b528-60f4c14f0fad",
   "metadata": {},
   "outputs": [],
   "source": [
    "df_matches[df_matches.FTAG == 6]"
   ]
  },
  {
   "cell_type": "markdown",
   "id": "6afa7dc6-7188-49bb-abdf-f1e6e7e32e43",
   "metadata": {},
   "source": [
    "<br>\n",
    "\n",
    "**Soccer Is About Goals. Let's See The Goals!**"
   ]
  },
  {
   "cell_type": "markdown",
   "id": "8b9510a6-dec3-447b-844d-8cf343655382",
   "metadata": {},
   "source": [
    "_Home goals_ can be directly read from the table."
   ]
  },
  {
   "cell_type": "markdown",
   "id": "b837fbc5-e31b-479c-80d0-6a61f5921da0",
   "metadata": {},
   "source": [
    "<br>\n",
    "<font color = '#646464'><b><i>How To Draw Charts From Pandas?</i></b></font>\n",
    "<br>\n",
    "<br>\n",
    "There are two ways: \n",
    "\n",
    "- using the `plot()` method as described [here](https://pandas.pydata.org/docs/reference/api/pandas.DataFrame.plot.html),\n",
    "- calling the chart type, for instance `hist()` [directly](https://pandas.pydata.org/docs/reference/api/pandas.DataFrame.plot.hist.html).\n",
    "\n",
    "Pandas `plot()` methods offer a variety of customization options, the most of which can be found in the [matplotlib documentation](https://matplotlib.org/stable/api/_as_gen/matplotlib.pyplot.html). \n",
    "\n",
    "This is the basic chart output from Pandas `plot()` method.\n"
   ]
  },
  {
   "cell_type": "code",
   "execution_count": null,
   "id": "4e19ea32-d5b9-4a56-af43-03a9c57589cf",
   "metadata": {},
   "outputs": [],
   "source": [
    "df_matches.FTHG.plot(\n",
    "    kind = 'hist'\n",
    ");"
   ]
  },
  {
   "cell_type": "markdown",
   "id": "0e3d495c-9d46-485d-a63a-cf3aa8e273bc",
   "metadata": {},
   "source": [
    "<br>We can add some customization to the plot for better aesthetics:\n",
    "- figure size\n",
    "- number of bins\n",
    "- column alignment\n",
    "- gap between columns\n",
    "- chart title"
   ]
  },
  {
   "cell_type": "code",
   "execution_count": null,
   "id": "d88f4b00-0410-4cd5-8373-c0a2984c2ca4",
   "metadata": {},
   "outputs": [],
   "source": [
    "df_matches.FTHG.plot(\n",
    "    kind = 'hist', bins = 7, \n",
    "    align = 'left', width = 0.95, figsize = (8,5),\n",
    "    title = 'Home Goals Frequency',\n",
    ");"
   ]
  },
  {
   "cell_type": "markdown",
   "id": "6681d97a-3152-437d-8d13-fa929ecb37a1",
   "metadata": {},
   "source": [
    "_Away goals_ also"
   ]
  },
  {
   "cell_type": "code",
   "execution_count": null,
   "id": "e69dfd63-0631-4610-a062-8188a13a8781",
   "metadata": {},
   "outputs": [],
   "source": [
    "df_matches.FTAG.plot(\n",
    "    kind = 'hist', bins = [0,1,2,3,4,5,6,7], # define either number of bins (as an integer) or the bins themselves (as a list)\n",
    "    align = 'left', width = 0.8, figsize = (8,5),\n",
    "    title = 'Away Goals Frequency',\n",
    ");"
   ]
  },
  {
   "cell_type": "markdown",
   "id": "89a8ac2d-f6fc-4008-9ca1-d9cd033d6e4e",
   "metadata": {},
   "source": [
    "<br>Let's create _total goals_ as _TG_!"
   ]
  },
  {
   "cell_type": "code",
   "execution_count": null,
   "id": "e505f642-cb00-4288-87c8-b11057928924",
   "metadata": {},
   "outputs": [],
   "source": [
    "# create 'TG' (total goals) column as a sum of goals by the home team and goals by the away team.\n",
    "df_matches['TG'] = df_matches.FTHG + df_matches.FTAG"
   ]
  },
  {
   "cell_type": "code",
   "execution_count": null,
   "id": "a0bc0558-9f6e-40df-836c-7cd94a1b7a47",
   "metadata": {},
   "outputs": [],
   "source": [
    "df_matches.TG.plot(\n",
    "    kind = 'hist', bins = list(range(0,11)), # list of bin categories\n",
    "    align = 'left', width = 0.9, figsize = (8,5),\n",
    "    title = 'Total Goals Frequency'\n",
    ");"
   ]
  },
  {
   "cell_type": "markdown",
   "id": "6639cff4-7aa8-4285-a1bd-2beda88dbf1f",
   "metadata": {},
   "source": [
    "<br>Problem: x-axis value display is incomplete by default. We need to overwrite the default option using the `xticks = ` option, which accepts a `list` of ticks. "
   ]
  },
  {
   "cell_type": "code",
   "execution_count": null,
   "id": "fd6db76e-2594-4523-af0c-c8918043d282",
   "metadata": {},
   "outputs": [],
   "source": [
    "df_matches.TG.plot(\n",
    "    kind = 'hist', bins = [x for x in range(0,11)], # list of bin categories with list comprehension\n",
    "    align = 'left', width = 0.8, figsize = (8,5),\n",
    "    title = 'Total Goals Frequency',\n",
    "    xticks = [x for x in range(0,11)]\n",
    ");"
   ]
  },
  {
   "cell_type": "code",
   "execution_count": null,
   "id": "223ee6bb-4c3c-42b4-ad6a-abe97c59bbdc",
   "metadata": {},
   "outputs": [],
   "source": [
    "df_matches.TG.value_counts()"
   ]
  },
  {
   "cell_type": "code",
   "execution_count": null,
   "id": "b85f1cbf-f2ce-4621-9a65-b1242d3aff2a",
   "metadata": {},
   "outputs": [],
   "source": [
    "type(df_matches.TG.value_counts())"
   ]
  },
  {
   "cell_type": "code",
   "execution_count": null,
   "id": "1105bf00-27a5-4a67-b5f0-d41c58e1db42",
   "metadata": {},
   "outputs": [],
   "source": [
    "df_matches.TG.value_counts().sort_index()"
   ]
  },
  {
   "cell_type": "code",
   "execution_count": null,
   "id": "c4d61c71-9575-497e-b566-9a97d8dfa8bc",
   "metadata": {},
   "outputs": [],
   "source": [
    "df_matches[df_matches.TG == 9]"
   ]
  },
  {
   "cell_type": "markdown",
   "id": "2ed0745c-b2f6-45d8-b9a2-ce5ea3433da5",
   "metadata": {},
   "source": [
    "**Which teams are the top scorers?**\n",
    "\n",
    "Answer:\n",
    "- sum up goals\n",
    "- grouped by team\n",
    "\n",
    "Problem:\n",
    "- there is _Home Team_ and _Away Team_\n",
    "\n",
    "Solution:\n",
    "- separate table for _home_ and _away_\n",
    "- for potential later use we define both `mean` and `median`"
   ]
  },
  {
   "cell_type": "markdown",
   "id": "61592fa1-e6f9-4028-8a26-d90e72132487",
   "metadata": {},
   "source": [
    "<br>\n",
    "\n",
    "Simple aggregation for one metric: mean. We are using `groupby()`. "
   ]
  },
  {
   "cell_type": "code",
   "execution_count": null,
   "id": "e7346fc8-a60c-4486-b938-d126aa314be2",
   "metadata": {},
   "outputs": [],
   "source": [
    "df_matches.groupby('HomeTeam')['FTHG'].mean()"
   ]
  },
  {
   "cell_type": "code",
   "execution_count": null,
   "id": "1cdad5a7-9da4-4569-ba05-fb45593d6559",
   "metadata": {},
   "outputs": [],
   "source": [
    "pd.DataFrame(df_matches.groupby('HomeTeam')['FTHG'].mean())"
   ]
  },
  {
   "cell_type": "markdown",
   "id": "e5fed413-4038-4230-8caf-54478db7f503",
   "metadata": {},
   "source": [
    "Aggregation for multiple metrics: mean and median."
   ]
  },
  {
   "cell_type": "code",
   "execution_count": null,
   "id": "00e4a40b-c564-4e82-b018-75fdddea279a",
   "metadata": {},
   "outputs": [],
   "source": [
    "df_goal_stats = df_matches.groupby('HomeTeam').agg(\n",
    "    {'FTHG': [np.mean, np.median],\n",
    "    'FTAG': [np.mean, np.median]}\n",
    ")"
   ]
  },
  {
   "cell_type": "markdown",
   "id": "44a6fc19-c265-4f51-8b6f-ea020061896c",
   "metadata": {},
   "source": [
    "How can we interpret this table?"
   ]
  },
  {
   "cell_type": "code",
   "execution_count": null,
   "id": "4372bfc1-bc92-4e5d-a37b-54a273033f9c",
   "metadata": {},
   "outputs": [],
   "source": [
    "df_goal_stats"
   ]
  },
  {
   "cell_type": "markdown",
   "id": "7ab63741-5817-4474-9ac4-a51e0e80b502",
   "metadata": {},
   "source": [
    "What does the value 0.894737 mean at the 'Arsenal' row?"
   ]
  },
  {
   "cell_type": "markdown",
   "id": "b40cdcef-592c-444c-b99f-ed06f53a1add",
   "metadata": {},
   "source": [
    "What is this weird table structure? These are [*multilevel columns*](https://pandas.pydata.org/pandas-docs/stable/user_guide/advanced.html#hierarchical-indexing-multiindex). We won't cover the delicacies here, but it is a lot of fun &#128518;."
   ]
  },
  {
   "cell_type": "code",
   "execution_count": null,
   "id": "626d61bd-5e18-445e-bd8d-945d6e93577d",
   "metadata": {},
   "outputs": [],
   "source": [
    "df_goal_stats.columns"
   ]
  },
  {
   "cell_type": "code",
   "execution_count": null,
   "id": "df28968a-7097-40f5-83dc-1d1ff9bf05ef",
   "metadata": {},
   "outputs": [],
   "source": [
    "for col in df_goal_stats.columns:\n",
    "    print(col)"
   ]
  },
  {
   "cell_type": "markdown",
   "id": "60ba0b94-cf05-4936-9f0a-4b4ea3861bcd",
   "metadata": {},
   "source": [
    "<br>**Which teams are the top scorers at home?**"
   ]
  },
  {
   "cell_type": "code",
   "execution_count": null,
   "id": "cb188040-e21a-4e45-9e8f-2ae90454fda7",
   "metadata": {},
   "outputs": [],
   "source": [
    "# Columns in a multi-level structure are selected as a tuple\n",
    "df_goal_stats.sort_values(by = ('FTHG','mean'), ascending = False) # Default is 'ascending' so we have to add 'False' as input parameter to put the top scorers first."
   ]
  },
  {
   "cell_type": "markdown",
   "id": "b47a18ea-c65a-4839-bc52-adcd6d2364e0",
   "metadata": {},
   "source": [
    "<br>**Which teams got the least goals (has the best defense) at home?**"
   ]
  },
  {
   "cell_type": "code",
   "execution_count": null,
   "id": "24997351-0c1c-40fd-91f9-820483cfec26",
   "metadata": {},
   "outputs": [],
   "source": [
    "df_goal_stats.sort_values(by = ('FTAG','mean'), ascending = True)"
   ]
  },
  {
   "cell_type": "markdown",
   "id": "d189f3d0-47af-4049-ab05-ab09962ab30b",
   "metadata": {},
   "source": [
    "<br>**Which teams are the top scorers away?**"
   ]
  },
  {
   "cell_type": "code",
   "execution_count": null,
   "id": "58dfa9a2-752b-4a40-bdce-0342e4b8e0f9",
   "metadata": {},
   "outputs": [],
   "source": [
    "df_goal_stats_away = df_matches.groupby('AwayTeam').agg(\n",
    "    {'FTHG': [np.mean, np.median],\n",
    "    'FTAG': [np.mean, np.median]}\n",
    ")"
   ]
  },
  {
   "cell_type": "code",
   "execution_count": null,
   "id": "c976c408-bb4a-42fb-b1ad-97b457fb2ad1",
   "metadata": {},
   "outputs": [],
   "source": [
    "df_goal_stats_away.sort_values(by = ('FTAG','mean'), ascending = False)"
   ]
  },
  {
   "cell_type": "markdown",
   "id": "f457b009-dd2d-4e58-9fc1-0280b3ac2fc0",
   "metadata": {},
   "source": [
    "<br>**Which teams aget the fewst goals from the home team while they are playing away?**"
   ]
  },
  {
   "cell_type": "code",
   "execution_count": null,
   "id": "c6d41da6-0188-4068-88b8-e4de72314fe7",
   "metadata": {},
   "outputs": [],
   "source": [
    "df_goal_stats_away.sort_values(by = ('FTHG','mean'), ascending = True)"
   ]
  },
  {
   "cell_type": "markdown",
   "id": "bafcf324-eaf8-4a5d-8dfb-bfdd0363a193",
   "metadata": {},
   "source": [
    "**Most agressive teams home and away**\n",
    "\n",
    "We assume that agressive teams make many attempts to shoot, so _home shots_ (HO) and _away shots_ (AO) is a measure of ambitious tactic. "
   ]
  },
  {
   "cell_type": "code",
   "execution_count": null,
   "id": "ce7e16dc-c52a-406d-8435-496734aa32b9",
   "metadata": {},
   "outputs": [],
   "source": [
    "# Average shots at home per team.\n",
    "df_shot_stats_home = df_matches.groupby('HomeTeam').agg(\n",
    "    {'HS': [np.mean, np.median],\n",
    "    'AS': [np.mean, np.median]}\n",
    ")"
   ]
  },
  {
   "cell_type": "code",
   "execution_count": null,
   "id": "891fde1f-af0e-4673-8d63-9302156e0966",
   "metadata": {},
   "outputs": [],
   "source": [
    "# Average shots away by team.\n",
    "df_shot_stats_away = df_matches.groupby('AwayTeam').agg(\n",
    "    {'HS': [np.mean, np.median],\n",
    "    'AS': [np.mean, np.median]}\n",
    ")"
   ]
  },
  {
   "cell_type": "markdown",
   "id": "34a067ad-0003-4596-a1d3-722b95ed3d04",
   "metadata": {},
   "source": [
    "Most aggressive at home"
   ]
  },
  {
   "cell_type": "code",
   "execution_count": null,
   "id": "7b7d6474-0a62-4342-ae9d-e0dc10441374",
   "metadata": {},
   "outputs": [],
   "source": [
    "df_shot_stats_home.sort_values(by = ('HS','mean'), ascending = False)"
   ]
  },
  {
   "cell_type": "markdown",
   "id": "e2ac72a7-9c94-41b5-85af-aae564557857",
   "metadata": {},
   "source": [
    "Most agressive away. "
   ]
  },
  {
   "cell_type": "code",
   "execution_count": null,
   "id": "d460f94c-2923-4607-b407-5fe1862688e8",
   "metadata": {},
   "outputs": [],
   "source": [
    "df_shot_stats_away.sort_values(by = ('AS','mean'), ascending = False)"
   ]
  },
  {
   "cell_type": "markdown",
   "id": "d6fc264c-1908-4fed-939a-399ac81e1385",
   "metadata": {},
   "source": [
    "Let's have a look at Manchester City! "
   ]
  },
  {
   "cell_type": "code",
   "execution_count": null,
   "id": "f96048e6-a5b0-4d65-ba6e-50c1d8467145",
   "metadata": {},
   "outputs": [],
   "source": [
    "df_matches[df_matches.AwayTeam == 'Man City']"
   ]
  },
  {
   "cell_type": "markdown",
   "id": "26138bfd-5319-43c0-b862-6afc675e4354",
   "metadata": {},
   "source": [
    "<br>***What is the typical home and away shot number per match? Do teams play more on the defensive when playing away?***"
   ]
  },
  {
   "cell_type": "markdown",
   "id": "d09a6b49-2a3e-4df5-ad1d-8a48debe2a38",
   "metadata": {},
   "source": [
    "Home"
   ]
  },
  {
   "cell_type": "code",
   "execution_count": null,
   "id": "25690cf6-ad08-4c53-bd95-65e7fcd2c5a3",
   "metadata": {},
   "outputs": [],
   "source": [
    "df_matches['HS'].plot(\n",
    "    kind = 'hist',  bins = [x for x in range(0,32)], # bins from 0 to 31\n",
    "    figsize = (8,5), width = 0.8, align = 'left',\n",
    "    title = 'Home shot distribution over the year'\n",
    ");"
   ]
  },
  {
   "cell_type": "markdown",
   "id": "6e0aa661-17da-4626-9b14-7f773dc95753",
   "metadata": {},
   "source": [
    "Same graph but with a slightly different syntax and look."
   ]
  },
  {
   "cell_type": "code",
   "execution_count": null,
   "id": "570d6606-2c00-47be-bce5-52632327be91",
   "metadata": {},
   "outputs": [],
   "source": [
    "df_matches['HS'].hist(\n",
    "    bins = list(range(0,32)), # bins from 0 to 31\n",
    "    figsize = (8,5), width = 0.9, align = 'left'\n",
    ")\n",
    "plt.title('Home shot distribution over the year');"
   ]
  },
  {
   "cell_type": "markdown",
   "id": "61b42756-f4e4-4159-a64f-b09b59827ca7",
   "metadata": {},
   "source": [
    "Away"
   ]
  },
  {
   "cell_type": "code",
   "execution_count": null,
   "id": "5ad141f9-6b31-47d9-a244-41858924400a",
   "metadata": {},
   "outputs": [],
   "source": [
    "df_matches['AS'].hist(\n",
    "    bins = list(range(0,32)), # bins from 0 to 31\n",
    "    figsize = (8,5), width = 0.9, align = 'left'\n",
    ")\n",
    "plt.title('Away shot distribution over the year');"
   ]
  },
  {
   "cell_type": "markdown",
   "id": "f0feaa7b-8f4a-4ee5-ac39-25726272b797",
   "metadata": {},
   "source": [
    "Does this make sense? Do we expect temas playing at home - on average- being more agressive than those playing away? Think and argue why this can or cannot be the right pattern."
   ]
  },
  {
   "cell_type": "markdown",
   "id": "bac23ab9-81bd-4437-bbd9-b358b9b4fb30",
   "metadata": {},
   "source": [
    "<br>Let's compare home shots vs away shots distributions directly!"
   ]
  },
  {
   "cell_type": "code",
   "execution_count": null,
   "id": "d2a35094-3300-4da2-807d-107a273763aa",
   "metadata": {},
   "outputs": [],
   "source": [
    "df_matches[['HS', 'AS']].plot(kind = 'hist',\n",
    "    bins = [x for x in range(0,32)], # bins from 0 to 31\n",
    "    figsize = (8,5), width = 0.9, align = 'left', \n",
    "    alpha = 0.75, color = ['royalblue', 'dimgray'],\n",
    "    title = 'Home and away shot distribution over the year'\n",
    ");"
   ]
  },
  {
   "cell_type": "markdown",
   "id": "832a1c46-5a9d-4d41-a7ab-ec2790ee2b58",
   "metadata": {},
   "source": [
    "<br>Interesting fact: when plotting *home shots* on a team-by-team basis we can't see this unimodal, normal-like distribution. Why is that?"
   ]
  },
  {
   "cell_type": "code",
   "execution_count": null,
   "id": "97b57c95-8e77-47e5-b542-e4f3ef7532d5",
   "metadata": {},
   "outputs": [],
   "source": [
    "df_matches[['HomeTeam', 'HS']].hist(\n",
    "    by = 'HomeTeam', \n",
    "    figsize = (16,12), bins = 31, width = 0.8);"
   ]
  },
  {
   "cell_type": "markdown",
   "id": "adc0f510-45fb-4f0a-a2b6-28f4d7fa7b29",
   "metadata": {},
   "source": [
    "<details><summary><b>Click here for the answer</b></summary>\n",
    "    \n",
    "<br>This is, eventually, the **[Central Limit Theorem](https://en.wikipedia.org/wiki/Central_limit_theorem) in action!**\n",
    "\n",
    "</details>"
   ]
  },
  {
   "cell_type": "markdown",
   "id": "a229571e-2d0c-4a89-ba21-20ad6cc1c7a3",
   "metadata": {},
   "source": [
    "#### Formal Statistical Testing\n",
    "\n"
   ]
  },
  {
   "cell_type": "markdown",
   "id": "21e55a10-8f88-4222-8728-b3105a1e45c8",
   "metadata": {},
   "source": [
    "Here we would like to formally test ***whether teams are equally agressive at home than away***. (We can test whether they are *more* agressive at home than away, but for now we are simply testing the equality.) \n",
    "\n",
    "We measure agressiveness by comparing the typical number of shots by the home teams against their _corresponding_ away teams. For this, we are using the so-called **[t_test](https://en.wikipedia.org/wiki/Student%27s_t-test)**. Since for each _home shot value_ there is a corresponding _away shot value_, we are using the [paired t-test](https://en.wikipedia.org/wiki/Student%27s_t-test#Dependent_t-test_for_paired_samples)\n",
    "\n",
    "In statistical testing we are trying to find proof that our _null hypothesis_ ($H_0$) is ***not true***. For this, we split the event space into to subspaces, ($H_0$) and ($H_1$):   \n",
    "<center>\n",
    "    $H_0: \\overline{X}_{homeshots} =  \\overline{X}_{awayshots}$  <br> \n",
    "    $H_1: \\overline{X}_{homeshots} \\neq \\overline{X}_{awayshots}$\n",
    "</center><br>\n",
    " \n",
    " \n",
    "This is a very important concept, atlhough at first blush it goesn against common sense. We formulate our assumption in a way that ***what we would like to reject goes into $H_0$, and what we would like to prove goes into $H_1$***. Rejecting $H_0$ means accepting $H_1$ (the alternative), while failing to reject $H_0$ simply means we have just not found sufficient evidence to do so. \n",
    "\n",
    "In case $H_0$ cannot be rejected, then the corresponding `t-test` produces a 'low' t-value. Here all we can say is that _we have **not found evidence** that the typical number of shots per game by the home team is higher than the away team_. This would mean that teams playing home do not prove more agressive than their counterparts. \n",
    "\n",
    "If we find evidence, that ($H_0$) is not true (so most likely the opposite $H_1$ is true), we will see a 'high' t-value (or _t-statistic_). In this case then we can say that _we have **found evidence** for home teams, **on average**, playing more agressively, than away teams_. \n",
    "\n",
    "The t-test formula is\n",
    "<center>\n",
    "  <font size = 4px>$t = \\frac{\\overline{X}_{homeshots} - \\overline{X}_{awayshots}}{s_d  /\\sqrt{n}}$</font>\n",
    "</center>\n",
    "<br>where $s_d$ is the standard deviation of the difference between home shots and away shots per match, and $n$ is the sample size (here 380 matches). "
   ]
  },
  {
   "cell_type": "markdown",
   "id": "f0302674-3a1a-47ab-bede-c7e00cce451c",
   "metadata": {},
   "source": [
    "OK, but what is _high_ t-value and what is _low_ t_value? This is what `p-value` is for. \n",
    "\n",
    "The _p-value_ is the likelihood of accepting $H_1$ when in fact $H_0$ is true. A <font color = 'blue'>low p_value indicates that the non-zero difference between the two population averages is not the result of some random extremity, but they are truly different</font>. If _p < 5%_, then $H_0$ is most likely false and can be rejected. "
   ]
  },
  {
   "cell_type": "markdown",
   "id": "722b671d-275a-4249-ac78-1f028bdb37fc",
   "metadata": {},
   "source": [
    "For this, we use the `ttest_rel()` method of the [scipy package](https://docs.scipy.org/doc/scipy/reference/generated/scipy.stats.ttest_rel.html#scipy.stats.ttest_rel). "
   ]
  },
  {
   "cell_type": "code",
   "execution_count": null,
   "id": "f1d0d05f-eb43-4649-bc06-faf2668492e2",
   "metadata": {},
   "outputs": [],
   "source": [
    "from scipy import stats"
   ]
  },
  {
   "cell_type": "code",
   "execution_count": null,
   "id": "480287de-5a4d-4b1e-ab19-29f6b6d1007c",
   "metadata": {},
   "outputs": [],
   "source": [
    "stats.ttest_rel(df_matches.HS, df_matches.AS)"
   ]
  },
  {
   "cell_type": "markdown",
   "id": "1560147d-f1c5-4365-932e-54deeed3a28a",
   "metadata": {},
   "source": [
    "For better output and presentation we can define a new variable as the result of the function, and call the `statistic` and the `pvalue` attributes of this new object. "
   ]
  },
  {
   "cell_type": "code",
   "execution_count": null,
   "id": "2ad2f395-e46d-4778-80cc-d0719c2f3f21",
   "metadata": {},
   "outputs": [],
   "source": [
    "t_stat = stats.ttest_rel(df_matches.HS, df_matches.AS)"
   ]
  },
  {
   "cell_type": "code",
   "execution_count": null,
   "id": "ca9027a3-c486-43b9-b629-818afed2abd4",
   "metadata": {},
   "outputs": [],
   "source": [
    "print('t-value: {:.3f}'.format(t_stat.statistic))"
   ]
  },
  {
   "cell_type": "markdown",
   "id": "7535b229-36ec-48f0-8f1b-dec39477c6f3",
   "metadata": {},
   "source": [
    "p-value as _float_"
   ]
  },
  {
   "cell_type": "code",
   "execution_count": null,
   "id": "27bc43cd-6665-4cfa-b580-bc9c956a4e3d",
   "metadata": {},
   "outputs": [],
   "source": [
    "print('p_value: {:.3f}'.format(t_stat.pvalue))"
   ]
  },
  {
   "cell_type": "markdown",
   "id": "08a1ee5e-e9fe-4992-8711-d4f602e9512f",
   "metadata": {},
   "source": [
    "p-value as _percent_"
   ]
  },
  {
   "cell_type": "code",
   "execution_count": null,
   "id": "efaeef1a-1677-4075-be8e-e54a27c562a0",
   "metadata": {},
   "outputs": [],
   "source": [
    "print('p_value: {:.1%}'.format(t_stat.pvalue))"
   ]
  },
  {
   "cell_type": "markdown",
   "id": "cd3ee3de-54ec-443c-84b7-55b0234cb3bf",
   "metadata": {},
   "source": [
    "\n",
    "<br>So are they really different? Do teams, _on average_, play more agressively at home or not? What do you think?"
   ]
  },
  {
   "cell_type": "markdown",
   "id": "708cc39c-c6f5-4c43-a83b-53e46bb2003f",
   "metadata": {},
   "source": [
    "<br>**Some more shot stats**"
   ]
  },
  {
   "cell_type": "markdown",
   "id": "d83f22cd-a3f8-47b5-aa7b-abb29f77ccc2",
   "metadata": {},
   "source": [
    "Quantiles: deciles & quartiles.\n",
    "\n",
    "Refresher: \n",
    "- '*deciles*' split the population into 10 equal-sized groups. \n",
    "    - The first decile (D1) is a number which is larger than 10 pct of the population and smaller than 90 percent of the population. This is *not the minimal* value but is a *relatively low value* within the population. \n",
    "    - D9 can be interpreted in the same fashion. \n",
    "- '*quartiles*' split the population into 4 equal-sized groups. \n",
    "    - The first quartile (Q1) is the value which is larger than 25 percent of the population. \n",
    "    - The *interquartile range* (the [Q1- Q3] interval is the mid 50 pct of the population. \n",
    "- The 5th decile (D5) or the second quartile (Q2) equals the *median* (Me) which splits the population into two equal-sized group. The median is one of the [*measures of central tendency*](https://www.abs.gov.au/websitedbs/D3310114.nsf/Home/Statistical+Language+-+measures+of+central+tendency).  "
   ]
  },
  {
   "cell_type": "markdown",
   "id": "52c17017-5797-4110-b280-4a77734e98d7",
   "metadata": {},
   "source": [
    "The `quantile()` method returns the value of a given quantile. For instance `quantile(0.1)` returns the *10th percentile*, or the *1st decile*. "
   ]
  },
  {
   "cell_type": "code",
   "execution_count": null,
   "id": "14abd2a8-f96d-4ac1-9447-01c3503d78c0",
   "metadata": {},
   "outputs": [],
   "source": [
    "df_matches['HS'].quantile(0.1)"
   ]
  },
  {
   "cell_type": "code",
   "execution_count": null,
   "id": "7331ca1a-a947-4e45-9adf-2935f7d7b616",
   "metadata": {},
   "outputs": [],
   "source": [
    "print('10 percent of matches had less than {} shots by the home team in the 2021-22 season.'.format(df_matches['HS'].quantile(0.1)))"
   ]
  },
  {
   "cell_type": "markdown",
   "id": "146091f7-c113-4cd4-9933-b4a6eda357b2",
   "metadata": {},
   "source": [
    "<br>Preparing for the decile distribution table:"
   ]
  },
  {
   "cell_type": "code",
   "execution_count": null,
   "id": "5ba5bf89-a05f-499b-89e8-e3275e87b8c3",
   "metadata": {},
   "outputs": [],
   "source": [
    "for i in range(1,10):\n",
    "    print('D' + str(i))"
   ]
  },
  {
   "cell_type": "code",
   "execution_count": null,
   "id": "c2aab915-8e28-4488-8c6e-c8e10973deaa",
   "metadata": {},
   "outputs": [],
   "source": [
    "for i in range(1,10):\n",
    "    print(i, df_matches['HS'].quantile(i/10))"
   ]
  },
  {
   "cell_type": "code",
   "execution_count": null,
   "id": "42fc68a8-3dd2-4f6b-8082-2242bb8d3f98",
   "metadata": {},
   "outputs": [],
   "source": [
    "for i in range(1,10):\n",
    "    print(i, round(df_matches['HS'].quantile(i/10),1))"
   ]
  },
  {
   "cell_type": "code",
   "execution_count": null,
   "id": "ecad193f-a924-4a94-9c3b-e356dc11c762",
   "metadata": {},
   "outputs": [],
   "source": [
    "data = []\n",
    "for i in range(1,10):\n",
    "    l = ['D' + str(i), round(df_matches.HS.quantile(i/10),1), round(df_matches.AS.quantile(i/10),1)]\n",
    "    data.append(l)"
   ]
  },
  {
   "cell_type": "code",
   "execution_count": null,
   "id": "5371d8e1-ce74-4e8b-8dad-68ec9dfe0d9c",
   "metadata": {},
   "outputs": [],
   "source": [
    "data"
   ]
  },
  {
   "cell_type": "code",
   "execution_count": null,
   "id": "c5de6402-25a3-40fd-86dc-8a1339fb3bb8",
   "metadata": {},
   "outputs": [],
   "source": [
    "df_deciles = pd.DataFrame(data = data, columns = ['decile', 'home shots', 'away shots'])"
   ]
  },
  {
   "cell_type": "markdown",
   "id": "5ddf1d33-9e82-4bee-9104-de5a6f0ec6b2",
   "metadata": {},
   "source": [
    "How can we interpret this table?"
   ]
  },
  {
   "cell_type": "code",
   "execution_count": null,
   "id": "e4eda88a-858b-485d-bd87-8ea92f7e46a8",
   "metadata": {},
   "outputs": [],
   "source": [
    "df_deciles"
   ]
  },
  {
   "cell_type": "markdown",
   "id": "38c6b469-1c14-45dc-a555-f7dfad6b8ffa",
   "metadata": {},
   "source": [
    "What is the problem with the table above in terms of the visual represantation of the patterns in our data?"
   ]
  },
  {
   "cell_type": "code",
   "execution_count": null,
   "id": "60bc103f-4f11-4050-8122-91bf740492b9",
   "metadata": {},
   "outputs": [],
   "source": [
    "df_deciles.sort_values(by = 'decile', ascending = False)"
   ]
  },
  {
   "cell_type": "code",
   "execution_count": null,
   "id": "48f27260-0794-4e17-b7bd-c55b5d9a8ea8",
   "metadata": {},
   "outputs": [],
   "source": [
    "df_deciles.query(\"decile == 'D5'\") # which value is this?"
   ]
  },
  {
   "cell_type": "markdown",
   "id": "98268df1-0bcb-426a-ad1e-dfe4f640cf91",
   "metadata": {},
   "source": [
    "A simple **bar chart**."
   ]
  },
  {
   "cell_type": "code",
   "execution_count": null,
   "id": "8b6753d8-cca0-4934-b482-98598d9f8494",
   "metadata": {},
   "outputs": [],
   "source": [
    "df_deciles.plot(\n",
    "    kind = 'bar',\n",
    "    x = 'decile', y = ['home shots', 'away shots'],\n",
    "    figsize = (8,5), color = ['grey', 'royalblue'], \n",
    "    yticks = [x*2 for x in range(1,11)],               # check out how the list of y-axis ticks gets generated\n",
    "    title = 'Home and away shot distribution'\n",
    ");"
   ]
  },
  {
   "cell_type": "markdown",
   "id": "c4119cda-fa57-497b-92de-cc554f32d8b3",
   "metadata": {},
   "source": [
    "*Note*: you can spend hours decorating your charts. To do that, use the [matplotlib color code guide](https://matplotlib.org/stable/gallery/color/named_colors.html). "
   ]
  },
  {
   "cell_type": "markdown",
   "id": "bf53dbfd-cfdd-4a12-a0f4-76b36b53554e",
   "metadata": {},
   "source": [
    "**Boxplot**."
   ]
  },
  {
   "cell_type": "code",
   "execution_count": null,
   "id": "4b81546a-c647-492b-a534-be9e6e9133b9",
   "metadata": {},
   "outputs": [],
   "source": [
    "df_matches[['HS', 'AS']].plot(\n",
    "    kind = 'box'\n",
    ");"
   ]
  },
  {
   "cell_type": "code",
   "execution_count": null,
   "id": "16fe7347-9da3-4cec-8081-f64795ce3b2e",
   "metadata": {},
   "outputs": [],
   "source": [
    "df_matches[['HS', 'AS']].plot(\n",
    "    kind = 'box',\n",
    "    figsize = (8,5), widths = [0.25, 0.25], \n",
    "    color = {'boxes': 'grey', 'medians': 'orange', 'whiskers': 'black', 'caps': 'black'}, patch_artist=True\n",
    ");"
   ]
  },
  {
   "cell_type": "markdown",
   "id": "aef63a2c-036d-4195-ad1e-4115e5da6021",
   "metadata": {},
   "source": [
    "For those of artistic talents: this is how [to decorate boxplots](https://matplotlib.org/stable/gallery/statistics/boxplot.html) and other plots. "
   ]
  },
  {
   "cell_type": "markdown",
   "id": "07338626-520a-4572-b5a3-f66b5a175825",
   "metadata": {},
   "source": [
    "<br>***How good are the sport betting platforms in asessing match outcomes?***"
   ]
  },
  {
   "cell_type": "code",
   "execution_count": null,
   "id": "3804eae2-064e-4d28-8afe-bc3b3fc97a0d",
   "metadata": {},
   "outputs": [],
   "source": [
    "df_matches.head(10)"
   ]
  },
  {
   "cell_type": "code",
   "execution_count": null,
   "id": "c67c7204-f912-44a0-b38d-c072d3e43ef9",
   "metadata": {},
   "outputs": [],
   "source": [
    "df_matches[['B365H', 'B365A']].plot(\n",
    "    kind = 'box'\n",
    ");"
   ]
  },
  {
   "cell_type": "code",
   "execution_count": null,
   "id": "9bdfc551-40cf-4ad6-b217-aa126d2cec66",
   "metadata": {},
   "outputs": [],
   "source": [
    "df_matches[['B365H', 'B365A']].describe().transpose()"
   ]
  },
  {
   "cell_type": "code",
   "execution_count": null,
   "id": "0ea34f24-e4e2-4a92-91e6-844aa2e4a3d2",
   "metadata": {},
   "outputs": [],
   "source": [
    "df_matches[df_matches.B365H == df_matches.B365H.max()]"
   ]
  },
  {
   "cell_type": "code",
   "execution_count": null,
   "id": "8b9fc632-878e-4088-995c-09d48404eb56",
   "metadata": {},
   "outputs": [],
   "source": [
    "df_matches[df_matches.B365A == df_matches.B365A.max()]"
   ]
  },
  {
   "cell_type": "markdown",
   "id": "0bd9c341-86bc-4aa8-9ce9-7ab2fd4b3410",
   "metadata": {},
   "source": [
    "Let's create three new variables:\n",
    "- 'RESULT' as FTHG - FTAG\n",
    "- 'SHOT_DIFF' as HS - AS\n",
    "- 'ODDS_DIFF' as B365H - B365A"
   ]
  },
  {
   "cell_type": "code",
   "execution_count": null,
   "id": "38436a9d-ddcb-446d-ba0c-ef0097254c39",
   "metadata": {},
   "outputs": [],
   "source": [
    "df_matches['RESULT'] = df_matches.FTHG - df_matches.FTAG # if positive, home team wins\n",
    "df_matches['SHOT_DIFF'] = df_matches.HS - df_matches.AS # if positive, home team is more offensive\n",
    "df_matches['ODDS_DIFF'] = df_matches.B365H - df_matches.B365A # if NEGATIVE, home team win pays less (home team has higher odds)"
   ]
  },
  {
   "cell_type": "code",
   "execution_count": null,
   "id": "a80f6ac0-f783-4a91-bcf8-d2b5a590fadb",
   "metadata": {},
   "outputs": [],
   "source": [
    "df_matches.head()"
   ]
  },
  {
   "cell_type": "markdown",
   "id": "8ec79d07-8e6e-4fa3-aa2a-49f2ed842291",
   "metadata": {},
   "source": [
    "<br>Do betting sites get match outcomes right? Odds vs final result.\n",
    "\n",
    "Note: See how $x$ and $y$ are used *both* as _variable names_ and _variable values_ in this short script! "
   ]
  },
  {
   "cell_type": "code",
   "execution_count": null,
   "id": "7df40649-cd83-4c35-9102-81086269c80c",
   "metadata": {},
   "outputs": [],
   "source": [
    "x = 'ODDS_DIFF' \n",
    "y = 'RESULT'\n",
    "\n",
    "df_matches.plot(\n",
    "    kind = 'scatter', \n",
    "    x = x, y = y,\n",
    "    figsize = (8,5), \n",
    "    title = (f'{y} vs {x} in the 2021-22 season') # check out the f-strings!\n",
    ");"
   ]
  },
  {
   "cell_type": "markdown",
   "id": "87c7df67-40df-45d8-97a9-1b3a7c80a7cf",
   "metadata": {},
   "source": [
    "Why does this graph look so unfortunate? This is because of differences in [cardinality](https://www.merriam-webster.com/dictionary/cardinality). \n",
    "\n",
    "Same chart for _difference in odds_ **vs** _difference between home shots and away shots_."
   ]
  },
  {
   "cell_type": "code",
   "execution_count": null,
   "id": "dc8d455a-e73b-4f08-90af-b1e3fcf81342",
   "metadata": {},
   "outputs": [],
   "source": [
    "x = 'ODDS_DIFF' \n",
    "y = 'SHOT_DIFF'\n",
    "\n",
    "df_matches.plot(\n",
    "    kind = 'scatter', \n",
    "    x = x, y = y,\n",
    "    figsize = (8,5), \n",
    "    title = (f'{y} vs {x} in the 2021-22 season')\n",
    ");"
   ]
  },
  {
   "cell_type": "markdown",
   "id": "ddde687e-1001-4d2c-8eb0-c8e0b49e4791",
   "metadata": {},
   "source": [
    "<br>\n",
    "\n",
    "### Enriching The Dataset With Financial Data"
   ]
  },
  {
   "cell_type": "code",
   "execution_count": null,
   "id": "7094c5f3-7f32-4a96-8b94-dc25587162fd",
   "metadata": {},
   "outputs": [],
   "source": [
    "df_financials = pd.read_csv('https://raw.githubusercontent.com/eddwebster/football_analytics/master/data/capology/raw/premier-league/2021-2022/all_premier-league_2021-2022_last_updated_05092021.csv', index_col = 0)"
   ]
  },
  {
   "cell_type": "markdown",
   "id": "80f9ca26-1319-49c7-bc19-b29b31339d2e",
   "metadata": {},
   "source": [
    "***A reality check of what we have***"
   ]
  },
  {
   "cell_type": "code",
   "execution_count": null,
   "id": "9f254694-3b95-48bb-9b1a-8f0d53b623c8",
   "metadata": {},
   "outputs": [],
   "source": [
    "df_financials.head()"
   ]
  },
  {
   "cell_type": "markdown",
   "id": "ca33a6d9-a7cb-43d1-96dc-72595ce445c9",
   "metadata": {},
   "source": [
    "Rewriting column names where necessary."
   ]
  },
  {
   "cell_type": "code",
   "execution_count": null,
   "id": "1f766fc5-5f85-437f-921f-c315c017b185",
   "metadata": {},
   "outputs": [],
   "source": [
    "df_financials.rename(\n",
    "    columns = {\n",
    "        'Weekly GrossBase Salary(IN GBP)' : 'Weekly_Gross',\n",
    "        'Annual GrossBase Salary(IN GBP)' : 'Annual_Gross',\n",
    "        'Pos.': 'Pos',\n",
    "        'EstimatedGross Total(IN GBP)' : 'Estimated_Gross'\n",
    "    }, \n",
    "    inplace = True\n",
    ")"
   ]
  },
  {
   "cell_type": "code",
   "execution_count": null,
   "id": "0d4d66a5-0a5a-4c97-905a-f33a9fa01e42",
   "metadata": {},
   "outputs": [],
   "source": [
    "df_financials.head()"
   ]
  },
  {
   "cell_type": "code",
   "execution_count": null,
   "id": "d432fd51-363b-421f-b9ea-7e6c83420fe5",
   "metadata": {},
   "outputs": [],
   "source": [
    "df_financials.shape"
   ]
  },
  {
   "cell_type": "code",
   "execution_count": null,
   "id": "d829588d-63d8-4168-b6ff-f3b50dc284cb",
   "metadata": {},
   "outputs": [],
   "source": [
    "df_financials.Season.unique() # Really 2021-22 only "
   ]
  },
  {
   "cell_type": "code",
   "execution_count": null,
   "id": "5cd10505-8d7d-434c-aff1-4fd8dd504465",
   "metadata": {},
   "outputs": [],
   "source": [
    "df_financials.groupby('Team')['Player'].count()"
   ]
  },
  {
   "cell_type": "code",
   "execution_count": null,
   "id": "58eb196c-042b-4eb3-b44e-199adb402b9f",
   "metadata": {},
   "outputs": [],
   "source": [
    "df_financials[df_financials.Team == 'Aston Villa']"
   ]
  },
  {
   "cell_type": "markdown",
   "id": "65f7e19c-bbb6-4bbe-9ebe-83a0bf627228",
   "metadata": {},
   "source": [
    "Do we have the same teams in the two tables?"
   ]
  },
  {
   "cell_type": "code",
   "execution_count": null,
   "id": "ea8020db-59f9-4f86-b346-86e304d5bece",
   "metadata": {},
   "outputs": [],
   "source": [
    "df_financials.Team.unique()"
   ]
  },
  {
   "cell_type": "code",
   "execution_count": null,
   "id": "34b493d6-22df-46b9-b49f-ccddbe3ed24c",
   "metadata": {},
   "outputs": [],
   "source": [
    "df_matches.HomeTeam.unique()"
   ]
  },
  {
   "cell_type": "markdown",
   "id": "eb0a3036-08e4-49f5-917b-b2c91365359e",
   "metadata": {},
   "source": [
    "Remember: for comparison on memberships, we can use Python `set` variable type. It is a **collection** which is unordered, unchangeable, and unindexed. The most important aspect of sets that the *can't have two items of the same value*."
   ]
  },
  {
   "cell_type": "code",
   "execution_count": null,
   "id": "2fc6d23d-c0db-4364-b7d1-e38c1741202b",
   "metadata": {},
   "outputs": [],
   "source": [
    "# What does the match stat table has which is not included in the financials table?\n",
    "set(df_financials.Team) - set(df_matches.HomeTeam)"
   ]
  },
  {
   "cell_type": "code",
   "execution_count": null,
   "id": "ff7c07be-b921-47ad-ba47-b8929865286b",
   "metadata": {},
   "outputs": [],
   "source": [
    "# And the other way around?\n",
    "set(df_matches.HomeTeam) - set(df_financials.Team)"
   ]
  },
  {
   "cell_type": "markdown",
   "id": "fdffa2b0-ebd3-4cba-af65-bf0fe6be01c2",
   "metadata": {},
   "source": [
    "Let's handle the issue by replacing the new versions with the old one by using the `replace()` method."
   ]
  },
  {
   "cell_type": "code",
   "execution_count": null,
   "id": "82ffd5e3-f3a4-4647-b19b-eeff810fcba7",
   "metadata": {},
   "outputs": [],
   "source": [
    "dc_replacements = {\n",
    "    'Manchester City': 'Man City', \n",
    "    'Manchester United': 'Man United', \n",
    "    'Wolverhampton': 'Wolves'\n",
    "}"
   ]
  },
  {
   "cell_type": "code",
   "execution_count": null,
   "id": "3a9b857a-ce98-44ca-8286-ce4669736e1a",
   "metadata": {},
   "outputs": [],
   "source": [
    "df_financials['Team'].replace(dc_replacements, inplace = True)"
   ]
  },
  {
   "cell_type": "code",
   "execution_count": null,
   "id": "604d7d7d-371a-48d9-9ef7-eaea2435ee64",
   "metadata": {},
   "outputs": [],
   "source": [
    "set(df_financials.Team) - set(df_matches.HomeTeam)"
   ]
  },
  {
   "cell_type": "code",
   "execution_count": null,
   "id": "368d32c0-ca6e-49e8-a488-dd4334e64665",
   "metadata": {},
   "outputs": [],
   "source": [
    "set(df_matches.HomeTeam) - set(df_financials.Team)"
   ]
  },
  {
   "cell_type": "code",
   "execution_count": null,
   "id": "2ab793da-99f5-499e-8add-c8353afeab0b",
   "metadata": {},
   "outputs": [],
   "source": [
    "df_financials.head()"
   ]
  },
  {
   "cell_type": "markdown",
   "id": "69bb873b-182e-4615-be50-eb6c35580db2",
   "metadata": {},
   "source": [
    "<br>Converting '*Weekly_Gross*' into a number!"
   ]
  },
  {
   "cell_type": "markdown",
   "id": "149b1370-bd4f-49dc-bfbf-d0784d7df8f0",
   "metadata": {},
   "source": [
    "<br>Converting *Weekly_Gross* to an integer."
   ]
  },
  {
   "cell_type": "code",
   "execution_count": null,
   "id": "325a2885-3c6d-44a9-b041-4c0970622a0d",
   "metadata": {},
   "outputs": [],
   "source": [
    "df_financials['Weekly_Gross'].iloc[0]"
   ]
  },
  {
   "cell_type": "code",
   "execution_count": null,
   "id": "f950973d-3ae5-4c4b-8901-b499bef4b71a",
   "metadata": {},
   "outputs": [],
   "source": [
    "df_financials['Weekly_Gross'].iloc[0].split(' ')"
   ]
  },
  {
   "cell_type": "code",
   "execution_count": null,
   "id": "2a93257a-4be1-44bf-966a-0e2ca683c173",
   "metadata": {},
   "outputs": [],
   "source": [
    "df_financials['Weekly_Gross'].iloc[0].split(' ')[1]"
   ]
  },
  {
   "cell_type": "code",
   "execution_count": null,
   "id": "922092ce-f561-4628-b8b2-3be676411654",
   "metadata": {},
   "outputs": [],
   "source": [
    "df_financials['Weekly_Gross'].iloc[0].split(' ')[1].replace(',','')"
   ]
  },
  {
   "cell_type": "code",
   "execution_count": null,
   "id": "dca3e292-9cc0-4c95-83e5-b4024f07a0ea",
   "metadata": {},
   "outputs": [],
   "source": [
    "int(df_financials['Weekly_Gross'].iloc[0].split(' ')[1].replace(',',''))"
   ]
  },
  {
   "cell_type": "markdown",
   "id": "b263e116-2935-4bb6-b70d-fd73d6d9b690",
   "metadata": {},
   "source": [
    "Now let's apply this step-by-step transformation to each element in the 'Length' column using `map` and `lambda functions`. "
   ]
  },
  {
   "cell_type": "code",
   "execution_count": null,
   "id": "e5e5f379-95e1-4131-8602-c79951317828",
   "metadata": {},
   "outputs": [],
   "source": [
    "df_financials['Weekly_Gross'] = df_financials['Weekly_Gross'].map(lambda x: int(x.split(' ')[1].replace(',','')))"
   ]
  },
  {
   "cell_type": "code",
   "execution_count": null,
   "id": "1750a190-6f43-4da6-8ab8-099236db92ab",
   "metadata": {},
   "outputs": [],
   "source": [
    "df_financials.head()"
   ]
  },
  {
   "cell_type": "code",
   "execution_count": null,
   "id": "408b7d50-d52c-4f4e-8587-5fd737d17968",
   "metadata": {},
   "outputs": [],
   "source": [
    "df_financials.info()"
   ]
  },
  {
   "cell_type": "markdown",
   "id": "18ea3863-7aa6-4007-af22-83e85e15e774",
   "metadata": {},
   "source": [
    "<br>\n",
    "What is the order in terms of player remuneration?"
   ]
  },
  {
   "cell_type": "code",
   "execution_count": null,
   "id": "054669b1-aeb5-419e-acfd-715c0cdeec7c",
   "metadata": {},
   "outputs": [],
   "source": [
    "# weekly average\n",
    "df_financials.groupby('Team')['Weekly_Gross'].mean().sort_values(ascending = False)"
   ]
  },
  {
   "cell_type": "code",
   "execution_count": null,
   "id": "24f7bedd-a07a-49ec-8e6a-e01888ef3a3e",
   "metadata": {},
   "outputs": [],
   "source": [
    "# weekly sum; affected by player number in our data table!\n",
    "df_financials.groupby('Team')['Weekly_Gross'].sum().sort_values(ascending = False)"
   ]
  },
  {
   "cell_type": "markdown",
   "id": "b54b8d5e-39ff-4975-a0a8-c2945f20e0fb",
   "metadata": {},
   "source": [
    "<br>\n",
    "\n",
    "***Combining The Datasets: Merging/Joining***"
   ]
  },
  {
   "cell_type": "code",
   "execution_count": null,
   "id": "27136330-2ff5-4d77-bafc-d586f15478cf",
   "metadata": {},
   "outputs": [],
   "source": [
    "df_matches.head()"
   ]
  },
  {
   "cell_type": "code",
   "execution_count": null,
   "id": "91195549-4d72-4625-9fbe-d0b3f30e882f",
   "metadata": {},
   "outputs": [],
   "source": [
    "df_financials.head()"
   ]
  },
  {
   "cell_type": "code",
   "execution_count": null,
   "id": "9fdc4f63-9837-40d9-bf97-bc70c42c4c2c",
   "metadata": {},
   "outputs": [],
   "source": [
    "df_team_values = pd.DataFrame(df_financials.groupby('Team')['Weekly_Gross'].mean())"
   ]
  },
  {
   "cell_type": "code",
   "execution_count": null,
   "id": "7bb51082-c49f-4d26-8f94-9de2af7e5407",
   "metadata": {},
   "outputs": [],
   "source": [
    "df_team_values"
   ]
  },
  {
   "cell_type": "markdown",
   "id": "5db9bf8f-0109-4d59-b69e-a090e3648ba4",
   "metadata": {},
   "source": [
    "<br>\n",
    "\n",
    "In SQL it would be:\n",
    "```SQL\n",
    "SELECT * \n",
    "FROM df_matches\n",
    "LEFT JOIN df_team_values\n",
    "ON df_matches.HomeTeam = df_team_values.index\n",
    "\n",
    "```\n",
    "\n",
    "<br>"
   ]
  },
  {
   "cell_type": "code",
   "execution_count": null,
   "id": "b65a7dea-8072-472e-b580-6801f64374a1",
   "metadata": {},
   "outputs": [],
   "source": [
    "df = pd.merge(df_matches, df_team_values, how = 'left', left_on = 'HomeTeam', right_index = True)"
   ]
  },
  {
   "cell_type": "code",
   "execution_count": null,
   "id": "ffee5b0e-670a-4fc6-a83f-7f1bdecf5094",
   "metadata": {},
   "outputs": [],
   "source": [
    "df.head()"
   ]
  },
  {
   "cell_type": "code",
   "execution_count": null,
   "id": "70810bbb-dacf-42ff-aba0-af42027f03d3",
   "metadata": {},
   "outputs": [],
   "source": [
    "df.columns = [x for x in df.columns[:-1]] + ['HomeTeam_Weekly_Pay']"
   ]
  },
  {
   "cell_type": "code",
   "execution_count": null,
   "id": "b61cf018-57f1-4ee1-a10a-0d3970ffa4a0",
   "metadata": {},
   "outputs": [],
   "source": [
    "df.head()"
   ]
  },
  {
   "cell_type": "code",
   "execution_count": null,
   "id": "ec558371-071a-4a64-b573-1b0a103ae47a",
   "metadata": {},
   "outputs": [],
   "source": [
    "df = pd.merge(df, df_team_values, how = 'left', left_on = 'AwayTeam', right_index = True)"
   ]
  },
  {
   "cell_type": "code",
   "execution_count": null,
   "id": "26fea506-5eb1-4484-b970-e376b882d909",
   "metadata": {},
   "outputs": [],
   "source": [
    "df.head()"
   ]
  },
  {
   "cell_type": "code",
   "execution_count": null,
   "id": "121daf56-d885-459f-ac3d-c984aee3564b",
   "metadata": {},
   "outputs": [],
   "source": [
    "# df.columns = [x for x in df.columns[:-1]] + ['AwayTeam_Weekly_Pay']\n",
    "df.rename({'Weekly_Gross': 'AwayTeam_Weekly_Pay'}, axis = 'columns', inplace = True)"
   ]
  },
  {
   "cell_type": "code",
   "execution_count": null,
   "id": "98848ac1-68a4-4de8-adda-4bc5a1eb780a",
   "metadata": {},
   "outputs": [],
   "source": [
    "df.head()"
   ]
  },
  {
   "cell_type": "code",
   "execution_count": null,
   "id": "28ec6907-0770-4c04-b2e8-732286b7f8be",
   "metadata": {},
   "outputs": [],
   "source": [
    "df['HomeTeam_Excess_Weekly_Pay'] = df.HomeTeam_Weekly_Pay - df.AwayTeam_Weekly_Pay"
   ]
  },
  {
   "cell_type": "code",
   "execution_count": null,
   "id": "0b8e82db-06e5-4e4e-b0ab-e06fcaa4f9df",
   "metadata": {},
   "outputs": [],
   "source": [
    "df.head()"
   ]
  },
  {
   "cell_type": "markdown",
   "id": "2f3b2a57-7e17-411c-bfb4-6c9f9db02a18",
   "metadata": {},
   "source": [
    "<br>\n",
    "\n",
    "#### Question: how important are the differences in player emunerations for betting sites to determine odds?\n",
    "\n",
    "Do teams with higher average player salaries have lower betting payout ratios?"
   ]
  },
  {
   "cell_type": "code",
   "execution_count": null,
   "id": "44a64b71-441e-4f56-97b1-57c196227fe7",
   "metadata": {},
   "outputs": [],
   "source": [
    "df.plot(\n",
    "    kind = 'scatter', x = 'HomeTeam_Excess_Weekly_Pay', y = 'ODDS_DIFF',\n",
    "    figsize = (8,5)\n",
    ");"
   ]
  },
  {
   "cell_type": "markdown",
   "id": "a605897a-2e04-4373-91e3-25894b6ef2a3",
   "metadata": {},
   "source": [
    "#### Plotting using `seaborn`"
   ]
  },
  {
   "cell_type": "code",
   "execution_count": null,
   "id": "6b0cb29e-1a3a-442d-b279-4378e034c0fb",
   "metadata": {},
   "outputs": [],
   "source": [
    "import seaborn as sns"
   ]
  },
  {
   "cell_type": "markdown",
   "id": "16ae57c4-f49a-4a7a-a48c-a6203e87323b",
   "metadata": {},
   "source": [
    "A visual representation of a pattern of a *linear relationship* between x (excess pay for the home team) and y (the net odds in favov of the home team). We will call it a `linear regression` in DA2."
   ]
  },
  {
   "cell_type": "code",
   "execution_count": null,
   "id": "124274cd-fa50-45de-8d53-f0c8239410f7",
   "metadata": {},
   "outputs": [],
   "source": [
    "sns.regplot(\n",
    "    data = df,\n",
    "    x = 'HomeTeam_Excess_Weekly_Pay', y = 'ODDS_DIFF', \n",
    "    marker= '.',\n",
    "    fit_reg= True);"
   ]
  },
  {
   "cell_type": "markdown",
   "id": "8460dbfc-6da7-4ce8-8b64-555992d5e07c",
   "metadata": {},
   "source": [
    "With some additional customization."
   ]
  },
  {
   "cell_type": "code",
   "execution_count": null,
   "id": "d0f0bc63-4777-4612-a34d-337f475cdc0a",
   "metadata": {},
   "outputs": [],
   "source": [
    "sns.regplot(\n",
    "    data = df,\n",
    "    x = 'HomeTeam_Excess_Weekly_Pay', y = 'ODDS_DIFF', \n",
    "    marker= '.',\n",
    "    fit_reg= True, line_kws = {'color' : 'k'})\n",
    "plt.axhline(y = 0, color = 'k');"
   ]
  },
  {
   "cell_type": "markdown",
   "id": "83038a59-9fcb-4a84-8557-b305d188f8f6",
   "metadata": {},
   "source": [
    "Some inquiries into two extreme data points. "
   ]
  },
  {
   "cell_type": "code",
   "execution_count": null,
   "id": "d5666965-3af5-4ea5-a8eb-b0122e34b428",
   "metadata": {},
   "outputs": [],
   "source": [
    "df[df.HomeTeam_Excess_Weekly_Pay == df.HomeTeam_Excess_Weekly_Pay.max()]"
   ]
  },
  {
   "cell_type": "code",
   "execution_count": null,
   "id": "7c8d9f5b-9e67-4029-abec-1544739ddda4",
   "metadata": {},
   "outputs": [],
   "source": [
    "df[df.ODDS_DIFF == df.ODDS_DIFF.max()]"
   ]
  },
  {
   "cell_type": "code",
   "execution_count": null,
   "id": "a4cb52b9-e55e-495d-a40d-a5bb665357ef",
   "metadata": {},
   "outputs": [],
   "source": []
  }
 ],
 "metadata": {
  "kernelspec": {
   "display_name": "Python 3 (ipykernel)",
   "language": "python",
   "name": "python3"
  },
  "language_info": {
   "codemirror_mode": {
    "name": "ipython",
    "version": 3
   },
   "file_extension": ".py",
   "mimetype": "text/x-python",
   "name": "python",
   "nbconvert_exporter": "python",
   "pygments_lexer": "ipython3",
   "version": "3.12.4"
  }
 },
 "nbformat": 4,
 "nbformat_minor": 5
}
