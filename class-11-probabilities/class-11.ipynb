{
 "cells": [
  {
   "cell_type": "markdown",
   "id": "474b1a87-485f-4d6b-911f-15f5d3e5917a",
   "metadata": {},
   "source": [
    "# <center>Class 11: Modelling Probabilities</center>"
   ]
  },
  {
   "cell_type": "code",
   "execution_count": null,
   "id": "c217275b-240a-4f4b-85ad-135f61015257",
   "metadata": {},
   "outputs": [],
   "source": [
    "import os\n",
    "import sys\n",
    "import warnings\n",
    "from typing import List\n",
    "import copy\n",
    "\n",
    "import numpy as np\n",
    "import pandas as pd\n",
    "import statsmodels.api as sm\n",
    "import statsmodels.formula.api as smf\n",
    "import math\n",
    "\n",
    "from sklearn.metrics import mean_squared_error\n",
    "from sklearn.metrics import r2_score\n",
    "from sklearn.metrics import log_loss\n",
    "\n",
    "from patsy import dmatrices\n",
    "from stargazer.stargazer import Stargazer\n",
    "from utils import lspline\n",
    "\n",
    "import matplotlib.pyplot as plt\n",
    "import seaborn as sns\n",
    "\n",
    "warnings.filterwarnings(\"ignore\")"
   ]
  },
  {
   "cell_type": "code",
   "execution_count": null,
   "id": "ecd5ce37-1df0-4950-81fa-0762691a2618",
   "metadata": {},
   "outputs": [],
   "source": [
    "%matplotlib inline"
   ]
  },
  {
   "cell_type": "markdown",
   "id": "0b73ae2f-77bb-4a14-833a-cefd6c260ce6",
   "metadata": {},
   "source": [
    "## Data - Health"
   ]
  },
  {
   "cell_type": "code",
   "execution_count": null,
   "id": "097d5901-b01d-468f-a90a-7ab505aba09e",
   "metadata": {},
   "outputs": [],
   "source": [
    "path = os.path.join(os.pardir, 'data', 'share-health.csv') # this will produce a path with the right syntax for your operating system\n",
    "path"
   ]
  },
  {
   "cell_type": "code",
   "execution_count": null,
   "id": "0f1d0553-8542-47f5-984e-5ac7cd0d83df",
   "metadata": {},
   "outputs": [],
   "source": [
    "df_health = pd.read_csv(path)"
   ]
  },
  {
   "cell_type": "code",
   "execution_count": null,
   "id": "61d5d918-84c5-434f-89e6-0b9c44403bf2",
   "metadata": {},
   "outputs": [],
   "source": [
    "df_health.info()"
   ]
  },
  {
   "cell_type": "code",
   "execution_count": null,
   "id": "57389896-ba4a-4bed-b882-350172694fd0",
   "metadata": {},
   "outputs": [],
   "source": [
    "df_health.iloc[0:6]"
   ]
  },
  {
   "cell_type": "code",
   "execution_count": null,
   "id": "d8520120-6aae-4698-b060-dd0bc19532d0",
   "metadata": {},
   "outputs": [],
   "source": [
    "df_health.eduyears_mod.describe()"
   ]
  },
  {
   "cell_type": "markdown",
   "id": "99fb631c-6b9e-4cdc-a800-0eba2e35f2ae",
   "metadata": {},
   "source": [
    "#### Feature Engineering & EDA"
   ]
  },
  {
   "cell_type": "code",
   "execution_count": null,
   "id": "00e01b8b-ba6e-4033-8583-a36a1c8697a9",
   "metadata": {},
   "outputs": [],
   "source": [
    "df_health[\"healthy\"] = 0\n",
    "df_health.loc[(df_health[\"sphus\"] == 1) | (df_health[\"sphus\"] == 2), \"healthy\"] = 1\n",
    "df_health.loc[~((df_health[\"sphus\"] > 0) & (df_health[\"sphus\"] <= 5)), \"healthy\"] = np.nan"
   ]
  },
  {
   "cell_type": "code",
   "execution_count": null,
   "id": "0e427d77-5dea-4604-8569-54c46d6768d3",
   "metadata": {},
   "outputs": [],
   "source": [
    "df_health.isna().sum()"
   ]
  },
  {
   "cell_type": "code",
   "execution_count": null,
   "id": "09ff33ae-5aab-4d52-a26c-644babd9f271",
   "metadata": {},
   "outputs": [],
   "source": [
    "df_health.dropna(inplace= True)"
   ]
  },
  {
   "cell_type": "code",
   "execution_count": null,
   "id": "8d96fc18-d56f-4b55-9a8a-5d844ab16d53",
   "metadata": {},
   "outputs": [],
   "source": [
    "df_health.wave.value_counts().sort_index()"
   ]
  },
  {
   "cell_type": "code",
   "execution_count": null,
   "id": "87d7f13f-ddac-47c9-ba99-8422aed9d579",
   "metadata": {},
   "outputs": [],
   "source": [
    "df_health[\"baseline\"] = 0\n",
    "df_health.loc[df_health[\"wave\"] == 4, \"baseline\"] = 1\n",
    "df_health[\"endline\"] = 0\n",
    "df_health.loc[df_health[\"wave\"] == 6, \"endline\"] = 1"
   ]
  },
  {
   "cell_type": "code",
   "execution_count": null,
   "id": "f84218e5-17ba-451f-891a-7e1b871b0cf2",
   "metadata": {},
   "outputs": [],
   "source": [
    "df_health.baseline.value_counts()"
   ]
  },
  {
   "cell_type": "code",
   "execution_count": null,
   "id": "a594ec55-0788-42be-ac6e-71a9262e6f70",
   "metadata": {},
   "outputs": [],
   "source": [
    "df_health.endline.value_counts()"
   ]
  },
  {
   "cell_type": "code",
   "execution_count": null,
   "id": "e62373e3-2766-4f3e-862b-72282d7a7bfe",
   "metadata": {},
   "outputs": [],
   "source": [
    "df_health[\"temp\"] = np.where(\n",
    "    df_health[\"endline\"] == 1, np.where(df_health[\"healthy\"] == 1, 1, 0), np.nan\n",
    ")\n",
    "df_health[\"stayshealthy\"] = df_health.groupby(\"mergeid\")[\"temp\"].transform(np.nanmax)\n",
    "df_health = df_health.drop(\"temp\", axis=1)"
   ]
  },
  {
   "cell_type": "code",
   "execution_count": null,
   "id": "935cbe49-4d14-44bc-b009-31e35589e3e2",
   "metadata": {},
   "outputs": [],
   "source": [
    "df_health.shape"
   ]
  },
  {
   "cell_type": "code",
   "execution_count": null,
   "id": "2b8bd632-efeb-4dd3-a1dc-25ad78346666",
   "metadata": {},
   "outputs": [],
   "source": [
    "df_health.stayshealthy.value_counts()"
   ]
  },
  {
   "cell_type": "code",
   "execution_count": null,
   "id": "a1359bd3-daa6-4d89-a5f5-4bf289214c59",
   "metadata": {},
   "outputs": [],
   "source": [
    "# keep if endline health outcome non-missing\n",
    "df_health = df_health.loc[lambda x: (x[\"stayshealthy\"] == 1) | (x[\"stayshealthy\"] == 0)]"
   ]
  },
  {
   "cell_type": "code",
   "execution_count": null,
   "id": "1ab10abc-0832-4c7d-956c-d7d161623d57",
   "metadata": {},
   "outputs": [],
   "source": [
    "# keep baseline observations (endline outcome already defined for them)\n",
    "df_health = df_health.loc[lambda x: x[\"baseline\"] == 1]"
   ]
  },
  {
   "cell_type": "code",
   "execution_count": null,
   "id": "fa1a1434-11ad-4cce-a5ac-a940664a8b21",
   "metadata": {},
   "outputs": [],
   "source": [
    "# keep age 50-60 at baseline\n",
    "df_health = df_health.loc[lambda x: (x[\"age\"] >= 50) & (x[\"age\"] <= 60)]"
   ]
  },
  {
   "cell_type": "code",
   "execution_count": null,
   "id": "fdb3ed5d-ecda-4fbb-abe6-174a71ffcfea",
   "metadata": {},
   "outputs": [],
   "source": [
    "# keep healthy individuals at baseline\n",
    "df_health = df_health.loc[lambda x: x[\"healthy\"] == 1]"
   ]
  },
  {
   "cell_type": "code",
   "execution_count": null,
   "id": "dd735f9a-1897-4f1d-bb44-98fabd02a101",
   "metadata": {},
   "outputs": [],
   "source": [
    "# keep those with non-missing observations for smoking at baseline\n",
    "# and re-define smoking to be 0-1\n",
    "df_health.loc[lambda x: x[\"smoking\"] == 5, \"smoking\"] = 0\n",
    "df_health = df_health.loc[lambda x: (x[\"smoking\"] == 0) | (x[\"smoking\"] == 1)]\n",
    "\n",
    "df_health.loc[lambda x: x[\"ever_smoked\"] == 5, \"ever_smoked\"] = 0\n",
    "df_health = df_health.loc[lambda x: (x[\"ever_smoked\"] == 0) | (x[\"ever_smoked\"] == 1)]"
   ]
  },
  {
   "cell_type": "code",
   "execution_count": null,
   "id": "a0122f4d-b009-4a72-855e-514ba639f265",
   "metadata": {},
   "outputs": [],
   "source": [
    "df_health[\"exerc\"] = np.where(\n",
    "    df_health[\"br015\"] == 1,\n",
    "    1,\n",
    "    np.where((df_health[\"br015\"] > 0) & (df_health[\"br015\"] != 1), 0, np.nan),\n",
    ")\n",
    "df_health[\"exerc\"].value_counts()"
   ]
  },
  {
   "cell_type": "code",
   "execution_count": null,
   "id": "59526dd2-6fce-49f4-aafa-a083eff03af6",
   "metadata": {},
   "outputs": [],
   "source": [
    "df_health[\"bmi\"] = np.where(df_health[\"bmi\"] < 0, np.nan, df_health[\"bmi\"])\n",
    "\n",
    "df_health[\"bmi\"].describe().round(2)"
   ]
  },
  {
   "cell_type": "code",
   "execution_count": null,
   "id": "178fd642-4f6e-46ea-9244-99d2ee0fefa8",
   "metadata": {},
   "outputs": [],
   "source": [
    "df_health = df_health.rename(columns={\"income_pct_w4\": \"income10\"})\n",
    "df_health[\"married\"] = np.where((df_health[\"mar_stat\"] == 1) | (df_health[\"mar_stat\"] == 2), 1, 0)\n",
    "df_health[\"eduyears\"] = np.where(df_health[\"eduyears_mod\"] < 0, np.nan, df_health[\"eduyears_mod\"])\n",
    "df_health = df_health.drop(\"eduyears_mod\", axis=1)\n",
    "\n",
    "df_health[\"eduyears\"].describe().round(2)"
   ]
  },
  {
   "cell_type": "code",
   "execution_count": null,
   "id": "f9294bf1",
   "metadata": {},
   "outputs": [],
   "source": [
    "df_health = df_health[(df_health[\"bmi\"].notnull()) & (df_health[\"eduyears\"].notnull()) & (df_health[\"exerc\"].notnull())]"
   ]
  },
  {
   "cell_type": "code",
   "execution_count": null,
   "id": "fec65dd8-9ba2-42d3-ac20-2837d148806e",
   "metadata": {},
   "outputs": [],
   "source": [
    "df_health.info()"
   ]
  },
  {
   "cell_type": "code",
   "execution_count": null,
   "id": "9fd11a45-de6c-4548-8dcf-51d7c3c8e535",
   "metadata": {},
   "outputs": [],
   "source": [
    "df_health[[\n",
    "        \"stayshealthy\",\n",
    "        \"smoking\",\n",
    "        \"ever_smoked\",\n",
    "        \"female\",\n",
    "        \"age\",\n",
    "        \"income10\",\n",
    "        \"eduyears\",\n",
    "        \"bmi\",\n",
    "        \"exerc\",\n",
    "    ]].describe().T.round(3)"
   ]
  },
  {
   "cell_type": "code",
   "execution_count": null,
   "id": "f6f327d2-220b-4d62-a310-8d3b036393e3",
   "metadata": {},
   "outputs": [],
   "source": [
    "df_health.income10.value_counts().sort_index()"
   ]
  },
  {
   "cell_type": "markdown",
   "id": "dd008d4f-6b9e-4384-ad7e-147aacee3678",
   "metadata": {},
   "source": [
    "**Question**: What kind if metric is this above?"
   ]
  },
  {
   "cell_type": "code",
   "execution_count": null,
   "id": "f839ccbe-5532-4eb9-83f7-64580cd0abf7",
   "metadata": {},
   "outputs": [],
   "source": [
    "df_health.income10.value_counts().sort_index().plot(kind = 'bar', xlabel = 'income deciles', ylabel = 'frequency');"
   ]
  },
  {
   "cell_type": "code",
   "execution_count": null,
   "id": "f83d4e41-d106-4056-b522-9638659a15d9",
   "metadata": {},
   "outputs": [],
   "source": [
    "pd.crosstab(df_health[\"country\"], df_health[\"stayshealthy\"])"
   ]
  },
  {
   "cell_type": "markdown",
   "id": "fb103942-b755-4953-afdd-70cd3551bb45",
   "metadata": {},
   "source": [
    "## Simple Linear Probablity Models (LPM)"
   ]
  },
  {
   "cell_type": "markdown",
   "id": "5136afa1-a725-4fc0-8a29-84e82dfafdae",
   "metadata": {},
   "source": [
    "**smokers vs non-smokers**"
   ]
  },
  {
   "cell_type": "code",
   "execution_count": null,
   "id": "839d52d1-20e7-4e3e-82fe-218e2e03491e",
   "metadata": {},
   "outputs": [],
   "source": [
    "lpm1 = smf.ols(\"stayshealthy ~ smoking\", data=df_health).fit(cov_type=\"HC1\")\n",
    "lpm2 = smf.ols(\"stayshealthy ~ smoking + ever_smoked\", data=df_health).fit(cov_type=\"HC1\")"
   ]
  },
  {
   "cell_type": "code",
   "execution_count": null,
   "id": "30af5bcf-6dfa-475b-901c-e11b67b9668b",
   "metadata": {},
   "outputs": [],
   "source": [
    "df_health[\"pred_lpmbase\"] = lpm1.predict() # we will need it for comparison"
   ]
  },
  {
   "cell_type": "code",
   "execution_count": null,
   "id": "ba60acef-4b58-4a67-a29e-6e9f1495ec1f",
   "metadata": {},
   "outputs": [],
   "source": [
    "stargazer = Stargazer([lpm1, lpm2])\n",
    "stargazer.rename_covariates({\"Intercept\": \"Constant\"})\n",
    "stargazer"
   ]
  },
  {
   "cell_type": "code",
   "execution_count": null,
   "id": "0f4f02ee-8d67-4fe6-8c6e-39115f775e44",
   "metadata": {},
   "outputs": [],
   "source": [
    "df_health[\"pred1\"] = lpm1.predict()\n",
    "\n",
    "pd.crosstab(index=df_health[\"pred1\"], columns=df_health[\"smoking\"])"
   ]
  },
  {
   "cell_type": "markdown",
   "id": "a79ec257-6131-4846-b86b-b8bfde8d870c",
   "metadata": {},
   "source": [
    "**Question**: Why do we have only two kinds of predicted values?"
   ]
  },
  {
   "cell_type": "code",
   "execution_count": null,
   "id": "bcedcb02-6359-42cd-9764-9de7d87575e2",
   "metadata": {},
   "outputs": [],
   "source": [
    "pd.crosstab(index=df_health[\"stayshealthy\"], columns=df_health[\"smoking\"], margins = True)"
   ]
  },
  {
   "cell_type": "code",
   "execution_count": null,
   "id": "1035b564-5a9a-421e-9925-371d842dee66",
   "metadata": {},
   "outputs": [],
   "source": [
    "sns.regplot(data = df_health, x = 'smoking', y = 'stayshealthy', ci = None, color = 'k')\n",
    "plt.grid(linestyle = 'dotted')\n",
    "plt.xticks([0 ,1])\n",
    "plt.xlabel('current smoker')\n",
    "plt.ylabel('probablity of staying healthy');"
   ]
  },
  {
   "cell_type": "markdown",
   "id": "32843f7d-c268-49d8-b8e6-c5531b088e6b",
   "metadata": {},
   "source": [
    "**Education and income - non-parametric regressions**"
   ]
  },
  {
   "cell_type": "code",
   "execution_count": null,
   "id": "252489a0-3338-43d6-bce7-90f25df60748",
   "metadata": {},
   "outputs": [],
   "source": [
    "df_health.groupby([\"eduyears\", \"stayshealthy\"])[\"smoking\"].transform(len)"
   ]
  },
  {
   "cell_type": "code",
   "execution_count": null,
   "id": "c02ce3fa-534a-407e-a5b1-1bf5a0582d3a",
   "metadata": {},
   "outputs": [],
   "source": [
    "df_health['weight'] = df_health.groupby([\"eduyears\", \"stayshealthy\"])[\"smoking\"].transform(len)"
   ]
  },
  {
   "cell_type": "code",
   "execution_count": null,
   "id": "72d5d3c8-6147-4749-927f-1238e5bcb87e",
   "metadata": {},
   "outputs": [],
   "source": [
    "df_health[[\"eduyears\", \"stayshealthy\", \"smoking\", \"weight\"]][df_health.eduyears == 13]"
   ]
  },
  {
   "cell_type": "code",
   "execution_count": null,
   "id": "f4e16421-173e-4851-ad64-481743aa6b60",
   "metadata": {},
   "outputs": [],
   "source": [
    "sns.regplot(\n",
    "    data = df_health, x = 'eduyears', y = 'stayshealthy', \n",
    "    lowess = True, ci = None, scatter = False, color = 'k')\n",
    "plt.ylim(0,1)\n",
    "plt.grid(linestyle = 'dotted')\n",
    "plt.xlabel('years in education')\n",
    "plt.ylabel('probablity of staying healthy');"
   ]
  },
  {
   "cell_type": "code",
   "execution_count": null,
   "id": "67da7416-3a9e-4d35-90aa-4f081789fcac",
   "metadata": {},
   "outputs": [],
   "source": [
    "sns.regplot(\n",
    "    data = df_health, x = 'income10', y = 'stayshealthy', \n",
    "    lowess = True, ci = None, scatter = False, color = 'k')\n",
    "plt.ylim(0,1)\n",
    "plt.xticks(range(1,11))\n",
    "plt.grid(linestyle = 'dotted')\n",
    "plt.xlabel('income decile')\n",
    "plt.ylabel('probablity of staying healthy');"
   ]
  },
  {
   "cell_type": "code",
   "execution_count": null,
   "id": "e6338a8f-5272-4fac-babd-7aec17d2aa6e",
   "metadata": {},
   "outputs": [],
   "source": [
    "sns.regplot(\n",
    "    data = df_health, x = 'bmi', y = 'stayshealthy', \n",
    "    lowess = True, ci = None, scatter = False, color = 'k')\n",
    "plt.ylim(0,1)\n",
    "plt.grid(linestyle = 'dotted')\n",
    "plt.xlabel('BMI')\n",
    "plt.ylabel('probablity of staying healthy');"
   ]
  },
  {
   "cell_type": "markdown",
   "id": "add032f1-8d7c-430f-9520-b3db3a72994a",
   "metadata": {},
   "source": [
    "## Logit & Probit"
   ]
  },
  {
   "cell_type": "code",
   "execution_count": null,
   "id": "54d61fea-f696-4500-bdc8-6ddae45d9649",
   "metadata": {},
   "outputs": [],
   "source": [
    "df_health[\"country\"] = df_health[\"country\"].astype(\"category\")"
   ]
  },
  {
   "cell_type": "code",
   "execution_count": null,
   "id": "00c587d2-52a7-40be-9a35-b4dfbed89fab",
   "metadata": {},
   "outputs": [],
   "source": [
    "df_health.info()"
   ]
  },
  {
   "cell_type": "code",
   "execution_count": null,
   "id": "af6b612c-5f4d-438a-8bd5-51a95a3cbb39",
   "metadata": {},
   "outputs": [],
   "source": [
    "df_health.iloc[0:5, 0:4]"
   ]
  },
  {
   "cell_type": "markdown",
   "id": "35a30ec1-7e2e-4f6e-b8c4-3bc1f9eab562",
   "metadata": {},
   "source": [
    "#### Baseline LPM"
   ]
  },
  {
   "cell_type": "code",
   "execution_count": null,
   "id": "42483518-9bdd-47e5-82d9-adc3ae9060de",
   "metadata": {},
   "outputs": [],
   "source": [
    "lpm3 = smf.ols(\n",
    "    \"stayshealthy ~ smoking + ever_smoked + female + age + lspline(eduyears,[8,18]) + \\\n",
    "                    income10 + lspline(bmi,[35]) + exerc + country\",\n",
    "    df_health,\n",
    ").fit(covtype=\"HC1\")"
   ]
  },
  {
   "cell_type": "code",
   "execution_count": null,
   "id": "968ec189-af75-4bd4-9b38-3fa996d78624",
   "metadata": {},
   "outputs": [],
   "source": [
    "stargazer = Stargazer([lpm3])\n",
    "stargazer.covariate_order(\n",
    "    [\n",
    "        \"smoking\",\n",
    "        \"ever_smoked\",\n",
    "        \"female\",\n",
    "        \"age\",\n",
    "        \"lspline(eduyears, [8, 18])[0]\",\n",
    "        \"lspline(eduyears, [8, 18])[1]\",\n",
    "        \"lspline(eduyears, [8, 18])[2]\",\n",
    "        \"income10\",\n",
    "        \"lspline(bmi, [35])[0]\",\n",
    "        \"lspline(bmi, [35])[1]\",\n",
    "        \"exerc\",\n",
    "    ]\n",
    ")\n",
    "stargazer.rename_covariates({\"Intercept\": \"Constant\"})\n",
    "stargazer.add_line(\"Country indicators\", [\"Yes\"])\n",
    "stargazer"
   ]
  },
  {
   "cell_type": "code",
   "execution_count": null,
   "id": "97b50645-55a4-4480-8a66-1ca644aa64ec",
   "metadata": {},
   "outputs": [],
   "source": [
    "df_health[\"pred_lpm\"] = lpm3.predict()"
   ]
  },
  {
   "cell_type": "code",
   "execution_count": null,
   "id": "f18c0ccc-4237-460d-8412-85ff550882a4",
   "metadata": {},
   "outputs": [],
   "source": [
    "g = sns.histplot(\n",
    "    data = df_health, x = 'pred_lpm', stat = 'probability', bins = [x/100 for x in range(0,102, 2)])\n",
    "#aesthetics\n",
    "ylabels = ['{:.0%}'.format(x) for x in g.get_yticks()] #  getting the y ticks and reformatting them as percent\n",
    "g.set_yticklabels(ylabels)\n",
    "xlabels = ['{:.0%}'.format(x) for x in g.get_xticks()] #  getting the x ticks and reformatting them as percent\n",
    "g.set_xticklabels(xlabels)\n",
    "plt.xlabel('predicted probabities')\n",
    "plt.ylabel('frequency of prediction')\n",
    "plt.grid(linestyle = 'dotted');"
   ]
  },
  {
   "cell_type": "markdown",
   "id": "aa8468a5-9531-456e-9778-ec14a1c78799",
   "metadata": {},
   "source": [
    "**Compare the subsamples of the lowest and highest predictions**\n",
    "\n",
    "Discretize predictions into equal-sized buckets based on rank or based on sample quantiles. Use the `pd.qcut` [function](https://pandas.pydata.org/pandas-docs/stable/reference/api/pandas.qcut.html). "
   ]
  },
  {
   "cell_type": "code",
   "execution_count": null,
   "id": "89cfb73f-560f-441b-a3ed-ce1c4c21ac2e",
   "metadata": {},
   "outputs": [],
   "source": [
    "cuts = 100\n",
    "df_health[\"q100_pred_lpm\"] = pd.qcut(df_health[\"pred_lpm\"], q = cuts, labels = range(1, cuts + 1))"
   ]
  },
  {
   "cell_type": "code",
   "execution_count": null,
   "id": "c7673f0e-dd35-4664-9042-6abfa5a8da3d",
   "metadata": {},
   "outputs": [],
   "source": [
    "df_health[df_health.q100_pred_lpm == 1].shape"
   ]
  },
  {
   "cell_type": "code",
   "execution_count": null,
   "id": "b7a8dfd4-1345-4206-9673-f4a9d48b4c06",
   "metadata": {},
   "outputs": [],
   "source": [
    "# bottom 1 percent of predictions\n",
    "df_health[df_health.q100_pred_lpm == 1][[\"smoking\", \"ever_smoked\", \"female\", \"age\", \"eduyears\", \"income10\", \"bmi\", \"exerc\"]].describe().T.round(2)"
   ]
  },
  {
   "cell_type": "code",
   "execution_count": null,
   "id": "bfab2427-78b7-4d25-a675-37ebc29441c2",
   "metadata": {},
   "outputs": [],
   "source": [
    "# top 1 percent of predictions\n",
    "df_health[df_health.q100_pred_lpm == 100][[\"smoking\", \"ever_smoked\", \"female\", \"age\", \"eduyears\", \"income10\", \"bmi\", \"exerc\"]].describe().T.round(2)"
   ]
  },
  {
   "cell_type": "markdown",
   "id": "ac584777-2bd1-40c7-badb-11d844ce08a3",
   "metadata": {},
   "source": [
    "#### Logit modelling"
   ]
  },
  {
   "cell_type": "markdown",
   "id": "a25762eb-219c-417d-8b09-58ad815c9816",
   "metadata": {},
   "source": [
    "`patsy` is a Python package for describing statistical models (especially linear models, or models that have a linear component) and building design matrices. It is closely inspired by and compatible with the formula mini-language used in R and S.\n",
    "\n",
    "Patsy’s goal is to become the standard high-level interface to describing statistical models in Python, regardless of what particular model or library is being used underneath.\n",
    "\n",
    "- Allows data transformations to be specified using arbitrary Python code: instead of x, we can write log(x) or (x > 0)\n",
    "- Gives a range of convenient options for coding categorical variables\n",
    "- Provides basic built-in transformations\n",
    "- Provides a language for easy-to-read specification of linear constraints\n",
    "- Features a simple API for integration into statistical packages. "
   ]
  },
  {
   "cell_type": "code",
   "execution_count": null,
   "id": "dee69293-2a86-4e36-b2e3-b9a12d67a2cb",
   "metadata": {},
   "outputs": [],
   "source": [
    "y, X = dmatrices(\n",
    "    \"stayshealthy ~ smoking + ever_smoked + female + age + lspline(eduyears,[8,18]) + \\\n",
    "                 income10 + lspline(bmi,[35]) + exerc + country\",\n",
    "    df_health,\n",
    ")"
   ]
  },
  {
   "cell_type": "markdown",
   "id": "145a7829-9b85-4a20-bab7-42fc9d546b9d",
   "metadata": {},
   "source": [
    "`dmatrices()` constructs two design matrices given a formula_like and data. By convention, the first matrix is the “outcome” or “y” data, and the second is the “predictor” or “x” data."
   ]
  },
  {
   "cell_type": "code",
   "execution_count": null,
   "id": "87244da5-aaff-4354-8183-5a7d3c49b8eb",
   "metadata": {},
   "outputs": [],
   "source": [
    "type(X)"
   ]
  },
  {
   "cell_type": "code",
   "execution_count": null,
   "id": "a99b5d86-f4c1-4100-98c1-790a00ad3c32",
   "metadata": {},
   "outputs": [],
   "source": [
    "X"
   ]
  },
  {
   "cell_type": "code",
   "execution_count": null,
   "id": "8e9fe10e-6de8-48f4-bb45-8f64c61e1048",
   "metadata": {},
   "outputs": [],
   "source": [
    "X.design_info.column_names"
   ]
  },
  {
   "cell_type": "code",
   "execution_count": null,
   "id": "85bb8b67-3eff-407d-a23a-f45ab5a69765",
   "metadata": {},
   "outputs": [],
   "source": [
    "np.asarray(X)[0:5]"
   ]
  },
  {
   "cell_type": "code",
   "execution_count": null,
   "id": "1c311d5c-d085-47d7-a65c-111ecc9e1695",
   "metadata": {},
   "outputs": [],
   "source": [
    "X.shape"
   ]
  },
  {
   "cell_type": "code",
   "execution_count": null,
   "id": "f455b431-4ff4-4bc6-b2cd-bda732b8e56b",
   "metadata": {},
   "outputs": [],
   "source": [
    "y"
   ]
  },
  {
   "cell_type": "code",
   "execution_count": null,
   "id": "9c66994b-c0d7-414e-81a2-62aba6e123f4",
   "metadata": {},
   "outputs": [],
   "source": [
    "np.asarray(y)"
   ]
  },
  {
   "cell_type": "code",
   "execution_count": null,
   "id": "91c1df46-8cd1-4954-96ae-334069b9641b",
   "metadata": {},
   "outputs": [],
   "source": [
    "y.shape"
   ]
  },
  {
   "cell_type": "code",
   "execution_count": null,
   "id": "b884797a-f63f-4dec-a607-609082939476",
   "metadata": {},
   "outputs": [],
   "source": [
    "y.ravel().shape"
   ]
  },
  {
   "cell_type": "markdown",
   "id": "1ce941cf-e9fa-48a4-9427-d26a559a7ab7",
   "metadata": {},
   "source": [
    "**type 1: Using Generalized Least Squares**"
   ]
  },
  {
   "cell_type": "code",
   "execution_count": null,
   "id": "c1d6ef69-f325-48e3-b9fd-c8cb1003f809",
   "metadata": {},
   "outputs": [],
   "source": [
    "logit = sm.GLM(y, X, family=sm.families.Binomial(link=sm.genmod.families.links.logit()))\n",
    "logit = logit.fit()"
   ]
  },
  {
   "cell_type": "code",
   "execution_count": null,
   "id": "7a3c7f8d-4093-418e-8611-6f584b827d10",
   "metadata": {},
   "outputs": [],
   "source": [
    "print(logit.summary())"
   ]
  },
  {
   "cell_type": "code",
   "execution_count": null,
   "id": "f8146192-8464-4bef-b697-11653c62e6bc",
   "metadata": {},
   "outputs": [],
   "source": [
    "df_health.country.value_counts().sort_index()"
   ]
  },
  {
   "cell_type": "markdown",
   "id": "e3316f0e-8f1b-466a-ad65-beccb21d6da1",
   "metadata": {},
   "source": [
    "**type 2: Using simple Logit**\n",
    "\n",
    "Note: the difference between the two matters if probablities are unbalanced. See this: https://stats.stackexchange.com/questions/245241/difference-between-logistic-regression-and-binomal-glm-with-logistic-link"
   ]
  },
  {
   "cell_type": "code",
   "execution_count": null,
   "id": "be3c6cf8-1f4d-47e8-aa55-74ff5ad075dd",
   "metadata": {},
   "outputs": [],
   "source": [
    "logit = sm.Logit(y, X)\n",
    "logit_result = logit.fit()"
   ]
  },
  {
   "cell_type": "code",
   "execution_count": null,
   "id": "96e2c62a-c355-425f-87af-fd5b6157660c",
   "metadata": {},
   "outputs": [],
   "source": [
    "print(logit_result.summary())"
   ]
  },
  {
   "cell_type": "code",
   "execution_count": null,
   "id": "d7192288-3699-4e73-a6e1-97eef5b53a2c",
   "metadata": {},
   "outputs": [],
   "source": [
    "logit_margef_results = logit_result.get_margeff()"
   ]
  },
  {
   "cell_type": "code",
   "execution_count": null,
   "id": "09e0b889-6c03-432a-8cd4-70d7202b0dd3",
   "metadata": {},
   "outputs": [],
   "source": [
    "print(logit_margef_results.summary())"
   ]
  },
  {
   "cell_type": "markdown",
   "id": "c16b1d84-29e9-4a10-bd72-061516915040",
   "metadata": {},
   "source": [
    "**Question**: Which countries are meaningfully different from Austria? "
   ]
  },
  {
   "cell_type": "code",
   "execution_count": null,
   "id": "19283ea5-3c47-4dd2-87e4-7988ae533b89",
   "metadata": {},
   "outputs": [],
   "source": [
    "df_health['country_code'] = df_health.mergeid.map(lambda x: x[0:2])"
   ]
  },
  {
   "cell_type": "code",
   "execution_count": null,
   "id": "ef153017-cc2e-4e50-80bf-664c2f7b3f85",
   "metadata": {},
   "outputs": [],
   "source": [
    "df_health[['country', 'country_code']].drop_duplicates().sort_values(by = 'country').reset_index(drop = True)"
   ]
  },
  {
   "cell_type": "code",
   "execution_count": null,
   "id": "94a5f8cf-00be-4268-9015-99cb312891ce",
   "metadata": {},
   "outputs": [],
   "source": [
    "df_health[\"pred_logit\"] = logit_result.predict()"
   ]
  },
  {
   "cell_type": "markdown",
   "id": "2cc1b006-6797-469e-bf4c-ca93eba5d769",
   "metadata": {},
   "source": [
    "**probit**"
   ]
  },
  {
   "cell_type": "code",
   "execution_count": null,
   "id": "54124cf6-0def-477a-95cb-788875aa5ca8",
   "metadata": {},
   "outputs": [],
   "source": [
    "probit = sm.Probit(y, X)\n",
    "probit_result = probit.fit()"
   ]
  },
  {
   "cell_type": "code",
   "execution_count": null,
   "id": "ebbe53b7-8633-4524-b221-92f069f99310",
   "metadata": {},
   "outputs": [],
   "source": [
    "print(probit_result.summary())"
   ]
  },
  {
   "cell_type": "code",
   "execution_count": null,
   "id": "3f25784c-feea-4c4b-ab9a-f665e0ef4cbe",
   "metadata": {},
   "outputs": [],
   "source": [
    "df_health[\"pred_probit\"] = probit_result.predict()"
   ]
  },
  {
   "cell_type": "code",
   "execution_count": null,
   "id": "75649eca-97e7-427c-b9e3-0c360e6b8e93",
   "metadata": {},
   "outputs": [],
   "source": [
    "probit_margef_results = probit_result.get_margeff()\n",
    "print(probit_margef_results.summary())"
   ]
  },
  {
   "cell_type": "markdown",
   "id": "ebfbbd38-f18f-4fb1-b9c5-c752b95e68be",
   "metadata": {},
   "source": [
    "#### Comparing predicted probablities"
   ]
  },
  {
   "cell_type": "code",
   "execution_count": null,
   "id": "96319100-3617-452a-806a-165f1d7cb65f",
   "metadata": {},
   "outputs": [],
   "source": [
    "fig, ax = plt.subplots(figsize = (6,6))\n",
    "\n",
    "# data\n",
    "ax.plot(df_health.pred_lpm, df_health.pred_lpm, color = 'k', label = 'LPM baseline')\n",
    "ax.scatter(df_health.pred_lpm, df_health.pred_logit, color = 'royalblue', s = 1, label = 'logit')\n",
    "ax.scatter(df_health.pred_lpm, df_health.pred_probit, color = 'indianred', s = 1, label = 'probit')\n",
    "\n",
    "# aesthetics\n",
    "ax.set_xticks(np.linspace(0,1, num = 11))\n",
    "ax.set_xticklabels(['{:.0%}'.format(x) for x in np.linspace(0,1, num = 11)])\n",
    "ax.set_yticks(np.linspace(0,1, num = 11))\n",
    "ax.set_yticklabels(['{:.0%}'.format(y) for y in np.linspace(0,1, num = 11)])\n",
    "\n",
    "plt.legend(labelcolor = ['k', 'royalblue', 'indianred'])\n",
    "plt.grid(linestyle = 'dotted')\n",
    "plt.xlabel('LPM prediction')\n",
    "plt.ylabel('logit/probit prediction')\n",
    "plt.title('LPM, logit, and probit regression results');"
   ]
  },
  {
   "cell_type": "markdown",
   "id": "840e0544-fd79-44b8-a218-ced5257bbec1",
   "metadata": {},
   "source": [
    "#### Distribution of predicted probabilities: a simple and an extended model"
   ]
  },
  {
   "cell_type": "code",
   "execution_count": null,
   "id": "838432f4-cb99-4c6c-beee-1f3869d45662",
   "metadata": {},
   "outputs": [],
   "source": [
    "g = sns.histplot(data = df_health, x = 'pred_lpmbase', hue = 'stayshealthy',  stat = 'probability', palette = ['k', 'indianred'])\n",
    "\n",
    "ylabels = ['{:.0%}'.format(x) for x in g.get_yticks()] #  getting the y ticks and reformatting them as percent\n",
    "g.set_yticklabels(ylabels)\n",
    "plt.xlim(0.4,0.8)\n",
    "xlabels = ['{:.0%}'.format(x) for x in g.get_xticks()] #  getting the x ticks and reformatting them as percent\n",
    "g.set_xticklabels(xlabels)\n",
    "\n",
    "plt.xlabel('predicted probability')\n",
    "plt.ylabel('relative frequency')\n",
    "plt.grid(linestyle = 'dotted')\n",
    "# plt.legend(labelcolor = ['k', 'indianred'])\n",
    "plt.title('Simple LPM model');"
   ]
  },
  {
   "cell_type": "code",
   "execution_count": null,
   "id": "995aca43-bb8d-4764-97a6-aed10bb4918f",
   "metadata": {},
   "outputs": [],
   "source": [
    "g = sns.histplot(data = df_health, x = 'pred_lpm', hue = 'stayshealthy',  stat = 'probability', palette = ['k', 'indianred'], binwidth = 0.05)\n",
    "\n",
    "ylabels = ['{:.0%}'.format(x) for x in g.get_yticks()] #  getting the y ticks and reformatting them as percent\n",
    "g.set_yticklabels(ylabels)\n",
    "xlabels = ['{:.0%}'.format(x) for x in g.get_xticks()] #  getting the x ticks and reformatting them as percent\n",
    "g.set_xticklabels(xlabels)\n",
    "\n",
    "plt.xlabel('predicted probability')\n",
    "plt.ylabel('relative frequency')\n",
    "plt.grid(linestyle = 'dotted')\n",
    "plt.title('Extended LPM model');"
   ]
  },
  {
   "cell_type": "markdown",
   "id": "6e525b52-0410-4853-be27-9644d45a5a68",
   "metadata": {},
   "source": [
    "#### Model comparison: mean & median"
   ]
  },
  {
   "cell_type": "code",
   "execution_count": null,
   "id": "4430a6db-d77b-4388-8e6a-ed761825656c",
   "metadata": {},
   "outputs": [],
   "source": [
    "df_health.groupby(\"stayshealthy\")[\n",
    "    [\"pred_lpmbase\", \"pred_lpm\", \"pred_logit\", \"pred_probit\"]\n",
    "].mean().round(3)"
   ]
  },
  {
   "cell_type": "code",
   "execution_count": null,
   "id": "d92ce985-6104-4db8-b529-668b1128e13d",
   "metadata": {},
   "outputs": [],
   "source": [
    "df_health.groupby(\"stayshealthy\")[\n",
    "    [\"pred_lpmbase\", \"pred_lpm\", \"pred_logit\", \"pred_probit\"]\n",
    "].median().round(3)"
   ]
  },
  {
   "cell_type": "markdown",
   "id": "71b0bd2b-545f-4041-a749-53d56d769109",
   "metadata": {},
   "source": [
    "#### Model comparison: goodness of fit"
   ]
  },
  {
   "cell_type": "code",
   "execution_count": null,
   "id": "ddea8c3d-5664-4982-91e0-fac54a6feacd",
   "metadata": {},
   "outputs": [],
   "source": [
    "pd.DataFrame(\n",
    "    {\n",
    "        \"R-squared\": [\n",
    "            lpm3.rsquared,\n",
    "            r2_score(df_health[\"stayshealthy\"], df_health[\"pred_logit\"]),\n",
    "            r2_score(df_health[\"stayshealthy\"], df_health[\"pred_probit\"]),\n",
    "        ],\n",
    "        \"Brier-score\": [\n",
    "            mean_squared_error(df_health[\"stayshealthy\"], df_health[\"pred_lpm\"]),\n",
    "            mean_squared_error(df_health[\"stayshealthy\"], df_health[\"pred_logit\"]),\n",
    "            mean_squared_error(df_health[\"stayshealthy\"], df_health[\"pred_probit\"]),\n",
    "        ],\n",
    "        \"Pseudo R-squared\": [np.nan, logit_result.prsquared, probit_result.prsquared],\n",
    "        \"Log-loss\": [\n",
    "            -1 * log_loss(df_health[\"stayshealthy\"], df_health[\"pred_lpm\"]),\n",
    "            -1 * log_loss(df_health[\"stayshealthy\"], df_health[\"pred_logit\"]),\n",
    "            -1 * log_loss(df_health[\"stayshealthy\"], df_health[\"pred_probit\"]),\n",
    "        ],\n",
    "    },\n",
    "    index=[\"LPM\", \"Logit\", \"Probit\"],\n",
    ").T.round(3)"
   ]
  },
  {
   "cell_type": "markdown",
   "id": "284c2818-f2bc-4aa2-b3d5-5f941d576fb3",
   "metadata": {},
   "source": [
    "#### Calibration plots"
   ]
  },
  {
   "cell_type": "markdown",
   "id": "59c124f5-399c-405f-9f50-197d64a63689",
   "metadata": {},
   "source": [
    "**Calibration plot components one-by-one**"
   ]
  },
  {
   "cell_type": "code",
   "execution_count": null,
   "id": "5286abc7-e21f-4187-b90f-1e67f959fa32",
   "metadata": {},
   "outputs": [],
   "source": [
    "n_bins = 10\n",
    "prob_var = 'pred_logit'\n",
    "actual_var = 'stayshealthy'"
   ]
  },
  {
   "cell_type": "code",
   "execution_count": null,
   "id": "ec96def2-ccf2-4450-963c-77e34132315a",
   "metadata": {},
   "outputs": [],
   "source": [
    "breaks = np.around(\n",
    "            np.linspace(0, (n_bins + 1) / 10, num=n_bins + 1, endpoint=False),\n",
    "            decimals=1,\n",
    "        ).tolist()\n",
    "breaks"
   ]
  },
  {
   "cell_type": "code",
   "execution_count": null,
   "id": "be86e514-22ea-4103-8672-7dff41f6c05b",
   "metadata": {},
   "outputs": [],
   "source": [
    "df_ = df_health.copy()"
   ]
  },
  {
   "cell_type": "code",
   "execution_count": null,
   "id": "9361ef88-1b0d-4adc-bc62-a97aff49f463",
   "metadata": {},
   "outputs": [],
   "source": [
    "df_[\"prob_bin\"] = pd.cut(df_[prob_var], breaks, right=True, include_lowest=True)"
   ]
  },
  {
   "cell_type": "code",
   "execution_count": null,
   "id": "dbdb2f2a-225e-4d60-b80e-b98138daa724",
   "metadata": {},
   "outputs": [],
   "source": [
    "df_[\"prob_bin\"].value_counts().sort_index()"
   ]
  },
  {
   "cell_type": "code",
   "execution_count": null,
   "id": "5407b7e5-f503-44ae-89fe-0edaa2d08c39",
   "metadata": {},
   "outputs": [],
   "source": [
    "df_[[actual_var, prob_var, 'prob_bin']].iloc[0:10]"
   ]
  },
  {
   "cell_type": "markdown",
   "id": "292fda31-d80d-4f0e-ae3f-38cf1f1fd130",
   "metadata": {},
   "source": [
    "***Beware with the tails of your calibration curve!!!***"
   ]
  },
  {
   "cell_type": "markdown",
   "id": "d86bfc73-d907-4c83-8302-179cef0bddca",
   "metadata": {},
   "source": [
    "predicted p > 90%"
   ]
  },
  {
   "cell_type": "code",
   "execution_count": null,
   "id": "cfe9f2d3-74ad-42e7-b00f-33120a89ca59",
   "metadata": {},
   "outputs": [],
   "source": [
    "df_[['stayshealthy', 'pred_logit', 'prob_bin']][df_.pred_logit > 0.90]['stayshealthy'].mean()"
   ]
  },
  {
   "cell_type": "markdown",
   "id": "f43f3ca9-bdfd-4490-80f6-781c636cc0ad",
   "metadata": {},
   "source": [
    "predicted p > 92%"
   ]
  },
  {
   "cell_type": "code",
   "execution_count": null,
   "id": "a5f81776-75dc-4fa6-a997-47eea3120c4d",
   "metadata": {},
   "outputs": [],
   "source": [
    "df_[['stayshealthy', 'pred_logit', 'prob_bin']][df_.pred_logit > 0.92]['stayshealthy'].mean()"
   ]
  },
  {
   "cell_type": "code",
   "execution_count": null,
   "id": "b3c7ed47-0e4b-43c0-94c5-1d4caee12bb7",
   "metadata": {},
   "outputs": [],
   "source": [
    "df_[['stayshealthy', 'pred_logit', 'prob_bin']][df_.pred_logit > 0.90]"
   ]
  },
  {
   "cell_type": "code",
   "execution_count": null,
   "id": "db9a31cc-175a-4527-920f-60344fb82f7e",
   "metadata": {},
   "outputs": [],
   "source": [
    "df_binned_data = (\n",
    "        df_.groupby(\"prob_bin\")\n",
    "        .agg(\n",
    "            mean_prob = (prob_var, \"mean\"),\n",
    "            mean_actual = (actual_var, \"mean\"),\n",
    "            n= (actual_var, \"size\"),\n",
    "        )\n",
    "        .reset_index()\n",
    "    )\n",
    "df_binned_data"
   ]
  },
  {
   "cell_type": "code",
   "execution_count": null,
   "id": "7d3c1fc8-f8c5-44d1-97a5-ce2a96265afe",
   "metadata": {},
   "outputs": [],
   "source": [
    "fig, ax = plt.subplots(figsize = (6,6))\n",
    "ax.plot(breaks, breaks, color = 'k')\n",
    "ax.plot(df_binned_data.mean_prob, df_binned_data.mean_actual, marker = 'o', color = 'indianred')\n",
    "\n",
    "ax.set_xticks(np.linspace(0,1, num = 11))\n",
    "ax.set_xticklabels(['{:.0%}'.format(x) for x in np.linspace(0,1, num = 11)])\n",
    "ax.set_yticks(np.linspace(0,1, num = 11))\n",
    "ax.set_yticklabels(['{:.0%}'.format(y) for y in np.linspace(0,1, num = 11)])\n",
    "plt.grid(linestyle = \"dotted\")\n",
    "plt.xlabel('predicted probability')\n",
    "plt.ylabel('actual probability')\n",
    "plt.title('Logit model calibration curve')\n",
    "plt.show()"
   ]
  },
  {
   "cell_type": "markdown",
   "id": "3a9da9c3-af88-41fc-8dba-e705910fcc02",
   "metadata": {},
   "source": [
    "**Putting it alltogether: creating a function to produce the calibration plot**"
   ]
  },
  {
   "cell_type": "code",
   "execution_count": null,
   "id": "b34f38d3-d916-4836-bccb-a122fde1559f",
   "metadata": {},
   "outputs": [],
   "source": [
    "def calibration_plot(\n",
    "    df: pd.DataFrame,\n",
    "    prob_var: str,\n",
    "    actual_var: str,\n",
    "    model_name: str = None,\n",
    "    n_bins: int = 10,\n",
    "    breaks: list = None):\n",
    "\n",
    "    if breaks is None:\n",
    "        breaks = np.linspace(0, 1, n_bins + 1).tolist()\n",
    "\n",
    "    df[\"prob_bin\"] = pd.cut(df[prob_var], breaks, right=True, include_lowest=True)\n",
    "    \n",
    "    df_binned_data = (\n",
    "        df.groupby(\"prob_bin\")\n",
    "        .agg(\n",
    "            mean_prob = (prob_var, \"mean\"),\n",
    "            mean_actual = (actual_var, \"mean\"),\n",
    "            n= (actual_var, \"size\"),\n",
    "        )\n",
    "        .reset_index()\n",
    "    )\n",
    "\n",
    "    fig, ax = plt.subplots(figsize = (6,6))\n",
    "    ax.plot(breaks, breaks, color = 'k')\n",
    "    ax.plot(df_binned_data.mean_prob, df_binned_data.mean_actual, marker = 'o', color = 'indianred')\n",
    "    \n",
    "    ax.set_xticks(np.linspace(0,1, num = 11))\n",
    "    ax.set_xticklabels(['{:.0%}'.format(x) for x in np.linspace(0,1, num = 11)])\n",
    "    ax.set_yticks(np.linspace(0,1, num = 11))\n",
    "    ax.set_yticklabels(['{:.0%}'.format(y) for y in np.linspace(0,1, num = 11)])\n",
    "    plt.grid(linestyle = \"dotted\")\n",
    "    plt.xlabel('predicted probability')\n",
    "    plt.ylabel('actual probability')\n",
    "    if model_name is None:\n",
    "        plt.title('Calibration curve')\n",
    "    else:\n",
    "        plt.title(f'{model_name} calibration curve')\n",
    "    plt.show()\n",
    "\n",
    "    \n"
   ]
  },
  {
   "cell_type": "code",
   "execution_count": null,
   "id": "832895f8-ac47-4527-931c-a25867ac6055",
   "metadata": {},
   "outputs": [],
   "source": [
    "calibration_plot(\n",
    "    df = df_health, \n",
    "    prob_var= 'pred_logit',\n",
    "    actual_var = 'stayshealthy',\n",
    "    model_name= 'Logit',\n",
    "    n_bins= 12\n",
    ")"
   ]
  },
  {
   "cell_type": "code",
   "execution_count": null,
   "id": "64f78a5d-f125-4fcb-bbdc-23364676e198",
   "metadata": {},
   "outputs": [],
   "source": [
    "calibration_plot(\n",
    "    df = df_health, \n",
    "    prob_var= 'pred_probit',\n",
    "    actual_var = 'stayshealthy',\n",
    "    model_name= 'Probit',\n",
    "    n_bins= 10\n",
    ")"
   ]
  }
 ],
 "metadata": {
  "kernelspec": {
   "display_name": "Python 3 (ipykernel)",
   "language": "python",
   "name": "python3"
  },
  "language_info": {
   "codemirror_mode": {
    "name": "ipython",
    "version": 3
   },
   "file_extension": ".py",
   "mimetype": "text/x-python",
   "name": "python",
   "nbconvert_exporter": "python",
   "pygments_lexer": "ipython3",
   "version": "3.12.4"
  }
 },
 "nbformat": 4,
 "nbformat_minor": 5
}
