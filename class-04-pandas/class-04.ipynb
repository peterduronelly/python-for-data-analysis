{
 "cells": [
  {
   "cell_type": "markdown",
   "id": "9202e34c-168e-40c1-b00d-43743e4c303b",
   "metadata": {},
   "source": [
    "# <center>Class 4</center>"
   ]
  },
  {
   "cell_type": "markdown",
   "id": "6d97f2f7-7a59-4c3e-bfe2-0229422da426",
   "metadata": {},
   "source": [
    "## Pandas"
   ]
  },
  {
   "cell_type": "code",
   "execution_count": null,
   "id": "21cfb1ff-f969-48e0-96b4-a95e8b3097e8",
   "metadata": {},
   "outputs": [],
   "source": [
    "import pandas as pd\n",
    "import numpy as np\n",
    "import os"
   ]
  },
  {
   "cell_type": "code",
   "execution_count": null,
   "id": "c1527cac-9cba-43d0-ade0-cff2d2a11639",
   "metadata": {},
   "outputs": [],
   "source": [
    "import warnings\n",
    "warnings.filterwarnings('ignore')"
   ]
  },
  {
   "cell_type": "markdown",
   "id": "a13bbc0a-6a7f-416e-8111-30c3633ba929",
   "metadata": {},
   "source": [
    "`Pandas dataframes` are your tool for working with tabular data. Take it as a programmable version of an Excel sheet. The problem with Excel is that it is too good so it is difficult to motivate users to try something new. Despite its flexibility and user-friendly interface Excel does have limitations, which Pandas can solve. \n",
    "\n",
    "Pandas started out as the Python version of R dataframes. Now it has its own ecosystem."
   ]
  },
  {
   "cell_type": "markdown",
   "id": "8a7fbd33-343a-4b34-be8b-7f12ce54db83",
   "metadata": {},
   "source": [
    "### Pandas Series\n",
    "\n",
    "Pandas is a columnar structure where each column is essentially a `Pandas Series`. They are strictly 1-dimensional and can contain any data type (integers, strings, floats, objects, etc), including a mix of them. Series can be created from a scalar, a list, ndarray or dictionary using `pd.Series()` (note the captial **“S”**).\n",
    "\n",
    "By default, series are labelled with indices starting from 0. For example:"
   ]
  },
  {
   "cell_type": "code",
   "execution_count": null,
   "id": "33b9c127-8603-422a-8807-1adebfa8d900",
   "metadata": {},
   "outputs": [],
   "source": [
    "s = pd.Series(data = [-5, 1.3, 21, 6, 3])"
   ]
  },
  {
   "cell_type": "code",
   "execution_count": null,
   "id": "d8042e3e-0eb2-49e0-9a44-d27c065bd5e1",
   "metadata": {},
   "outputs": [],
   "source": [
    "s"
   ]
  },
  {
   "cell_type": "markdown",
   "id": "2e614087-9d74-4831-b6cc-a8f590876011",
   "metadata": {},
   "source": [
    "But you can add a custom index:"
   ]
  },
  {
   "cell_type": "code",
   "execution_count": null,
   "id": "34d9bf8d-6e92-4877-8949-f02f30b36463",
   "metadata": {},
   "outputs": [],
   "source": [
    "pd.Series(data = [-5, 1.3, 21, 6, 3],\n",
    "          index = ['a', 'b', 'c', 'd', 'e'])"
   ]
  },
  {
   "cell_type": "markdown",
   "id": "f54a9d9f-7edd-402b-b78f-c2d639c6e39f",
   "metadata": {},
   "source": [
    "Create a series from a dictionary. Your keys are the indices, and your values are yor series values."
   ]
  },
  {
   "cell_type": "code",
   "execution_count": null,
   "id": "c828883c-f512-4423-a7c4-fb524af521cb",
   "metadata": {},
   "outputs": [],
   "source": [
    "pd.Series(data = {'a': 10, 'b': 20, 'c': 30})"
   ]
  },
  {
   "cell_type": "markdown",
   "id": "33fce0b0-4654-4e16-8f62-4d1bda91840b",
   "metadata": {},
   "source": [
    "A Pandas series can have a heterogenous data strucure."
   ]
  },
  {
   "cell_type": "code",
   "execution_count": null,
   "id": "65f96502-be78-4b84-8fa3-109ec67fc399",
   "metadata": {},
   "outputs": [],
   "source": [
    "pd.Series([1, 'a', 2.0, np.random.rand(1)])"
   ]
  },
  {
   "cell_type": "code",
   "execution_count": null,
   "id": "37ff4488-0c4e-456b-a726-3c6749546087",
   "metadata": {},
   "outputs": [],
   "source": [
    " np.random.rand(1)"
   ]
  },
  {
   "cell_type": "markdown",
   "id": "ab8f1f47-ec45-4004-8a6a-5fea2b9cd078",
   "metadata": {},
   "source": [
    "Question: How can I modify the function above to have the random number itself instead of a numpy array as the last value of the series?"
   ]
  },
  {
   "cell_type": "code",
   "execution_count": null,
   "id": "095775e8-9379-4faf-98fe-be068849d7d8",
   "metadata": {},
   "outputs": [],
   "source": [
    "pd.Series([1, 'a', 2.0,  np.random.rand(1)[0] ])"
   ]
  },
  {
   "cell_type": "markdown",
   "id": "7805aa91-e106-46e9-87d9-9de9696420f2",
   "metadata": {
    "tags": []
   },
   "source": [
    "### Pandas DataFrames"
   ]
  },
  {
   "cell_type": "markdown",
   "id": "2ab8cc1a-3b80-4120-aedb-f3d983e0f563",
   "metadata": {},
   "source": [
    " `DataFrames` are really just Series stuck together! Think of a DataFrame as a dictionary of series, with the _“keys”_ being the column labels and the _“values”_ being the series data."
   ]
  },
  {
   "cell_type": "markdown",
   "id": "f4a12f2f-f13d-4d46-9c05-114adf012c46",
   "metadata": {
    "tags": []
   },
   "source": [
    "#### Creating DataFrames\n",
    "\n",
    "Dataframes can be created using `pd.DataFrame()` (note the capital “D” and “F”). Like series, index and column labels of dataframes are labelled starting from 0 by default. Note that we are using a _list of lists_ as the data input."
   ]
  },
  {
   "cell_type": "code",
   "execution_count": null,
   "id": "3835a0fe-0e7d-4909-8229-22420c3be256",
   "metadata": {},
   "outputs": [],
   "source": [
    "pd.DataFrame([[1, 2, 3],\n",
    "              [4, 5, 6],\n",
    "              [7, 8, 9]])"
   ]
  },
  {
   "cell_type": "markdown",
   "id": "a0ea9a4c-ce67-4ea4-afa7-e71147aacd60",
   "metadata": {},
   "source": [
    "Add `index` and `column` names."
   ]
  },
  {
   "cell_type": "code",
   "execution_count": null,
   "id": "6f6c3d11-cf76-414c-97b1-073ea716d9b2",
   "metadata": {},
   "outputs": [],
   "source": [
    "pd.DataFrame([[1, 2, 3],\n",
    "              [4, 5, 6],\n",
    "              [7, 8, 9]],\n",
    "             index = [\"R1\", \"R2\", \"R3\"],\n",
    "             columns = [\"C1\", \"C2\", \"C3\"])"
   ]
  },
  {
   "cell_type": "markdown",
   "id": "dd82ddca-26e4-4104-83cb-50dac3e3351a",
   "metadata": {},
   "source": [
    "Use  _dictionary_ as input."
   ]
  },
  {
   "cell_type": "code",
   "execution_count": null,
   "id": "8fa3111d-6d4d-4a17-b1e1-1918386b8fd5",
   "metadata": {},
   "outputs": [],
   "source": [
    "\n",
    "pd.DataFrame(\n",
    "    {\n",
    "        \"C1\": [1, 2, 3],\n",
    "        \"C2\": ['A', 'B', 'C']\n",
    "    } \n",
    "    ,     index=[\"R1\", \"R2\", \"R3\"]\n",
    ")"
   ]
  },
  {
   "cell_type": "markdown",
   "id": "eb26278b-64e7-4ab3-90d3-82cb269f2c7d",
   "metadata": {},
   "source": [
    "#### Slicing and indexing\n",
    "\n",
    "There are several main ways to select data from a DataFrame:\n",
    "\n",
    "- []\n",
    "- .loc[]\n",
    "- .iloc[]\n",
    "- Boolean indexing\n",
    "- .query()"
   ]
  },
  {
   "cell_type": "code",
   "execution_count": null,
   "id": "d423418a-c20d-4079-91d6-9bf38f655572",
   "metadata": {},
   "outputs": [],
   "source": [
    "df = pd.DataFrame(\n",
    "    {\n",
    "        \"Name\": [\"Tom\", \"Mike\", \"Tiffany\"],\n",
    "        \"Language\": [\"Python\", \"Python\", \"R\"],\n",
    "        \"Courses\": [5, 4, 7]\n",
    "    })\n",
    "df"
   ]
  },
  {
   "cell_type": "markdown",
   "id": "1a22f2be-6d2d-4260-9a28-02eeab9c1a4a",
   "metadata": {},
   "source": [
    "**Using `[]`**"
   ]
  },
  {
   "cell_type": "code",
   "execution_count": null,
   "id": "f25911bf-2e98-4c17-acd4-d82b89b0fc1e",
   "metadata": {},
   "outputs": [],
   "source": [
    "df['Name']  # returns a series"
   ]
  },
  {
   "cell_type": "code",
   "execution_count": null,
   "id": "19a556f7-416f-4b01-b848-6a978b8f7ac4",
   "metadata": {},
   "outputs": [],
   "source": [
    "df[['Name']]  # returns a dataframe!"
   ]
  },
  {
   "cell_type": "code",
   "execution_count": null,
   "id": "92a24386-929c-49ae-ab39-c31259befcc6",
   "metadata": {},
   "outputs": [],
   "source": [
    "df[['Name', 'Language']]"
   ]
  },
  {
   "cell_type": "code",
   "execution_count": null,
   "id": "df343b2a-6812-4fa6-a4bc-7da846ade4c4",
   "metadata": {},
   "outputs": [],
   "source": [
    "df[0:1] "
   ]
  },
  {
   "cell_type": "code",
   "execution_count": null,
   "id": "4235e87e-83c3-4454-ad09-d9839949319c",
   "metadata": {},
   "outputs": [],
   "source": [
    "df[:1] "
   ]
  },
  {
   "cell_type": "code",
   "execution_count": null,
   "id": "a0af021f-9e0f-4d38-b6fd-15638f2c6138",
   "metadata": {},
   "outputs": [],
   "source": [
    "df[1:] "
   ]
  },
  {
   "cell_type": "markdown",
   "id": "87d97274-4b40-4ecd-b9ff-def55d8e8853",
   "metadata": {},
   "source": [
    "**Indexing with `.loc` and `.iloc`**\n",
    "\n",
    "Pandas created the methods `.loc[]` and `.iloc[]` as more flexible alternatives for accessing data from a dataframe. Use `df.iloc[]` for _indexing with integers_ and `df.loc[]` for _indexing with labels_."
   ]
  },
  {
   "cell_type": "code",
   "execution_count": null,
   "id": "6750c4e5-e480-49af-ac5c-e44010723ee5",
   "metadata": {},
   "outputs": [],
   "source": [
    "df.iloc[0]  # returns a series"
   ]
  },
  {
   "cell_type": "code",
   "execution_count": null,
   "id": "783dc497-9d76-4f4e-b862-bc50435948f0",
   "metadata": {},
   "outputs": [],
   "source": [
    "df.iloc[0:2]  # slicing returns a dataframe"
   ]
  },
  {
   "cell_type": "code",
   "execution_count": null,
   "id": "e56ef80a-d225-4383-8644-1b7c57ded91c",
   "metadata": {},
   "outputs": [],
   "source": [
    "df.iloc[2, 1]  # returns the indexed object"
   ]
  },
  {
   "cell_type": "code",
   "execution_count": null,
   "id": "50c2f533-84d5-4159-ad75-92dae2bb3677",
   "metadata": {},
   "outputs": [],
   "source": [
    "df"
   ]
  },
  {
   "cell_type": "code",
   "execution_count": null,
   "id": "0904f8ed-8927-44b7-ae39-d18b5f2d87d8",
   "metadata": {},
   "outputs": [],
   "source": [
    "df.iloc[[0, 1], [1, 2]]  # returns a dataframe"
   ]
  },
  {
   "cell_type": "code",
   "execution_count": null,
   "id": "c9cb3dae-48f7-42b4-a811-f64c7f9dd7d3",
   "metadata": {},
   "outputs": [],
   "source": [
    "df.loc[:, 'Name'] # series"
   ]
  },
  {
   "cell_type": "code",
   "execution_count": null,
   "id": "c2eee4b0-83d8-48a6-81a0-7d33a5953599",
   "metadata": {},
   "outputs": [],
   "source": [
    "df.loc[:, ['Name']] # dataframe"
   ]
  },
  {
   "cell_type": "code",
   "execution_count": null,
   "id": "d4edeb50-3e5b-49a6-a274-14b1350bd723",
   "metadata": {},
   "outputs": [],
   "source": [
    "df.loc[:, ['Name','Language', 'Language']]"
   ]
  },
  {
   "cell_type": "code",
   "execution_count": null,
   "id": "3da11246-89e4-4497-aff9-b6a71fe63168",
   "metadata": {},
   "outputs": [],
   "source": [
    "df.loc[[0, 2], ['Language', 'Courses']]"
   ]
  },
  {
   "cell_type": "markdown",
   "id": "ddcc92d5-1cc0-4643-9a38-ae223b6349ac",
   "metadata": {},
   "source": [
    "Get `index` and `column` names"
   ]
  },
  {
   "cell_type": "code",
   "execution_count": null,
   "id": "2b6f6de2-250c-4fd0-bc5e-54c921554e01",
   "metadata": {},
   "outputs": [],
   "source": [
    "df.index"
   ]
  },
  {
   "cell_type": "markdown",
   "id": "23220875-d5f0-4ab6-a1d5-f98322aa6c38",
   "metadata": {},
   "source": [
    "You can also redeine the vaules of the index by overwriting the dataframe's `index` attribute."
   ]
  },
  {
   "cell_type": "code",
   "execution_count": null,
   "id": "e288b913-216b-4202-9c39-980114aa4cea",
   "metadata": {},
   "outputs": [],
   "source": [
    "df.index = [3,4,5]"
   ]
  },
  {
   "cell_type": "code",
   "execution_count": null,
   "id": "59f161c8-01ed-4ea1-ab53-3774e17cbb7c",
   "metadata": {},
   "outputs": [],
   "source": [
    "df"
   ]
  },
  {
   "cell_type": "code",
   "execution_count": null,
   "id": "957d25e0-f01b-4d42-9b68-5a93adf7a345",
   "metadata": {},
   "outputs": [],
   "source": [
    "df.index"
   ]
  },
  {
   "cell_type": "code",
   "execution_count": null,
   "id": "28b2edbf-1a64-4edd-8afe-36e8c143988f",
   "metadata": {},
   "outputs": [],
   "source": [
    "type(df.index)"
   ]
  },
  {
   "cell_type": "code",
   "execution_count": null,
   "id": "01556b52-7eb0-42cb-a37f-66bf260d4523",
   "metadata": {},
   "outputs": [],
   "source": [
    "df.columns"
   ]
  },
  {
   "cell_type": "code",
   "execution_count": null,
   "id": "091991d5-23c4-453a-b4ea-55ab52c9bb59",
   "metadata": {},
   "outputs": [],
   "source": [
    "type(df.columns)"
   ]
  },
  {
   "cell_type": "markdown",
   "id": "b6534796-64d3-4569-b69b-920eaf42e849",
   "metadata": {},
   "source": [
    "**Boolean indexing**"
   ]
  },
  {
   "cell_type": "code",
   "execution_count": null,
   "id": "420700f7-db3a-49aa-81c4-81483654c384",
   "metadata": {},
   "outputs": [],
   "source": [
    "df[df['Courses'] > 5]"
   ]
  },
  {
   "cell_type": "code",
   "execution_count": null,
   "id": "67988760-a081-4954-8770-7bad783f170a",
   "metadata": {},
   "outputs": [],
   "source": [
    "df[(df['Name'] == \"Tom\") & (df.Language == 'Python')]"
   ]
  },
  {
   "cell_type": "code",
   "execution_count": null,
   "id": "0c4b1038-04f8-4d24-9d51-cd6258a7b280",
   "metadata": {},
   "outputs": [],
   "source": [
    "df['Name'] == 'Tom'"
   ]
  },
  {
   "cell_type": "markdown",
   "id": "a9fbe207-55ec-45c3-bc2f-0f4a6e4faae6",
   "metadata": {},
   "source": [
    "**Indexing with `.query()`**"
   ]
  },
  {
   "cell_type": "code",
   "execution_count": null,
   "id": "dfd952f7-927a-46b3-90e7-64926bee8a7f",
   "metadata": {},
   "outputs": [],
   "source": [
    "df.query(\"Courses > 4 & Language == 'Python'\") # note the mixed use of double and single quotes. Why is that? "
   ]
  },
  {
   "cell_type": "markdown",
   "id": "8ad2b552-d6e3-44b7-b690-19cd3346d7a4",
   "metadata": {},
   "source": [
    "Query also allows you to reference variable in the current workspace using the `@` symbol:"
   ]
  },
  {
   "cell_type": "code",
   "execution_count": null,
   "id": "32d8899f-410e-4434-987b-88df1f9fda6e",
   "metadata": {},
   "outputs": [],
   "source": [
    "course_threshold = 4\n",
    "df.query(\"Courses > @course_threshold\")"
   ]
  },
  {
   "cell_type": "markdown",
   "id": "04ad3b17-59e6-4886-a7b5-8ee97bb6e16d",
   "metadata": {},
   "source": [
    "### Reading and inspecting data"
   ]
  },
  {
   "cell_type": "code",
   "execution_count": null,
   "id": "b7ca94b7-f24e-42f3-a660-2366bf64c993",
   "metadata": {},
   "outputs": [],
   "source": [
    "df = pd.read_csv(os.path.join(os.pardir, 'data', 'titanic.csv'))"
   ]
  },
  {
   "cell_type": "code",
   "execution_count": null,
   "id": "3bfa813d-97a1-4e83-931e-62418c9c3799",
   "metadata": {},
   "outputs": [],
   "source": [
    "df.head()"
   ]
  },
  {
   "cell_type": "code",
   "execution_count": null,
   "id": "280a9e15-7bfd-4be9-b214-4cf16f5d7d94",
   "metadata": {},
   "outputs": [],
   "source": [
    "df.tail()"
   ]
  },
  {
   "cell_type": "markdown",
   "id": "8e60361b-a502-44f3-bc0f-cdb5229bc9fe",
   "metadata": {},
   "source": [
    "The `.T` attribute (also available as the transpose() method) helpy you to inspect rows with many columns."
   ]
  },
  {
   "cell_type": "code",
   "execution_count": null,
   "id": "cb4361af-246a-48e0-bae7-f6bcc92f8bdd",
   "metadata": {},
   "outputs": [],
   "source": [
    "# closer look at a few rows\n",
    "df.iloc[0:2].T"
   ]
  },
  {
   "cell_type": "code",
   "execution_count": null,
   "id": "5eb44bb4-8377-43e1-899f-b9ef70f22860",
   "metadata": {},
   "outputs": [],
   "source": [
    "df.info()"
   ]
  },
  {
   "cell_type": "markdown",
   "id": "784be65f-e8f0-413e-a885-2ffa8f10c91c",
   "metadata": {},
   "source": [
    "- Pclass: passenger class\n",
    "- SibSp: number of siblings & spouses aboard\n",
    "- Parch: number of parents & children aboard\n",
    "- Fare: ticket price\n",
    "- Cabin: room id, if any\n",
    "- Embarked: port of departure (Cherbourg, Queenstown, Southampton)"
   ]
  },
  {
   "cell_type": "code",
   "execution_count": null,
   "id": "77dd7d55-b706-4df2-9018-63780688ec9e",
   "metadata": {},
   "outputs": [],
   "source": [
    "df.describe()"
   ]
  },
  {
   "cell_type": "code",
   "execution_count": null,
   "id": "c72e402d-df11-4a25-acc8-c5bea360de6e",
   "metadata": {},
   "outputs": [],
   "source": [
    "df.describe().T"
   ]
  },
  {
   "cell_type": "markdown",
   "id": "ea6c0952-8904-4ff8-a2b5-d584e5b175b6",
   "metadata": {},
   "source": [
    "#### Some simple metrics"
   ]
  },
  {
   "cell_type": "markdown",
   "id": "7a8a32a9-a565-4960-beee-0ebfb583ecfb",
   "metadata": {},
   "source": [
    "There are two ways to access individual columns:\n",
    "```python\n",
    "df['Survived'] # refer it as a column name in brakcets\n",
    "df.Survived # refer it as an attribute of the dataframe\n",
    "```"
   ]
  },
  {
   "cell_type": "code",
   "execution_count": null,
   "id": "434f7f90-25f4-4105-8c02-e4625edccb9d",
   "metadata": {},
   "outputs": [],
   "source": [
    "df.Survived.value_counts()"
   ]
  },
  {
   "cell_type": "code",
   "execution_count": null,
   "id": "d37f42a5-ee8e-4dc2-bd92-98d035412c0b",
   "metadata": {},
   "outputs": [],
   "source": [
    "df.Class.value_counts()"
   ]
  },
  {
   "cell_type": "markdown",
   "id": "2ff8b1ed-cad9-4937-96a2-5c7938339e28",
   "metadata": {},
   "source": [
    "In databases, 'Class' is a *dimension* and 'Survivied' is a *metric*. You can aggregate *metrics* by *dimensions*. In databases these aggregations are done through a `GROUP BY` caluse. `groupby` is also availabel in Pandas."
   ]
  },
  {
   "cell_type": "code",
   "execution_count": null,
   "id": "3918bae2-b1dd-4678-9e50-67c5bacc3105",
   "metadata": {},
   "outputs": [],
   "source": [
    "df.groupby(by = 'Class')['Survived'].mean()"
   ]
  },
  {
   "cell_type": "code",
   "execution_count": null,
   "id": "bfadd29f-41c9-4026-9799-a5fd93d0ad00",
   "metadata": {},
   "outputs": [],
   "source": [
    "df.groupby(by = 'Sex')['Survived'].mean()"
   ]
  },
  {
   "cell_type": "code",
   "execution_count": null,
   "id": "170992c7-969b-49b6-ba78-445eb2557e22",
   "metadata": {},
   "outputs": [],
   "source": [
    "df.groupby(by = ['Class', 'Sex'])['Survived'].mean()"
   ]
  },
  {
   "cell_type": "markdown",
   "id": "39907c77-9acc-4642-bdfb-ab56bf46f719",
   "metadata": {},
   "source": [
    "<br> How can we interpet these `mean` values?"
   ]
  },
  {
   "cell_type": "code",
   "execution_count": null,
   "id": "10d37c37-705d-4a24-a56b-807338c8cb36",
   "metadata": {},
   "outputs": [],
   "source": [
    "df.isna().sum()"
   ]
  },
  {
   "cell_type": "markdown",
   "id": "0f09d3f5-0816-4cb1-8af2-6bb6f322ddc6",
   "metadata": {},
   "source": [
    "Let's assume that where 'Survived' is missing then the person did not survive. We can now replace missing values with zero (did not survive). The `inplace` clause modifies the dataframe *inplace*. It means that Pandas DataFrames are *mutable*"
   ]
  },
  {
   "cell_type": "code",
   "execution_count": null,
   "id": "288855d8-dd39-4a97-834d-a78bf665bb26",
   "metadata": {},
   "outputs": [],
   "source": [
    "df.Survived.fillna(0, inplace = True)"
   ]
  },
  {
   "cell_type": "code",
   "execution_count": null,
   "id": "43a99971-320b-487e-bfb2-7a8b91009f31",
   "metadata": {},
   "outputs": [],
   "source": [
    "df.isna().sum()"
   ]
  },
  {
   "cell_type": "code",
   "execution_count": null,
   "id": "9aff4d16-f121-4ca2-9521-55b0de58cec4",
   "metadata": {},
   "outputs": [],
   "source": [
    "df.groupby(by = ['Class', 'Sex'])['Survived'].mean()"
   ]
  },
  {
   "cell_type": "code",
   "execution_count": null,
   "id": "e21e11d1-6d86-4fd9-9eb4-d932b0543470",
   "metadata": {},
   "outputs": [],
   "source": [
    "df.groupby([\"Pclass\"]).agg({\"Fare\": [np.mean, np.var], \"Age\": np.mean})"
   ]
  },
  {
   "cell_type": "markdown",
   "id": "e66b9430-4567-4efa-a945-58e6a94510c9",
   "metadata": {},
   "source": [
    "You can use `map()` to format the numbers in the dataframe."
   ]
  },
  {
   "cell_type": "code",
   "execution_count": null,
   "id": "45d1a734-684f-4c46-8837-61e8b7939e02",
   "metadata": {},
   "outputs": [],
   "source": [
    "df.groupby([\"Pclass\"]).agg({\"Fare\": [np.mean, np.var], \"Age\": np.mean}).map('{:,.1f}'.format)"
   ]
  },
  {
   "cell_type": "markdown",
   "id": "78636265-b83b-4d16-9e9f-30cb26b2e14d",
   "metadata": {},
   "source": [
    "#### Filtering"
   ]
  },
  {
   "cell_type": "code",
   "execution_count": null,
   "id": "86d6720a-c16b-44e9-b177-f98f4c16b509",
   "metadata": {},
   "outputs": [],
   "source": [
    "df[df.Embarked == 'C'] # embarked is Cherbourg"
   ]
  },
  {
   "cell_type": "code",
   "execution_count": null,
   "id": "226258df-5492-4e63-82e2-f3cdc28b7812",
   "metadata": {},
   "outputs": [],
   "source": [
    "df[(df.Embarked == 'C') & (df.Pclass == 3)]"
   ]
  },
  {
   "cell_type": "markdown",
   "id": "f7bbf6ba-b0c7-4649-a18b-5c20603e2880",
   "metadata": {},
   "source": [
    "### Modifying dataframes"
   ]
  },
  {
   "cell_type": "markdown",
   "id": "2837d314-7617-45c5-9354-fdd44d492114",
   "metadata": {},
   "source": [
    "#### Creating new columns"
   ]
  },
  {
   "cell_type": "code",
   "execution_count": null,
   "id": "46ebfca0-62e4-43e9-be32-640a38c5707c",
   "metadata": {},
   "outputs": [],
   "source": [
    "df['Is_adult'] = df.Age > 18"
   ]
  },
  {
   "cell_type": "code",
   "execution_count": null,
   "id": "3a2bcfe8-8c90-452e-b934-52e034b26ba5",
   "metadata": {},
   "outputs": [],
   "source": [
    "df.iloc[0].T"
   ]
  },
  {
   "cell_type": "code",
   "execution_count": null,
   "id": "f89b515e-756f-4ec1-9967-e2d6f15aa3b4",
   "metadata": {},
   "outputs": [],
   "source": [
    "df.Is_adult.sum()"
   ]
  },
  {
   "cell_type": "code",
   "execution_count": null,
   "id": "031b414d-f100-4405-90e2-d62e54907ff9",
   "metadata": {},
   "outputs": [],
   "source": [
    "def is_english(value):\n",
    "    if 'England' in value:\n",
    "        return 1\n",
    "    else:\n",
    "        return 0"
   ]
  },
  {
   "cell_type": "code",
   "execution_count": null,
   "id": "cc84cb8d-28ef-4c1b-b3c3-0a0f39055665",
   "metadata": {},
   "outputs": [],
   "source": [
    "df['Is_English'] = df.Hometown.apply(is_english) # This will throw an error. Why?"
   ]
  },
  {
   "cell_type": "code",
   "execution_count": null,
   "id": "b1f2340c-a60b-47c9-accc-8708e00e9e2f",
   "metadata": {},
   "outputs": [],
   "source": [
    "df.Hometown.isna().sum()"
   ]
  },
  {
   "cell_type": "code",
   "execution_count": null,
   "id": "b7d85b62-0b93-4b2a-bca6-16a15296d59a",
   "metadata": {},
   "outputs": [],
   "source": [
    "df.Hometown.isna() # it looks like a mask!"
   ]
  },
  {
   "cell_type": "code",
   "execution_count": null,
   "id": "b8ebaaab-7ee0-4845-8a33-55271db9021c",
   "metadata": {},
   "outputs": [],
   "source": [
    "df[df.Hometown.isna()]"
   ]
  },
  {
   "cell_type": "code",
   "execution_count": null,
   "id": "74ddddd7-fd4f-439c-a1e9-d666a061c804",
   "metadata": {},
   "outputs": [],
   "source": [
    "df.loc[557, 'Hometown']"
   ]
  },
  {
   "cell_type": "code",
   "execution_count": null,
   "id": "26c86aac-c46e-4054-aadf-44f78ffd9352",
   "metadata": {},
   "outputs": [],
   "source": [
    "type(df.loc[557, 'Hometown'])"
   ]
  },
  {
   "cell_type": "code",
   "execution_count": null,
   "id": "bd4f2f38-4dac-472b-be41-95006dcd62d0",
   "metadata": {},
   "outputs": [],
   "source": [
    "def is_english(value):\n",
    "    if 'England' in str(value): # NaNs are umbers so we need to cast them into strings to make our function work for each entry\n",
    "        return 1\n",
    "    else:\n",
    "        return 0"
   ]
  },
  {
   "cell_type": "code",
   "execution_count": null,
   "id": "f155c654-c557-4653-be31-d91c95caba1e",
   "metadata": {},
   "outputs": [],
   "source": [
    "df['Is_English'] = df.Hometown.apply(is_english)"
   ]
  },
  {
   "cell_type": "code",
   "execution_count": null,
   "id": "103fde3a-b163-4ee9-be8e-e46368e7587e",
   "metadata": {},
   "outputs": [],
   "source": [
    "df['Is_English'].sum()"
   ]
  },
  {
   "cell_type": "markdown",
   "id": "f0c583e5-2282-4127-9d4b-dbccc4eb2a2a",
   "metadata": {},
   "source": [
    "#### Sorting and resetting indices"
   ]
  },
  {
   "cell_type": "code",
   "execution_count": null,
   "id": "cd4b5d18-6d26-48ea-8b62-715618e4764f",
   "metadata": {},
   "outputs": [],
   "source": [
    "# this operation will be executed 'inplace'\n",
    "df.sort_values(by = 'Age', inplace = True)\n",
    "df.head()"
   ]
  },
  {
   "cell_type": "code",
   "execution_count": null,
   "id": "15a055c8-b907-4b88-a04b-b8672669a3fb",
   "metadata": {},
   "outputs": [],
   "source": [
    "# instead of inplace we can also recreate the dataframe + we can define acending or descending sorting order\n",
    "\n",
    "df = df.sort_values(by = ['Fare', 'Age'], ascending = [False,  True])\n",
    "df.head()"
   ]
  },
  {
   "cell_type": "markdown",
   "id": "e7407f9f-dbee-4395-acf5-4eb60f6eb7e9",
   "metadata": {},
   "source": [
    "Note: Pandas dataframes are *mutable* so many operations can be done *inplace*. *Spark* dataframes, for instance, are immutable, so you need to recreate them every time you modifiy them. "
   ]
  },
  {
   "cell_type": "code",
   "execution_count": null,
   "id": "808d1272-2c9a-4793-8ad3-ce2e33aeb2f1",
   "metadata": {},
   "outputs": [],
   "source": [
    "df.sort_values(by = 'Age', inplace = True)\n",
    "df = df.sort_values(by = 'Age')"
   ]
  },
  {
   "cell_type": "code",
   "execution_count": null,
   "id": "f165fe5a-9b54-4133-b41c-47186c5312a0",
   "metadata": {},
   "outputs": [],
   "source": [
    "df.reset_index(drop = True, inplace = True)\n",
    "df.head()"
   ]
  },
  {
   "cell_type": "code",
   "execution_count": null,
   "id": "17fb1723-f33d-47ce-ba02-b32460cda044",
   "metadata": {},
   "outputs": [],
   "source": [
    "df.tail()"
   ]
  },
  {
   "cell_type": "markdown",
   "id": "57f008f0-2d09-4f28-8711-ef6c4a822507",
   "metadata": {},
   "source": [
    "### Cleaning & modifing tables using Pandas\n",
    "\n",
    "We are cleaning our favourite Vienna hotels table. "
   ]
  },
  {
   "cell_type": "code",
   "execution_count": null,
   "id": "6d810c2f-ba7f-47c8-83f5-4ffe5f7f1f04",
   "metadata": {},
   "outputs": [],
   "source": [
    "df_raw = pd.read_csv(os.path.join(os.pardir, 'data', 'hotelbookingdata-vienna.csv'))"
   ]
  },
  {
   "cell_type": "code",
   "execution_count": null,
   "id": "a5ce54db-d518-4bf4-afd5-aac284fd08ad",
   "metadata": {},
   "outputs": [],
   "source": [
    "df_raw.info()"
   ]
  },
  {
   "cell_type": "code",
   "execution_count": null,
   "id": "5f63e5d5-13b7-4bcb-acfd-95397594591c",
   "metadata": {},
   "outputs": [],
   "source": [
    "df_raw.head().T"
   ]
  },
  {
   "cell_type": "markdown",
   "id": "650249cc-acb1-4c57-8c3d-38f130481799",
   "metadata": {},
   "source": [
    "Getting distance from city center as a float."
   ]
  },
  {
   "cell_type": "code",
   "execution_count": null,
   "id": "0a8e390a-511d-4a4a-a980-667ca61051a1",
   "metadata": {},
   "outputs": [],
   "source": [
    "df_raw.center1distance.iloc[0]"
   ]
  },
  {
   "cell_type": "code",
   "execution_count": null,
   "id": "1591df27-66b2-4878-8f4b-2d944e4ecff7",
   "metadata": {},
   "outputs": [],
   "source": [
    "df_raw.center1distance.iloc[0].split()"
   ]
  },
  {
   "cell_type": "code",
   "execution_count": null,
   "id": "0c41cc37-d31d-43a8-94da-b21397eceded",
   "metadata": {},
   "outputs": [],
   "source": [
    "df_raw.center1distance.iloc[0].split()[0]"
   ]
  },
  {
   "cell_type": "code",
   "execution_count": null,
   "id": "9f41d496-35be-4ef5-af0f-714b2d79d995",
   "metadata": {},
   "outputs": [],
   "source": [
    "float(df_raw.center1distance.iloc[0].split()[0])"
   ]
  },
  {
   "cell_type": "markdown",
   "id": "49846335-0470-4af0-9ba8-cc52fc63b2d1",
   "metadata": {},
   "source": [
    "Putting it all together:"
   ]
  },
  {
   "cell_type": "raw",
   "id": "d2259168-7f90-4144-b861-beda7279eaaa",
   "metadata": {},
   "source": [
    "df_raw[\"distance\"] = df_raw[\"center1distance\"].str.split().apply(lambda x: float(x[0]))"
   ]
  },
  {
   "cell_type": "markdown",
   "id": "342a60e2-37ed-4c1b-aa1a-40f97c3e6198",
   "metadata": {},
   "source": [
    "or:"
   ]
  },
  {
   "cell_type": "code",
   "execution_count": null,
   "id": "89398146-e044-4b46-abaa-9c717ed0c922",
   "metadata": {},
   "outputs": [],
   "source": [
    "df_raw[\"distance\"] = df_raw[\"center1distance\"].apply(lambda x: float(x.split()[0]))"
   ]
  },
  {
   "cell_type": "code",
   "execution_count": null,
   "id": "c6fea207-a66c-4cb8-9a5d-899d425d60a6",
   "metadata": {},
   "outputs": [],
   "source": [
    "df_raw.distance"
   ]
  },
  {
   "cell_type": "code",
   "execution_count": null,
   "id": "df146e20-e84c-4d72-ad1c-62a5f716b89e",
   "metadata": {},
   "outputs": [],
   "source": [
    "df_raw.distance.plot(kind = 'hist', bins = 26, rwidth = 0.9);"
   ]
  },
  {
   "cell_type": "code",
   "execution_count": null,
   "id": "f3daf80e-39db-433b-82ca-9fd4f108542b",
   "metadata": {},
   "outputs": [],
   "source": [
    "df_raw.accommodationtype.iloc[0]"
   ]
  },
  {
   "cell_type": "code",
   "execution_count": null,
   "id": "242254dc-9ed7-4aa2-8eed-f1a51a8095df",
   "metadata": {},
   "outputs": [],
   "source": [
    "df_raw.accommodationtype.iloc[0].split('@')"
   ]
  },
  {
   "cell_type": "code",
   "execution_count": null,
   "id": "26498540-09aa-477b-96fe-6c1981a66acf",
   "metadata": {},
   "outputs": [],
   "source": [
    "df_raw.accommodationtype.iloc[0].split('@')[1]"
   ]
  },
  {
   "cell_type": "code",
   "execution_count": null,
   "id": "c9bdfc32-8511-440d-a170-e1d0e92e3c67",
   "metadata": {},
   "outputs": [],
   "source": [
    "df_raw['accommodation_type'] = df_raw.accommodationtype.apply(lambda x: x.split('@')[1])"
   ]
  },
  {
   "cell_type": "code",
   "execution_count": null,
   "id": "ea3b32c4-1620-45bf-a12b-6be4761cb313",
   "metadata": {},
   "outputs": [],
   "source": [
    "df_raw.accommodation_type.value_counts()"
   ]
  },
  {
   "cell_type": "code",
   "execution_count": null,
   "id": "33d53b79-8d38-40b1-992d-ea2c88d3cc9d",
   "metadata": {},
   "outputs": [],
   "source": [
    "df_raw.guestreviewsrating.isna().sum()"
   ]
  },
  {
   "cell_type": "code",
   "execution_count": null,
   "id": "122895ea-caac-467e-9cf4-cb9d88c3e29d",
   "metadata": {},
   "outputs": [],
   "source": [
    "df_raw.guestreviewsrating.iloc[0]"
   ]
  },
  {
   "cell_type": "code",
   "execution_count": null,
   "id": "18940ff7-d077-4367-a182-021f5358480f",
   "metadata": {},
   "outputs": [],
   "source": [
    "df_raw.guestreviewsrating.iloc[0].split()"
   ]
  },
  {
   "cell_type": "code",
   "execution_count": null,
   "id": "87196071-09b8-4d45-84de-c22b44ca6f53",
   "metadata": {},
   "outputs": [],
   "source": [
    "df_raw.guestreviewsrating.iloc[0].split()[0]"
   ]
  },
  {
   "cell_type": "code",
   "execution_count": null,
   "id": "80ae0519-97ba-4e8b-a532-025fe5fa31be",
   "metadata": {},
   "outputs": [],
   "source": [
    "isinstance(df_raw.guestreviewsrating.iloc[0].split()[0], str)"
   ]
  },
  {
   "cell_type": "code",
   "execution_count": null,
   "id": "740068e0-a1df-4ae3-95ca-3563fed2505a",
   "metadata": {},
   "outputs": [],
   "source": [
    "float(df_raw.guestreviewsrating.iloc[0].split()[0])"
   ]
  },
  {
   "cell_type": "code",
   "execution_count": null,
   "id": "51fe9a39-901b-47bd-8116-e0f5a5402246",
   "metadata": {},
   "outputs": [],
   "source": [
    "df_raw.guestreviewsrating.value_counts()"
   ]
  },
  {
   "cell_type": "code",
   "execution_count": null,
   "id": "a5ceb20e-35b5-4d99-9928-b1c17a7a9e05",
   "metadata": {},
   "outputs": [],
   "source": [
    "df_raw['rating'] = df_raw.guestreviewsrating.apply(lambda x: float(x.split()[0]) if isinstance(x, str) else None)"
   ]
  },
  {
   "cell_type": "code",
   "execution_count": null,
   "id": "09a6615a-d212-448f-8e4e-e7be7451bc1b",
   "metadata": {},
   "outputs": [],
   "source": [
    "# Check results\n",
    "df_raw.rating.value_counts()"
   ]
  },
  {
   "cell_type": "code",
   "execution_count": null,
   "id": "f268fa46-07bd-470e-96bf-b0bf260b2469",
   "metadata": {},
   "outputs": [],
   "source": [
    "df_raw.rating.isna().sum()"
   ]
  },
  {
   "cell_type": "markdown",
   "id": "cdb454d9-c87f-4192-803e-9007cc1d8c1c",
   "metadata": {},
   "source": [
    "Rename columns"
   ]
  },
  {
   "cell_type": "code",
   "execution_count": null,
   "id": "f9e101d9-39fc-4b32-9de6-78f1a5e5500a",
   "metadata": {},
   "outputs": [],
   "source": [
    "df_raw.rename(\n",
    "    columns = {\n",
    "        \"rating2_ta\": \"ratingta\",\n",
    "        \"rating2_ta_reviewcount\": \"ratingta_count\",\n",
    "        \"addresscountryname\": \"country\",\n",
    "        \"s_city\": \"city\",\n",
    "        \"starrating\": \"stars\",\n",
    "    }, \n",
    "    inplace = True\n",
    ")"
   ]
  },
  {
   "cell_type": "code",
   "execution_count": null,
   "id": "c3649334-dd10-44b7-8b97-6d52b4a04300",
   "metadata": {},
   "outputs": [],
   "source": [
    "df_raw.head()"
   ]
  },
  {
   "cell_type": "code",
   "execution_count": null,
   "id": "7984f68e-e68d-42e8-b9e4-75e96cddf29e",
   "metadata": {},
   "outputs": [],
   "source": [
    "df_raw[['hotel_id', 'neighbourhood',  'distance', 'stars', 'rating', 'ratingta_count', 'accommodation_type',\n",
    "       'price', 'city']]   "
   ]
  },
  {
   "cell_type": "raw",
   "id": "38aa2049-0116-4a38-9d83-b03bccf27ebe",
   "metadata": {},
   "source": [
    "df_raw[['hotel_id', 'neighbourhood',  'distance', 'stars', 'rating', \n",
    "        'ratingta_count', 'accommodation_type', 'price', 'city']].to_csv('hotels_vienna_clean.csv')"
   ]
  },
  {
   "cell_type": "code",
   "execution_count": null,
   "id": "905b2ac6-c270-4be2-95c7-b16416bbbee6",
   "metadata": {},
   "outputs": [],
   "source": []
  }
 ],
 "metadata": {
  "kernelspec": {
   "display_name": "Python 3 (ipykernel)",
   "language": "python",
   "name": "python3"
  },
  "language_info": {
   "codemirror_mode": {
    "name": "ipython",
    "version": 3
   },
   "file_extension": ".py",
   "mimetype": "text/x-python",
   "name": "python",
   "nbconvert_exporter": "python",
   "pygments_lexer": "ipython3",
   "version": "3.12.4"
  }
 },
 "nbformat": 4,
 "nbformat_minor": 5
}
