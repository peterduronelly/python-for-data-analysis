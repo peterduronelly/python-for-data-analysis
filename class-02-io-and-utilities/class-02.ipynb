{
 "cells": [
  {
   "cell_type": "markdown",
   "id": "6c8cce6d-8340-4bc2-9382-be857ec257e7",
   "metadata": {},
   "source": [
    "# <center>Class 2</center>"
   ]
  },
  {
   "cell_type": "markdown",
   "id": "da5bfe28-8625-43d9-b51e-0cc36c3ddb05",
   "metadata": {},
   "source": [
    "## Navigating The File System"
   ]
  },
  {
   "cell_type": "code",
   "execution_count": null,
   "id": "f8507648-eac7-459e-ba63-89661661c770",
   "metadata": {},
   "outputs": [],
   "source": [
    "import os"
   ]
  },
  {
   "cell_type": "code",
   "execution_count": null,
   "id": "0e1defa1-0f39-4dcc-9c3a-bae0827c8895",
   "metadata": {},
   "outputs": [],
   "source": [
    "os.getcwd()"
   ]
  },
  {
   "cell_type": "markdown",
   "id": "5a1d4c3c-e785-4c3f-9dfe-f3bad08274e6",
   "metadata": {},
   "source": [
    "Create a path in an OS-compatibe format. (Mac & Linux use slashes, Windows uses backslashes as a separator in path notations.)"
   ]
  },
  {
   "cell_type": "code",
   "execution_count": null,
   "id": "02975e98-8b2a-4f8c-ae09-27cd714d85b8",
   "metadata": {},
   "outputs": [],
   "source": [
    "directory = 'my_folder'\n",
    "subdirectory = 'sub_folder'\n",
    "filename = 'file.txt'\n",
    "\n",
    "full_path = os.path.join(directory, subdirectory, filename)\n",
    "\n",
    "full_path"
   ]
  },
  {
   "cell_type": "markdown",
   "id": "a9c9f732-e372-4de9-a6d1-069173937e12",
   "metadata": {},
   "source": [
    "**For Windows users**: note that the `print()` method escapes the double backslashes."
   ]
  },
  {
   "cell_type": "code",
   "execution_count": null,
   "id": "f9c81282-16ac-445f-878c-c884f9ba4584",
   "metadata": {},
   "outputs": [],
   "source": [
    "print(full_path)"
   ]
  },
  {
   "cell_type": "markdown",
   "id": "3059739a-9c79-4671-8cfc-c087e582d0f1",
   "metadata": {},
   "source": [
    "Create and change directories, list directory contents. "
   ]
  },
  {
   "cell_type": "code",
   "execution_count": null,
   "id": "c1c76e45-f746-434c-ba9e-35abffa52827",
   "metadata": {},
   "outputs": [],
   "source": [
    "os.mkdir('data')"
   ]
  },
  {
   "cell_type": "code",
   "execution_count": null,
   "id": "fdf81876-6899-4648-a0d4-b229b0af9a52",
   "metadata": {},
   "outputs": [],
   "source": [
    "os.chdir('data')"
   ]
  },
  {
   "cell_type": "code",
   "execution_count": null,
   "id": "3888f332-fc30-437d-879f-3a28173b7057",
   "metadata": {},
   "outputs": [],
   "source": [
    "os.getcwd()"
   ]
  },
  {
   "cell_type": "code",
   "execution_count": null,
   "id": "8c321200-283f-40f0-90fc-b8d432749a8c",
   "metadata": {},
   "outputs": [],
   "source": [
    "os.pardir"
   ]
  },
  {
   "cell_type": "code",
   "execution_count": null,
   "id": "ca07e382-521d-4db3-bf6a-e4a597febb50",
   "metadata": {},
   "outputs": [],
   "source": [
    "os.chdir(os.pardir)"
   ]
  },
  {
   "cell_type": "code",
   "execution_count": null,
   "id": "1c5dbb3e-62ef-4507-a316-ff20fe231d04",
   "metadata": {},
   "outputs": [],
   "source": [
    "os.getcwd()"
   ]
  },
  {
   "cell_type": "code",
   "execution_count": null,
   "id": "9ab7f0d1-55f5-4f19-8840-acb0240c7434",
   "metadata": {},
   "outputs": [],
   "source": [
    "os.listdir()"
   ]
  },
  {
   "cell_type": "markdown",
   "id": "c1c386c8-c1d2-445e-ba5b-4a508788b392",
   "metadata": {},
   "source": [
    "Remove directories."
   ]
  },
  {
   "cell_type": "code",
   "execution_count": null,
   "id": "28a1d0d9-891a-4fd1-9757-b157e0cbe0b5",
   "metadata": {},
   "outputs": [],
   "source": [
    "os.rmdir('data')"
   ]
  },
  {
   "cell_type": "code",
   "execution_count": null,
   "id": "f106d83a-8847-4a15-9206-2df580b18de8",
   "metadata": {},
   "outputs": [],
   "source": [
    "os.listdir()"
   ]
  },
  {
   "cell_type": "markdown",
   "id": "f903ef48-eaa2-4f59-b750-b0b7a117fd90",
   "metadata": {},
   "source": [
    "## To Do"
   ]
  },
  {
   "cell_type": "markdown",
   "id": "dc2229ea-382a-4bd5-82e7-21ec24ef61f8",
   "metadata": {},
   "source": [
    "List all files with a *'txt'* extension in the `data` directory in this repo. Hint: use list comprehension. "
   ]
  },
  {
   "cell_type": "code",
   "execution_count": null,
   "id": "b42940c0-777d-404f-ba4e-925e460a48cb",
   "metadata": {},
   "outputs": [],
   "source": [
    "# To navigate to the `data` directory from the current directory\n",
    "os.path.join(os.pardir, 'data')"
   ]
  },
  {
   "cell_type": "code",
   "execution_count": null,
   "id": "b4576c7c-2d96-4e9d-82a2-49f5ec1a9812",
   "metadata": {},
   "outputs": [],
   "source": [
    "[x for x in os.listdir(os.path.join(os.pardir, 'data')) if '.txt' in x]"
   ]
  },
  {
   "cell_type": "markdown",
   "id": "efb5640c-2156-4889-b09a-ed7342701fb4",
   "metadata": {},
   "source": [
    "<br> \n",
    "\n",
    "## I/O: Reading from and writing to files"
   ]
  },
  {
   "cell_type": "markdown",
   "id": "59e5b608-8f33-44b7-9ba1-587e0ae1253b",
   "metadata": {},
   "source": [
    "### Reading"
   ]
  },
  {
   "cell_type": "markdown",
   "id": "d0fc0c4b-4f8a-4545-98e5-0ec796170aad",
   "metadata": {},
   "source": [
    "First you need to **open** the file. "
   ]
  },
  {
   "cell_type": "code",
   "execution_count": null,
   "id": "3b9b6765-0e9a-4e2f-b700-31cfe4685fba",
   "metadata": {},
   "outputs": [],
   "source": [
    "datadir = os.path.join(os.pardir, 'data')"
   ]
  },
  {
   "cell_type": "code",
   "execution_count": null,
   "id": "bfa2fea6-a3cb-415f-aa3b-dcfed649d835",
   "metadata": {},
   "outputs": [],
   "source": [
    "file = os.path.join(datadir, 'example.txt')"
   ]
  },
  {
   "cell_type": "code",
   "execution_count": null,
   "id": "7eadbbc3-9972-48c0-b90a-d1a64af116c8",
   "metadata": {},
   "outputs": [],
   "source": [
    "f = open(file)\n",
    "print(f)"
   ]
  },
  {
   "cell_type": "code",
   "execution_count": null,
   "id": "24e05b1c-b2d6-4206-b291-a8df2a65b24a",
   "metadata": {},
   "outputs": [],
   "source": [
    "f.read()"
   ]
  },
  {
   "cell_type": "code",
   "execution_count": null,
   "id": "4b0a8878-fee7-4a55-90a6-9fc4e68e86f5",
   "metadata": {},
   "outputs": [],
   "source": [
    "f.close()"
   ]
  },
  {
   "cell_type": "markdown",
   "id": "fc92b355-bd9d-4792-a49e-fffff2b31ef4",
   "metadata": {},
   "source": [
    "Let's fix the encoding issues..."
   ]
  },
  {
   "cell_type": "markdown",
   "id": "ab4daf3b-6239-4c0c-ad75-0272d0d7ed0e",
   "metadata": {},
   "source": [
    "You can also add **encoding information** to the `open()` method. You need to know these endocings:\n",
    "- **'utf-8'**: The most common encoding designed for backward compatibility with ASCII. UTF-8 is by far the most common encoding for the World Wide Web, accounting for over 97% of all web pages, and up to 100% for some languages, as of 2021.\n",
    "- **'cp1250'** or **'Windows-1250'**: It is used under Microsoft Windows to represent texts in Central European and Eastern European languages that use Latin script, such as Polish, Czech, Slovak, Hungarian, Slovene, Serbo-Croatian (Latin script), Romanian (before 1993 spelling reform) and Albanian. It may also be used with the German language; German-language texts encoded with Windows-1250 and Windows-1252 are identical.\n",
    "- **'iso8859_2'**:  part of the ISO/IEC 8859 series of ASCII-based standard character encodings, first edition published in 1987. It is informally referred to as \"Latin-2\". It is generally intended for Central[1] or \"Eastern European\" languages that are written in the Latin script.\n",
    "\n",
    "You can read about the encoding 'codecs' [here](https://docs.python.org/3/library/codecs.html)."
   ]
  },
  {
   "cell_type": "code",
   "execution_count": null,
   "id": "934ca496-4473-4bee-a05d-a2f529577f38",
   "metadata": {},
   "outputs": [],
   "source": [
    "f = open(file, encoding=\"utf-8\")\n",
    "f.read()"
   ]
  },
  {
   "cell_type": "markdown",
   "id": "7a056728-f529-413c-9d11-6695c5c43de2",
   "metadata": {},
   "source": [
    "You also need to **close** the file, otherwise your program will not allow other programs to access it. "
   ]
  },
  {
   "cell_type": "code",
   "execution_count": null,
   "id": "e103e09f-a5bb-4777-909d-8b8ca85b8afc",
   "metadata": {},
   "outputs": [],
   "source": [
    "f.close()"
   ]
  },
  {
   "cell_type": "code",
   "execution_count": null,
   "id": "41d1a58b-00cd-45da-bb88-4b8d609c52a4",
   "metadata": {},
   "outputs": [],
   "source": [
    "file = os.path.join(datadir, 'ilikeapples.txt')"
   ]
  },
  {
   "cell_type": "code",
   "execution_count": null,
   "id": "267d34db-fded-4a67-9668-f6c078ca3260",
   "metadata": {},
   "outputs": [],
   "source": [
    "f = open(file, encoding=\"utf-8\")\n",
    "\n",
    "f.readline() # This command only reads one line"
   ]
  },
  {
   "cell_type": "code",
   "execution_count": null,
   "id": "b1b49603-9751-4ee0-ae06-fa0ff44526b2",
   "metadata": {},
   "outputs": [],
   "source": [
    "f.readline()"
   ]
  },
  {
   "cell_type": "code",
   "execution_count": null,
   "id": "fbc5d695-ce1e-4e75-8c53-11399b88b361",
   "metadata": {},
   "outputs": [],
   "source": [
    "f.close()"
   ]
  },
  {
   "cell_type": "code",
   "execution_count": null,
   "id": "f0366b16-d20f-404e-870c-c09fdf6683df",
   "metadata": {},
   "outputs": [],
   "source": [
    "# Now try this:\n",
    "f.read()"
   ]
  },
  {
   "cell_type": "markdown",
   "id": "7614ada3-5caf-4e3b-ac93-8aaf6e48f047",
   "metadata": {},
   "source": [
    "The best way to close a file is by using the `with` statement. This ensures that the file is closed when the block inside the with statement is exited. We don't need to explicitly call the `close()` method. It is done internally."
   ]
  },
  {
   "cell_type": "code",
   "execution_count": null,
   "id": "6a515bc7-b26c-4167-9f3a-1664bdd4dff7",
   "metadata": {},
   "outputs": [],
   "source": [
    "with open(file, encoding=\"utf-8\") as f:\n",
    "    for line in f:                # remember to indent! \n",
    "        print(line)"
   ]
  },
  {
   "cell_type": "markdown",
   "id": "6b8f4719-56a2-4418-8b39-96c7bde5e17c",
   "metadata": {},
   "source": [
    "There are four ways to open a file:\n",
    "- \"r\" - Read - Default value. Opens a file for reading, error if the file does not exist\n",
    "- \"a\" - Append - Opens a file for appending, creates the file if it does not exist\n",
    "- \"w\" - Write - Opens a file for writing, creates the file if it does not exist\n",
    "- \"x\" - Create - Creates the specified file, returns an error if the file exists"
   ]
  },
  {
   "cell_type": "code",
   "execution_count": null,
   "id": "4047963a-0fd7-4fa7-be81-0ce4757e420a",
   "metadata": {},
   "outputs": [],
   "source": [
    "file = os.path.join(datadir, 'fruits.txt')"
   ]
  },
  {
   "cell_type": "code",
   "execution_count": null,
   "id": "e7570125-0e4f-4932-97f1-9909d0015672",
   "metadata": {},
   "outputs": [],
   "source": [
    "dc_fruits=dict()\n",
    "f = open(file)\n",
    "f.readline() # This reads only one line, the first one with X and Y. We are often not interested in the headline of a file\n",
    "\n",
    "for line in f:\n",
    "    mykey, myvalue=line.strip().split('\\t') # strip() removes whitespace\n",
    "    dc_fruits[mykey]=myvalue\n",
    "\n",
    "f.close() # Remember to close your file!!\n",
    "\n",
    "print(dc_fruits)"
   ]
  },
  {
   "cell_type": "markdown",
   "id": "f1b6d3ab-36fb-496a-8e29-90527340ee37",
   "metadata": {},
   "source": [
    "### Writing"
   ]
  },
  {
   "cell_type": "code",
   "execution_count": null,
   "id": "6c314cd9-2157-442e-bb32-574787c4e542",
   "metadata": {},
   "outputs": [],
   "source": [
    "write_text = open(os.path.join(datadir, 'message.txt'), 'w')"
   ]
  },
  {
   "cell_type": "code",
   "execution_count": null,
   "id": "7a194307-f332-4a55-a792-2d743ac3384e",
   "metadata": {},
   "outputs": [],
   "source": [
    "write_text.write('Hello Monthy! \\nThis is my second Python class!')"
   ]
  },
  {
   "cell_type": "code",
   "execution_count": null,
   "id": "788a26f4-f1a2-4d62-b57d-0efad6493b6c",
   "metadata": {},
   "outputs": [],
   "source": [
    "write_text.close()"
   ]
  },
  {
   "cell_type": "code",
   "execution_count": null,
   "id": "df100441-2a73-4805-b482-4572a2c464a0",
   "metadata": {},
   "outputs": [],
   "source": [
    "with open('message.txt', mode = 'r', encoding='utf-8') as f:\n",
    "    for line in f:\n",
    "        print(line)"
   ]
  },
  {
   "cell_type": "code",
   "execution_count": null,
   "id": "c34cfbd9",
   "metadata": {},
   "outputs": [],
   "source": [
    "with open(os.path.join(datadir, 'message.txt'), mode = 'a', encoding='utf-8') as f:\n",
    "    f.write('I hope you are enjoying Python!')"
   ]
  },
  {
   "cell_type": "code",
   "execution_count": null,
   "id": "d5dab48b",
   "metadata": {},
   "outputs": [],
   "source": [
    "with open(os.path.join(datadir, 'message.txt'), mode = 'r', encoding='utf-8') as f:\n",
    "    for line in f:\n",
    "        print(line)"
   ]
  },
  {
   "cell_type": "markdown",
   "id": "0c4c929e-65a2-4edf-bcd7-e1e9b9e150eb",
   "metadata": {},
   "source": [
    "Question: How do you make sure that your entry is appended at a new line?"
   ]
  },
  {
   "cell_type": "markdown",
   "id": "3104936a-fbac-4df0-a06e-9623a88b94e6",
   "metadata": {},
   "source": [
    "## Datetime"
   ]
  },
  {
   "cell_type": "markdown",
   "id": "05a09e1e-c071-444b-97e3-5a90ba738d8a",
   "metadata": {},
   "source": [
    "Date is not a datatype in Python, but the `datetime` module provides access to date and time functionalities. "
   ]
  },
  {
   "cell_type": "code",
   "execution_count": null,
   "id": "a5f73055-b1f7-462d-aa90-b36b4314b6b7",
   "metadata": {},
   "outputs": [],
   "source": [
    "import datetime"
   ]
  },
  {
   "cell_type": "code",
   "execution_count": null,
   "id": "d505b65c-1832-45bd-8c22-7662334dd5aa",
   "metadata": {
    "tags": []
   },
   "outputs": [],
   "source": [
    "D1 = datetime.date(2024, 9, 1)\n",
    "T1 = datetime.time(12,0,0) # noon\n",
    "DT = datetime.datetime(2024, 9, 1, 12, 15, 0)\n",
    "\n",
    "# Typically you want to work with datetime because you can\n",
    "# omit the time values and then it defaults to midnight.\n",
    "D = datetime.datetime(2024,9, 1)"
   ]
  },
  {
   "cell_type": "code",
   "execution_count": null,
   "id": "e4f17c9e-89c2-48ba-aa88-53eb846b3439",
   "metadata": {},
   "outputs": [],
   "source": [
    "print('D1:', D1)\n",
    "print('T1:', T1)\n",
    "print('DT:', DT)\n",
    "print('D:', D)"
   ]
  },
  {
   "cell_type": "markdown",
   "id": "7213f861-6e2c-4eed-8cf5-eabc6513da5e",
   "metadata": {},
   "source": [
    "Once you have a `datetime` object you can do fancy things with it:"
   ]
  },
  {
   "cell_type": "code",
   "execution_count": null,
   "id": "f071d078-f5b8-4462-8023-92eacd8c9c8b",
   "metadata": {},
   "outputs": [],
   "source": [
    "print(\"The year was %d and the day is %d.\" % (D.year, D.day))\n",
    "\n",
    "print (f\"The day of the week was {D.weekday()}.\")\n",
    "print (\"(Monday = 0, ..., Sunday = 6.)\")"
   ]
  },
  {
   "cell_type": "code",
   "execution_count": null,
   "id": "81a0ca64-e3bd-494d-9fc2-9045fbb986ee",
   "metadata": {},
   "outputs": [],
   "source": [
    "D.utctimetuple()"
   ]
  },
  {
   "cell_type": "code",
   "execution_count": null,
   "id": "32f6b5d3-7575-400e-b1de-497571e264a6",
   "metadata": {},
   "outputs": [],
   "source": [
    "utct = DT.utctimetuple()"
   ]
  },
  {
   "cell_type": "code",
   "execution_count": null,
   "id": "beb52b17-77e3-4fb1-a48c-f12f831694f2",
   "metadata": {},
   "outputs": [],
   "source": [
    "utct.tm_yday"
   ]
  },
  {
   "cell_type": "code",
   "execution_count": null,
   "id": "0bbf43c5-a734-497d-99fd-302766fbe92a",
   "metadata": {},
   "outputs": [],
   "source": [
    "utct.tm_min"
   ]
  },
  {
   "cell_type": "code",
   "execution_count": null,
   "id": "d16307db-51eb-46f5-a8b0-76f1f7b65381",
   "metadata": {},
   "outputs": [],
   "source": [
    "Dnow = datetime.datetime.now()\n",
    "print(Dnow)"
   ]
  },
  {
   "cell_type": "markdown",
   "id": "b6e498db-ef5b-4240-a1bf-006eb5333c9b",
   "metadata": {},
   "source": [
    "We can format the time using for example `strftime()` (all information about the format [ here](https://docs.python.org/2/library/datetime.html#strftime-strptime-behavior)):"
   ]
  },
  {
   "cell_type": "code",
   "execution_count": null,
   "id": "5a21992c-8673-4697-8796-0700c59268f7",
   "metadata": {},
   "outputs": [],
   "source": [
    "# 'strftime' stands for 'string from time'\n",
    "Dnow.strftime(\"Date: %Y-%m-%d time: %H:%M\") "
   ]
  },
  {
   "cell_type": "code",
   "execution_count": null,
   "id": "1baa9fe4-dd3d-46e3-b2eb-f92b805291ca",
   "metadata": {},
   "outputs": [],
   "source": [
    "Dnow.strftime(\"%Y-%m-%d %H:%M:%S\") "
   ]
  },
  {
   "cell_type": "markdown",
   "id": "aa386bc2-c800-4895-9ab6-182f0791e077",
   "metadata": {},
   "source": [
    "Math operations make sense with datatime objects."
   ]
  },
  {
   "cell_type": "code",
   "execution_count": null,
   "id": "27b31c21-d3b1-4d4f-b782-ecb1d0984ad6",
   "metadata": {},
   "outputs": [],
   "source": [
    "dt = Dnow - D\n",
    "print(type(dt))\n",
    "print(\"There are {:,.0f} days between then and now.\".format(dt.days))"
   ]
  },
  {
   "cell_type": "markdown",
   "id": "b27814f6-3ceb-4064-9577-899fd8735d49",
   "metadata": {},
   "source": [
    "`timedelta` encodes time intervals. This allow us to do more operations:"
   ]
  },
  {
   "cell_type": "code",
   "execution_count": null,
   "id": "1d844af6-d939-403e-823c-b8910eaaee76",
   "metadata": {},
   "outputs": [],
   "source": [
    "interval = datetime.timedelta(days=100,hours=12) # 100.5 days\n",
    "\n",
    "soon = datetime.datetime.now() + interval # addition!\n",
    "\n",
    "interval_days =interval.days #if you want also the .5, need to hack a bit and do interval.total_seconds()/3600.0/24\n",
    "\n",
    "print (\"In %0.1f days it will be %s.\" % (interval_days, soon))\n"
   ]
  },
  {
   "cell_type": "code",
   "execution_count": null,
   "id": "822dd352-898a-4784-be4e-0c364c127e60",
   "metadata": {
    "tags": []
   },
   "outputs": [],
   "source": [
    "ts1 = \"2024-09-18\"\n",
    "ts2 = \"March 31, 1971\""
   ]
  },
  {
   "cell_type": "markdown",
   "id": "2e590731-04f9-446f-9779-4cf06a2f7a2f",
   "metadata": {},
   "source": [
    "We can now use a function to parse a string for a time given a string representing a time format. This uses a function called `strptime` (read it as **str**ing **p**arse **time**). \n",
    "\n",
    "Here we go."
   ]
  },
  {
   "cell_type": "code",
   "execution_count": null,
   "id": "c934fd97-28dd-4212-b51d-2fa696ca3da2",
   "metadata": {},
   "outputs": [],
   "source": [
    "d1 = datetime.datetime.strptime( ts1, \"%Y-%m-%d\" )\n",
    "print(d1)\n",
    "print(d1 + datetime.timedelta(days=-7))"
   ]
  },
  {
   "cell_type": "markdown",
   "id": "1ac36c1b-8b4b-4a50-8edb-fa89695e56d3",
   "metadata": {},
   "source": [
    "The string `\"%Y-%m-%d\"` encodes the timestamp format we were looking for. A four-digit year (`%Y`), a dash (`-`), a two-digit month number (`%m`), another dash, and then a day number (`%d`).\n",
    "\n",
    "Now ts2 incorporates the name of a month, so that format string is a little different (`%B` means the full month name)."
   ]
  },
  {
   "cell_type": "code",
   "execution_count": null,
   "id": "6ab61de0-ef0e-4692-b99b-59a6adf1bf95",
   "metadata": {},
   "outputs": [],
   "source": [
    "d2 = datetime.datetime.strptime( ts2, \"%B %d, %Y\" )\n",
    "print(d2)\n",
    "print(d2 + datetime.timedelta(days=-7))"
   ]
  },
  {
   "cell_type": "markdown",
   "id": "5242508f-2ab4-4fa8-a8c9-4a4d2b367490",
   "metadata": {},
   "source": [
    "There's a huge number of ways to build a format string. Best is to look up the documentation: http://docs.python.org/2/library/datetime.html#strftime-strptime-behavior\n",
    "\n",
    "Parallel to strptime is another function, `strftime` (string format time) that does the opposite: it takes a `date` or `datetime` and returns a timestamp format string."
   ]
  },
  {
   "cell_type": "code",
   "execution_count": null,
   "id": "b68c2147-49d0-4316-910f-7f57aa60bcf7",
   "metadata": {},
   "outputs": [],
   "source": [
    "s_original = \"Jun 1, '13\"\n",
    "d = datetime.datetime.strptime(s_original, \"%b %d, '%y\") # taking the time in a specific format as input\n",
    "s_formatted  = d.strftime(\"%Y-%m-%d\") # writing the time in another format\n",
    "print (s_original, \"--->\", s_formatted)"
   ]
  },
  {
   "cell_type": "markdown",
   "id": "2e8251ed-b05f-42f4-883d-dc6012ebbad3",
   "metadata": {},
   "source": [
    "Datetime is extremely useful, because different data sources encode times in different ways. Some formats are easy for humans to read, but I like the standard `%Y-%m-%d %H:%M:%S` UNIX-style timestamp because it _sorts nicely_."
   ]
  },
  {
   "cell_type": "markdown",
   "id": "bd917e47-9906-452c-bf7f-ce7f61ba3b93",
   "metadata": {},
   "source": [
    "### Wrangling with timezones"
   ]
  },
  {
   "cell_type": "code",
   "execution_count": null,
   "id": "62b03178-1ecb-42f6-afbd-12718764daa6",
   "metadata": {},
   "outputs": [],
   "source": [
    "D = datetime.datetime(2021,9,28,1,0,15)\n",
    "D"
   ]
  },
  {
   "cell_type": "markdown",
   "id": "95d364d9-fb7f-4444-add8-5f0761e37e92",
   "metadata": {},
   "source": [
    "Date and time objects may be categorized as “**aware**” or “**naive**” depending on whether or not they include timezone information. Our **D** variable is *naive*. "
   ]
  },
  {
   "cell_type": "code",
   "execution_count": null,
   "id": "31ddbaa2-0c07-4b4e-af95-93f9c70cf891",
   "metadata": {},
   "outputs": [],
   "source": [
    "print(D.tzinfo)"
   ]
  },
  {
   "cell_type": "code",
   "execution_count": null,
   "id": "28a90401-f029-4537-a101-ffe23e118bbe",
   "metadata": {},
   "outputs": [],
   "source": [
    "# Python timezone module\n",
    "import pytz"
   ]
  },
  {
   "cell_type": "markdown",
   "id": "62d6a568-437f-4ecf-871d-8aceaa7294cd",
   "metadata": {},
   "source": [
    "**D_W** will be *aware*. "
   ]
  },
  {
   "cell_type": "code",
   "execution_count": null,
   "id": "e5abfa08-0128-4ecb-884a-e30c62a7ba1c",
   "metadata": {},
   "outputs": [],
   "source": [
    "D_W = D.astimezone(pytz.timezone(\"Europe/Vienna\"))"
   ]
  },
  {
   "cell_type": "code",
   "execution_count": null,
   "id": "db606cb6-f7d1-48e8-8455-8ddf939696ff",
   "metadata": {},
   "outputs": [],
   "source": [
    "print(D_W.tzinfo)"
   ]
  },
  {
   "cell_type": "code",
   "execution_count": null,
   "id": "9e1d0267-9387-4f81-a386-7f0676c106bc",
   "metadata": {},
   "outputs": [],
   "source": [
    "D_W.hour"
   ]
  },
  {
   "cell_type": "markdown",
   "id": "519b2f01-03dc-477d-8c42-ed188b8e93a6",
   "metadata": {},
   "source": [
    "Convert to other timezones."
   ]
  },
  {
   "cell_type": "code",
   "execution_count": null,
   "id": "6d74aa6b-59cc-4df9-84f0-8ffa54106360",
   "metadata": {},
   "outputs": [],
   "source": [
    "D_W.astimezone(pytz.timezone(\"Europe/London\"))"
   ]
  },
  {
   "cell_type": "code",
   "execution_count": null,
   "id": "95129b45-ffa2-4f13-ab23-00f59a146b48",
   "metadata": {},
   "outputs": [],
   "source": [
    "D_W.astimezone(pytz.timezone(\"Europe/London\")).hour"
   ]
  },
  {
   "cell_type": "code",
   "execution_count": null,
   "id": "b953df12-467b-47b2-880f-85f041522dc4",
   "metadata": {},
   "outputs": [],
   "source": [
    "D_W.astimezone(pytz.timezone(\"America/Montevideo\"))"
   ]
  },
  {
   "cell_type": "markdown",
   "id": "ef73424b-3662-41c2-84ef-25e8240f4b0b",
   "metadata": {},
   "source": [
    "Everything about datetime is [here](https://docs.python.org/3/library/datetime.html). List of databases time zones [here](https://en.wikipedia.org/wiki/List_of_tz_database_time_zones).  "
   ]
  },
  {
   "cell_type": "markdown",
   "id": "59f1a0ae-bc0e-4b62-b3a0-36755ba8e11b",
   "metadata": {},
   "source": [
    "Note: Time zones are going to be extremely important when working with databases. Interfaces interact with various databases in sometimes unexpected ways regarding time zone conversion and behavior. You ***always*** need to check the consistency of your time fields. "
   ]
  },
  {
   "cell_type": "markdown",
   "id": "255022ad-7abb-4ca9-923c-3c79d3f6b2dc",
   "metadata": {},
   "source": [
    "## Lambda functions"
   ]
  },
  {
   "cell_type": "markdown",
   "id": "125a1fd2-0aca-4b4d-aa4e-2e58b0ad1d17",
   "metadata": {},
   "source": [
    "A lambda function is a small anonymous function. A lambda function can take any number of arguments, but can only have one expression. It is created using the `lambda` keyword."
   ]
  },
  {
   "cell_type": "code",
   "execution_count": null,
   "id": "354d167e-09e1-491a-a319-57b4977cd4a5",
   "metadata": {},
   "outputs": [],
   "source": [
    "square = lambda x: x ** 2"
   ]
  },
  {
   "cell_type": "code",
   "execution_count": null,
   "id": "08a4fd4c-d697-4b92-9dc1-ce06c4ac6abf",
   "metadata": {},
   "outputs": [],
   "source": [
    "square(2)"
   ]
  },
  {
   "cell_type": "markdown",
   "id": "996c6db6-1047-40e7-aadc-ad3f118d6281",
   "metadata": {},
   "source": [
    "We use lambda to simplify our code, to create temporary definitions, which are used only once. The same can be achieved with a normal definiton:"
   ]
  },
  {
   "cell_type": "code",
   "execution_count": null,
   "id": "7146b0e5-4772-4284-8014-83e00ae53c61",
   "metadata": {},
   "outputs": [],
   "source": [
    "def square_def(x): \n",
    "    return x ** 2"
   ]
  },
  {
   "cell_type": "code",
   "execution_count": null,
   "id": "8b9d4c95-7675-48bf-92a7-e521f694577a",
   "metadata": {},
   "outputs": [],
   "source": [
    "square_def(2)"
   ]
  },
  {
   "cell_type": "markdown",
   "id": "da395054-a230-40c1-a6d8-4338682b3199",
   "metadata": {},
   "source": [
    "You can combine lambda functions with list comprehension. "
   ]
  },
  {
   "cell_type": "code",
   "execution_count": null,
   "id": "ae58741d-ae12-4d38-aba7-e257ff31013a",
   "metadata": {},
   "outputs": [],
   "source": [
    "ls_numbers = list(range(10))"
   ]
  },
  {
   "cell_type": "code",
   "execution_count": null,
   "id": "ddab99bc-f5aa-498a-b68c-d8e1adaf763e",
   "metadata": {},
   "outputs": [],
   "source": [
    "ls_numbers"
   ]
  },
  {
   "cell_type": "markdown",
   "id": "42d55e6f-6584-417c-a776-5c2115605a5b",
   "metadata": {},
   "source": [
    "Let's square all the values from the list and add 1 to each element"
   ]
  },
  {
   "cell_type": "code",
   "execution_count": null,
   "id": "ecc43b05-7f20-4427-8a56-bf8794a18009",
   "metadata": {},
   "outputs": [],
   "source": [
    "f = lambda x: x**2 + 1\n",
    "[f(x) for x in ls_numbers]"
   ]
  },
  {
   "cell_type": "markdown",
   "id": "4c8a2bf6-c7fa-43b2-bbe8-07ac9d1d081d",
   "metadata": {},
   "source": [
    "Let's square and add one to each even number in the list"
   ]
  },
  {
   "cell_type": "code",
   "execution_count": null,
   "id": "9311232b-155f-4344-8dc0-f3b92e25df78",
   "metadata": {},
   "outputs": [],
   "source": [
    "[f(x) for x in ls_numbers if x%2 == 0 ]"
   ]
  },
  {
   "cell_type": "markdown",
   "id": "5f913d12-28b9-4968-813b-a681735fe79c",
   "metadata": {},
   "source": [
    "Square and add one to each even number in the list but return the odd numbers without transformation"
   ]
  },
  {
   "cell_type": "code",
   "execution_count": null,
   "id": "6dc88f26-1e74-40a0-9f9c-c71f0a7c6ab7",
   "metadata": {},
   "outputs": [],
   "source": [
    "[f(x) if x%2 == 0 else x for x in ls_numbers]"
   ]
  },
  {
   "cell_type": "markdown",
   "id": "7020b4d9-a93a-4550-a3aa-2ee6e6ed270f",
   "metadata": {},
   "source": [
    "## Exception Handling (Try Except)"
   ]
  },
  {
   "cell_type": "markdown",
   "id": "4c87c84f-77a0-4951-a55e-8b907f0326ab",
   "metadata": {},
   "source": [
    "`Exceptions` handle errors in the code. They let you write contructs so that your program falls back to somewhere else if an error blocks the normal run of your code. "
   ]
  },
  {
   "cell_type": "markdown",
   "id": "562b4bd0-a42f-446d-a88b-e739f9a31420",
   "metadata": {},
   "source": [
    "The `try` block lets you test a block of code for errors. <br>\n",
    "The `except` block lets you handle the error.<br>\n",
    "The `else` block is to be executed if no errors were raised.<br>\n",
    "The `finally` block lets you execute code, regardless of the result of the try- and except blocks.<br>"
   ]
  },
  {
   "cell_type": "code",
   "execution_count": null,
   "id": "06b9f9db-178b-41ca-acc6-5c1c1d151493",
   "metadata": {},
   "outputs": [],
   "source": [
    "try:\n",
    "    print(\"test\")\n",
    "    # generate an error: the variable 'test' is not defined\n",
    "    print(test)\n",
    "except:\n",
    "    print(\"Caught an exception\")"
   ]
  },
  {
   "cell_type": "markdown",
   "id": "b5369ea1-6614-4cc2-8f6c-1b74808f192c",
   "metadata": {},
   "source": [
    "To get information about the error, we can access the `Exception` class instance that describes the exception by using for example:\n",
    "\n",
    "    except Exception as e:"
   ]
  },
  {
   "cell_type": "code",
   "execution_count": null,
   "id": "17ce4c9b-5ff3-47d5-b4f9-24464b35c0a9",
   "metadata": {},
   "outputs": [],
   "source": [
    "try:\n",
    "    print(\"test\")\n",
    "    # generate an error: the variable test is not defined\n",
    "    print(test)\n",
    "except Exception as e:\n",
    "    print(\"The problem with our code is the following: \" + str(e))"
   ]
  },
  {
   "cell_type": "code",
   "execution_count": null,
   "id": "7e3aa2f9-b902-468f-9dd7-22339df1db83",
   "metadata": {},
   "outputs": [],
   "source": [
    "from utils import add_two_numbers"
   ]
  },
  {
   "cell_type": "code",
   "execution_count": null,
   "id": "1a4896d8-0e08-4b2e-8fb1-a94fd2ebef71",
   "metadata": {},
   "outputs": [],
   "source": [
    "add_two_numbers(3, 4)"
   ]
  },
  {
   "cell_type": "code",
   "execution_count": null,
   "id": "cdf8b742-7c4e-47c1-8cef-43c5c18dc517",
   "metadata": {},
   "outputs": [],
   "source": [
    "add_two_numbers(3, 'b')"
   ]
  },
  {
   "cell_type": "code",
   "execution_count": null,
   "id": "ebd193b7-38c5-4f99-9525-12b4a281de37",
   "metadata": {},
   "outputs": [],
   "source": [
    "try:\n",
    "   add_two_numbers(3, 'b')\n",
    "except Exception as e:\n",
    "    print('We ran into this error: ' + str(e))"
   ]
  },
  {
   "cell_type": "markdown",
   "id": "9963d7a6-8948-4f90-99e7-d6e09618b834",
   "metadata": {},
   "source": [
    "And what happens here? "
   ]
  },
  {
   "cell_type": "code",
   "execution_count": null,
   "id": "5f54bc19-ae12-4c7e-a6e6-f812a23c2157",
   "metadata": {},
   "outputs": [],
   "source": [
    "def divide_two_numbers(a, b):\n",
    "    try:\n",
    "        c = a / b\n",
    "    except Exception as e:\n",
    "        print('The division could not be executed:', str(e))\n",
    "    else:\n",
    "        return c"
   ]
  },
  {
   "cell_type": "code",
   "execution_count": null,
   "id": "b7641cd2-d8db-4a95-ac7f-ffbe312dfe3c",
   "metadata": {},
   "outputs": [],
   "source": [
    "try:\n",
    "    divide_two_numbers(3, 'b') # This function already handles the error inside!\n",
    "except Exception as e:\n",
    "    print('We ran into this error: ' + str(e))\n",
    "else:\n",
    "    print('Everything went fine.')"
   ]
  },
  {
   "cell_type": "markdown",
   "id": "9f72e571-c550-48d5-bfe9-bed9b45a082d",
   "metadata": {},
   "source": [
    "Our code above threw an exception *then* printed 'Everything went fine.' Why is that? \n",
    "\n",
    "Our function imported from the utils.py file already handled the error, threw the exception, then closed the function. For this reason our function call did not encounter any errors and exited on the `else` branch. "
   ]
  },
  {
   "cell_type": "markdown",
   "id": "d34b9e64-34cd-4d0d-b262-3eacd06af3f3",
   "metadata": {},
   "source": [
    "You can even raise an exception by code."
   ]
  },
  {
   "cell_type": "code",
   "execution_count": null,
   "id": "d2353f2e-17cc-4802-b022-3f309677c26a",
   "metadata": {},
   "outputs": [],
   "source": [
    "def divide_two_numbers(a, b):\n",
    "    if b == 1:\n",
    "        raise Exception('It makes no sense to divide by 1.')\n",
    "    else:\n",
    "        try:\n",
    "            c = a / b\n",
    "        except Exception as e:\n",
    "            print('The division could not be executed:', str(e))\n",
    "        else:\n",
    "            return c"
   ]
  },
  {
   "cell_type": "code",
   "execution_count": null,
   "id": "6e416562-310e-4554-a5ed-60379b275975",
   "metadata": {},
   "outputs": [],
   "source": [
    "divide_two_numbers(10, 1)"
   ]
  },
  {
   "cell_type": "markdown",
   "id": "9c7b1e9e-92cd-4197-8e15-6b74faee6d01",
   "metadata": {},
   "source": [
    "## Extra: Web-scraping using BeautifulSoup\n",
    "\n",
    "Scraping data from the internet is not integral part of the data analysis course but it is a useful tool nonetheless. This exercise is just a taste of what's possible. \n",
    "\n",
    "We are scraping currency x-rates from the internet."
   ]
  },
  {
   "cell_type": "code",
   "execution_count": null,
   "id": "391af724-0ac5-4427-acdc-7e52fc0da1dd",
   "metadata": {},
   "outputs": [],
   "source": [
    "from bs4 import BeautifulSoup\n",
    "import requests"
   ]
  },
  {
   "cell_type": "code",
   "execution_count": null,
   "id": "61e6c3e0-2a93-4076-a347-0fef9c2470c4",
   "metadata": {},
   "outputs": [],
   "source": [
    "response = requests.get('https://www.investing.com/currencies/streaming-forex-rates-majors')"
   ]
  },
  {
   "cell_type": "code",
   "execution_count": null,
   "id": "4c9d0a12-df57-4481-9b21-78ffb8d7b7f4",
   "metadata": {},
   "outputs": [],
   "source": [
    "content = response.content"
   ]
  },
  {
   "cell_type": "code",
   "execution_count": null,
   "id": "ce64aa51-c2ce-4a70-9e43-415e47cf6781",
   "metadata": {
    "scrolled": true
   },
   "outputs": [],
   "source": [
    "content"
   ]
  },
  {
   "cell_type": "code",
   "execution_count": null,
   "id": "5d15e44d-ca5c-4859-9d80-c3b282a10488",
   "metadata": {
    "scrolled": true
   },
   "outputs": [],
   "source": [
    "soup = BeautifulSoup(content, 'html.parser')"
   ]
  },
  {
   "cell_type": "code",
   "execution_count": null,
   "id": "c813c858-09b0-435f-8f01-39c181987ad2",
   "metadata": {},
   "outputs": [],
   "source": [
    "table = soup.find('table')"
   ]
  },
  {
   "cell_type": "code",
   "execution_count": null,
   "id": "188e9f65-bc8a-46b9-b2d6-06ecbbca1b7a",
   "metadata": {
    "scrolled": true
   },
   "outputs": [],
   "source": [
    "table"
   ]
  },
  {
   "cell_type": "code",
   "execution_count": null,
   "id": "474eb576-fa63-4513-a94e-cee92225a7fe",
   "metadata": {},
   "outputs": [],
   "source": [
    "type(table)"
   ]
  },
  {
   "cell_type": "code",
   "execution_count": null,
   "id": "789ab3f3-653f-4735-a829-7927bd02c189",
   "metadata": {},
   "outputs": [],
   "source": [
    "# find the headers\n",
    "\n",
    "ls_headers = []\n",
    "for header in table.find_all('th'):\n",
    "    ls_headers.append(header.text.strip())"
   ]
  },
  {
   "cell_type": "code",
   "execution_count": null,
   "id": "ab47d398-d9e6-4914-91df-c0dacd19eb9f",
   "metadata": {},
   "outputs": [],
   "source": [
    "ls_headers"
   ]
  },
  {
   "cell_type": "code",
   "execution_count": null,
   "id": "afa52277-79e0-4d5f-82e8-6299bb1b7e75",
   "metadata": {
    "scrolled": true
   },
   "outputs": [],
   "source": [
    "# find the rates, that is the elements in the table\n",
    "\n",
    "ls_rates = []\n",
    "\n",
    "for row in table.find_all('tr'): # finds all the rows\n",
    "    cols = row.find_all('td')  # fidns the cells within the table; 'th' finds the header cells\n",
    "    for element in cols:\n",
    "        print(element)"
   ]
  },
  {
   "cell_type": "code",
   "execution_count": null,
   "id": "6546173d-e718-4f56-94cf-d152987bc312",
   "metadata": {
    "scrolled": true
   },
   "outputs": [],
   "source": [
    "# find the rates, that is the elements in the table\n",
    "\n",
    "ls_rates = []\n",
    "\n",
    "for row in table.find_all('tr'): # finds all the rows\n",
    "    cols = row.find_all('td')  # fidns the cells within the table; 'th' finds the header cells\n",
    "    for element in cols:\n",
    "        print(element.text.strip())"
   ]
  },
  {
   "cell_type": "code",
   "execution_count": null,
   "id": "5b7f9ae9-9932-4e32-97fc-e655ec0ad0e1",
   "metadata": {
    "scrolled": true
   },
   "outputs": [],
   "source": [
    "# find the rates, that is the elements in the table\n",
    "\n",
    "ls_rates = []\n",
    "\n",
    "for row in table.find_all('tr'): # finds all the rows\n",
    "    cols = row.find_all('td')  # fidns the cells within the table; 'th' finds the header cells\n",
    "    cols = [element.text.strip() for element in cols]  # get text and strip whitespace\n",
    "    if cols:  # see the condition, adds non-empty rows only\n",
    "        ls_rates.append(cols)"
   ]
  },
  {
   "cell_type": "code",
   "execution_count": null,
   "id": "b4d2a0ae-b0b2-47bc-815a-fd807ad0bcfc",
   "metadata": {},
   "outputs": [],
   "source": [
    "ls_rates # list of lists"
   ]
  },
  {
   "cell_type": "code",
   "execution_count": null,
   "id": "a44c869e-fb2e-477e-86c3-2e872395cbf1",
   "metadata": {},
   "outputs": [],
   "source": [
    "ls_rates[0]"
   ]
  },
  {
   "cell_type": "code",
   "execution_count": null,
   "id": "ecd01163-0c02-454e-9ccc-9fedda6c7096",
   "metadata": {},
   "outputs": [],
   "source": [
    "# now we put all this into a table; we will explore Pandas next time\n",
    "import pandas as pd"
   ]
  },
  {
   "cell_type": "code",
   "execution_count": null,
   "id": "f867610d-3fb9-4da7-8083-5fba3b626a1d",
   "metadata": {},
   "outputs": [],
   "source": [
    "df_crossrates = pd.DataFrame(ls_rates, columns= ls_headers)\n",
    "df_crossrates"
   ]
  },
  {
   "cell_type": "code",
   "execution_count": null,
   "id": "023beff6-4ab4-4db5-8b82-ec9fd5403c53",
   "metadata": {},
   "outputs": [],
   "source": [
    "# we have an unwanted empty column here\n",
    "df_crossrates.info()"
   ]
  },
  {
   "cell_type": "code",
   "execution_count": null,
   "id": "9197c054-e46b-47f6-9534-6e1732b22cf7",
   "metadata": {},
   "outputs": [],
   "source": [
    "df_crossrates.columns"
   ]
  },
  {
   "cell_type": "code",
   "execution_count": null,
   "id": "22c36b7f-4759-465c-af7d-e8bcd921df2f",
   "metadata": {},
   "outputs": [],
   "source": [
    "df_crossrates.drop(columns= '', inplace = True)"
   ]
  },
  {
   "cell_type": "code",
   "execution_count": null,
   "id": "14cb147d-a4a9-48fb-be54-9f23647dfa24",
   "metadata": {},
   "outputs": [],
   "source": [
    "df_crossrates.info()"
   ]
  }
 ],
 "metadata": {
  "kernelspec": {
   "display_name": "Python 3 (ipykernel)",
   "language": "python",
   "name": "python3"
  },
  "language_info": {
   "codemirror_mode": {
    "name": "ipython",
    "version": 3
   },
   "file_extension": ".py",
   "mimetype": "text/x-python",
   "name": "python",
   "nbconvert_exporter": "python",
   "pygments_lexer": "ipython3",
   "version": "3.12.4"
  }
 },
 "nbformat": 4,
 "nbformat_minor": 5
}
