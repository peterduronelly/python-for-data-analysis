{
 "cells": [
  {
   "cell_type": "markdown",
   "id": "db0943cf-b6dc-4650-a5c8-28f52ad199f0",
   "metadata": {},
   "source": [
    "# <center>Class 9: Generalizing Results of a Regression </center>"
   ]
  },
  {
   "cell_type": "code",
   "execution_count": null,
   "id": "b4cefe9e-9727-40ed-9df3-6ad58040a3aa",
   "metadata": {},
   "outputs": [],
   "source": [
    "import os\n",
    "import sys\n",
    "import warnings\n",
    "from typing import List\n",
    "import copy\n",
    "import datetime\n",
    "\n",
    "import numpy as np\n",
    "import pandas as pd\n",
    "import statsmodels.api as sm\n",
    "import statsmodels.formula.api as smf\n",
    "import statsmodels.nonparametric.kernel_regression as loess\n",
    "from stargazer.stargazer import Stargazer\n",
    "\n",
    "import matplotlib.pyplot as plt\n",
    "import seaborn as sns\n",
    "from utils import lspline \n",
    "\n",
    "warnings.filterwarnings('ignore')"
   ]
  },
  {
   "cell_type": "code",
   "execution_count": null,
   "id": "7107290e-f3e9-42f7-b26d-7ba04a910e8b",
   "metadata": {},
   "outputs": [],
   "source": [
    "# !pip install stargazer"
   ]
  },
  {
   "cell_type": "code",
   "execution_count": null,
   "id": "700c5b8e-25dc-4236-ad95-e2bb5726af7f",
   "metadata": {},
   "outputs": [],
   "source": [
    "%matplotlib inline"
   ]
  },
  {
   "cell_type": "markdown",
   "id": "1e8832a2-2199-4fa4-b12a-b596eb190d13",
   "metadata": {},
   "source": [
    "## Data - Earnings"
   ]
  },
  {
   "cell_type": "markdown",
   "id": "69b2c3fe-8838-4f48-ac2a-bc5f9744c753",
   "metadata": {},
   "source": [
    "We are building multiple models on a subset of the data to explain why people earn as much as they do in a certain profession. After specifying some possible explanatory relationships we select the best performing one based on $R^2$. We visualize the predicted values and the uncertainty around them: the *confidence* and the *prediction intervals*. \n",
    "\n",
    "We then measure the performance of our best model on another subset of the earnings data."
   ]
  },
  {
   "cell_type": "code",
   "execution_count": null,
   "id": "7815e4b4-a013-4fa2-be84-bef485f42b7e",
   "metadata": {},
   "outputs": [],
   "source": [
    "path = os.path.join(os.pardir, 'data', 'morg-2014-emp.csv') # this will produce a path with the right syntax for your operating system\n",
    "path"
   ]
  },
  {
   "cell_type": "code",
   "execution_count": null,
   "id": "f9264a8f-91ba-499e-8942-6f67f6065cee",
   "metadata": {},
   "outputs": [],
   "source": [
    "df_earnings =  pd.read_csv(path, index_col = 0)"
   ]
  },
  {
   "cell_type": "code",
   "execution_count": null,
   "id": "fdb12e69-dd6e-4293-92d3-de074aac4f1d",
   "metadata": {},
   "outputs": [],
   "source": [
    "df_earnings"
   ]
  },
  {
   "cell_type": "code",
   "execution_count": null,
   "id": "c069dfe4-42ed-4610-a11b-51ea932b6d19",
   "metadata": {},
   "outputs": [],
   "source": [
    "df_earnings.info()"
   ]
  },
  {
   "cell_type": "markdown",
   "id": "4f51a357-fafe-450e-b59b-782cb14f00c7",
   "metadata": {},
   "source": [
    "**Note**: important variables\n",
    "\n",
    "- age: age (numeric)\n",
    "- sex: gender (binary)\n",
    "- earnwke: weakly earnings (numeric)\n",
    "- uhourse: usual work hours (numeric)\n",
    "- occ2012: occupational code (categorical)\n",
    "- grade92: highest education grade completed (categorical)\n",
    "\n",
    "Occupational classification (census 2010): https://www.bls.gov/cps/cenocc2010.htm   \n",
    "Labels: http://data.nber.org/morg/docs/cpsx.pdf"
   ]
  },
  {
   "cell_type": "markdown",
   "id": "bbe59fa7-7199-49da-a28b-b76b07c7fed9",
   "metadata": {},
   "source": [
    "### Filtering\n",
    "\n",
    "**Occupation**: '_market research analyst_' (census code: 0735) & '_Computer and Mathematical Occupations_' (1000-1240)\n",
    "\n",
    "Market research analysts will be our _sample 1_ and computer & mathematical occupations will be _sample 2_."
   ]
  },
  {
   "cell_type": "code",
   "execution_count": null,
   "id": "d9c7d696-c614-43db-bce0-679bcca4ea7c",
   "metadata": {},
   "outputs": [],
   "source": [
    "df_earnings['sample'] = 0"
   ]
  },
  {
   "cell_type": "code",
   "execution_count": null,
   "id": "0381a8ec-7c9d-4fe1-b581-607956272fa9",
   "metadata": {},
   "outputs": [],
   "source": [
    "df_earnings.loc[df_earnings.occ2012 == 735, 'sample'] = 1\n",
    "df_earnings.loc[((df_earnings.occ2012 >= 1005) & (df_earnings.occ2012 <= 1240)),'sample'] = 2"
   ]
  },
  {
   "cell_type": "code",
   "execution_count": null,
   "id": "3a436f70-397c-4bed-80e1-967ecd49c934",
   "metadata": {},
   "outputs": [],
   "source": [
    "df_earnings['sample'].value_counts()"
   ]
  },
  {
   "cell_type": "code",
   "execution_count": null,
   "id": "ff1d4268-846a-48ee-81f5-7f8ec870ecf0",
   "metadata": {},
   "outputs": [],
   "source": [
    "df_earnings = df_earnings[df_earnings['sample'] > 0]"
   ]
  },
  {
   "cell_type": "code",
   "execution_count": null,
   "id": "284e4b92-eb2a-4586-8cf1-c0e8bd29295f",
   "metadata": {},
   "outputs": [],
   "source": [
    "df_earnings['sample'].value_counts()"
   ]
  },
  {
   "cell_type": "markdown",
   "id": "a3ff13e8-3828-4644-b6cb-4ccb8cc85d5a",
   "metadata": {},
   "source": [
    "### Feature Engineering"
   ]
  },
  {
   "cell_type": "code",
   "execution_count": null,
   "id": "fab46558-5728-499a-abe0-6e1584cf962e",
   "metadata": {},
   "outputs": [],
   "source": [
    "df_earnings['female'] = df_earnings.sex == 2"
   ]
  },
  {
   "cell_type": "code",
   "execution_count": null,
   "id": "5514760b-23b2-452c-b889-d7c85264be9b",
   "metadata": {},
   "outputs": [],
   "source": [
    "df_earnings['female']"
   ]
  },
  {
   "cell_type": "code",
   "execution_count": null,
   "id": "0d2d924c-a3bb-450c-8dbd-54bc32973109",
   "metadata": {},
   "outputs": [],
   "source": [
    "df_earnings['w'] = df_earnings.earnwke / df_earnings.uhours # hourly wage\n",
    "df_earnings['lnw'] = np.log(df_earnings.w)\n",
    "df_earnings['agesq'] = np.power(df_earnings.age, 2)"
   ]
  },
  {
   "cell_type": "markdown",
   "id": "164d5e54-f8c7-4f54-8341-861e4f56e4b3",
   "metadata": {},
   "source": [
    "Create two datasets:\n",
    "- df_1 for market researchers\n",
    "- df_2 for math and CS occupations"
   ]
  },
  {
   "cell_type": "code",
   "execution_count": null,
   "id": "d5c00b8e-8f13-487e-9777-9e71c04d19f7",
   "metadata": {},
   "outputs": [],
   "source": [
    "df_1 = df_earnings[df_earnings['sample'] == 1]\n",
    "df_2 = df_earnings[df_earnings['sample'] == 2]"
   ]
  },
  {
   "cell_type": "code",
   "execution_count": null,
   "id": "99eacd2a-b291-48f6-be58-ac22f9ff4bce",
   "metadata": {},
   "outputs": [],
   "source": [
    "df_1[['earnwke', 'uhours', 'w', 'age']].describe().T.map('{:,.1f}'.format)"
   ]
  },
  {
   "cell_type": "code",
   "execution_count": null,
   "id": "b2f9412d-21f8-4ae5-ade3-4c26f72a6730",
   "metadata": {},
   "outputs": [],
   "source": [
    "df_1.female.value_counts()"
   ]
  },
  {
   "cell_type": "code",
   "execution_count": null,
   "id": "5a40efe2-c672-4865-8d83-29e38baa9749",
   "metadata": {},
   "outputs": [],
   "source": [
    "df_2.female.value_counts()"
   ]
  },
  {
   "cell_type": "code",
   "execution_count": null,
   "id": "2c2c364b-188a-4e5f-963f-2b016eff67a0",
   "metadata": {},
   "outputs": [],
   "source": [
    "df_1.sort_values(by = 'age', ascending= True, inplace = True) # for plotting purpuses only\n",
    "df_1.reset_index(drop = True, inplace = True)"
   ]
  },
  {
   "cell_type": "code",
   "execution_count": null,
   "id": "ddddf3d2-f069-495a-9642-e7f1a2151cbb",
   "metadata": {},
   "outputs": [],
   "source": [
    "df_2.sort_values(by = 'age', ascending= True, inplace = True) # for plotting purpuses only\n",
    "df_2.reset_index(drop = True, inplace = True)"
   ]
  },
  {
   "cell_type": "markdown",
   "id": "d534bfed-3009-49b2-a073-398b775483bd",
   "metadata": {},
   "source": [
    "### EDA"
   ]
  },
  {
   "cell_type": "markdown",
   "id": "112774e1-3cd7-4753-ae57-2a0a2ecec015",
   "metadata": {},
   "source": [
    "We are exploring market research analysts. What are the key factors in determing wages in this profession?"
   ]
  },
  {
   "cell_type": "code",
   "execution_count": null,
   "id": "dd737a0c-7c62-48ba-a93b-44e99159766b",
   "metadata": {},
   "outputs": [],
   "source": [
    "sns.histplot(df_1.w, shrink=0.9, bins = range(0,95,5))\n",
    "plt.xticks(range(0,95,5))\n",
    "plt.xlabel('USD')\n",
    "plt.title('Hourly wages');"
   ]
  },
  {
   "cell_type": "code",
   "execution_count": null,
   "id": "368d6591-fef9-4578-81af-b2763ba45e97",
   "metadata": {},
   "outputs": [],
   "source": [
    "sns.boxplot(data = df_1, x = 'female', y = 'w')\n",
    "plt.xlabel(None)\n",
    "plt.title('Wage distribution, males vs females');"
   ]
  },
  {
   "cell_type": "code",
   "execution_count": null,
   "id": "ee7a7244-e1d7-418b-9ffd-5db278c6cc81",
   "metadata": {},
   "outputs": [],
   "source": [
    "sns.regplot(\n",
    "    data = df_1, x = 'age', y = 'lnw', \n",
    "    lowess = True, line_kws = {'color' : 'k'})\n",
    "plt.title('Age vs wage with lowess');"
   ]
  },
  {
   "cell_type": "markdown",
   "id": "e53a8abe-8fdd-4809-9d9c-3f7db99b44cc",
   "metadata": {},
   "source": [
    "How can we see whether composition effects are in play resulting in slightly lower wages for women? "
   ]
  },
  {
   "cell_type": "markdown",
   "id": "3aeff2dd-7ec4-4693-b305-3c3061603c22",
   "metadata": {},
   "source": [
    "## Regressions"
   ]
  },
  {
   "cell_type": "markdown",
   "id": "12affe75-c6ba-4829-95b1-4731d1c00857",
   "metadata": {},
   "source": [
    "Because in a cross-sectional dataset heteroscedastic residuals my be a problem, we - as usually - define the appropriate covariance matrix. "
   ]
  },
  {
   "cell_type": "markdown",
   "id": "f419973b-71e3-4e5f-b177-a049f323fbe3",
   "metadata": {},
   "source": [
    "#### Baseline: wage vs sex"
   ]
  },
  {
   "cell_type": "code",
   "execution_count": null,
   "id": "71ba0382-c4df-4373-b8cd-b37c6d5a2707",
   "metadata": {},
   "outputs": [],
   "source": [
    "reg_1 = smf.ols(formula = 'lnw ~ female', data = df_1).fit(cov_type = 'HC0')"
   ]
  },
  {
   "cell_type": "code",
   "execution_count": null,
   "id": "1146cea2-7aca-431b-9132-bd604ba256f8",
   "metadata": {},
   "outputs": [],
   "source": [
    "print(reg_1.summary())"
   ]
  },
  {
   "cell_type": "code",
   "execution_count": null,
   "id": "37149a14-0f05-4059-a337-ea3dc3427bf1",
   "metadata": {},
   "outputs": [],
   "source": [
    "print(f'R2: {reg_1.rsquared:.4f}')"
   ]
  },
  {
   "cell_type": "markdown",
   "id": "dbfe4617-f61f-42c2-abc6-a08557ed4e75",
   "metadata": {},
   "source": [
    "**Presenting regression results**: the `stargazer` package produces neatly formatted, customizable regression summaries."
   ]
  },
  {
   "cell_type": "code",
   "execution_count": null,
   "id": "e1e3498d-71c4-4efe-a5a2-64be2d0fd9b0",
   "metadata": {},
   "outputs": [],
   "source": [
    "Stargazer([reg_1])"
   ]
  },
  {
   "cell_type": "markdown",
   "id": "3872b1fa-ebd7-40d8-b8b1-6c1c95e67622",
   "metadata": {},
   "source": [
    "#### Effect of age on wage\n",
    "\n",
    "**linear age**"
   ]
  },
  {
   "cell_type": "code",
   "execution_count": null,
   "id": "5439f06d-92be-476d-961e-00e7d81e4137",
   "metadata": {},
   "outputs": [],
   "source": [
    "reg_2 = smf.ols(formula = 'lnw ~ age', data = df_1).fit(cov_type = 'HC0')"
   ]
  },
  {
   "cell_type": "code",
   "execution_count": null,
   "id": "93788f8b-2e54-4fd4-8cac-c174b2679ea1",
   "metadata": {},
   "outputs": [],
   "source": [
    "print(reg_2.summary())"
   ]
  },
  {
   "cell_type": "markdown",
   "id": "cbd938dd-e2b9-445c-b827-8566cddd1149",
   "metadata": {},
   "source": [
    "**quadratic term in age**"
   ]
  },
  {
   "cell_type": "code",
   "execution_count": null,
   "id": "9f6843f2-9a17-4e36-87d8-3b30583b4899",
   "metadata": {},
   "outputs": [],
   "source": [
    "reg_3 = smf.ols(formula = 'lnw ~ age + agesq', data = df_1).fit(cov_type = 'HC0')"
   ]
  },
  {
   "cell_type": "code",
   "execution_count": null,
   "id": "5065719d-77e7-4d0e-a0bf-de94a1e72557",
   "metadata": {},
   "outputs": [],
   "source": [
    "print(reg_3.summary())"
   ]
  },
  {
   "cell_type": "markdown",
   "id": "5d4c5ecb-aa49-4e4d-87d5-5ff9305e879e",
   "metadata": {},
   "source": [
    "**Questions**: \n",
    "\n",
    "- How do we interpret _aqesq_?\n",
    "- What does the second footnote mean?"
   ]
  },
  {
   "cell_type": "markdown",
   "id": "73b49a68-b666-467d-a6f1-ba05c5d08487",
   "metadata": {},
   "source": [
    "**linear spline in age**"
   ]
  },
  {
   "cell_type": "code",
   "execution_count": null,
   "id": "d68fd631-28b3-419f-a000-3f17ddba6bec",
   "metadata": {},
   "outputs": [],
   "source": [
    "reg_4 = smf.ols(formula = 'lnw ~ lspline(age, [30,40])', data = df_1).fit(cov_type = 'HC0')"
   ]
  },
  {
   "cell_type": "code",
   "execution_count": null,
   "id": "86e49037-10ba-4cbf-9435-3792b062e106",
   "metadata": {},
   "outputs": [],
   "source": [
    "print(reg_4.summary())"
   ]
  },
  {
   "cell_type": "markdown",
   "id": "a460caf8-6453-45c1-bee0-0eaeb44abf8c",
   "metadata": {},
   "source": [
    "#### Comparing regression models"
   ]
  },
  {
   "cell_type": "code",
   "execution_count": null,
   "id": "38950639-08a3-4025-bdf0-4c1e91c2a24b",
   "metadata": {},
   "outputs": [],
   "source": [
    "stargazer = Stargazer([reg_1, reg_2, reg_3, reg_4])\n",
    "stargazer.rename_covariates(\n",
    "    {\n",
    "        'Intercept': 'Constant',\n",
    "        'agesq': 'age squared',\n",
    "        'female[T.True]': 'female',\n",
    "        'lspline(age, [30, 40])[0]': 'age spline < 30',\n",
    "        'lspline(age, [30, 40])[1]': 'age spline 30–40',\n",
    "        'lspline(age, [30, 40])[2]': 'age spline > 40',\n",
    "    }\n",
    ")\n",
    "stargazer"
   ]
  },
  {
   "cell_type": "markdown",
   "id": "4ce0478f-ca87-4551-a98c-de96edf6501f",
   "metadata": {},
   "source": [
    "#### Comparing regression lines"
   ]
  },
  {
   "cell_type": "markdown",
   "id": "2bb05f0d-c345-4c97-8f50-90ca09654b19",
   "metadata": {},
   "source": [
    "**add lowess**"
   ]
  },
  {
   "cell_type": "code",
   "execution_count": null,
   "id": "c817ef38-503b-4e21-b61f-fed26dc3b832",
   "metadata": {},
   "outputs": [],
   "source": [
    "reg_5 = sm.nonparametric.lowess\n",
    "y_hat_lowess = reg_5(df_1.lnw, df_1.age)\n",
    "y_hat_lowess[0:10]"
   ]
  },
  {
   "cell_type": "code",
   "execution_count": null,
   "id": "2c855cd5-1a5d-4929-b756-a8b4f50a93a8",
   "metadata": {},
   "outputs": [],
   "source": [
    "y_hat_lowess = [x[1] for x in y_hat_lowess]"
   ]
  },
  {
   "cell_type": "code",
   "execution_count": null,
   "id": "549a41cd-ab8e-4207-9832-48641be7826a",
   "metadata": {},
   "outputs": [],
   "source": [
    "y_hat_age = reg_2.predict()\n",
    "y_hat_agesq = reg_3.predict()\n",
    "y_hat_spline = reg_4.predict()"
   ]
  },
  {
   "cell_type": "code",
   "execution_count": null,
   "id": "6bb02676-5bf6-47f6-956f-f826bb584840",
   "metadata": {},
   "outputs": [],
   "source": [
    "fig, ax = plt.subplots()\n",
    "ax.plot(df_1.age, y_hat_lowess, color = 'k', linestyle = '-.', label = 'lowess')\n",
    "ax.plot(df_1.age, y_hat_agesq, color = 'k', linestyle = ':', label = 'polinomial')\n",
    "ax.plot(df_1.age, y_hat_spline, color = 'k', linestyle = '-', label = 'linear spline')\n",
    "plt.legend()\n",
    "plt.xlabel('years')\n",
    "plt.ylabel('log wage')\n",
    "plt.title('Regression model predictions/fitted values');"
   ]
  },
  {
   "cell_type": "markdown",
   "id": "099f57c1-1226-4546-bf5b-dbcd552e48b8",
   "metadata": {},
   "source": [
    "### Confidence and prediction intervals"
   ]
  },
  {
   "cell_type": "markdown",
   "id": "62ad5313-83d7-4b90-af3b-d66882709de6",
   "metadata": {},
   "source": [
    "Our best-performing model is the regression with linear spline (reg_4). We are using this model for getting the _confidence_ and the _prediction_ intervals.  "
   ]
  },
  {
   "cell_type": "code",
   "execution_count": null,
   "id": "1a21de69-af90-4985-a307-ebce0eb46724",
   "metadata": {},
   "outputs": [],
   "source": [
    "df_summary_frame = reg_4.get_prediction().summary_frame()"
   ]
  },
  {
   "cell_type": "code",
   "execution_count": null,
   "id": "945d7368-3a1f-4c2f-8d9c-230f1a7f84b8",
   "metadata": {},
   "outputs": [],
   "source": [
    "df_summary_frame"
   ]
  },
  {
   "cell_type": "markdown",
   "id": "8580f72b-9c22-4281-86d8-5b0a6c8b3e21",
   "metadata": {},
   "source": [
    "**Confidence interval**\n",
    "\n",
    "Remember: `confidence interval` is the measure of uncertertainty regarding the _conditional expected value_ of log price. The word _condtional_ refers to a fact that we are looking for the expected value of log price for a _given age_ (expected log price conditional on age). This is NOT the area where our datapoint should lie, as the value of an individual observation depends on the _general patter_ AND _noise_. This is the **uncertainty of the general pattern**. This uncertainty stems from the fact that we only have a sample of all possible members of the underlying population, and this sample is, by definition, noisy. This noisiness of the sample leads to uncertainty regarding the general pattern. "
   ]
  },
  {
   "cell_type": "code",
   "execution_count": null,
   "id": "ca6863e0-4b11-47c7-aff7-3445c17e4060",
   "metadata": {},
   "outputs": [],
   "source": [
    "fig, ax = plt.subplots()\n",
    "ax.scatter(df_1.age, df_1.lnw, s = 3)\n",
    "ax.plot(df_1.age, df_summary_frame['mean'], color = 'k', linestyle = '-')\n",
    "ax.fill_between(df_1.age, df_summary_frame.mean_ci_lower, df_summary_frame.mean_ci_upper, color = 'darkblue', alpha = 0.5)\n",
    "plt.title('Spline regression fitted values with confidence intervals')\n",
    "plt.xlabel('age')\n",
    "plt.ylabel('log wage');"
   ]
  },
  {
   "cell_type": "markdown",
   "id": "b4342ddc-0cd9-436f-be0c-f7624aebe9c3",
   "metadata": {},
   "source": [
    "**Prediction interval**\n",
    "\n",
    "The `prediction interval` is the uncertainty around the *individual observation*. Since $data = pattern + noise$, the value of individual observations will have additional uncertainty on top of the uncertain pattern. This is why the prediction interval is way wider than the confidence interval. \n",
    "\n",
    "In summary:\n",
    "\n",
    "<center>\n",
    "    \\begin{equation}\n",
    "    \\text{prediction  interval = uncertain pattern + additional uncertainty from noisiness}\n",
    "    \\end{equation}\n",
    "</center>"
   ]
  },
  {
   "cell_type": "code",
   "execution_count": null,
   "id": "55175857-0f86-42fd-ad4f-fdf2efb3eda0",
   "metadata": {},
   "outputs": [],
   "source": [
    "fig, ax = plt.subplots()\n",
    "ax.scatter(df_1.age, df_1.lnw, s = 3)\n",
    "ax.plot(df_1.age, df_summary_frame['mean'], color = 'k', linestyle = '-')\n",
    "ax.fill_between(df_1.age, df_summary_frame.obs_ci_lower, df_summary_frame.obs_ci_upper, color = 'darkblue', alpha = 0.5)\n",
    "plt.title('Spline regression fitted values with prediction intervals')\n",
    "plt.xlabel('age')\n",
    "plt.ylabel('log wage');"
   ]
  },
  {
   "cell_type": "markdown",
   "id": "38afcd47-9395-418a-9533-065da31f319e",
   "metadata": {},
   "source": [
    "**Confidence interval for the polinomial model**"
   ]
  },
  {
   "cell_type": "code",
   "execution_count": null,
   "id": "dab6795c-4aaa-4782-8e56-2f3e2c8190a8",
   "metadata": {},
   "outputs": [],
   "source": [
    "df_summary_frame_poli = reg_3.get_prediction().summary_frame()"
   ]
  },
  {
   "cell_type": "code",
   "execution_count": null,
   "id": "171f5346-2ece-44b1-8d84-8f389601009c",
   "metadata": {},
   "outputs": [],
   "source": [
    "fig, ax = plt.subplots()\n",
    "ax.scatter(df_1.age, df_1.lnw, s = 3)\n",
    "ax.plot(df_1.age, df_summary_frame_poli['mean'], color = 'k', linestyle = '-')\n",
    "ax.fill_between(df_1.age, df_summary_frame_poli.mean_ci_lower, df_summary_frame_poli.mean_ci_upper, color = 'darkblue', alpha = 0.5)\n",
    "plt.title('Polinomial regression fitted values with confidence intervals')\n",
    "plt.xlabel('age')\n",
    "plt.ylabel('log wage');"
   ]
  },
  {
   "cell_type": "markdown",
   "id": "a51d42c4-738a-4e08-a4b0-7836a908fe51",
   "metadata": {},
   "source": [
    "### External validity"
   ]
  },
  {
   "cell_type": "markdown",
   "id": "c3963c41-93b0-4446-a70b-c8bf23e8828d",
   "metadata": {},
   "source": [
    "How does the spline model perform on the computer science dataset?"
   ]
  },
  {
   "cell_type": "code",
   "execution_count": null,
   "id": "2227dc0d-dfff-4ad2-9ebf-1034f17234a8",
   "metadata": {},
   "outputs": [],
   "source": [
    "reg_4_2 = smf.ols(formula = 'lnw ~ lspline(age, [30,40])', data = df_2).fit(cov_type = 'HC0')"
   ]
  },
  {
   "cell_type": "code",
   "execution_count": null,
   "id": "2321e188-ed04-46a5-8d6e-2373cb4cc494",
   "metadata": {},
   "outputs": [],
   "source": [
    "print(reg_4_2.summary())"
   ]
  },
  {
   "cell_type": "code",
   "execution_count": null,
   "id": "b0363380-3972-45a6-8370-d57473fd076e",
   "metadata": {},
   "outputs": [],
   "source": [
    "print(f'Spline model R2 on the market research dataset: {reg_4.rsquared:.3f}')\n",
    "print(f'Spline model R2 on the computer science dataset: {reg_4_2.rsquared:.3f}')"
   ]
  },
  {
   "cell_type": "markdown",
   "id": "b106853e-fdc4-496c-9c5f-4bd6983972fc",
   "metadata": {},
   "source": [
    "<br>\n",
    "\n",
    "And how about the polinomial model?"
   ]
  },
  {
   "cell_type": "code",
   "execution_count": null,
   "id": "f8ae7f5f-651f-4a52-b657-86b4286c0968",
   "metadata": {},
   "outputs": [],
   "source": [
    "reg_3_2 = smf.ols(formula = 'lnw ~ age + agesq', data = df_2).fit(cov_type = 'HC0')"
   ]
  },
  {
   "cell_type": "code",
   "execution_count": null,
   "id": "92421df1-2613-4036-8bda-8cafa297e7f1",
   "metadata": {},
   "outputs": [],
   "source": [
    "print(reg_3_2.summary())"
   ]
  },
  {
   "cell_type": "code",
   "execution_count": null,
   "id": "105d7173-54ae-4b85-bd19-bff73a011e86",
   "metadata": {},
   "outputs": [],
   "source": [
    "print(f'Polinomial model R2 on the market research dataset: {reg_3.rsquared:.3f}')\n",
    "print(f'Polinomial model R2 on the computer science dataset: {reg_3_2.rsquared:.3f}')"
   ]
  },
  {
   "cell_type": "markdown",
   "id": "66fb1359-df28-4053-8c48-eccf21e4bc5c",
   "metadata": {},
   "source": [
    "#### Putting it all together: regressions in the two datasets"
   ]
  },
  {
   "cell_type": "code",
   "execution_count": null,
   "id": "24e69a95-d205-43cf-9bef-65c023996827",
   "metadata": {},
   "outputs": [],
   "source": [
    "df_r2 = pd.DataFrame(\n",
    "    data = [\n",
    "        [reg_3.rsquared, reg_4.rsquared],\n",
    "        [reg_3_2.rsquared, reg_4_2.rsquared]\n",
    "    ], \n",
    "    columns = ['polinomial', 'spline'],\n",
    "    index = ['market research', 'computer science']\n",
    ").map('{:.3f}'.format)\n",
    "df_r2.index.name = 'R2'\n",
    "df_r2"
   ]
  },
  {
   "cell_type": "markdown",
   "id": "9612f89c-42cb-4a34-ad69-755720069df1",
   "metadata": {},
   "source": [
    "## Data - Hotels"
   ]
  },
  {
   "cell_type": "markdown",
   "id": "1761b05c-b236-481c-8e2a-3780f2bd709d",
   "metadata": {},
   "source": [
    "We are checking the *external validity* of our model on Vienna hotels prices in November 2017 in two dimensions:\n",
    "\n",
    "- same city, different points in time, and\n",
    "- different cities, same time."
   ]
  },
  {
   "cell_type": "code",
   "execution_count": null,
   "id": "093078d7-7009-460f-9643-c5b249bc82f9",
   "metadata": {},
   "outputs": [],
   "source": [
    "path_prices = os.path.join(os.pardir, 'data', 'hotels_europe_price.csv')\n",
    "path_prices"
   ]
  },
  {
   "cell_type": "code",
   "execution_count": null,
   "id": "95d65314-4368-4f20-8808-5eefe38c6ce9",
   "metadata": {},
   "outputs": [],
   "source": [
    "path_features = os.path.join(os.pardir, 'data', 'hotels_europe_features.csv')\n",
    "path_features"
   ]
  },
  {
   "cell_type": "code",
   "execution_count": null,
   "id": "2106330a-c278-40fe-9ec5-28c63b9f2625",
   "metadata": {},
   "outputs": [],
   "source": [
    "df_hotels_europe_price = pd.read_csv(path_prices, index_col = 0)"
   ]
  },
  {
   "cell_type": "code",
   "execution_count": null,
   "id": "573f8ab3-f573-4fb3-b1b4-08aa9fb88df4",
   "metadata": {},
   "outputs": [],
   "source": [
    "df_hotels_europe_price"
   ]
  },
  {
   "cell_type": "code",
   "execution_count": null,
   "id": "941256f7-1571-4ce7-b3c6-e18877f4011c",
   "metadata": {},
   "outputs": [],
   "source": [
    "df_hotels_features = pd.read_csv(path_features, index_col = 0)"
   ]
  },
  {
   "cell_type": "code",
   "execution_count": null,
   "id": "4eb8c132-a80e-4210-b438-77ddb81ca86e",
   "metadata": {},
   "outputs": [],
   "source": [
    "df_hotels_features"
   ]
  },
  {
   "cell_type": "code",
   "execution_count": null,
   "id": "22b9fdd8-22b6-45ad-8038-a3f9e67cdfef",
   "metadata": {},
   "outputs": [],
   "source": [
    "df_hotels = pd.merge(\n",
    "    df_hotels_europe_price, df_hotels_features, \n",
    "    how = 'left', left_on = 'hotel_id', right_on = 'hotel_id')"
   ]
  },
  {
   "cell_type": "markdown",
   "id": "1f904d69-f2c1-46da-b3c3-9ffd4037f4ae",
   "metadata": {},
   "source": [
    "Note: since both dataframes has 'hotel_is', on = 'hotel_id' would also work.\n",
    "\n",
    "```python\n",
    "df_hotels = pd.merge(df_hotels_europe_price, df_hotels_features, how = 'left', on = 'hotel_id')\n",
    "```\n",
    "<br>"
   ]
  },
  {
   "cell_type": "markdown",
   "id": "0522b637-0af2-4fee-b7b3-807ba099048b",
   "metadata": {},
   "source": [
    "**Question**: What is the SQL-equivalent of dataframe merge? Call the two tables HOTELS_PRICES and HOTELS_FEATURES.\n",
    "\n",
    "```SQL\n",
    "SELECT * \n",
    "FROM HOTELS_PRICES\n",
    "LEFT JOIN HOTELS_FEATURES\n",
    "ON HOTELS_PRICES.hotel_id = HOTELS_FEATURES.hotel_id\n",
    "```\n",
    "<br>\n"
   ]
  },
  {
   "cell_type": "markdown",
   "id": "4e82ba55-e2e1-4b2b-84d7-c20a953fb4c8",
   "metadata": {},
   "source": [
    "### Feature engineering"
   ]
  },
  {
   "cell_type": "code",
   "execution_count": null,
   "id": "25e9b86d-cbd6-45a6-b720-7454dc905f7a",
   "metadata": {},
   "outputs": [],
   "source": [
    "df_hotels"
   ]
  },
  {
   "cell_type": "code",
   "execution_count": null,
   "id": "d6d7674d-4504-4cca-b92c-bcf52027af48",
   "metadata": {},
   "outputs": [],
   "source": [
    "df_hotels.info()"
   ]
  },
  {
   "cell_type": "code",
   "execution_count": null,
   "id": "8b5d8969-321f-477d-94eb-75828209c96d",
   "metadata": {},
   "outputs": [],
   "source": [
    "df_hotels = df_hotels[df_hotels.city_actual.isin(['Vienna', 'Amsterdam', 'Barcelona'])]"
   ]
  },
  {
   "cell_type": "code",
   "execution_count": null,
   "id": "25c99b07-376a-4a39-894b-11b99bbaddb2",
   "metadata": {},
   "outputs": [],
   "source": [
    "df_hotels.sort_values(by = 'distance', inplace = True) # plotting"
   ]
  },
  {
   "cell_type": "code",
   "execution_count": null,
   "id": "efc718f1-0a24-43c1-8e51-21909322f8aa",
   "metadata": {},
   "outputs": [],
   "source": [
    "df_hotels.shape"
   ]
  },
  {
   "cell_type": "code",
   "execution_count": null,
   "id": "24d5e5b8-bb75-4893-8496-99c4903bb175",
   "metadata": {},
   "outputs": [],
   "source": [
    "df_hotels = df_hotels[df_hotels.accommodation_type.isin(['Hotel', 'Apartment'])]"
   ]
  },
  {
   "cell_type": "code",
   "execution_count": null,
   "id": "fc836b90-79e0-42a8-bfb5-ea6527699674",
   "metadata": {},
   "outputs": [],
   "source": [
    "df_hotels = df_hotels[df_hotels.nnights !=4]"
   ]
  },
  {
   "cell_type": "code",
   "execution_count": null,
   "id": "14dc0fd5-a9c5-4e8d-aa76-25b986602b85",
   "metadata": {},
   "outputs": [],
   "source": [
    "df_hotels = df_hotels[df_hotels.price < 1000]"
   ]
  },
  {
   "cell_type": "code",
   "execution_count": null,
   "id": "6e188b82-4e72-4a1b-8a0a-10c434a03702",
   "metadata": {},
   "outputs": [],
   "source": [
    "df_hotels = df_hotels.drop_duplicates()"
   ]
  },
  {
   "cell_type": "code",
   "execution_count": null,
   "id": "d6133544-36fd-4917-bbb2-93e52c58a0f9",
   "metadata": {},
   "outputs": [],
   "source": [
    "df_hotels.loc[(df_hotels['month'] == 11) & (df_hotels['weekend'] == 0), 'date'] = '2017-NOV-weekday'\n",
    "df_hotels.loc[(df_hotels['month'] == 11) & (df_hotels['weekend'] == 1), 'date'] = '2017-NOV-weekend'\n",
    "df_hotels.loc[(df_hotels['month'] == 12) & (df_hotels['holiday'] == 1), 'date'] = '2017-DEC-holiday'\n",
    "df_hotels.loc[(df_hotels['month'] == 6) & (df_hotels['weekend'] == 1), 'date'] = '2018-JUNE-weekend'"
   ]
  },
  {
   "cell_type": "code",
   "execution_count": null,
   "id": "0ea9315e-eebc-4270-8f75-42e27ffbd14d",
   "metadata": {},
   "outputs": [],
   "source": [
    "df_hotels = df_hotels[df_hotels.date.notna()]"
   ]
  },
  {
   "cell_type": "code",
   "execution_count": null,
   "id": "9c83c2d7-a5ce-4ea6-9bb8-6f7f68d62077",
   "metadata": {},
   "outputs": [],
   "source": [
    "df_hotels.city.value_counts()"
   ]
  },
  {
   "cell_type": "code",
   "execution_count": null,
   "id": "a3fcf12f-a894-4df3-888c-b3d149ce06fe",
   "metadata": {},
   "outputs": [],
   "source": [
    "pd.crosstab(index = df_hotels.accommodation_type, columns = df_hotels.city)"
   ]
  },
  {
   "cell_type": "code",
   "execution_count": null,
   "id": "f7be7699-41db-4765-bca6-8f947ec604cc",
   "metadata": {},
   "outputs": [],
   "source": [
    "pd.crosstab(index = df_hotels.date, columns = df_hotels.city)"
   ]
  },
  {
   "cell_type": "code",
   "execution_count": null,
   "id": "81dfef35-0877-40a4-ae76-2c16cfcbadf8",
   "metadata": {},
   "outputs": [],
   "source": [
    "df_hotels['lnprice'] = np.log(df_hotels.price)"
   ]
  },
  {
   "cell_type": "code",
   "execution_count": null,
   "id": "52e93d80-e80d-4ad1-bfde-221206f47ae5",
   "metadata": {},
   "outputs": [],
   "source": [
    "df_hotels = df_hotels[\n",
    "    [\n",
    "        'hotel_id',\n",
    "        'date',\n",
    "        'city',\n",
    "        'accommodation_type',\n",
    "        'stars',\n",
    "        'rating',\n",
    "        'distance',\n",
    "        'price',\n",
    "        'lnprice',\n",
    "    ]\n",
    "]"
   ]
  },
  {
   "cell_type": "code",
   "execution_count": null,
   "id": "c112463e-94bb-4acc-a2ac-4df3f8e03926",
   "metadata": {},
   "outputs": [],
   "source": [
    "df_hotels.head()"
   ]
  },
  {
   "cell_type": "markdown",
   "id": "b18d2fcf-45f4-4f92-92b4-619d7e83c35d",
   "metadata": {},
   "source": [
    "### External validity of regression models: same city, various dates\n",
    "\n",
    "Note: we are using linear splines."
   ]
  },
  {
   "cell_type": "markdown",
   "id": "1ca60256-90f9-4279-802f-81734bad5c11",
   "metadata": {},
   "source": [
    "#### EDA: Vienna only"
   ]
  },
  {
   "cell_type": "code",
   "execution_count": null,
   "id": "059eb5f7-ca28-4f53-bd08-acae9c177a21",
   "metadata": {},
   "outputs": [],
   "source": [
    "df_vienna = df_hotels.loc[\n",
    "    (df_hotels['stars'] >= 3)\n",
    "    & (df_hotels['stars'] <= 4)\n",
    "    & (df_hotels['accommodation_type'] == 'Hotel')\n",
    "    & (df_hotels['city'] == 'Vienna')\n",
    "]"
   ]
  },
  {
   "cell_type": "code",
   "execution_count": null,
   "id": "7b220d0e-2137-4378-bb8a-150f256ba67f",
   "metadata": {},
   "outputs": [],
   "source": [
    "df_vienna.date.value_counts()"
   ]
  },
  {
   "cell_type": "code",
   "execution_count": null,
   "id": "80bfa745-20e6-4db0-ae0e-a3c6baacca7f",
   "metadata": {},
   "outputs": [],
   "source": [
    "df_vienna[['distance', 'price', 'lnprice']].describe().T.round(2)"
   ]
  },
  {
   "cell_type": "code",
   "execution_count": null,
   "id": "3d34e799-5efe-4792-9c7e-4a22034c4ec7",
   "metadata": {},
   "outputs": [],
   "source": [
    "df_vienna.groupby('date')['distance'].describe().round(2)"
   ]
  },
  {
   "cell_type": "code",
   "execution_count": null,
   "id": "294834cf-97ce-4529-b0b0-035816832804",
   "metadata": {},
   "outputs": [],
   "source": [
    "df_vienna.groupby('date')['price'].describe().round(2)"
   ]
  },
  {
   "cell_type": "code",
   "execution_count": null,
   "id": "18faf736-eadf-49d8-b12a-72633e6bc8a7",
   "metadata": {},
   "outputs": [],
   "source": [
    "df_vienna.groupby('date')['lnprice'].describe().round(2)"
   ]
  },
  {
   "cell_type": "markdown",
   "id": "23fc27f8-2015-466c-9a08-bd4838fb6ae0",
   "metadata": {},
   "source": [
    "#### Regressions\n",
    "\n",
    "Note: we are using linear splines."
   ]
  },
  {
   "cell_type": "code",
   "execution_count": null,
   "id": "62288724-169d-482f-95c4-ea14434ce28d",
   "metadata": {},
   "outputs": [],
   "source": [
    "dates = [\n",
    "    '2017-NOV-weekday',\n",
    "    '2017-NOV-weekend',\n",
    "    '2017-DEC-holiday',\n",
    "    '2018-JUNE-weekend',\n",
    "]"
   ]
  },
  {
   "cell_type": "code",
   "execution_count": null,
   "id": "07080f4d-7081-4670-881c-23fe7fe0f1ac",
   "metadata": {},
   "outputs": [],
   "source": [
    "ls_models = []\n",
    "\n",
    "for date in dates:\n",
    "    ls_models.append(\n",
    "        smf.ols(\n",
    "            formula = 'lnprice ~ lspline(distance, 2)', \n",
    "            data = df_vienna[df_vienna.date == date]\n",
    "        ).fit(cov_type = 'HC0')\n",
    "    )"
   ]
  },
  {
   "cell_type": "code",
   "execution_count": null,
   "id": "866bbff1-9c36-4bca-a4e0-5ba7adb82469",
   "metadata": {},
   "outputs": [],
   "source": [
    "ls_models"
   ]
  },
  {
   "cell_type": "code",
   "execution_count": null,
   "id": "df2d5810-7bef-4eba-a1e5-1e18afe38a3d",
   "metadata": {},
   "outputs": [],
   "source": [
    "stargazer = Stargazer(ls_models)"
   ]
  },
  {
   "cell_type": "code",
   "execution_count": null,
   "id": "1b3ac4ca-9026-463a-afdf-fa228d4823c2",
   "metadata": {},
   "outputs": [],
   "source": [
    "stargazer"
   ]
  },
  {
   "cell_type": "markdown",
   "id": "911b94c8-9378-4f1d-a8f5-9b77980d81bf",
   "metadata": {},
   "source": [
    "Customizing Stargazer output."
   ]
  },
  {
   "cell_type": "code",
   "execution_count": null,
   "id": "e5409301-f123-4d8f-a33d-ec39e5830af2",
   "metadata": {},
   "outputs": [],
   "source": [
    "stargazer.covariate_order(\n",
    "    ['lspline(distance, 2)[0]', 'lspline(distance, 2)[1]', 'Intercept']\n",
    ")\n",
    "stargazer.rename_covariates(\n",
    "    {\n",
    "        'Intercept': 'Constant',\n",
    "        'lspline(distance, 2)[0]': 'Distance spline <2',\n",
    "        'lspline(distance, 2)[1]': 'Distance spline 2–7',\n",
    "    }\n",
    ")\n",
    "stargazer.custom_columns(dates, [1, 1, 1, 1])\n",
    "stargazer.show_model_numbers(False)\n",
    "stargazer"
   ]
  },
  {
   "cell_type": "markdown",
   "id": "23444d36-e21c-4057-b1c0-35b26c012226",
   "metadata": {},
   "source": [
    "### External validity of regression models: same date, various cities\n",
    "\n",
    "Still linear splines."
   ]
  },
  {
   "cell_type": "code",
   "execution_count": null,
   "id": "b03b4942-5ff1-4326-8f97-ac09fd1ee25e",
   "metadata": {},
   "outputs": [],
   "source": [
    "df_cities = df_hotels.loc[\n",
    "    lambda x: (x['stars'] >= 3)\n",
    "    & (x['stars'] <= 4)\n",
    "    & (x['date'] == '2017-NOV-weekday')\n",
    "    & (x['accommodation_type'] == 'Hotel')\n",
    "]"
   ]
  },
  {
   "cell_type": "markdown",
   "id": "3a3f5284-f26e-44ba-a308-46e595faeac9",
   "metadata": {},
   "source": [
    "#### EDA: Weekday in November only"
   ]
  },
  {
   "cell_type": "code",
   "execution_count": null,
   "id": "96af953a-d73f-4f8b-bc2f-e659f5cf3408",
   "metadata": {},
   "outputs": [],
   "source": [
    "pd.crosstab(index=df_cities['city'], columns = df_cities['stars'])"
   ]
  },
  {
   "cell_type": "code",
   "execution_count": null,
   "id": "b73cc255-637f-4959-8ce6-6d179b9a9670",
   "metadata": {},
   "outputs": [],
   "source": [
    "df_cities.groupby('stars')['distance'].describe().round(3)"
   ]
  },
  {
   "cell_type": "code",
   "execution_count": null,
   "id": "e93bab19-9bed-48c7-bd2e-ca604b38379e",
   "metadata": {},
   "outputs": [],
   "source": [
    "df_cities.groupby('city')['distance'].describe().round(3)"
   ]
  },
  {
   "cell_type": "code",
   "execution_count": null,
   "id": "63ba814e-98c5-4f76-8b5f-37ff0f824012",
   "metadata": {},
   "outputs": [],
   "source": [
    "df_cities.groupby('city')['price'].describe().round(3)"
   ]
  },
  {
   "cell_type": "markdown",
   "id": "c36925a8-d86a-4a34-bb9b-36026a5ab130",
   "metadata": {},
   "source": [
    "#### Regressions"
   ]
  },
  {
   "cell_type": "code",
   "execution_count": null,
   "id": "36b0bc65-c8db-4612-ba76-cabe6a25339e",
   "metadata": {},
   "outputs": [],
   "source": [
    "ls_cities = ['Vienna', 'Amsterdam', 'Barcelona']"
   ]
  },
  {
   "cell_type": "code",
   "execution_count": null,
   "id": "790df290-9397-4637-9e44-02cde61293fd",
   "metadata": {},
   "outputs": [],
   "source": [
    "ls_models = []\n",
    "\n",
    "for city in ls_cities:\n",
    "    ls_models.append(\n",
    "        smf.ols(\n",
    "            formula = 'lnprice ~ lspline(distance, 2)', \n",
    "            data = df_cities[df_cities.city == city]\n",
    "        ).fit(cov_type = 'HC0')\n",
    "    )"
   ]
  },
  {
   "cell_type": "code",
   "execution_count": null,
   "id": "95a5492d-7d28-4d2b-9a5f-3c3ff8e09917",
   "metadata": {},
   "outputs": [],
   "source": [
    "stargazer = Stargazer(ls_models)\n",
    "stargazer.rename_covariates(\n",
    "    {\n",
    "        'Intercept': 'Constant',\n",
    "        'lspline(distance, 2)[0]': 'Distance spline <2',\n",
    "        'lspline(distance, 2)[1]': 'Distance spline 2–7',\n",
    "    }\n",
    ")\n",
    "stargazer.custom_columns(ls_cities, [1, 1, 1])\n",
    "stargazer.show_model_numbers(False)\n",
    "stargazer"
   ]
  },
  {
   "cell_type": "markdown",
   "id": "e758e800-7959-4000-aed0-c770f510f453",
   "metadata": {},
   "source": [
    "### External validity: Hotels vs apartments in Vienna on a weekday in November"
   ]
  },
  {
   "cell_type": "markdown",
   "id": "04109c72-b9b2-4a8e-8146-a7616fd92c23",
   "metadata": {},
   "source": [
    "#### EDA: Hotels vs apartments"
   ]
  },
  {
   "cell_type": "code",
   "execution_count": null,
   "id": "54086776-d3d6-47e2-86da-0d06a86ac5d5",
   "metadata": {},
   "outputs": [],
   "source": [
    "df_hotels_apartments = df_hotels[\n",
    "    (df_hotels.stars >= 3)\n",
    "    & (df_hotels.stars <= 4)\n",
    "    & (df_hotels.date == '2017-NOV-weekday')\n",
    "    & (df_hotels.city == 'Vienna')]"
   ]
  },
  {
   "cell_type": "code",
   "execution_count": null,
   "id": "2b22f19b-e6f0-4264-84e5-0eae9b34c10a",
   "metadata": {},
   "outputs": [],
   "source": [
    "pd.crosstab(\n",
    "    index = df_hotels_apartments.accommodation_type, \n",
    "    columns = df_hotels_apartments.stars, \n",
    "    margins = True)"
   ]
  },
  {
   "cell_type": "code",
   "execution_count": null,
   "id": "86ae1922-831e-40e4-b214-f2ae9aa3d5ab",
   "metadata": {},
   "outputs": [],
   "source": [
    "df_hotels_apartments.groupby('stars')['price'].describe().round(1)"
   ]
  },
  {
   "cell_type": "code",
   "execution_count": null,
   "id": "db7013de-2fac-48b5-952d-97e221c4d860",
   "metadata": {},
   "outputs": [],
   "source": [
    "df_hotels_apartments.groupby('accommodation_type')['price'].describe().round(1)"
   ]
  },
  {
   "cell_type": "code",
   "execution_count": null,
   "id": "a50ad6e2-b019-4d9a-aae2-65485f4a5e0f",
   "metadata": {},
   "outputs": [],
   "source": [
    "df_hotels_apartments.groupby('accommodation_type')['distance'].describe().round(2)"
   ]
  },
  {
   "cell_type": "code",
   "execution_count": null,
   "id": "82caf15f-3b79-4437-93b6-300f09029a25",
   "metadata": {},
   "outputs": [],
   "source": [
    "# This is a bit more difficult to read but provides meaningful insight into the differences in pricing.\n",
    "df_hotels_apartments.groupby(['stars','accommodation_type'])['price'].describe().round(1)"
   ]
  },
  {
   "cell_type": "markdown",
   "id": "6d3799d2-5a7a-4d89-a865-ad45a060649f",
   "metadata": {},
   "source": [
    "**A bird-eye view of the differences betweeen the two subsets**"
   ]
  },
  {
   "cell_type": "code",
   "execution_count": null,
   "id": "fc98a65c-d50c-4341-ac24-df4046af0273",
   "metadata": {},
   "outputs": [],
   "source": [
    "sns.lmplot(\n",
    "    data = df_hotels_apartments, \n",
    "    x = 'distance', y = 'lnprice', hue = 'accommodation_type', \n",
    "    height = 5, aspect = 5/4,\n",
    "    ci = None,\n",
    "    scatter_kws = {'s': 6}, line_kws = {'linewidth': 2},\n",
    "    palette = {'Hotel': 'k', 'Apartment': 'indianred'}, legend = False\n",
    ")\n",
    "plt.legend(labelcolor = ['k', 'indianred'], frameon = False)\n",
    "plt.title('Hotel and apartment prices in Vienna, Nov, 2017');"
   ]
  },
  {
   "cell_type": "markdown",
   "id": "ed523e36-6cc1-4a67-a6ec-6b8fdae920fc",
   "metadata": {},
   "source": [
    "#### Regressions"
   ]
  },
  {
   "cell_type": "code",
   "execution_count": null,
   "id": "16278f2d-f183-46ba-b840-0337ba85c017",
   "metadata": {},
   "outputs": [],
   "source": [
    "ls_acc_types = ['Hotel', 'Apartment']"
   ]
  },
  {
   "cell_type": "code",
   "execution_count": null,
   "id": "7e32d4f5-26be-4135-9aa3-6c915ded8099",
   "metadata": {},
   "outputs": [],
   "source": [
    "ls_models = []\n",
    "\n",
    "for acc_type in ls_acc_types:\n",
    "    ls_models.append(\n",
    "        smf.ols(\n",
    "            formula = 'lnprice ~ lspline(distance, 2)', \n",
    "            data = df_hotels_apartments[df_hotels_apartments.accommodation_type == acc_type]\n",
    "        ).fit(cov_type = 'HC0')\n",
    "    )"
   ]
  },
  {
   "cell_type": "code",
   "execution_count": null,
   "id": "18f9b568-5862-4148-9771-22ddd7e258ff",
   "metadata": {},
   "outputs": [],
   "source": [
    "stargazer = Stargazer(ls_models)\n",
    "stargazer.rename_covariates(\n",
    "    {\n",
    "        'Intercept': 'Constant',\n",
    "        'lspline(distance, 2)[0]': 'Distance spline <2',\n",
    "        'lspline(distance, 2)[1]': 'Distance spline 2–7',\n",
    "    }\n",
    ")\n",
    "stargazer.custom_columns(ls_acc_types, [1, 1])\n",
    "stargazer.show_model_numbers(False)\n",
    "stargazer"
   ]
  },
  {
   "cell_type": "code",
   "execution_count": null,
   "id": "8b781a83-6a5f-4dd1-b6c7-e4378fe3d5f9",
   "metadata": {},
   "outputs": [],
   "source": [
    "ls_models"
   ]
  },
  {
   "cell_type": "code",
   "execution_count": null,
   "id": "57b0e1f5-865b-4da1-b225-ed6c56e04e3d",
   "metadata": {},
   "outputs": [],
   "source": [
    "ls_hotels_predicted = ls_models[0].predict()"
   ]
  },
  {
   "cell_type": "code",
   "execution_count": null,
   "id": "0915ae30-9491-4952-a486-5cf284b65b43",
   "metadata": {},
   "outputs": [],
   "source": [
    "ls_apartments_predicted = ls_models[1].predict()"
   ]
  },
  {
   "cell_type": "code",
   "execution_count": null,
   "id": "3641a7a2-67d7-4d03-a3fd-fa3dd5e00b21",
   "metadata": {},
   "outputs": [],
   "source": [
    "fig, ax = plt.subplots()\n",
    "\n",
    "# hotels fitted prices\n",
    "ax.plot(\n",
    "    df_hotels_apartments[df_hotels_apartments.accommodation_type == 'Hotel'].distance, \n",
    "    ls_hotels_predicted, \n",
    "    color = 'k', linestyle = '-.',  label = 'hotels'\n",
    ")\n",
    "\n",
    "# hotels original prices\n",
    "ax.scatter(\n",
    "    df_hotels_apartments[df_hotels_apartments.accommodation_type == 'Hotel'].distance, \n",
    "    df_hotels_apartments[df_hotels_apartments.accommodation_type == 'Hotel'].lnprice,\n",
    "    color = 'k', s = 2)\n",
    "\n",
    "# apartments fitted prices\n",
    "ax.plot(\n",
    "    df_hotels_apartments[df_hotels_apartments.accommodation_type == 'Apartment'].distance, \n",
    "    ls_apartments_predicted, \n",
    "    color = 'indianred', linestyle = '-',  label = 'apartments')\n",
    "\n",
    "# apartments original prices\n",
    "ax.scatter(\n",
    "    df_hotels_apartments[df_hotels_apartments.accommodation_type == 'Apartment'].distance, \n",
    "    df_hotels_apartments[df_hotels_apartments.accommodation_type == 'Apartment'].lnprice,\n",
    "    color = 'indianred', s = 3)\n",
    "\n",
    "plt.legend(labelcolor = ['k', 'indianred'])\n",
    "plt.xlabel('distance in miles')\n",
    "plt.ylabel('log price')\n",
    "plt.title('Regression model fitted values vs original data');"
   ]
  },
  {
   "cell_type": "markdown",
   "id": "2052d4d3-9161-43c9-9d7b-db9250992114",
   "metadata": {},
   "source": [
    "**Question**: What does it mean, that in case of hotels the second spline component is insignificant? How does it show up on this plot?"
   ]
  }
 ],
 "metadata": {
  "kernelspec": {
   "display_name": "Python 3 (ipykernel)",
   "language": "python",
   "name": "python3"
  },
  "language_info": {
   "codemirror_mode": {
    "name": "ipython",
    "version": 3
   },
   "file_extension": ".py",
   "mimetype": "text/x-python",
   "name": "python",
   "nbconvert_exporter": "python",
   "pygments_lexer": "ipython3",
   "version": "3.12.4"
  }
 },
 "nbformat": 4,
 "nbformat_minor": 5
}
