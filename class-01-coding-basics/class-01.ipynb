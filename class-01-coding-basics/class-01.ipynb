{
 "cells": [
  {
   "cell_type": "markdown",
   "id": "910e6af3-ded7-49f2-9af7-9eff86e2cf35",
   "metadata": {},
   "source": [
    "# <center><font color='magenta'>**Python for DA1**</font></center>\n",
    "### <center>Central European University, 2024-2025</center>"
   ]
  },
  {
   "cell_type": "markdown",
   "id": "054d6270-c14a-45f9-ad13-0bea6654d2a5",
   "metadata": {},
   "source": [
    "### Acknowledgments\n",
    "\n",
    "I would like to say thanks to [Roberta Sinatra](https://www.robertasinatra.com/) and [Johannes Wachs](https://johanneswachs.com/) whose work this course was inspired by and party built on. "
   ]
  },
  {
   "cell_type": "markdown",
   "id": "24b9550d-830b-4d73-9067-2e5de3500a27",
   "metadata": {},
   "source": [
    "# <center>Class 1</center>"
   ]
  },
  {
   "cell_type": "markdown",
   "id": "b2c5c9be-ed31-4116-beb5-420df6aef5a4",
   "metadata": {},
   "source": [
    "## Jupyter notebooks"
   ]
  },
  {
   "cell_type": "markdown",
   "id": "99a78033-aab6-4a54-be97-9beb78b01943",
   "metadata": {},
   "source": [
    "This file - a Jupyter notebook -  does not follow the standard pattern with Python code in a text file. Instead, a Jupyter notebook is stored as a file in the [JSON](http://en.wikipedia.org/wiki/JSON) format. The advantage is that we can mix formatted text, Python code and code output. It requires the Jupyter notebook server to run it though, and therefore isn't a stand-alone Python program as described above. Other than that, there is no difference between the Python code that goes into a program file or a Jupyter notebook.\n",
    "We will return to JSON files later, when we will work with dictionaries, and advanced data structures."
   ]
  },
  {
   "cell_type": "markdown",
   "id": "ca96d9a6-33bf-4577-ab35-e3614c0de5c2",
   "metadata": {},
   "source": [
    "## Variables and types"
   ]
  },
  {
   "cell_type": "markdown",
   "id": "e6422230-3684-41b4-9d8f-d820e4c709dd",
   "metadata": {},
   "source": [
    "### Symbol names "
   ]
  },
  {
   "cell_type": "markdown",
   "id": "fe4e4c8d-d86c-462a-a6a6-37a3b2ae2e2b",
   "metadata": {},
   "source": [
    "Variable names in Python can contain alphanumerical characters `a-z`, `A-Z`, `0-9` and some special characters such as `_`. Normal variable names must start with a letter. \n",
    "\n",
    "By convention, variable names start with a lower-case letter, and Class names start with a capital letter. \n",
    "\n",
    "In addition, there are a number of Python keywords **that cannot be used as variable names**. These keywords are:\n",
    "\n",
    "    and, as, assert, break, class, continue, def, del, elif, else, except, \n",
    "    exec, finally, for, from, global, if, import, in, is, lambda, not, or,\n",
    "    pass, print, raise, return, try, while, with, yield\n",
    "\n",
    "Note: Be aware of the keyword `lambda`, which could easily be a natural variable name in a scientific program. But being a keyword, it cannot be used as a variable name."
   ]
  },
  {
   "cell_type": "markdown",
   "id": "1c183a23-528c-495a-8b74-8a16c7c378b7",
   "metadata": {
    "tags": []
   },
   "source": [
    "### Assignment"
   ]
  },
  {
   "cell_type": "markdown",
   "id": "df3777a7-ff6d-48fe-8cb3-0f59d0a3a5de",
   "metadata": {},
   "source": [
    "\n",
    "\n",
    "The assignment operator in Python is `=`. Python is a dynamically typed language, so we do not need to specify the type of a variable when we create one.\n",
    "\n",
    "Assigning a value to a new variable creates the variable:"
   ]
  },
  {
   "cell_type": "code",
   "execution_count": null,
   "id": "4f77db5a-d310-4856-b220-3eb4463ff983",
   "metadata": {},
   "outputs": [],
   "source": [
    "a = 3"
   ]
  },
  {
   "cell_type": "code",
   "execution_count": null,
   "id": "f1072c79-9e2a-4d08-8d9a-1a5c2d92d0de",
   "metadata": {},
   "outputs": [],
   "source": [
    "type(a)"
   ]
  },
  {
   "cell_type": "code",
   "execution_count": null,
   "id": "e85dcb32-e0d4-4779-ba67-ee7c7f668bd1",
   "metadata": {},
   "outputs": [],
   "source": [
    "b = 1.2"
   ]
  },
  {
   "cell_type": "code",
   "execution_count": null,
   "id": "3e309e7f-bf4c-41ea-9bc2-52446c87fbca",
   "metadata": {},
   "outputs": [],
   "source": [
    "type(b)"
   ]
  },
  {
   "cell_type": "code",
   "execution_count": null,
   "id": "6e244429-d8d2-45f6-8ff7-3dd134a62871",
   "metadata": {},
   "outputs": [],
   "source": [
    "c = 'a'"
   ]
  },
  {
   "cell_type": "code",
   "execution_count": null,
   "id": "602b5d80-fee9-497d-a319-d76d8554a3ac",
   "metadata": {},
   "outputs": [],
   "source": [
    "type(c)"
   ]
  },
  {
   "cell_type": "code",
   "execution_count": null,
   "id": "521b0c07-ddc0-47c0-968e-0272eaf06deb",
   "metadata": {},
   "outputs": [],
   "source": [
    "d = 'abc'"
   ]
  },
  {
   "cell_type": "code",
   "execution_count": null,
   "id": "114092db-a0ef-4ede-90c0-2bb78246a994",
   "metadata": {},
   "outputs": [],
   "source": [
    "type(d)"
   ]
  },
  {
   "cell_type": "markdown",
   "id": "63658297-7a01-45dc-b7a8-1595c063ba5f",
   "metadata": {},
   "source": [
    "Variables can easily be casted into other types."
   ]
  },
  {
   "cell_type": "code",
   "execution_count": null,
   "id": "f4ef995e-d393-4351-a4cf-8b3d77d18eac",
   "metadata": {},
   "outputs": [],
   "source": [
    "float(a)"
   ]
  },
  {
   "cell_type": "code",
   "execution_count": null,
   "id": "49f1f041-dc7c-4b4f-8f9f-13b8eb729b47",
   "metadata": {},
   "outputs": [],
   "source": [
    "str(a)"
   ]
  },
  {
   "cell_type": "code",
   "execution_count": null,
   "id": "188f827a-1614-46fd-af1d-7cf16f70449b",
   "metadata": {},
   "outputs": [],
   "source": [
    "int(b)"
   ]
  },
  {
   "cell_type": "markdown",
   "id": "510d03ca-d094-4331-9cbc-e3c487f9d9c9",
   "metadata": {},
   "source": [
    "When reassigned with a new value, its type can change. "
   ]
  },
  {
   "cell_type": "code",
   "execution_count": null,
   "id": "2c66a7d4-2797-4ace-956b-a353908ba0e5",
   "metadata": {},
   "outputs": [],
   "source": [
    "a = 1.3\n",
    "type(a)"
   ]
  },
  {
   "cell_type": "markdown",
   "id": "5ae02108-2fa5-4087-8fc7-fbd1670d874c",
   "metadata": {},
   "source": [
    "All characters have a respective number by which they are referred to. "
   ]
  },
  {
   "cell_type": "code",
   "execution_count": null,
   "id": "b29e0f39-6d41-4c39-86d8-c3fb4591d41e",
   "metadata": {},
   "outputs": [],
   "source": [
    "chr(42)"
   ]
  },
  {
   "cell_type": "markdown",
   "id": "1a45559b-e197-4352-855e-6d42e8e7b610",
   "metadata": {},
   "source": [
    "### Fundamental types"
   ]
  },
  {
   "cell_type": "code",
   "execution_count": null,
   "id": "c1e68afd-b003-42af-8100-575d4bfcf499",
   "metadata": {},
   "outputs": [],
   "source": [
    "# integers\n",
    "x = 1\n",
    "type(x)"
   ]
  },
  {
   "cell_type": "code",
   "execution_count": null,
   "id": "78ee9404-22af-4d17-bc40-f0b0041ceda9",
   "metadata": {},
   "outputs": [],
   "source": [
    "# float\n",
    "x = 1.0\n",
    "type(x)"
   ]
  },
  {
   "cell_type": "code",
   "execution_count": null,
   "id": "eb0c2cf5-df9e-415f-b10d-ec283d822cf6",
   "metadata": {},
   "outputs": [],
   "source": [
    "# boolean\n",
    "b1 = True\n",
    "b2 = False\n",
    "\n",
    "type(b1)"
   ]
  },
  {
   "cell_type": "code",
   "execution_count": null,
   "id": "5b293ebc-06b3-4c01-b014-047fa43a7c0a",
   "metadata": {},
   "outputs": [],
   "source": [
    "# complex numbers: note the use of `j` to specify the imaginary part\n",
    "x = 1.0 - 1.0j\n",
    "type(x)"
   ]
  },
  {
   "cell_type": "code",
   "execution_count": null,
   "id": "20945f9c-94bc-45d1-9961-5bf51acea14a",
   "metadata": {},
   "outputs": [],
   "source": [
    "b1"
   ]
  },
  {
   "cell_type": "code",
   "execution_count": null,
   "id": "be785445-7da6-4cdf-b724-e444ceb9d540",
   "metadata": {},
   "outputs": [],
   "source": [
    "print(x)"
   ]
  },
  {
   "cell_type": "code",
   "execution_count": null,
   "id": "98715439-ce11-4271-bf7e-f923eb50ba77",
   "metadata": {},
   "outputs": [],
   "source": [
    "print(x.real, x.imag)"
   ]
  },
  {
   "cell_type": "markdown",
   "id": "9dc127b5-dc5f-4019-bb2c-2e2abc27791e",
   "metadata": {},
   "source": [
    "### Operators"
   ]
  },
  {
   "cell_type": "markdown",
   "id": "36be213f-6b27-4504-b0b7-d420c1c12a86",
   "metadata": {},
   "source": [
    "arithmetic"
   ]
  },
  {
   "cell_type": "code",
   "execution_count": null,
   "id": "bf8b05ce-b743-4b57-a02c-f94cb604ae23",
   "metadata": {},
   "outputs": [],
   "source": [
    "1 + 2, 1 - 2, 1 * 2, 1 / 2"
   ]
  },
  {
   "cell_type": "code",
   "execution_count": null,
   "id": "0e7c2924-7a5b-4f59-b9ff-71fb3f9fc4a3",
   "metadata": {},
   "outputs": [],
   "source": [
    "# Integer division of float numbers\n",
    "3.0 // 2.0"
   ]
  },
  {
   "cell_type": "code",
   "execution_count": null,
   "id": "ea920af7-fadd-4528-92ca-9de6f0004568",
   "metadata": {},
   "outputs": [],
   "source": [
    "# Power is ** not ^\n",
    "2**3"
   ]
  },
  {
   "cell_type": "code",
   "execution_count": null,
   "id": "9af086c7-5ea4-45e4-baac-991af44470c4",
   "metadata": {},
   "outputs": [],
   "source": [
    "# / always results in floats\n",
    "2 / 1"
   ]
  },
  {
   "cell_type": "code",
   "execution_count": null,
   "id": "65ca7e18-65ed-4657-bb1b-51b725a1f62c",
   "metadata": {},
   "outputs": [],
   "source": [
    "# if you need intergers use integer division instead\n",
    "2 // 1"
   ]
  },
  {
   "cell_type": "code",
   "execution_count": null,
   "id": "68a3e56f-18a5-44a4-97ae-d5d39103cdeb",
   "metadata": {},
   "outputs": [],
   "source": [
    "# Modulo\n",
    "7%3"
   ]
  },
  {
   "cell_type": "markdown",
   "id": "4381175a-2579-41fd-be46-6add8c967965",
   "metadata": {},
   "source": [
    "boolean"
   ]
  },
  {
   "cell_type": "code",
   "execution_count": null,
   "id": "095e9403-1cea-421d-b1a6-f1976fcd4e99",
   "metadata": {},
   "outputs": [],
   "source": [
    "True and False"
   ]
  },
  {
   "cell_type": "code",
   "execution_count": null,
   "id": "adafd36c-bf4c-4cce-8392-3129315e95a4",
   "metadata": {},
   "outputs": [],
   "source": [
    "not False"
   ]
  },
  {
   "cell_type": "code",
   "execution_count": null,
   "id": "2ced3b32-ed48-4842-8a47-bab5a7624af9",
   "metadata": {},
   "outputs": [],
   "source": [
    "True or False"
   ]
  },
  {
   "cell_type": "markdown",
   "id": "7145ede3-3656-4552-a428-d8465d7ade9e",
   "metadata": {},
   "source": [
    "comparison"
   ]
  },
  {
   "cell_type": "code",
   "execution_count": null,
   "id": "e5ddc557-b31c-4d50-b489-4869b07ec76d",
   "metadata": {},
   "outputs": [],
   "source": [
    "a = 2\n",
    "b = 3\n",
    "c = 3"
   ]
  },
  {
   "cell_type": "code",
   "execution_count": null,
   "id": "cf04ab01-ffa0-440d-848b-5c0220bb6d1b",
   "metadata": {},
   "outputs": [],
   "source": [
    "a > b"
   ]
  },
  {
   "cell_type": "code",
   "execution_count": null,
   "id": "84480dfd-d5ab-4cd8-bd7f-586e1b25bf70",
   "metadata": {},
   "outputs": [],
   "source": [
    "b == c"
   ]
  },
  {
   "cell_type": "code",
   "execution_count": null,
   "id": "cf8b7eab-3f54-401a-920b-fed16d179926",
   "metadata": {},
   "outputs": [],
   "source": [
    "b is c"
   ]
  },
  {
   "cell_type": "code",
   "execution_count": null,
   "id": "5ed3de72-2678-4a63-9e35-d7fbea640b4f",
   "metadata": {},
   "outputs": [],
   "source": [
    "True == 1"
   ]
  },
  {
   "cell_type": "markdown",
   "id": "90c2548d-3614-4e28-b482-a789e45892ff",
   "metadata": {},
   "source": [
    "### Strings\n",
    "\n",
    "**Intro**"
   ]
  },
  {
   "cell_type": "code",
   "execution_count": null,
   "id": "599f3d22-85c0-4bb1-baeb-f7b35bcabb70",
   "metadata": {},
   "outputs": [],
   "source": [
    "s = 'Hello Monty!'"
   ]
  },
  {
   "cell_type": "code",
   "execution_count": null,
   "id": "3fc0b630-067d-45a1-a202-8af47010f911",
   "metadata": {},
   "outputs": [],
   "source": [
    "s"
   ]
  },
  {
   "cell_type": "code",
   "execution_count": null,
   "id": "07f92eb9-0ffa-4813-8f99-05a84d9e865f",
   "metadata": {},
   "outputs": [],
   "source": [
    "print(s)"
   ]
  },
  {
   "cell_type": "markdown",
   "id": "2268cc5c-70ff-4dc2-a9fd-3ef277882bd0",
   "metadata": {},
   "source": [
    "Double quotes work as well. However, they are still not treated the same. (See later.)"
   ]
  },
  {
   "cell_type": "code",
   "execution_count": null,
   "id": "bb67b50d-10b8-460e-85de-e6dddbfe28d0",
   "metadata": {},
   "outputs": [],
   "source": [
    "s2 = \"Hello Monthy!\"\n",
    "s2"
   ]
  },
  {
   "cell_type": "code",
   "execution_count": null,
   "id": "e55ab7f0-e7a9-46a1-986e-767e556cc005",
   "metadata": {},
   "outputs": [],
   "source": [
    "len(s) # get length"
   ]
  },
  {
   "cell_type": "code",
   "execution_count": null,
   "id": "167c5e15-bb3f-4ca9-b790-b01256325f69",
   "metadata": {},
   "outputs": [],
   "source": [
    "print(s.replace('Monty', 'Python'))"
   ]
  },
  {
   "cell_type": "markdown",
   "id": "ca01b851-0c24-42fd-9f8c-69c7bc711a6f",
   "metadata": {},
   "source": [
    "*Indexing* starts at 0 in Python. "
   ]
  },
  {
   "cell_type": "code",
   "execution_count": null,
   "id": "d6d2500c-9526-4bc7-b605-4e9ea500e21a",
   "metadata": {},
   "outputs": [],
   "source": [
    "s[0:5]"
   ]
  },
  {
   "cell_type": "code",
   "execution_count": null,
   "id": "8361ab1a-d852-4e1c-ab28-d20535368e92",
   "metadata": {},
   "outputs": [],
   "source": [
    "s[-6:]"
   ]
  },
  {
   "cell_type": "code",
   "execution_count": null,
   "id": "08a0f621-7e10-4af5-9406-dcb1b5d2b41e",
   "metadata": {},
   "outputs": [],
   "source": [
    "s[1:9:2] # start, stop, step"
   ]
  },
  {
   "cell_type": "code",
   "execution_count": null,
   "id": "fd2c22c2-fed1-4b99-9e3c-2a08d17310ce",
   "metadata": {},
   "outputs": [],
   "source": [
    "s[::2] # start and stop are missing so we are stepping along the whole string"
   ]
  },
  {
   "cell_type": "markdown",
   "id": "d0bc8d58-3cd4-4eb2-8767-50f523d9b9d5",
   "metadata": {},
   "source": [
    "**Manipulate and print**"
   ]
  },
  {
   "cell_type": "code",
   "execution_count": null,
   "id": "a0fb5084-0ed2-4899-9ba5-b757babceea0",
   "metadata": {},
   "outputs": [],
   "source": [
    "s = 'Hello Monty Python!'"
   ]
  },
  {
   "cell_type": "markdown",
   "id": "6b1ad08d-fb13-4d1c-a0e1-c04af8aaa678",
   "metadata": {},
   "source": [
    "split() splits the text to a complex variable called `list`. "
   ]
  },
  {
   "cell_type": "code",
   "execution_count": null,
   "id": "d9800cf6-b0bf-44d6-951c-76df50d6a75d",
   "metadata": {},
   "outputs": [],
   "source": [
    "s.split(' ')"
   ]
  },
  {
   "cell_type": "code",
   "execution_count": null,
   "id": "c77cbd59-af55-4bfd-bea8-dadd6e934eef",
   "metadata": {},
   "outputs": [],
   "source": [
    "s.split('M')"
   ]
  },
  {
   "cell_type": "code",
   "execution_count": null,
   "id": "5d77ec4a-4a9a-47fe-a572-aea830f9d073",
   "metadata": {},
   "outputs": [],
   "source": [
    "s.split(' ')[1]"
   ]
  },
  {
   "cell_type": "markdown",
   "id": "de50ecb6-1fd9-4f02-8619-c0ee31caedcf",
   "metadata": {},
   "source": [
    "Functions can directly be applied to the text itself. "
   ]
  },
  {
   "cell_type": "code",
   "execution_count": null,
   "id": "15271b4d-6927-4537-b7b7-5f16105dc163",
   "metadata": {},
   "outputs": [],
   "source": [
    "'Hello Monty Python!'.split(' ')[1]"
   ]
  },
  {
   "cell_type": "markdown",
   "id": "e171722e-20cc-4e4a-b1b4-154394190dcb",
   "metadata": {},
   "source": [
    "Combine \" and ' to print quotation marks. "
   ]
  },
  {
   "cell_type": "code",
   "execution_count": null,
   "id": "183848fb-24d8-494c-bc56-72d3c9d649c4",
   "metadata": {},
   "outputs": [],
   "source": [
    "s = \"Hello Monty 'Holy Grail' Python!\"\n",
    "print(s)"
   ]
  },
  {
   "cell_type": "code",
   "execution_count": null,
   "id": "6af441ac-0e32-4981-a5ca-517cffac0330",
   "metadata": {},
   "outputs": [],
   "source": [
    "# this will throw an error\n",
    "s = 'Hello Monty 'Holy Grail' Python!'"
   ]
  },
  {
   "cell_type": "markdown",
   "id": "a290f27e-dae6-494a-a3b4-0e419a1661c4",
   "metadata": {},
   "source": [
    "Special characters: \\n, \\t and alike. "
   ]
  },
  {
   "cell_type": "code",
   "execution_count": null,
   "id": "7a5fd1b2-16c9-4f9f-b2d8-299c968cc4ed",
   "metadata": {},
   "outputs": [],
   "source": [
    "s = 'Hello \\n Monthy!'\n",
    "print(s)"
   ]
  },
  {
   "cell_type": "markdown",
   "id": "bea236d2-1195-44d0-88b0-ac81ad0d1d18",
   "metadata": {},
   "source": [
    "Use another backslash (\\\\) to escape the escape character."
   ]
  },
  {
   "cell_type": "code",
   "execution_count": null,
   "id": "b98819cb-cd16-445b-a18e-01a3a6bad479",
   "metadata": {},
   "outputs": [],
   "source": [
    "s = 'Hello \\\\n Monthy!'\n",
    "print(s)"
   ]
  },
  {
   "cell_type": "markdown",
   "id": "f50da496-0b02-416d-a00a-738fa4c2cfc1",
   "metadata": {},
   "source": [
    "Start strings with the letter <font color= 'magenta'>**r**</font> to define *raw strings*. Raw strings are printed and interpreted as they are. "
   ]
  },
  {
   "cell_type": "code",
   "execution_count": null,
   "id": "451f3b71-0b42-4015-b093-a05fb5a33c45",
   "metadata": {},
   "outputs": [],
   "source": [
    "print('Hello \\t Monthy!') # plain\n",
    "print(r'Hello \\t Monthy!') # raw"
   ]
  },
  {
   "cell_type": "markdown",
   "id": "bf72517c-0701-41e4-90a9-e51356fe384e",
   "metadata": {},
   "source": [
    "Raw strings are espcially useful when defining Windows paths. (Not an issue in Linux & Mac.)"
   ]
  },
  {
   "cell_type": "code",
   "execution_count": null,
   "id": "ba5376fc-1e2b-4728-85f5-c92befb06e66",
   "metadata": {},
   "outputs": [],
   "source": [
    "# this will throw an error\n",
    "print('C:\\Users')"
   ]
  },
  {
   "cell_type": "code",
   "execution_count": null,
   "id": "a8551ef0-3d09-4c2d-b992-34921ab297ec",
   "metadata": {},
   "outputs": [],
   "source": [
    "print(r'C:\\Users')"
   ]
  },
  {
   "cell_type": "markdown",
   "id": "44550554-daf2-49d4-b4cc-8391406b92b9",
   "metadata": {},
   "source": [
    "\"\\\\\" is the *escape character* that's why it creates a mess in strings. You can also escpate the escape character with an escape character."
   ]
  },
  {
   "cell_type": "code",
   "execution_count": null,
   "id": "5defb4ca-ef40-4242-82c6-bfcc9fa0d589",
   "metadata": {},
   "outputs": [],
   "source": [
    "print('C:\\\\Users') # Not an optimal solution in case of long paths. "
   ]
  },
  {
   "cell_type": "markdown",
   "id": "0e17fa7d-006a-4e4a-ba49-3fcd506eccbe",
   "metadata": {},
   "source": [
    "Concatenating"
   ]
  },
  {
   "cell_type": "code",
   "execution_count": null,
   "id": "a998aaec-de1a-4857-8a55-a96eb14e28f2",
   "metadata": {},
   "outputs": [],
   "source": [
    "'Monthy' + 'Python'"
   ]
  },
  {
   "cell_type": "code",
   "execution_count": null,
   "id": "a3df399f-a908-4ba4-bd52-9a9543961f20",
   "metadata": {},
   "outputs": [],
   "source": [
    "''.join(['Monthy', 'Python'])"
   ]
  },
  {
   "cell_type": "code",
   "execution_count": null,
   "id": "a6c67d55-20c4-4d40-acbf-a12db9739554",
   "metadata": {},
   "outputs": [],
   "source": [
    "' '.join(['Monthy', 'Python']) # Note the space between the parenthesis. "
   ]
  },
  {
   "cell_type": "markdown",
   "id": "552e89d0-c2ed-4fb8-a400-261d7999e540",
   "metadata": {},
   "source": [
    "**Some more tweaking and formatting**"
   ]
  },
  {
   "cell_type": "markdown",
   "id": "89d11e76-6e91-4326-848f-3e8a13da6755",
   "metadata": {},
   "source": [
    "Use special characters to include variables in text.\n",
    "- %s: strings\n",
    "- %f: floats\n",
    "- %d: integers"
   ]
  },
  {
   "cell_type": "code",
   "execution_count": null,
   "id": "d37f4f18-96e0-486d-bd09-2b30110c39d0",
   "metadata": {},
   "outputs": [],
   "source": [
    "print('Hello, I am %s, I have been working for here for %f years and this is Python Class %d.'% ('Jenny', 2.5, 1))"
   ]
  },
  {
   "cell_type": "code",
   "execution_count": null,
   "id": "15e762a2-6293-4b46-b385-5c0bf460f6a8",
   "metadata": {},
   "outputs": [],
   "source": [
    "# What if we replace %f with %s or %d?\n",
    "print('Hello, I am %s, I have been working here for %s years and this is Python Class %d.'% ('Jenny', 2.5, 1))\n",
    "print('Hello, I am %s, I have been working here for %d years and this is Python Class %f.'% ('Jenny', 2.5, 1))"
   ]
  },
  {
   "cell_type": "markdown",
   "id": "c14fd5ff-7d85-49ae-8423-c2139affc850",
   "metadata": {},
   "source": [
    "We can even format the numbers."
   ]
  },
  {
   "cell_type": "code",
   "execution_count": null,
   "id": "86693c53-775c-419a-bc4e-a26c05d9b5df",
   "metadata": {},
   "outputs": [],
   "source": [
    "print('Hello, I am %s, I have been working here for %.2f years and this is Python Class %d.'% ('Jenny', 2.5, 1))"
   ]
  },
  {
   "cell_type": "markdown",
   "id": "90310fa7-8037-4deb-855c-387371ee5b5b",
   "metadata": {},
   "source": [
    "The other way is use *f-strings*."
   ]
  },
  {
   "cell_type": "code",
   "execution_count": null,
   "id": "27574aef-d990-4e14-b7ea-74b5ba31b3a4",
   "metadata": {},
   "outputs": [],
   "source": [
    "name = 'Jenny'\n",
    "classnumber = 1\n",
    "print(f'Hello, I am {name} and this is Python class {classnumber}.')"
   ]
  },
  {
   "cell_type": "markdown",
   "id": "4c7dbf08-0fd2-484b-9b32-deaf73f55338",
   "metadata": {},
   "source": [
    "Use *f-strings* in your scripts to write queries. (A quick intro to SQL.)"
   ]
  },
  {
   "cell_type": "code",
   "execution_count": null,
   "id": "667ae81d-da4f-43b7-8f0b-98b413e2f224",
   "metadata": {},
   "outputs": [],
   "source": [
    "database = 'SALES'\n",
    "table = 'WEBSHOP_SALES'\n",
    "month = '8'\n",
    "day = 20 # both strings and integers will work\n",
    "\n",
    "# using three consecutive double quotes you can write multiline strings\n",
    "\n",
    "query = f\"\"\"\n",
    "SELECT *\n",
    "FROM {database}.{table}\n",
    "WHERE month = {month}\n",
    "AND day = {day}\n",
    "\"\"\"\n",
    "\n",
    "print(query)"
   ]
  },
  {
   "cell_type": "markdown",
   "id": "387feade-2f2b-4cd6-b917-6465786c8b47",
   "metadata": {},
   "source": [
    "Why do you think the following query will result in a *fail*?"
   ]
  },
  {
   "cell_type": "code",
   "execution_count": null,
   "id": "f549f091-d46b-447e-8575-eeed83e891f9",
   "metadata": {},
   "outputs": [],
   "source": [
    "database = 'SALES'\n",
    "table = 'WEBSHOP_SALES'\n",
    "month = 'April' # this will lead a query to error! \n",
    "day = 20 # both strings and integers will work\n",
    "\n",
    "query = f\"\"\"\n",
    "SELECT *\n",
    "FROM {database}.{table}\n",
    "WHERE month = {month}\n",
    "AND day = {day}\n",
    "\"\"\"\n",
    "\n",
    "print(query)"
   ]
  },
  {
   "cell_type": "code",
   "execution_count": null,
   "id": "c5f7aef4-74c6-4f8c-a1df-893ad015a15e",
   "metadata": {},
   "outputs": [],
   "source": [
    "database = 'SALES'\n",
    "table = 'WEBSHOP_SALES'\n",
    "month = 'April'\n",
    "day = 20 # both strings and integers will work\n",
    "\n",
    "query = f\"\"\"\n",
    "SELECT *\n",
    "FROM {database}.{table}\n",
    "WHERE month = '{month}'\n",
    "AND day = {day}\n",
    "\"\"\"\n",
    "\n",
    "print(query)"
   ]
  },
  {
   "cell_type": "markdown",
   "id": "8bd43b78-e949-4759-bdb4-ff1022b41451",
   "metadata": {},
   "source": [
    "And of course there are even more ways to format text."
   ]
  },
  {
   "cell_type": "code",
   "execution_count": null,
   "id": "5d2c94f1-3f1b-444a-8ea5-0a09705d128f",
   "metadata": {},
   "outputs": [],
   "source": [
    "print('{} divided by {} is {}.'.format(2000,1500,2000/1500))"
   ]
  },
  {
   "cell_type": "markdown",
   "id": "bc190d4f-7293-4e1d-bb3f-6162112e4c66",
   "metadata": {},
   "source": [
    "Some fancier formatting. "
   ]
  },
  {
   "cell_type": "code",
   "execution_count": null,
   "id": "e83c9d23-429f-4369-808e-873e0e32ada5",
   "metadata": {},
   "outputs": [],
   "source": [
    "print('{:,d} divided by {:,.0f} is {:.2f}.'.format(2000,1500,2000/1500))"
   ]
  },
  {
   "cell_type": "code",
   "execution_count": null,
   "id": "a515a1f1-1a66-4119-9466-c93442a1f340",
   "metadata": {},
   "outputs": [],
   "source": [
    "print('{:8.2f}'.format(10/3))\n",
    "print('{:8.2f}'.format(100/3))\n",
    "print('{:8.2f}'.format(1000/3))\n",
    "print('{:8.2f}'.format(10000/3))\n",
    "print('{:8.2f}'.format(100000/3))\n",
    "print('{:8.2f}'.format(1000000/3))"
   ]
  },
  {
   "cell_type": "code",
   "execution_count": null,
   "id": "534232af-563b-45ee-a0b2-419e0a491e72",
   "metadata": {},
   "outputs": [],
   "source": [
    "print('{:8,.2f}'.format(100000/3)) # Add a thousand separator."
   ]
  },
  {
   "cell_type": "markdown",
   "id": "09c3b976-f030-44f7-9364-c8a71c1b8775",
   "metadata": {},
   "source": [
    "**Logical operations with strings**"
   ]
  },
  {
   "cell_type": "code",
   "execution_count": null,
   "id": "5ffa13a0-7e8d-44fd-8d13-ea6a0943ddc7",
   "metadata": {},
   "outputs": [],
   "source": [
    "s = 'Java, C++, COBOL '\n",
    "'Python' in s"
   ]
  },
  {
   "cell_type": "code",
   "execution_count": null,
   "id": "d114fd80-0696-44ca-a1f3-86b43d9c08f4",
   "metadata": {},
   "outputs": [],
   "source": [
    "s = 'Monthy Python'\n",
    "'Python' in s"
   ]
  },
  {
   "cell_type": "markdown",
   "id": "f3e856fc-7fe0-4624-8cda-144862b7d10b",
   "metadata": {},
   "source": [
    "## Basic Data Structures"
   ]
  },
  {
   "cell_type": "markdown",
   "id": "a9896cdb-67d7-4874-bae0-5f6ffc231e06",
   "metadata": {},
   "source": [
    "Python has four built-in general purpose containers: `lists`, `tuples`, `dictionaries` and `sets`. "
   ]
  },
  {
   "cell_type": "markdown",
   "id": "b2806de6-4be1-4f93-955f-36e9ef61df0e",
   "metadata": {},
   "source": [
    "### Lists"
   ]
  },
  {
   "cell_type": "markdown",
   "id": "731dfc18-3ef1-408f-b9b5-d245710ee686",
   "metadata": {},
   "source": [
    "Python lists are one of the most used datatypes. They can contain elemets of various types which makes them very popuplar but this feature makes large lists memory inefficient! "
   ]
  },
  {
   "cell_type": "code",
   "execution_count": null,
   "id": "2b3d3217-d33b-4b28-93b4-42e36884150f",
   "metadata": {},
   "outputs": [],
   "source": [
    "l = [1, 2, 3, 's', 1.2]"
   ]
  },
  {
   "cell_type": "code",
   "execution_count": null,
   "id": "525d8fc2-99cc-4992-8cf1-141a8d0a0f9d",
   "metadata": {},
   "outputs": [],
   "source": [
    "print(type(l))"
   ]
  },
  {
   "cell_type": "markdown",
   "id": "d0396f81-af3e-49fd-a98e-bab4470df447",
   "metadata": {},
   "source": [
    "Lists can also contain other lists so lists can be *nested*. "
   ]
  },
  {
   "cell_type": "code",
   "execution_count": null,
   "id": "ada3bdda-e719-4d39-af43-3baae22f20cf",
   "metadata": {},
   "outputs": [],
   "source": [
    "b = 'Monthy Python'\n",
    "l = [1, 2, ['a', b]]"
   ]
  },
  {
   "cell_type": "code",
   "execution_count": null,
   "id": "891e3c99-2af9-4023-8397-6581ff1ce08b",
   "metadata": {},
   "outputs": [],
   "source": [
    "l"
   ]
  },
  {
   "cell_type": "code",
   "execution_count": null,
   "id": "f6d4ae0a-0c5d-4e3f-8fbf-96b8287ccaf3",
   "metadata": {},
   "outputs": [],
   "source": [
    "l[2][1]"
   ]
  },
  {
   "cell_type": "markdown",
   "id": "868dc580-18a0-4248-9e10-f67b69f9947c",
   "metadata": {},
   "source": [
    "The classmethod *reverse()* reverses the list **in place**, that is it modifies the list which stays like that."
   ]
  },
  {
   "cell_type": "code",
   "execution_count": null,
   "id": "a241325f-cdac-45b1-afb8-f5790c91dda2",
   "metadata": {},
   "outputs": [],
   "source": [
    "l.reverse()\n",
    "l"
   ]
  },
  {
   "cell_type": "markdown",
   "id": "a82ae8d3-5fb0-470d-83b1-be47a706b4a5",
   "metadata": {},
   "source": [
    "When the type match, they can also be sorted, also in place."
   ]
  },
  {
   "cell_type": "code",
   "execution_count": null,
   "id": "837b04be-19ab-4144-b016-06d281b2d968",
   "metadata": {},
   "outputs": [],
   "source": [
    "l = ['f', 'a', 'z', 't']\n",
    "l.sort()\n",
    "l"
   ]
  },
  {
   "cell_type": "markdown",
   "id": "5d569eb1-1317-46cc-a6a9-41ccea1c6db4",
   "metadata": {},
   "source": [
    "Loops and control flows are the subjects of later classes but you can iterate on lists:"
   ]
  },
  {
   "cell_type": "code",
   "execution_count": null,
   "id": "d2774455-52ad-4e6c-87ec-30a106f9221f",
   "metadata": {},
   "outputs": [],
   "source": [
    "for mickey in l:\n",
    "    print(mickey)"
   ]
  },
  {
   "cell_type": "markdown",
   "id": "e356cfe0-b118-4eb4-a2ce-54dbb628862c",
   "metadata": {},
   "source": [
    "Lists play a very important role in Python. For example they are used in loops and other flow control structures (discussed later). There are a number of convenient functions for generating lists of various types, for example the `range` function:"
   ]
  },
  {
   "cell_type": "code",
   "execution_count": null,
   "id": "7d7b9bf3-157e-4caa-a362-049831c16dd6",
   "metadata": {},
   "outputs": [],
   "source": [
    "start = 10\n",
    "stop = 20\n",
    "step = 2\n",
    "list(range(start, stop, step)) # 'start is included in the list but 'stop' in not ! "
   ]
  },
  {
   "cell_type": "code",
   "execution_count": null,
   "id": "d137a814-18ce-4ea6-a530-40e356c6b80a",
   "metadata": {},
   "outputs": [],
   "source": [
    "list(range(10)) # with one integer input parameter you'll get a list from zero to 'stop' with an increment valae of 1"
   ]
  },
  {
   "cell_type": "code",
   "execution_count": null,
   "id": "9d4a516d-87a6-487b-87e8-b5853068180d",
   "metadata": {},
   "outputs": [],
   "source": [
    "range(10)"
   ]
  },
  {
   "cell_type": "code",
   "execution_count": null,
   "id": "91b1bce5-cf05-4daf-9d44-bd9bb771c5b0",
   "metadata": {},
   "outputs": [],
   "source": [
    "type(range(10))"
   ]
  },
  {
   "cell_type": "markdown",
   "id": "14cc78b4-7e82-4b8a-84da-2204125b40b5",
   "metadata": {},
   "source": [
    " List can be modified, so they are *mutable*."
   ]
  },
  {
   "cell_type": "code",
   "execution_count": null,
   "id": "6af2770c-a81c-431e-ba91-882a05ece475",
   "metadata": {},
   "outputs": [],
   "source": [
    "l1 = [] # instantiate an empty list"
   ]
  },
  {
   "cell_type": "code",
   "execution_count": null,
   "id": "b5228fa2-e504-4a8e-bc66-c953900b3580",
   "metadata": {},
   "outputs": [],
   "source": [
    "l1.append(1)\n",
    "l1.append('a')\n",
    "l1.append(1.2)\n",
    "l1"
   ]
  },
  {
   "cell_type": "code",
   "execution_count": null,
   "id": "ef1b1dca-439c-4472-9c04-c2c6412ae026",
   "metadata": {},
   "outputs": [],
   "source": [
    "import numpy as np\n",
    "l2 = ['Python', 15, np.random.rand(2,2)] # np.random.rand(2,2) creates a 2x2 matrix with random numbers in the [0,1] interval in its elements\n",
    "l2"
   ]
  },
  {
   "cell_type": "code",
   "execution_count": null,
   "id": "33dde145-8b84-4f23-95c0-b30f689023d2",
   "metadata": {},
   "outputs": [],
   "source": [
    "l = l1 + l2 # concatenate the two lists\n",
    "l"
   ]
  },
  {
   "cell_type": "code",
   "execution_count": null,
   "id": "4275c631-54e1-477e-baa9-59873fd5e713",
   "metadata": {},
   "outputs": [],
   "source": [
    "len(l) # length"
   ]
  },
  {
   "cell_type": "markdown",
   "id": "2b438613-a552-414c-b075-27bada475089",
   "metadata": {},
   "source": [
    "List slicing: `l[start:stop]`, where \n",
    "- indexing starts at 0\n",
    "- `'start'` is included while `'stop'` is not"
   ]
  },
  {
   "cell_type": "code",
   "execution_count": null,
   "id": "252202c7-55f2-4651-acfe-bdea226b2326",
   "metadata": {},
   "outputs": [],
   "source": [
    "l[1:4]"
   ]
  },
  {
   "cell_type": "code",
   "execution_count": null,
   "id": "99de9d83-32cf-4a58-88df-18f585a3009c",
   "metadata": {},
   "outputs": [],
   "source": [
    "l[-1] # the last element is indexed as -1"
   ]
  },
  {
   "cell_type": "code",
   "execution_count": null,
   "id": "85854cb7-1a29-4f78-9c6c-369ef912551c",
   "metadata": {},
   "outputs": [],
   "source": [
    "l.remove('a') # remove a particular item\n",
    "l"
   ]
  },
  {
   "cell_type": "code",
   "execution_count": null,
   "id": "4970e8cd-58ef-4cec-97c7-1ec56994f9f7",
   "metadata": {},
   "outputs": [],
   "source": [
    "del l[2] # delete an item at a given position\n",
    "print(l)"
   ]
  },
  {
   "cell_type": "markdown",
   "id": "16eaf272-563b-429b-9720-b639e29dc857",
   "metadata": {},
   "source": [
    "List items can be concatenated using the `join` method. "
   ]
  },
  {
   "cell_type": "code",
   "execution_count": null,
   "id": "8c15c799-0c65-48b8-be96-662843dbbbbe",
   "metadata": {},
   "outputs": [],
   "source": [
    "l = ['Monty', 'Python']\n",
    "print(''.join(l))\n",
    "print(' '.join(l))\n",
    "print(', '.join(l))"
   ]
  },
  {
   "cell_type": "markdown",
   "id": "c1a0b92e-9356-473b-bf4c-bc7f7237128b",
   "metadata": {},
   "source": [
    "It comes handy in writing automated SQL scripts."
   ]
  },
  {
   "cell_type": "code",
   "execution_count": null,
   "id": "ffb9be19-e95a-42c9-876e-64aa785a5d42",
   "metadata": {},
   "outputs": [],
   "source": [
    "database = 'SALES'\n",
    "table = 'WEBSHOP_SALES'\n",
    "month = 'April'\n",
    "day = ['20', '21', '22'] # since it is an input to a string function (the 'join()' method, list elements can only be strings! \n",
    "\n",
    "query = f\"\"\"\n",
    "SELECT *\n",
    "FROM {database}.{table}\n",
    "WHERE month = '{month}'\n",
    "AND day IN ({\", \".join(day)})\n",
    "\"\"\"\n",
    "\n",
    "# note paranthesis (needed for the proper SQL syntax) and the curly braces (for the f-string) after the IN clause\n",
    "\n",
    "print(query)"
   ]
  },
  {
   "cell_type": "markdown",
   "id": "65589599-b65d-4cc4-baef-1d823ed57dd3",
   "metadata": {},
   "source": [
    "**Sorting**  \n",
    "We can sort lists by built-in or customized functions."
   ]
  },
  {
   "cell_type": "code",
   "execution_count": null,
   "id": "60be3741-4701-4496-8568-c7c6df74b72c",
   "metadata": {},
   "outputs": [],
   "source": [
    "ls_cities = ['New York', 'Rio', 'Tokyo']"
   ]
  },
  {
   "cell_type": "code",
   "execution_count": null,
   "id": "8a79d626-35e5-4ab1-a04f-94636d55b8c9",
   "metadata": {},
   "outputs": [],
   "source": [
    "# sort by length\n",
    "sorted(ls_cities, key = len) "
   ]
  },
  {
   "cell_type": "code",
   "execution_count": null,
   "id": "13750f38-d03c-446b-9059-0a84293954a9",
   "metadata": {},
   "outputs": [],
   "source": [
    "# sort by length reveresed\n",
    "sorted(ls_cities, key = len, reverse= True) "
   ]
  },
  {
   "cell_type": "code",
   "execution_count": null,
   "id": "8040cc39-fc5f-4dc8-bf41-cb8a00f5af40",
   "metadata": {},
   "outputs": [],
   "source": [
    "# sorting by a custom function: sorted by the third character of each word\n",
    "sorted(ls_cities, key = lambda x: x[2]) # rember: indexing start at 0"
   ]
  },
  {
   "cell_type": "markdown",
   "id": "4fb87be2-b435-46d8-b13f-3d70b13eb634",
   "metadata": {},
   "source": [
    "We will revisit `lambda functions` later in the course. "
   ]
  },
  {
   "cell_type": "markdown",
   "id": "71e376f0-ac67-4903-b63f-8e1c1d7a7bee",
   "metadata": {},
   "source": [
    "### Tuples"
   ]
  },
  {
   "cell_type": "markdown",
   "id": "2ac76248-27ad-4227-9f2e-b6312dd4a4f9",
   "metadata": {},
   "source": [
    "Tuples are like lists, except that they cannot be modified once created, that is they are *immutable*. \n",
    "\n",
    "In Python, tuples are created using the syntax `(..., ..., ...)`, or even `..., ...`:"
   ]
  },
  {
   "cell_type": "code",
   "execution_count": null,
   "id": "f7321848-eabc-4544-8276-74cb6a9c8f00",
   "metadata": {},
   "outputs": [],
   "source": [
    "height_and_weight = (165, 60)\n",
    "print(height_and_weight)\n",
    "print(type(height_and_weight))"
   ]
  },
  {
   "cell_type": "markdown",
   "id": "01430616-f81f-4068-8039-6e9f58f94422",
   "metadata": {},
   "source": [
    "You can iterate on tuples just like on lists:"
   ]
  },
  {
   "cell_type": "code",
   "execution_count": null,
   "id": "741c89d2-d7a8-432d-b7c9-a1b1e4d7e64e",
   "metadata": {},
   "outputs": [],
   "source": [
    "for parameter in height_and_weight:\n",
    "    print(parameter)"
   ]
  },
  {
   "cell_type": "markdown",
   "id": "23d89a55-94b0-4b83-87e4-e816cb2cb2e3",
   "metadata": {},
   "source": [
    "Access like lists:"
   ]
  },
  {
   "cell_type": "code",
   "execution_count": null,
   "id": "cf6cac57-a48a-4f41-9dcd-aca15a266ebe",
   "metadata": {},
   "outputs": [],
   "source": [
    "height_and_weight[0]"
   ]
  },
  {
   "cell_type": "markdown",
   "id": "d8682648-c307-476f-b941-78c7df0d8dc1",
   "metadata": {},
   "source": [
    "Remember, tuples are *immutable*"
   ]
  },
  {
   "cell_type": "code",
   "execution_count": null,
   "id": "c0ab639f-c1a4-484f-bed1-e0afda788019",
   "metadata": {},
   "outputs": [],
   "source": [
    "height_and_weight[0] = 170 # this assignment will throw an error"
   ]
  },
  {
   "cell_type": "markdown",
   "id": "6de1821e-7a5b-4bc1-84ed-2ab274ad25c9",
   "metadata": {},
   "source": [
    "We can *unpack* a tuple by assigning it to a comma-separated list of variables:"
   ]
  },
  {
   "cell_type": "code",
   "execution_count": null,
   "id": "723376de-04ba-4685-ad0a-16d0d1d14158",
   "metadata": {},
   "outputs": [],
   "source": [
    "height, weight = height_and_weight\n",
    "print(height)\n",
    "print(weight)"
   ]
  },
  {
   "cell_type": "markdown",
   "id": "f92b9b28-664f-4e45-853d-7b0c8ec71cdc",
   "metadata": {},
   "source": [
    "### Dictionaries"
   ]
  },
  {
   "cell_type": "markdown",
   "id": "652026ba-5309-4e96-9e6a-924e036eb6c5",
   "metadata": {},
   "source": [
    "Dictionaries are also little like lists, except that each element is a *key-value pair*. Dictionaries are written with curly brackets. A dictionary is a collection which is *mutable* and does not allow duplicates. The syntax for dictionaries is `{key1 : value1, key2 : value 2, ...}:` Take keys as labels of the particular values. \n",
    "\n",
    "An *'item'* in a dictionary is a tuple of (*'key'*, *'value'*). \n",
    "\n",
    "Another similarity to lists is that these *values* can be any kind of objects: integers, strings, lists, functions, even other dictionaries. \n",
    "\n",
    "The difference to lists is that in case of the former the ordering is fix. (This is how we iterate on them.) The order of the dictionary values, however, is not important as these values are retreived based not on their position but on their labels or *keys*. The fact that ordering of the values is not important makes searching a dictionary very fast. (See [hash functions](https://en.wikipedia.org/wiki/Hash_function))"
   ]
  },
  {
   "cell_type": "code",
   "execution_count": null,
   "id": "b65df119-b01c-4a3d-b502-e8e124c5d0c2",
   "metadata": {},
   "outputs": [],
   "source": [
    "class_size = {\n",
    "    'Java': 20,\n",
    "    'C++': 23, \n",
    "    'Python': 29\n",
    "}"
   ]
  },
  {
   "cell_type": "code",
   "execution_count": null,
   "id": "b504d882-f127-4c8c-9eaa-61debc906a71",
   "metadata": {},
   "outputs": [],
   "source": [
    "print(type(class_size))\n",
    "print(class_size)"
   ]
  },
  {
   "cell_type": "markdown",
   "id": "342ede27-b784-4175-90b2-37525c73bd83",
   "metadata": {},
   "source": [
    "Strings, numbers, and tuples work as keys, and values can be of any type. Other types may or may not work correctly as keys (strings and tuples work cleanly since they are immutable). \n",
    "\n",
    "Looking up a value which is not in the dict throws a `KeyError` -- use `in` to check if the key is in the dict, or use `dict.get(key)` which returns the value or `None` if the key is not present (or `get(key, not-found)` allows you to specify what value to return in the not-found case)."
   ]
  },
  {
   "cell_type": "code",
   "execution_count": null,
   "id": "00ea23ba-8d23-46cf-85ce-0a7c63d58e66",
   "metadata": {},
   "outputs": [],
   "source": [
    "class_size['Java']"
   ]
  },
  {
   "cell_type": "code",
   "execution_count": null,
   "id": "ddc987d5-cc71-4e13-a4e8-44a9d34b1c64",
   "metadata": {},
   "outputs": [],
   "source": [
    "class_size['JavaScript']"
   ]
  },
  {
   "cell_type": "code",
   "execution_count": null,
   "id": "966fd09f-c7f3-4020-9f38-e46ea857eddc",
   "metadata": {},
   "outputs": [],
   "source": [
    "class_size.get('JavaScript', 0)"
   ]
  },
  {
   "cell_type": "code",
   "execution_count": null,
   "id": "03730169-9008-4471-a91a-4861c1521f8b",
   "metadata": {},
   "outputs": [],
   "source": [
    "'JavaScript' in class_size.keys()"
   ]
  },
  {
   "cell_type": "markdown",
   "id": "1263df02-53b9-4134-8bbb-6852a48b1115",
   "metadata": {},
   "source": [
    "To access each element:"
   ]
  },
  {
   "cell_type": "code",
   "execution_count": null,
   "id": "ab7883b8-6b79-4dd2-9190-25647c745c37",
   "metadata": {},
   "outputs": [],
   "source": [
    "for key, value in class_size.items():\n",
    "    print('The number of students in the', key, 'class is', value)"
   ]
  },
  {
   "cell_type": "code",
   "execution_count": null,
   "id": "f6401bf6-eb70-4c8c-b497-dea5fe85694d",
   "metadata": {},
   "outputs": [],
   "source": [
    "for key in class_size.keys():\n",
    "    print(key)"
   ]
  },
  {
   "cell_type": "markdown",
   "id": "ca82c48d-1c8c-4e01-8d45-1985f9600eb9",
   "metadata": {
    "tags": []
   },
   "source": [
    "### Sets"
   ]
  },
  {
   "cell_type": "markdown",
   "id": "e2beba72-932a-431d-8427-048f74144b41",
   "metadata": {},
   "source": [
    "A Python `set` is a **collection** which is unordered, unchangeable, and unindexed. The most important aspect of sets that they _can't have two items of the same value_.\n",
    "\n",
    "You can create a set by calling the `set()` method and adding the inputs or casting a list into a set object. In the latter case the `set()` method removes the duplicates from list."
   ]
  },
  {
   "cell_type": "code",
   "execution_count": null,
   "id": "c3025cf2-2294-4775-bc0d-520c739eed57",
   "metadata": {},
   "outputs": [],
   "source": [
    "ls_a = ['a', 'b', 'a', np.pi, 36] "
   ]
  },
  {
   "cell_type": "code",
   "execution_count": null,
   "id": "a643b52f-095d-4b51-a6d8-8aa4169c30b7",
   "metadata": {},
   "outputs": [],
   "source": [
    "st_a = set(ls_a)\n",
    "st_a"
   ]
  },
  {
   "cell_type": "code",
   "execution_count": null,
   "id": "7b390ec6-10c4-4bcb-99da-365d44fd2be4",
   "metadata": {},
   "outputs": [],
   "source": [
    "st_b = {'d', 36, 'Holy Grail', np.pi}\n",
    "st_b"
   ]
  },
  {
   "cell_type": "markdown",
   "id": "160f94f2-f0de-4ede-866f-490ae2b0f135",
   "metadata": {},
   "source": [
    "We can perform standard _set operations_ with sets."
   ]
  },
  {
   "cell_type": "code",
   "execution_count": null,
   "id": "7cd022b5-00f2-45a4-aafd-1be2ac90e21a",
   "metadata": {},
   "outputs": [],
   "source": [
    "# union\n",
    "st_a | st_b"
   ]
  },
  {
   "cell_type": "code",
   "execution_count": null,
   "id": "3b159a0e-430d-45aa-bea1-4c1d2f96a43d",
   "metadata": {},
   "outputs": [],
   "source": [
    "# intersection\n",
    "st_a & st_b"
   ]
  },
  {
   "cell_type": "code",
   "execution_count": null,
   "id": "d55122e2-79f1-46ac-a42c-af0381c6c1fa",
   "metadata": {},
   "outputs": [],
   "source": [
    "# difference\n",
    "st_a - st_b"
   ]
  },
  {
   "cell_type": "code",
   "execution_count": null,
   "id": "3cf20342-204e-4701-a23b-d0288153d1e1",
   "metadata": {},
   "outputs": [],
   "source": [
    "st_b - st_a"
   ]
  },
  {
   "cell_type": "markdown",
   "id": "1112b12d-d189-4248-bb2a-226089cb8e48",
   "metadata": {
    "tags": []
   },
   "source": [
    "### JSON"
   ]
  },
  {
   "cell_type": "markdown",
   "id": "5d86be5f-deaa-480b-befc-82470a26f32e",
   "metadata": {},
   "source": [
    "`JSON` is a syntax for storing and exchanging data. JSON is text, written with *JavaScript object notation*, which a special syntax for writing data as text. In order to work with JSON objects you need to import the `json` module. JSON is one of the few standard format for configuration (aka. 'config') files."
   ]
  },
  {
   "cell_type": "code",
   "execution_count": null,
   "id": "e9f4690a-c7fc-462f-9e53-f3cec257a032",
   "metadata": {},
   "outputs": [],
   "source": [
    "import json"
   ]
  },
  {
   "cell_type": "code",
   "execution_count": null,
   "id": "06a00f1e-7cab-4b00-a4d0-781bf84035d2",
   "metadata": {},
   "outputs": [],
   "source": [
    "JSON_string = '{\"class 1\" : \"coding basics\", \"class 2\": \"navigating the file system\", \"class 3\" : \"data manipulation\"}'"
   ]
  },
  {
   "cell_type": "code",
   "execution_count": null,
   "id": "abba9f5b-f666-43cf-b996-2981c100d01f",
   "metadata": {},
   "outputs": [],
   "source": [
    "type(JSON_string)"
   ]
  },
  {
   "cell_type": "markdown",
   "id": "1a6dbecf-d20b-45fc-8f64-5e44cce936ee",
   "metadata": {},
   "source": [
    "Using the `loads()` method of the `json` module the JSON string can be cast into a dictionary. "
   ]
  },
  {
   "cell_type": "code",
   "execution_count": null,
   "id": "b5cd458f-035a-4f1c-a143-a3176d2d7376",
   "metadata": {},
   "outputs": [],
   "source": [
    "dc = json.loads(JSON_string)"
   ]
  },
  {
   "cell_type": "code",
   "execution_count": null,
   "id": "f689674f-2629-49e6-90c5-cf88d56a73d5",
   "metadata": {},
   "outputs": [],
   "source": [
    "type(dc)"
   ]
  },
  {
   "cell_type": "code",
   "execution_count": null,
   "id": "6fbf1fcb-d5f3-4041-b489-42f1658af65b",
   "metadata": {},
   "outputs": [],
   "source": [
    "dc"
   ]
  },
  {
   "cell_type": "code",
   "execution_count": null,
   "id": "6da44753-7ab1-4017-986e-bd49cf4435d1",
   "metadata": {},
   "outputs": [],
   "source": [
    "dc.keys()"
   ]
  },
  {
   "cell_type": "code",
   "execution_count": null,
   "id": "20ed3fbf-da23-4b27-8df4-2992a82b9047",
   "metadata": {},
   "outputs": [],
   "source": [
    "dc.values()"
   ]
  },
  {
   "cell_type": "code",
   "execution_count": null,
   "id": "526fe9c6-6bcb-410f-b4f3-83f1edef5161",
   "metadata": {},
   "outputs": [],
   "source": [
    "type(dc)"
   ]
  },
  {
   "cell_type": "markdown",
   "id": "da022808-ad73-4f7c-88e5-1f6e6207447a",
   "metadata": {},
   "source": [
    "We can cast a dictionary into a **valid** JSON string using the `dumps()` method."
   ]
  },
  {
   "cell_type": "code",
   "execution_count": null,
   "id": "ae15057b-c6a9-483a-8b74-dd8effba078f",
   "metadata": {},
   "outputs": [],
   "source": [
    "dc_new = {\n",
    "    'alpha': 0,\n",
    "    'beta': 'car',\n",
    "    'gamma': 1.4,\n",
    "    'delta': None,\n",
    "    'epsilon': True\n",
    "}"
   ]
  },
  {
   "cell_type": "code",
   "execution_count": null,
   "id": "9a6cf59c-7e85-4506-9229-8e03f0f9d3ea",
   "metadata": {},
   "outputs": [],
   "source": [
    "print(dc_new)"
   ]
  },
  {
   "cell_type": "code",
   "execution_count": null,
   "id": "1ba48fa6-1fcc-42a4-8a13-c331655507c4",
   "metadata": {},
   "outputs": [],
   "source": [
    "new_json_string = json.dumps(dc_new)"
   ]
  },
  {
   "cell_type": "code",
   "execution_count": null,
   "id": "96c854b5-e8c3-495c-8acb-6f14a7232a11",
   "metadata": {},
   "outputs": [],
   "source": [
    "print(new_json_string) # Note that the parentheses change to valid JSON standards. The boolean 'True' in Python becomes 'true' and 'None' becomse 'null' in JSON. "
   ]
  },
  {
   "cell_type": "markdown",
   "id": "3cdad380-1ad1-4d6c-b9a0-56132646f625",
   "metadata": {},
   "source": [
    "The conversion patterns are given in the [JSON documentation](https://docs.python.org/2/library/json.html#py-to-json-table)."
   ]
  },
  {
   "cell_type": "markdown",
   "id": "4054d039-7e25-4999-b770-d7f9754dec2b",
   "metadata": {},
   "source": [
    "## Modules"
   ]
  },
  {
   "cell_type": "markdown",
   "id": "d4f77519-54f3-4051-b805-95311a0499d3",
   "metadata": {},
   "source": [
    "Most of the functionality in Python is provided by *modules*. The Python Standard Library is a large collection of modules that provides *cross-platform* implementations of common facilities such as access to the operating system, file I/O, string management, network communication, and much more. We will use some of these modules along the course."
   ]
  },
  {
   "cell_type": "markdown",
   "id": "902320bd-f623-4292-8c2f-f8f82db18a87",
   "metadata": {},
   "source": [
    "Formally, a module is a Python file with the `.py` extension which define classes, functions, variables, or even runnable codes. We can also define our own modules, which is a great way produce reusable codes and to keep our workflow organized. \n",
    "\n",
    "The very basic Python functionalities are automatically loaded when starting Python, but most functions, methods, object types, etc. can only be used by *importing* these modules with the `import` statement. "
   ]
  },
  {
   "cell_type": "code",
   "execution_count": null,
   "id": "61ba6ba2-fea8-4f20-be42-ebecaf5f7d9a",
   "metadata": {},
   "outputs": [],
   "source": [
    "import math"
   ]
  },
  {
   "cell_type": "markdown",
   "id": "d07455aa-2e03-41f8-b4a5-c3a0cefbe3d1",
   "metadata": {},
   "source": [
    "This includes the whole module and makes it available for use later in the program. When using the module's methods we need to refer to the method's name. "
   ]
  },
  {
   "cell_type": "code",
   "execution_count": null,
   "id": "399236d5-f448-4d2b-b1d3-f8053d41299b",
   "metadata": {},
   "outputs": [],
   "source": [
    "math.cos(0)"
   ]
  },
  {
   "cell_type": "markdown",
   "id": "2f723d0b-ec80-48b0-9174-c6aee47b01c4",
   "metadata": {},
   "source": [
    "Alternatively, we can chose to import all symbols (functions and variables) in a module to the current namespace, so that we don't need to use the prefix `math.` every time we use something from the math module:"
   ]
  },
  {
   "cell_type": "code",
   "execution_count": null,
   "id": "0ef0b62b-4096-4e0d-8005-258d1dd7c97c",
   "metadata": {},
   "outputs": [],
   "source": [
    "from math import *\n",
    "\n",
    "cos(100)"
   ]
  },
  {
   "cell_type": "markdown",
   "id": "a63ce37d-6431-4e0a-854a-f343f433c67a",
   "metadata": {},
   "source": [
    "This pattern can be very convenient, but in *large programs that include many modules* it is often a good idea to keep the symbols from each module in their own ***namespaces***, by using the import math pattern. This would eliminate potentially confusing problems with *namespace collisions*, that is when more modules have functions and method with the same name which perform completely different tasks.\n",
    "\n",
    "A third way is to import the necessary functions only."
   ]
  },
  {
   "cell_type": "code",
   "execution_count": null,
   "id": "7226d26e-6295-4c66-9d43-0817ced6dbde",
   "metadata": {},
   "outputs": [],
   "source": [
    "from numpy import ceil, floor"
   ]
  },
  {
   "cell_type": "code",
   "execution_count": null,
   "id": "347a7a74-9c20-4262-9a9b-82d040668e14",
   "metadata": {},
   "outputs": [],
   "source": [
    "print(ceil(5.5))\n",
    "print(floor(5.5))"
   ]
  },
  {
   "cell_type": "markdown",
   "id": "122755ac-c9e8-45f4-9afa-36969436ba18",
   "metadata": {},
   "source": [
    "When importing modules we often use ***aliases***, or simple abbreviations of the module names which we can use for namespace definition. These aliases can be of any string (you could alias you module as *mickeymouse* or any non-keyword string), but it makes sense to follow general conventions for practical purposes: when we find solutions to our coding problems on the web it is easier to copy and paste those solutions if we don't need to redefine those aliases."
   ]
  },
  {
   "cell_type": "code",
   "execution_count": null,
   "id": "923a664a-4996-4772-b29d-f1100f7a5dba",
   "metadata": {},
   "outputs": [],
   "source": [
    "import pandas as pd # 'pd' is the conventional alias for the 'pandas' module"
   ]
  },
  {
   "cell_type": "code",
   "execution_count": null,
   "id": "4c831473-8a1b-4839-b415-a6ba4f4f6ae8",
   "metadata": {},
   "outputs": [],
   "source": [
    "data = [1,2,3,4]\n",
    "\n",
    "series = pd.Series(data)\n",
    "print(series)"
   ]
  },
  {
   "cell_type": "markdown",
   "id": "62cd4efb-12b7-47ee-b211-592c30e71dd1",
   "metadata": {},
   "source": [
    "As said, we can also import our own module. "
   ]
  },
  {
   "cell_type": "code",
   "execution_count": null,
   "id": "ca30a5f1-c858-4492-9de9-e56754715d2c",
   "metadata": {},
   "outputs": [],
   "source": [
    "import utils"
   ]
  },
  {
   "cell_type": "code",
   "execution_count": null,
   "id": "dd7d0a54-a5e3-4394-8526-694ee878f629",
   "metadata": {},
   "outputs": [],
   "source": [
    "utils.print_hello('Monty Python')"
   ]
  },
  {
   "cell_type": "markdown",
   "id": "069d4ad2-6d1f-44ae-841c-4165c685063f",
   "metadata": {},
   "source": [
    "## Conditional Statements <a class=\"anchor\" id=\"conditionals\"></a>"
   ]
  },
  {
   "cell_type": "markdown",
   "id": "5882fe21-7f2f-4588-85b6-c9b1ad1325ef",
   "metadata": {},
   "source": [
    "Conditional statments is the `if`-`else` structure. The program performs an operation (or more) if certain conditions are met, and - optionally - performs some other if those conditions are not fulfilled."
   ]
  },
  {
   "cell_type": "code",
   "execution_count": null,
   "id": "bd1959a7-2d6e-4358-83cb-4206f8267758",
   "metadata": {},
   "outputs": [],
   "source": [
    "import random"
   ]
  },
  {
   "cell_type": "markdown",
   "id": "c4a65481-f2a2-4417-8cd8-b7f961b1d939",
   "metadata": {},
   "source": [
    "Condtional statements are controlled by ***indentation***. Each new embedded condition needs to be shifted one tab right. (Other languages, like Java or JavaScript, use curly braces.)"
   ]
  },
  {
   "cell_type": "code",
   "execution_count": null,
   "id": "88031216-126f-48c2-9a6f-da04ea4322c1",
   "metadata": {},
   "outputs": [],
   "source": [
    "r = random.randint(20,34)\n",
    "print(r)\n",
    "if r < 25:\n",
    "    print('A small number!')\n",
    "elif r < 30:\n",
    "    print('A moderately high number.')\n",
    "else:\n",
    "    print('A large number!')"
   ]
  },
  {
   "cell_type": "markdown",
   "id": "3669dda7-ca28-4037-ab2a-0df2231739c8",
   "metadata": {},
   "source": [
    "Question: How are random numbers generated?"
   ]
  },
  {
   "cell_type": "markdown",
   "id": "1c185f8f-39be-4964-a64b-b599dfa6ba99",
   "metadata": {},
   "source": [
    "Conditional statements do not have to have an `else` branch. If the condition is not met the program can also stay idle. "
   ]
  },
  {
   "cell_type": "code",
   "execution_count": null,
   "id": "7b01c7ed-a93b-43bb-bee1-9d59d13483de",
   "metadata": {},
   "outputs": [],
   "source": [
    "a = random.randint(1,12)\n",
    "b = random.randint(1,16)\n",
    "\n",
    "print('a:', a)\n",
    "print('b:', b)\n",
    "\n",
    "if a > 6:\n",
    "    print(\"'a' is large\")\n",
    "    if b > a:\n",
    "        print('Both numbers are large.')\n",
    "        print('Result: b is larger than a.')"
   ]
  },
  {
   "cell_type": "markdown",
   "id": "4a405e58-3d97-479d-8ca1-851f16b1cef4",
   "metadata": {},
   "source": [
    "## Control Flows"
   ]
  },
  {
   "cell_type": "markdown",
   "id": "99e38cb6-b395-44cb-9d42-eea2bbed6d1d",
   "metadata": {},
   "source": [
    "### The _'for'_ Loop <a class=\"anchor\" id=\"for\"></a>"
   ]
  },
  {
   "cell_type": "code",
   "execution_count": null,
   "id": "3a69bbe7-13e6-4030-a95b-8c4f45d028c8",
   "metadata": {},
   "outputs": [],
   "source": [
    "for i in range(22): # Remember: 20 is not included in the range! \n",
    "    if i%2 == 0: # The 'modulo' operator returns the integer part left after an integer division.\n",
    "        print(f'Number {i} is even.')\n",
    "    else:\n",
    "        print(f'Number {i} is odd.')"
   ]
  },
  {
   "cell_type": "markdown",
   "id": "0926689a-bbb1-4044-87c6-bf84c5ad0a0c",
   "metadata": {},
   "source": [
    "Note: a `range` object is *iterable*."
   ]
  },
  {
   "cell_type": "code",
   "execution_count": null,
   "id": "a84b8387-ed9a-4bfb-9885-c63add63ccbe",
   "metadata": {},
   "outputs": [],
   "source": [
    "for word in ['Business', 'analytics', 'with', 'Python']:\n",
    "    print(word, len(word)) # functions can also be print inputs"
   ]
  },
  {
   "cell_type": "code",
   "execution_count": null,
   "id": "abad011c-305d-4b82-a107-f09f7b29a7ad",
   "metadata": {},
   "outputs": [],
   "source": [
    "list_capitals = []\n",
    "for i in range(65,91):\n",
    "    list_capitals.append(chr(i))\n",
    "print(list_capitals)"
   ]
  },
  {
   "cell_type": "code",
   "execution_count": null,
   "id": "627e1282-eb49-47a7-b5a4-a1a13530899f",
   "metadata": {},
   "outputs": [],
   "source": [
    "range(60,91)"
   ]
  },
  {
   "cell_type": "code",
   "execution_count": null,
   "id": "b531bd50-df44-4cea-ad64-9d0905180e5b",
   "metadata": {},
   "outputs": [],
   "source": [
    "chr(42)"
   ]
  },
  {
   "cell_type": "markdown",
   "id": "5cb582f3-b10d-427a-8608-3179cadfa7de",
   "metadata": {},
   "source": [
    "The `enumerate` function helps you get a counter. "
   ]
  },
  {
   "cell_type": "code",
   "execution_count": null,
   "id": "04fedcc2-71b9-4097-baac-f7737695ace5",
   "metadata": {},
   "outputs": [],
   "source": [
    "for k, v in enumerate(list_capitals):\n",
    "    print(k, v)"
   ]
  },
  {
   "cell_type": "markdown",
   "id": "9575b6e2-7e5b-466a-930a-3b253ac44bce",
   "metadata": {},
   "source": [
    "Add some simple formatting: right-adjust k, the counter. This is what the `.rjust()` function does. This, however, is a *string function*, so we need to *cast* our 'k' variable, which an integer, into string. For this we use the `str()` function."
   ]
  },
  {
   "cell_type": "code",
   "execution_count": null,
   "id": "b6b670a3-59ee-47bb-bacf-0c67b483c20c",
   "metadata": {},
   "outputs": [],
   "source": [
    "for k, v in enumerate(list_capitals):\n",
    "    print(str(k).rjust(2)+': ', v)"
   ]
  },
  {
   "cell_type": "markdown",
   "id": "6de9848a-897f-4abf-a89f-a4b158ce61ba",
   "metadata": {},
   "source": [
    "### The *'while'* Loop <a class=\"anchor\" id=\"while\"></a>"
   ]
  },
  {
   "cell_type": "code",
   "execution_count": null,
   "id": "d76a4fa5-7138-4219-8a0b-efc0873a33ae",
   "metadata": {},
   "outputs": [],
   "source": [
    "i = 0 # the counter\n",
    "while i < 20:\n",
    "    if i%2 == 0:\n",
    "        print('Number %d is even.'% i)\n",
    "    else:\n",
    "        print('Number %d is odd.'% i)\n",
    "    i += 1 # increment in Python (same as i++ in Java)\n",
    "print('\\nDone.') # Indented so that it will only print at the end."
   ]
  },
  {
   "cell_type": "markdown",
   "id": "69eb611e-28b6-448b-b45d-3973baa348f3",
   "metadata": {},
   "source": [
    "<font color = 'red'>**Caution!!!**</font> If you don't increment the counter, the loop will never stop!"
   ]
  },
  {
   "cell_type": "markdown",
   "id": "49db82e1-162a-489a-890c-642a9f85b5ad",
   "metadata": {},
   "source": [
    "If you use '*True*' in the `while` condition the script runs until manual interruption. "
   ]
  },
  {
   "cell_type": "code",
   "execution_count": null,
   "id": "e8fb8fbf-59b4-4ca7-b800-51503cd5def7",
   "metadata": {},
   "outputs": [],
   "source": [
    "from IPython.display import clear_output\n",
    "import time\n",
    "\n",
    "i = 1\n",
    "while True: # This syntax makes it run forever, or untill manual interruption. \n",
    "    print(i)\n",
    "    i += 1\n",
    "    time.sleep(1)\n",
    "    clear_output()"
   ]
  },
  {
   "cell_type": "markdown",
   "id": "7c755cc2-20ff-45cd-b23e-7670180b8391",
   "metadata": {},
   "source": [
    "To interrupt the script in a code cell click in the cell and then click &#9632; (the black rectangle icon) on the notebook's menu bar. "
   ]
  },
  {
   "cell_type": "markdown",
   "id": "57c86603-b711-4b54-b389-30fd6c5909bc",
   "metadata": {},
   "source": [
    "### List Comprehension <a class=\"anchor\" id=\"comprehension\"></a>"
   ]
  },
  {
   "cell_type": "markdown",
   "id": "4814fa84-1d79-4258-b61b-205de7650c15",
   "metadata": {},
   "source": [
    "List comprehension is a logical construct to create a list from another lists or from an iterable, or to modify an existing list *in place*. "
   ]
  },
  {
   "cell_type": "markdown",
   "id": "da5d2d5e-e2b8-41bd-86d0-470802d396c3",
   "metadata": {},
   "source": [
    "A list comprehension mimics the mathematic formalism of defining sets. For example:\n",
    "$$ L=\\lbrace x^2 : x \\in \\lbrace 0, 1, 2, 3, 4, 5, 6, 7, 8, 9, 10\\rbrace \\rbrace.$$\n",
    "This translates into:"
   ]
  },
  {
   "cell_type": "code",
   "execution_count": null,
   "id": "df87bdfd-4a30-4583-a156-f0adfe7ccf7b",
   "metadata": {},
   "outputs": [],
   "source": [
    "L = [x**2 for x in range(0,11)]\n",
    "L"
   ]
  },
  {
   "cell_type": "markdown",
   "id": "cc2a98ca-c910-47dc-9692-aeac8f97d9aa",
   "metadata": {},
   "source": [
    "You can also combine it with conditional statements. For example:"
   ]
  },
  {
   "cell_type": "code",
   "execution_count": null,
   "id": "1db37ae1-7284-4b0d-9091-613d95f49062",
   "metadata": {},
   "outputs": [],
   "source": [
    "[x for x in L if x%2 == 1]"
   ]
  },
  {
   "cell_type": "markdown",
   "id": "197a7bef-7edf-45b6-8c76-cdb62e216183",
   "metadata": {},
   "source": [
    "You can also use an ``if else`` statement"
   ]
  },
  {
   "cell_type": "code",
   "execution_count": null,
   "id": "9018ad30-78ef-4831-bfa8-7a13c5662eaf",
   "metadata": {},
   "outputs": [],
   "source": [
    "['even' if x%2 == 0 else 'odd' for x in L]"
   ]
  },
  {
   "cell_type": "markdown",
   "id": "7af6200d-b7bb-4f7f-a909-d80b8fb7b22f",
   "metadata": {},
   "source": [
    "## To Do"
   ]
  },
  {
   "cell_type": "code",
   "execution_count": null,
   "id": "33906b74-a7a6-4d64-9e7a-dba92d799a82",
   "metadata": {},
   "outputs": [],
   "source": []
  },
  {
   "cell_type": "code",
   "execution_count": null,
   "id": "a99b9012-7841-4a47-9c59-75c38c9083df",
   "metadata": {},
   "outputs": [],
   "source": [
    "ls_actors_and_actresses = [\n",
    "    'Blake Lively', 'Halle Berry', 'Mark Wahlberg', 'Michelle Monaghan', 'Elliot Page', 'Ryan Reynolds', 'Lily Collins', 'Amy Adams', 'Kristen Wiig', 'Channing Tatum', \n",
    "    'Adam Sandler', 'Russel Crowe', 'Henry Cavill', 'Theresa Palmer', 'Ian Holm', 'Hugh Jackman', 'Nicolas Cage', 'Tom Hardy', 'Tom Cruise', 'Alexandra Daddario'\n",
    "]"
   ]
  },
  {
   "cell_type": "markdown",
   "id": "8e1077e6-3d6f-4769-a404-0bb1b440a9e5",
   "metadata": {},
   "source": [
    "- Exercise 1: Sort alphabetically by their last names.\n",
    "- Exercise 2: Sort by any twisted logic of your choice."
   ]
  },
  {
   "cell_type": "markdown",
   "id": "909d9597-dd41-4ede-bf0b-d7c0206f4675",
   "metadata": {},
   "source": [
    "## Homework"
   ]
  },
  {
   "cell_type": "markdown",
   "id": "8a037ec2-7c69-4cf2-af81-c6fe6fb1a0a0",
   "metadata": {},
   "source": [
    "Create a list comprehension based on the following formula:\n",
    "$$ L=\\lbrace x^2 : x \\in \\lbrace -1, 0, \\pi, e, cos(\\pi), 1.5, 8\\rbrace \\mid x \\in \\mathbb{W} \\rbrace.$$\n",
    "Hint: You need to find the Python way of checking the condition whether the element is in the mathematical set of whole numbers denoted as $\\mathbb{W}$. Also, you need to get exact value of $\\pi$, $e$ and $cos(\\pi)$ using a Python formula or definition."
   ]
  },
  {
   "cell_type": "code",
   "execution_count": null,
   "id": "f8d263b6-4d06-452b-a003-2070f17328bd",
   "metadata": {},
   "outputs": [],
   "source": []
  }
 ],
 "metadata": {
  "kernelspec": {
   "display_name": "Python 3 (ipykernel)",
   "language": "python",
   "name": "python3"
  },
  "language_info": {
   "codemirror_mode": {
    "name": "ipython",
    "version": 3
   },
   "file_extension": ".py",
   "mimetype": "text/x-python",
   "name": "python",
   "nbconvert_exporter": "python",
   "pygments_lexer": "ipython3",
   "version": "3.12.4"
  }
 },
 "nbformat": 4,
 "nbformat_minor": 5
}
