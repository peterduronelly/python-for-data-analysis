{
 "cells": [
  {
   "cell_type": "markdown",
   "id": "6ce438f7-f16a-4343-9091-7344b9f0594f",
   "metadata": {},
   "source": [
    "# <center>Class 12: Time Series Regressions</center>"
   ]
  },
  {
   "cell_type": "code",
   "execution_count": null,
   "id": "92d9ed85-828a-42ff-baaf-778b367ad885",
   "metadata": {},
   "outputs": [],
   "source": [
    "import os\n",
    "import sys\n",
    "import warnings\n",
    "\n",
    "import numpy as np\n",
    "import pandas as pd\n",
    "import statsmodels.formula.api as smf\n",
    "import statsmodels as sm\n",
    "import statsmodels.api as smapi\n",
    "\n",
    "from stargazer.stargazer import Stargazer\n",
    "import matplotlib.pyplot as plt\n",
    "import seaborn as sns\n",
    "\n",
    "warnings.filterwarnings(\"ignore\")"
   ]
  },
  {
   "cell_type": "code",
   "execution_count": null,
   "id": "55d22ecb-ee0d-46cc-a57b-017238aa570d",
   "metadata": {},
   "outputs": [],
   "source": [
    "# !pip install arch"
   ]
  },
  {
   "cell_type": "code",
   "execution_count": null,
   "id": "ba1b2f89-248c-4f46-9938-a2fc098035eb",
   "metadata": {},
   "outputs": [],
   "source": [
    "from arch.unitroot import PhillipsPerron, ADF"
   ]
  },
  {
   "cell_type": "markdown",
   "id": "7e9774c4-32db-4a2d-8772-f97e96af1370",
   "metadata": {},
   "source": [
    "## Data - Equity Returns"
   ]
  },
  {
   "cell_type": "code",
   "execution_count": null,
   "id": "046cee8d-a770-41da-a405-5bcd5837cfa3",
   "metadata": {},
   "outputs": [],
   "source": [
    "path = os.path.join(os.pardir, 'data', 'stock-prices-daily.csv') # this will produce a path with the right syntax for your operating system\n",
    "path"
   ]
  },
  {
   "cell_type": "code",
   "execution_count": null,
   "id": "0da54d2d-d375-422d-9567-94bc62c66423",
   "metadata": {},
   "outputs": [],
   "source": [
    "df_stocks = pd.read_csv(path)"
   ]
  },
  {
   "cell_type": "code",
   "execution_count": null,
   "id": "a70f46ea-ffb0-46a2-bd30-c93c67bd321c",
   "metadata": {},
   "outputs": [],
   "source": [
    "df_stocks"
   ]
  },
  {
   "cell_type": "code",
   "execution_count": null,
   "id": "694d008d-dcbc-4259-9d18-23c3f1059d82",
   "metadata": {},
   "outputs": [],
   "source": [
    "df_stocks.info()"
   ]
  },
  {
   "cell_type": "code",
   "execution_count": null,
   "id": "accb61e0-30d7-4528-b14f-aabc8ade7681",
   "metadata": {},
   "outputs": [],
   "source": [
    "df_stocks.date = pd.to_datetime(df_stocks.date, format= '%Y-%m-%d')"
   ]
  },
  {
   "cell_type": "code",
   "execution_count": null,
   "id": "6e259ff3-2612-41d5-beb1-652103380119",
   "metadata": {},
   "outputs": [],
   "source": [
    "df_stocks.info()"
   ]
  },
  {
   "cell_type": "markdown",
   "id": "1db21e41-1c97-4d72-be7d-046b7a9ff461",
   "metadata": {},
   "source": [
    "#### Feature engineering & EDA"
   ]
  },
  {
   "cell_type": "code",
   "execution_count": null,
   "id": "2383df35-c2f4-4153-a5a4-cd1e7824631b",
   "metadata": {},
   "outputs": [],
   "source": [
    "df_stocks[\"lnp_MSFT\"] = np.log(df_stocks[\"p_MSFT\"])"
   ]
  },
  {
   "cell_type": "code",
   "execution_count": null,
   "id": "c35442c8-b91a-4a13-b479-e1919fd2be41",
   "metadata": {},
   "outputs": [],
   "source": [
    "df_stocks[\"lnp_SP500\"] = np.log(df_stocks[\"p_SP500\"])"
   ]
  },
  {
   "cell_type": "code",
   "execution_count": null,
   "id": "aad204d4-177c-4507-973d-0429676c3b38",
   "metadata": {},
   "outputs": [],
   "source": [
    "sns.lineplot(data = df_stocks, x = 'date', y = 'p_MSFT')\n",
    "plt.ylabel('MSFT price in USD')\n",
    "plt.grid(linestyle = 'dotted');"
   ]
  },
  {
   "cell_type": "code",
   "execution_count": null,
   "id": "dd988cc5-9c9e-4824-9296-ddc8a8cf6c89",
   "metadata": {},
   "outputs": [],
   "source": [
    "g = sns.lineplot(data = df_stocks, x = 'date', y = 'p_MSFT')\n",
    "g.set_yscale('log')\n",
    "ylabels = ['{:,.0f}'.format(y) for y in g.get_yticks()]\n",
    "g.set_yticklabels(ylabels)\n",
    "plt.ylabel('MSFT price in USD')\n",
    "plt.grid(linestyle = 'dotted');"
   ]
  },
  {
   "cell_type": "code",
   "execution_count": null,
   "id": "d2f316df-0117-4e9b-b0e7-2152b527f702",
   "metadata": {},
   "outputs": [],
   "source": [
    "sns.lineplot(data = df_stocks, x = 'date', y = 'p_SP500')\n",
    "plt.ylabel('S&P500 index level')\n",
    "plt.grid(linestyle = 'dotted');"
   ]
  },
  {
   "cell_type": "code",
   "execution_count": null,
   "id": "01e20f64-c93f-4a6a-ad23-48acb92e5cec",
   "metadata": {},
   "outputs": [],
   "source": [
    "sns.lineplot(data = df_stocks, x = 'date', y = 'p_SP500')\n",
    "plt.yscale('log')\n",
    "plt.ylabel('S&P500 index level')\n",
    "plt.grid(linestyle = 'dotted');"
   ]
  },
  {
   "cell_type": "markdown",
   "id": "180f9694-4031-447b-8540-1b80168501e1",
   "metadata": {},
   "source": [
    "**lagged values, log differences and percentage returns - daily frequency**"
   ]
  },
  {
   "cell_type": "code",
   "execution_count": null,
   "id": "665c387a-5766-4814-a18f-7daf4b984b63",
   "metadata": {},
   "outputs": [],
   "source": [
    "df_stocks[\"l_p_MSFT\"] = df_stocks[\"p_MSFT\"].shift()\n",
    "df_stocks[\"l_p_SP500\"] = df_stocks[\"p_SP500\"].shift()\n",
    "df_stocks[\"d_p_MSFT\"] = df_stocks[\"p_MSFT\"] - df_stocks[\"l_p_MSFT\"]\n",
    "df_stocks[\"d_p_SP500\"] = df_stocks[\"p_SP500\"] - df_stocks[\"l_p_SP500\"]\n",
    "df_stocks[\"PctRetMSFT\"] = df_stocks[\"d_p_MSFT\"] / df_stocks[\"l_p_MSFT\"] * 100\n",
    "df_stocks[\"PctRetSP500\"] = df_stocks[\"d_p_SP500\"] / df_stocks[\"l_p_SP500\"] * 100\n",
    "\n",
    "df_stocks[\"d_lnp_MSFT\"] = np.log(df_stocks[\"p_MSFT\"]) - np.log(df_stocks[\"p_MSFT\"].shift())\n",
    "df_stocks[\"d_lnp_SP500\"] = np.log(df_stocks[\"p_SP500\"]) - np.log(df_stocks[\"p_SP500\"].shift())"
   ]
  },
  {
   "cell_type": "code",
   "execution_count": null,
   "id": "c21385f3-e17a-4b30-bbf7-ef8c595b4d04",
   "metadata": {},
   "outputs": [],
   "source": [
    "df_stocks.dropna(inplace= True)"
   ]
  },
  {
   "cell_type": "markdown",
   "id": "fbe75842-82c4-499a-a74e-6494548ce6ab",
   "metadata": {},
   "source": [
    "**lagged values, log differences and percentage returns - monthly frequency**"
   ]
  },
  {
   "cell_type": "code",
   "execution_count": null,
   "id": "7f7c1a7d-a0e6-491f-b63a-1fbc21945744",
   "metadata": {},
   "outputs": [],
   "source": [
    "df_stocks[[\"date\", \"year\", \"month\", \"p_SP500\", \"p_MSFT\"]].groupby(df_stocks[\"date\"].dt.to_period(\"M\")).last()"
   ]
  },
  {
   "cell_type": "code",
   "execution_count": null,
   "id": "293bd47b-b07f-4f57-8e9b-5a05d018e75f",
   "metadata": {},
   "outputs": [],
   "source": [
    "df_stocks_monthly = (\n",
    "    df_stocks[[\"date\", \"year\", \"month\", \"p_SP500\", \"p_MSFT\"]]\n",
    "    .groupby(df_stocks[\"date\"].dt.to_period(\"M\"))\n",
    "    .last()\n",
    "    .reset_index(drop=True)\n",
    ")"
   ]
  },
  {
   "cell_type": "code",
   "execution_count": null,
   "id": "dd17761f-ad4f-4c44-9c39-81ce39ba28f4",
   "metadata": {},
   "outputs": [],
   "source": [
    "df_stocks_monthly"
   ]
  },
  {
   "cell_type": "code",
   "execution_count": null,
   "id": "78b12d91-bb8d-4e59-9508-154bad6e8007",
   "metadata": {},
   "outputs": [],
   "source": [
    "df_stocks_monthly[\"l_p_MSFT\"] = df_stocks_monthly[\"p_MSFT\"].shift()\n",
    "df_stocks_monthly[\"l_p_SP500\"] = df_stocks_monthly[\"p_SP500\"].shift()\n",
    "df_stocks_monthly[\"d_p_MSFT\"] = df_stocks_monthly[\"p_MSFT\"] - df_stocks_monthly[\"l_p_MSFT\"]\n",
    "df_stocks_monthly[\"d_p_SP500\"] = df_stocks_monthly[\"p_SP500\"] - df_stocks_monthly[\"l_p_SP500\"]\n",
    "df_stocks_monthly[\"PctRetMSFT\"] = df_stocks_monthly[\"d_p_MSFT\"] / df_stocks_monthly[\"l_p_MSFT\"] * 100\n",
    "df_stocks_monthly[\"PctRetSP500\"] = (\n",
    "    df_stocks_monthly[\"d_p_SP500\"] / df_stocks_monthly[\"l_p_SP500\"] * 100\n",
    ")\n",
    "\n",
    "df_stocks_monthly[\"d_lnp_MSFT\"] = np.log(df_stocks_monthly[\"p_MSFT\"]) - np.log(df_stocks_monthly[\"p_MSFT\"].shift())\n",
    "df_stocks_monthly[\"d_lnp_SP500\"] = np.log(df_stocks_monthly[\"p_SP500\"]) - np.log(df_stocks_monthly[\"p_SP500\"].shift())"
   ]
  },
  {
   "cell_type": "code",
   "execution_count": null,
   "id": "fecf760c-e1e9-44a9-a22d-fc25e22918eb",
   "metadata": {},
   "outputs": [],
   "source": [
    "df_stocks_monthly.dropna(inplace = True)"
   ]
  },
  {
   "cell_type": "markdown",
   "id": "d6fc5c9a-1527-4bb8-9133-844f90139597",
   "metadata": {},
   "source": [
    "## Testing for Stationarity/Unit Root"
   ]
  },
  {
   "cell_type": "markdown",
   "id": "a10f48fc-d0da-4068-82ce-0a94d821c3bc",
   "metadata": {},
   "source": [
    "#### Daily data\n",
    "\n",
    "We cover two types of stationarity test:\n",
    "- Augmented Dickey-Fuller (ADF)\n",
    "- Phillips-Perron\n",
    "\n",
    "In each case we test for:\n",
    "- 'n': no constant term and no linear time trend\n",
    "- 'c': constant term only\n",
    "- 'ct': constant term and linear time trend\n",
    "\n",
    "In all cases $H_0$: there is *unit root*, that is the *time series in NOT stationary*. $H_1$: it is stationary."
   ]
  },
  {
   "cell_type": "markdown",
   "id": "9c4aef82-c459-4c7f-af8f-b0ec4847a908",
   "metadata": {},
   "source": [
    "**ADF on the levels**"
   ]
  },
  {
   "cell_type": "code",
   "execution_count": null,
   "id": "dd1e6d9a-67f9-45cd-b3fb-4e1556313e4b",
   "metadata": {},
   "outputs": [],
   "source": [
    "print(ADF(df_stocks[\"p_MSFT\"], lags = 32, trend=\"n\").summary())"
   ]
  },
  {
   "cell_type": "markdown",
   "id": "68e39ece-9ca3-4cd5-9f50-76731926320b",
   "metadata": {},
   "source": [
    "**Phillips-Perron on the levels**"
   ]
  },
  {
   "cell_type": "markdown",
   "id": "35c48c12-c21c-438a-ab51-fe93997265ce",
   "metadata": {},
   "source": [
    "<center>\n",
    "    $y_i$ = $y_{i-1}$ + $\\epsilon_i$\n",
    "</center>"
   ]
  },
  {
   "cell_type": "code",
   "execution_count": null,
   "id": "46cd2735-5e45-4750-97bf-7f48d19061b0",
   "metadata": {},
   "outputs": [],
   "source": [
    "print(PhillipsPerron(df_stocks[\"p_MSFT\"], lags=32, test_type=\"rho\", trend=\"n\").summary())"
   ]
  },
  {
   "cell_type": "markdown",
   "id": "c5ce64c6-8a26-4760-bf10-0add44a7fa49",
   "metadata": {},
   "source": [
    "**Note**: When using the PhillipsPerron test from the `arch` package in Python, setting `test_type='rho'` specifies that the test statistic should be based on the re-centered regression coefficient multiplied by the number of observations (nobs). This is different from the default `test_type='tau'`, which uses the t-statistic for the test.\n",
    "\n",
    "In simpler terms, the rho test type focuses on the level of the autoregressive coefficient, while the tau test type focuses on the t-statistic of the coefficient. Both are used to test for the presence of a unit root, but they approach the calculation differently."
   ]
  },
  {
   "cell_type": "markdown",
   "id": "7a540685-2b8c-44d9-aaa6-9cb1e81f598a",
   "metadata": {},
   "source": [
    "<center>\n",
    "    $y_i$ = $\\mu$ + $y_{i-1}$ + $\\epsilon_i$\n",
    "</center>"
   ]
  },
  {
   "cell_type": "code",
   "execution_count": null,
   "id": "5b508985-ffc2-4adb-b9e3-22246f42a8a0",
   "metadata": {},
   "outputs": [],
   "source": [
    "print(PhillipsPerron(df_stocks[\"p_MSFT\"], lags=32, test_type=\"rho\", trend=\"c\").summary())"
   ]
  },
  {
   "cell_type": "markdown",
   "id": "ca4335e3-27cc-4fec-9b22-e2f49781ac7a",
   "metadata": {},
   "source": [
    "<center>\n",
    "    $y_i$ = $\\mu$ + $y_{i-1}$ + $\\beta$ * $t_i$ $ + \\epsilon_i$\n",
    "</center>"
   ]
  },
  {
   "cell_type": "code",
   "execution_count": null,
   "id": "c977a68e-ac0a-4b25-9588-88f442d04d9b",
   "metadata": {},
   "outputs": [],
   "source": [
    "print(PhillipsPerron(df_stocks[\"p_MSFT\"], lags=32, test_type=\"rho\", trend=\"ct\").summary())"
   ]
  },
  {
   "cell_type": "markdown",
   "id": "46707c75-a678-4cc7-8a37-c39373e94fe4",
   "metadata": {},
   "source": [
    "**Phillips-Perron on the log differences**\n",
    "\n",
    "**Note**: These are *de-trended* values. "
   ]
  },
  {
   "cell_type": "code",
   "execution_count": null,
   "id": "7447166d-0201-405a-8187-45ba6f2e298d",
   "metadata": {},
   "outputs": [],
   "source": [
    "print(PhillipsPerron(df_stocks[\"d_lnp_MSFT\"], lags=32, test_type=\"rho\", trend=\"n\").summary())"
   ]
  },
  {
   "cell_type": "code",
   "execution_count": null,
   "id": "61d9ec10-3d32-45e1-b3fc-ccc09d03c4be",
   "metadata": {},
   "outputs": [],
   "source": [
    "print(PhillipsPerron(df_stocks[\"d_lnp_MSFT\"], lags=32, test_type=\"rho\", trend=\"c\").summary())"
   ]
  },
  {
   "cell_type": "code",
   "execution_count": null,
   "id": "37022dda-316a-4f05-afe3-4e289fa4f6de",
   "metadata": {},
   "outputs": [],
   "source": [
    "print(PhillipsPerron(df_stocks[\"d_lnp_MSFT\"], lags=32, test_type=\"rho\", trend=\"ct\").summary())"
   ]
  },
  {
   "cell_type": "markdown",
   "id": "62728cf0-dc12-4ae7-beee-6fbb0c13aef7",
   "metadata": {},
   "source": [
    "#### Monthly Data"
   ]
  },
  {
   "cell_type": "markdown",
   "id": "eea6bd44-df0f-4feb-b349-e911f85ab1ad",
   "metadata": {},
   "source": [
    "**levels**"
   ]
  },
  {
   "cell_type": "code",
   "execution_count": null,
   "id": "cd704462-235e-4f27-8a63-f59afd29412b",
   "metadata": {},
   "outputs": [],
   "source": [
    "print(PhillipsPerron(df_stocks_monthly[\"p_MSFT\"], lags=32, test_type=\"rho\", trend=\"n\").summary())"
   ]
  },
  {
   "cell_type": "code",
   "execution_count": null,
   "id": "ff1062ee-9cc1-4049-840f-af4498885cd4",
   "metadata": {},
   "outputs": [],
   "source": [
    "print(PhillipsPerron(df_stocks_monthly[\"p_MSFT\"], lags=32, test_type=\"rho\", trend=\"c\").summary())"
   ]
  },
  {
   "cell_type": "code",
   "execution_count": null,
   "id": "fea8d5be-69f2-4a34-9b9a-1b9f425f49bc",
   "metadata": {},
   "outputs": [],
   "source": [
    "print(PhillipsPerron(df_stocks_monthly[\"p_MSFT\"], lags=32, test_type=\"rho\", trend=\"ct\").summary())"
   ]
  },
  {
   "cell_type": "markdown",
   "id": "094b9886-e32a-416c-9a11-6e7a285d306c",
   "metadata": {},
   "source": [
    "**log differences**"
   ]
  },
  {
   "cell_type": "code",
   "execution_count": null,
   "id": "17661c9e-94ca-4723-8220-83e626636c55",
   "metadata": {},
   "outputs": [],
   "source": [
    "print(PhillipsPerron(df_stocks_monthly[\"d_lnp_MSFT\"], lags=32, test_type=\"rho\", trend=\"n\").summary())"
   ]
  },
  {
   "cell_type": "code",
   "execution_count": null,
   "id": "1211db91-f581-430e-a294-1442efa71c2a",
   "metadata": {},
   "outputs": [],
   "source": [
    "print(PhillipsPerron(df_stocks_monthly[\"d_lnp_MSFT\"], lags=32, test_type=\"rho\", trend=\"c\").summary())"
   ]
  },
  {
   "cell_type": "code",
   "execution_count": null,
   "id": "9ce6c934-532f-4563-a1f5-bdd2a0cfc611",
   "metadata": {},
   "outputs": [],
   "source": [
    "print(PhillipsPerron(df_stocks_monthly[\"d_lnp_MSFT\"], lags=32, test_type=\"rho\", trend=\"ct\").summary())"
   ]
  },
  {
   "cell_type": "markdown",
   "id": "321870cf-2d50-453d-9055-b24931c56a36",
   "metadata": {},
   "source": [
    "## Behavior of Daily and Monthly Returns"
   ]
  },
  {
   "cell_type": "code",
   "execution_count": null,
   "id": "f1e4aee0-b19e-404f-ab5d-7f17e455a1eb",
   "metadata": {},
   "outputs": [],
   "source": [
    "sns.lineplot(data = df_stocks, x = 'date', y = 'd_lnp_MSFT', size = 1, legend = None)\n",
    "plt.hlines(0, df_stocks.date.min(), df_stocks.date.max(), color = 'k')\n",
    "plt.grid(linestyle = 'dotted')\n",
    "plt.ylabel('MSFT daily returns');"
   ]
  },
  {
   "cell_type": "code",
   "execution_count": null,
   "id": "bfabc47d-3cd5-441e-9a62-7028d795b16f",
   "metadata": {},
   "outputs": [],
   "source": [
    "sns.lineplot(data = df_stocks_monthly, x = 'date', y = 'd_lnp_MSFT', size = 1, legend = None)\n",
    "plt.hlines(0, df_stocks.date.min(), df_stocks.date.max(), color = 'k')\n",
    "plt.grid(linestyle = 'dotted')\n",
    "plt.ylabel('MSFT monthly returns');"
   ]
  },
  {
   "cell_type": "markdown",
   "id": "d4805195-05f2-45d8-ae73-a4e1b4e5aaf7",
   "metadata": {},
   "source": [
    "#### Percantage return statistics"
   ]
  },
  {
   "cell_type": "code",
   "execution_count": null,
   "id": "82544483-1749-4a0c-be5d-7cc98dcd3790",
   "metadata": {},
   "outputs": [],
   "source": [
    "df_monthly_stats = df_stocks_monthly[['PctRetMSFT', 'PctRetSP500']].describe().T.round(2)\n",
    "df_monthly_stats.index = [\"Monthly returns on Microsoft (%)\", \"Monthly returns on S&P500 (%)\"]\n",
    "df_monthly_stats"
   ]
  },
  {
   "cell_type": "markdown",
   "id": "73dbc0ef-4e4e-4170-be7a-340fd1519c49",
   "metadata": {},
   "source": [
    "**Question**: What do we measure using the standard deviation/variance of the returns?"
   ]
  },
  {
   "cell_type": "markdown",
   "id": "d1401a7a-0243-4f9b-a266-1228ff9705f7",
   "metadata": {},
   "source": [
    "#### Calculating market beta"
   ]
  },
  {
   "cell_type": "code",
   "execution_count": null,
   "id": "856ac37c-deef-4fec-ae50-26233db29ddc",
   "metadata": {},
   "outputs": [],
   "source": [
    "reg1 = smf.ols(\"PctRetMSFT ~ PctRetSP500\", data = df_stocks_monthly).fit(cov_type=\"HC1\")\n",
    "reg2 = smf.ols(\"d_lnp_MSFT ~ d_lnp_SP500\", data = df_stocks_monthly).fit(cov_type=\"HC1\")\n",
    "reg3 = smf.ols(\"PctRetMSFT ~ PctRetSP500\", data = df_stocks).fit(cov_type=\"HC1\")\n",
    "reg4 = smf.ols(\"d_lnp_MSFT ~ d_lnp_SP500\", data = df_stocks).fit(cov_type=\"HC1\")"
   ]
  },
  {
   "cell_type": "code",
   "execution_count": null,
   "id": "1cd4aae0-14e0-4d12-9c1f-5e0b6d6e0d3d",
   "metadata": {},
   "outputs": [],
   "source": [
    "print(reg1.summary())"
   ]
  },
  {
   "cell_type": "code",
   "execution_count": null,
   "id": "4fc107b8-1879-459e-be0d-08f19fb203c1",
   "metadata": {},
   "outputs": [],
   "source": [
    "df_stocks_monthly['PtctMSFT_fitted'] = reg1.fittedvalues"
   ]
  },
  {
   "cell_type": "code",
   "execution_count": null,
   "id": "475ffdfc-fdf7-4269-b8af-2cc789619c5e",
   "metadata": {},
   "outputs": [],
   "source": [
    "fig, ax = plt.subplots()\n",
    "\n",
    "# data\n",
    "ax.scatter(df_stocks_monthly.PctRetSP500, df_stocks_monthly.PctRetMSFT, s = 10, c = 'cornflowerblue')\n",
    "ax.hlines(y = 0, xmin = df_stocks_monthly.PctRetSP500.min(), xmax = df_stocks_monthly.PctRetSP500.max(), color = 'cornflowerblue')\n",
    "ax.plot(df_stocks_monthly.PctRetSP500, df_stocks_monthly.PctRetSP500, color = 'k', label = 'market beta')\n",
    "ax.plot(df_stocks_monthly.PctRetSP500, df_stocks_monthly.PtctMSFT_fitted, \n",
    "        color = 'indianred', label = f'MSFT beta')\n",
    "\n",
    "# aesthetics\n",
    "plt.grid(linestyle = 'dotted')\n",
    "plt.xlabel('S&P500 monthly returns')\n",
    "plt.ylabel('MSFT monthly returns')\n",
    "plt.legend(labelcolor = ['k', 'indianred'])\n",
    "plt.text(x = -13, y = -22, s = f'MSFT beta: {reg1.params.PctRetSP500:.2f}', c = 'indianred');"
   ]
  },
  {
   "cell_type": "code",
   "execution_count": null,
   "id": "daca4806-00d3-4958-b6ff-afa52df53186",
   "metadata": {},
   "outputs": [],
   "source": [
    "fig, ax = plt.subplots()\n",
    "ax.hist(df_stocks.PctRetMSFT, bins = [x/2 - 10 for x in range(0,40, 1)], rwidth = 0.9, color = 'indianred', label = 'MSFT')\n",
    "ax.hist(df_stocks.PctRetSP500, bins = [x/2 - 10 for x in range(0,40, 1)], rwidth = 0.9, color = 'white', edgecolor = 'k', alpha = 0.5, label = 'SP500')\n",
    "plt.legend(labelcolor = ['indianred', 'grey'])\n",
    "plt.xlabel('daily returns')\n",
    "plt.ylabel('count')\n",
    "plt.title('MSFT & SP500 risk profiles')\n",
    "plt.grid(linestyle = ':');"
   ]
  },
  {
   "cell_type": "markdown",
   "id": "bc22b566-efbe-4afa-8529-f6c30fc0148a",
   "metadata": {},
   "source": [
    "**Question**: What does *fat tails* mean in finance?"
   ]
  },
  {
   "cell_type": "markdown",
   "id": "7277819c-bc8a-4ab2-bda1-97c0379a71ec",
   "metadata": {},
   "source": [
    "**Market beta alternative measures**"
   ]
  },
  {
   "cell_type": "code",
   "execution_count": null,
   "id": "820a5e12-303e-465e-b733-833da8c483d4",
   "metadata": {},
   "outputs": [],
   "source": [
    "stargazer = Stargazer([reg1, reg2, reg3, reg4])\n",
    "stargazer.rename_covariates(\n",
    "    {\n",
    "        \"Intercept\": \"Constant\",\n",
    "        \"PctRetSP500\": \"S&P500 returns\",\n",
    "        \"d_lnp_SP500\": \"S&P500 returns\",\n",
    "    }\n",
    ")\n",
    "stargazer.custom_columns(\n",
    "    [\n",
    "        \"Monthly pct change\",\n",
    "        \"Monthly log change\",\n",
    "        \"Daily pct change\",\n",
    "        \"Daily log change\",\n",
    "    ],\n",
    "    [1, 1, 1, 1],\n",
    ")\n",
    "stargazer"
   ]
  },
  {
   "cell_type": "markdown",
   "id": "bd37f6bd-8156-4773-8678-62e6a445509c",
   "metadata": {},
   "source": [
    "## Data - Electricity & Climate"
   ]
  },
  {
   "cell_type": "markdown",
   "id": "35ff9be9-abb7-42f2-abb0-7d8b3f2ec53e",
   "metadata": {},
   "source": [
    "#### electricity"
   ]
  },
  {
   "cell_type": "code",
   "execution_count": null,
   "id": "1ea3c141-a3bf-4f9e-b060-c922326a2b65",
   "metadata": {},
   "outputs": [],
   "source": [
    "path = os.path.join(os.pardir, 'data', 'electricity_resid_AZ.csv') # this will produce a path with the right syntax for your operating system\n",
    "path"
   ]
  },
  {
   "cell_type": "code",
   "execution_count": null,
   "id": "32997c7a-862e-4c76-8c47-af94f82c002e",
   "metadata": {},
   "outputs": [],
   "source": [
    "df_electricity = pd.read_csv(path)"
   ]
  },
  {
   "cell_type": "code",
   "execution_count": null,
   "id": "ece76c68-69eb-4b24-bb82-ecb3fe38c674",
   "metadata": {},
   "outputs": [],
   "source": [
    "df_electricity"
   ]
  },
  {
   "cell_type": "code",
   "execution_count": null,
   "id": "a3e6bb3e-7c76-4047-910c-ce9c02458015",
   "metadata": {},
   "outputs": [],
   "source": [
    "df_electricity[\"date\"] = pd.to_datetime(df_electricity[\"MY\"], format=\"%b-%y\")\n",
    "\n",
    "df_electricity[\"year\"] = df_electricity[\"date\"].dt.year\n",
    "df_electricity[\"month\"] = df_electricity[\"date\"].dt.month\n",
    "df_electricity[\"ym\"] = (df_electricity[\"year\"].astype(str).str.cat(df_electricity[\"month\"].astype(str), sep=\"m\"))\n",
    "\n",
    "df_electricity = df_electricity[[\"Q\", \"date\", \"ym\"]]\n",
    "\n",
    "df_electricity[\"lnQ\"] = df_electricity[\"Q\"].map(np.log)"
   ]
  },
  {
   "cell_type": "code",
   "execution_count": null,
   "id": "fe9234e3-336b-470e-8997-4666745ad9d9",
   "metadata": {},
   "outputs": [],
   "source": [
    "df_electricity.head()"
   ]
  },
  {
   "cell_type": "markdown",
   "id": "e9098d10-2883-4232-8b35-431634f428d5",
   "metadata": {},
   "source": [
    "#### climate"
   ]
  },
  {
   "cell_type": "code",
   "execution_count": null,
   "id": "87a3e807-e209-4f08-bb94-c1d1b094d1bd",
   "metadata": {},
   "outputs": [],
   "source": [
    "path = os.path.join(os.pardir, 'data', 'climate_Phoenix_AZ.csv') # this will produce a path with the right syntax for your operating system\n",
    "path"
   ]
  },
  {
   "cell_type": "code",
   "execution_count": null,
   "id": "f16da011-db79-43cd-a650-32dc686e26a7",
   "metadata": {},
   "outputs": [],
   "source": [
    "df_climate = pd.read_csv(path)"
   ]
  },
  {
   "cell_type": "code",
   "execution_count": null,
   "id": "af4f474a-b7bb-48b1-983c-b579ef3efada",
   "metadata": {},
   "outputs": [],
   "source": [
    "df_climate"
   ]
  },
  {
   "cell_type": "code",
   "execution_count": null,
   "id": "ce0fe58d-b0ec-4884-8b13-4ea98fa856d9",
   "metadata": {},
   "outputs": [],
   "source": [
    "df_climate[\"tempdate\"] = pd.to_datetime(df_climate[\"DATE\"], format=\"%Y-%m\")\n",
    "\n",
    "df_climate[\"year\"] = df_climate[\"tempdate\"].dt.year\n",
    "df_climate[\"month\"] = df_climate[\"tempdate\"].dt.month\n",
    "df_climate[\"ym\"] = (\n",
    "    df_climate[\"year\"].astype(str).str.cat(df_climate[\"month\"].astype(str), sep=\"m\")\n",
    ")\n",
    "\n",
    "df_climate[\"ndays\"] = 30\n",
    "df_climate.loc[df_climate[\"month\"].isin([1, 3, 5, 7, 8, 10, 12]), \"ndays\"] = 31\n",
    "df_climate.loc[df_climate[\"month\"] == 2, \"ndays\"] = 28\n",
    "\n",
    "for x in [\"CLDD\", \"HTDD\", \"DX70\", \"DX90\"]:\n",
    "    df_climate[x + \"_avg\"] = df_climate[x] / df_climate[\"ndays\"]\n",
    "\n",
    "df_climate = df_climate.drop(columns=[\"DATE\", \"tempdate\", \"STATION\", \"NAME\"])"
   ]
  },
  {
   "cell_type": "code",
   "execution_count": null,
   "id": "dae1008e-5994-42ca-8345-be2d7698e6ad",
   "metadata": {},
   "outputs": [],
   "source": [
    "df_climate.head()"
   ]
  },
  {
   "cell_type": "code",
   "execution_count": null,
   "id": "738c7877-b762-4bdd-ae5d-21fa7b6c719b",
   "metadata": {},
   "outputs": [],
   "source": [
    "df_climate[[\"CLDD_avg\", \"HTDD_avg\", \"DX70_avg\", \"DX90_avg\"]].describe().T.round(3)"
   ]
  },
  {
   "cell_type": "markdown",
   "id": "5e27245c-541d-4ccc-af53-e6e808a7b48f",
   "metadata": {},
   "source": [
    "#### merging into  single dataframe"
   ]
  },
  {
   "cell_type": "code",
   "execution_count": null,
   "id": "ffb9497d-a7f4-463a-a2bb-62c6556d58db",
   "metadata": {},
   "outputs": [],
   "source": [
    "df_data = pd.merge(df_climate, df_electricity, on=\"ym\", how=\"inner\")"
   ]
  },
  {
   "cell_type": "code",
   "execution_count": null,
   "id": "409dda47-e2a8-4c59-a2c9-e2218d77d88a",
   "metadata": {},
   "outputs": [],
   "source": [
    "df_data"
   ]
  },
  {
   "cell_type": "code",
   "execution_count": null,
   "id": "11f7b9a1-fbfa-40d6-8d1a-c9eb37213a21",
   "metadata": {},
   "outputs": [],
   "source": [
    "df_data = df_data[(df_data[\"year\"] >= 2001) & (df_data[\"year\"] <= 2017)].reset_index(drop=True)"
   ]
  },
  {
   "cell_type": "code",
   "execution_count": null,
   "id": "aa89adab-f4be-4549-9096-641044f01d4c",
   "metadata": {},
   "outputs": [],
   "source": [
    "df_data.info()"
   ]
  },
  {
   "cell_type": "code",
   "execution_count": null,
   "id": "393c6697-8374-4c12-8b4f-72856daf95d0",
   "metadata": {},
   "outputs": [],
   "source": [
    "df_data.isna().sum().sum()"
   ]
  },
  {
   "cell_type": "markdown",
   "id": "07fb93eb-6f8b-4c94-b53f-e430c801f89c",
   "metadata": {},
   "source": [
    "## Feature Engineering & EDA"
   ]
  },
  {
   "cell_type": "code",
   "execution_count": null,
   "id": "af58f3bc-1ea9-4d53-940f-95f41af5b8a5",
   "metadata": {},
   "outputs": [],
   "source": [
    "df_data[[\"Q\", \"lnQ\", \"CLDD_avg\", \"HTDD_avg\"]].describe().T.round(3)"
   ]
  },
  {
   "cell_type": "code",
   "execution_count": null,
   "id": "690289e6-a90b-4381-b765-c6cd90964b5f",
   "metadata": {},
   "outputs": [],
   "source": [
    "df_data.plot( x = 'date', y = 'Q', color = 'k', \n",
    "             legend = False, grid = True,  );"
   ]
  },
  {
   "cell_type": "code",
   "execution_count": null,
   "id": "33723297-cc3d-4ae4-9a25-3acc5757f2bf",
   "metadata": {},
   "outputs": [],
   "source": [
    "sns.lineplot(data = df_data, x = 'date', y = 'Q', legend = False, color = 'k')\n",
    "plt.grid(linestyle = ':')\n",
    "plt.ylabel('residential electricity consumption (GWh)');"
   ]
  },
  {
   "cell_type": "code",
   "execution_count": null,
   "id": "6c3dec33-797b-46e2-a40f-045b4e2ddea7",
   "metadata": {},
   "outputs": [],
   "source": [
    "sns.lineplot(data = df_data, x = 'date', y = 'lnQ', legend = False, color = 'k')\n",
    "plt.grid(linestyle = ':')\n",
    "plt.ylabel('logged residential electricity consumption (ln GWh)');"
   ]
  },
  {
   "cell_type": "code",
   "execution_count": null,
   "id": "9150de1a-ae20-451d-a697-cef3c323d1ab",
   "metadata": {},
   "outputs": [],
   "source": [
    "sns.lineplot(data = df_data, x = 'date', y = 'CLDD_avg', legend = False, color = 'k')\n",
    "plt.grid(linestyle = ':')\n",
    "plt.ylabel('average cooling degree days in Fahrenheit');"
   ]
  },
  {
   "cell_type": "code",
   "execution_count": null,
   "id": "7c915f7d-a19e-4458-9ed8-7ef6a13facd7",
   "metadata": {},
   "outputs": [],
   "source": [
    "sns.lineplot(data = df_data, x = 'date', y = 'HTDD_avg', legend = False, color = 'k')\n",
    "plt.grid(linestyle = ':')\n",
    "plt.ylim(0,30)\n",
    "plt.ylabel('average heating degree days in Fahrenheit');"
   ]
  },
  {
   "cell_type": "code",
   "execution_count": null,
   "id": "e9caa4fa-67f6-40cc-a416-d4bade9c5575",
   "metadata": {},
   "outputs": [],
   "source": [
    "sns.histplot(data = df_data, x = 'Q', bins = 30, shrink = 0.85, color = 'royalblue')\n",
    "plt.xlabel('GWh')\n",
    "plt.grid(linestyle = ':');"
   ]
  },
  {
   "cell_type": "code",
   "execution_count": null,
   "id": "e772466f-e60a-4fa6-86e0-0a2fed99b236",
   "metadata": {},
   "outputs": [],
   "source": [
    "df_data['CL_HT'] = df_data.CLDD_avg - df_data.HTDD_avg"
   ]
  },
  {
   "cell_type": "code",
   "execution_count": null,
   "id": "9e4c7168-aa84-464a-984d-1fabd8c93e81",
   "metadata": {},
   "outputs": [],
   "source": [
    "df_data['temp'] = df_data.CL_HT.map(lambda x: 'cold' if x < 0 else 'warm')"
   ]
  },
  {
   "cell_type": "code",
   "execution_count": null,
   "id": "9f6f397d-605d-4d6d-b05e-01204476b03d",
   "metadata": {},
   "outputs": [],
   "source": [
    "sns.histplot(\n",
    "    data = df_data, x = 'Q', \n",
    "    hue = 'temp', palette = ['royalblue', 'indianred'],\n",
    "    bins = 30, shrink = 0.85)\n",
    "plt.xlabel('GWh')\n",
    "plt.grid(linestyle = ':');"
   ]
  },
  {
   "cell_type": "code",
   "execution_count": null,
   "id": "03290198-c9e5-4cea-95a4-693c581cb99b",
   "metadata": {},
   "outputs": [],
   "source": [
    "sns.histplot(\n",
    "    data = df_data, x = 'lnQ', \n",
    "    hue = 'temp', palette = ['royalblue', 'indianred'],\n",
    "    bins = 30, shrink = 0.85)\n",
    "plt.xlabel('log GWh')\n",
    "plt.grid(linestyle = ':');"
   ]
  },
  {
   "cell_type": "code",
   "execution_count": null,
   "id": "8dec4e0f-8ceb-4938-9443-9d785c1ed31a",
   "metadata": {},
   "outputs": [],
   "source": [
    "for x in [\"lnQ\", \"CLDD_avg\", \"HTDD_avg\", \"DX90_avg\"]:\n",
    "    df_data[\"D\" + x] = df_data[x] - df_data[x].shift()"
   ]
  },
  {
   "cell_type": "code",
   "execution_count": null,
   "id": "2912f2a4-f94b-49f4-85c6-d9f91b5c0d4c",
   "metadata": {},
   "outputs": [],
   "source": [
    "df_data.head()"
   ]
  },
  {
   "cell_type": "code",
   "execution_count": null,
   "id": "bef36423-1aee-4de0-b899-6f167e3f61b5",
   "metadata": {},
   "outputs": [],
   "source": [
    "sns.histplot(\n",
    "    data = df_data, x = 'DlnQ', \n",
    "    hue = 'temp', palette = ['royalblue', 'indianred'],\n",
    "    bins = 30, shrink = 0.85)\n",
    "plt.xlabel('logchange in GWh')\n",
    "plt.grid(linestyle = ':');"
   ]
  },
  {
   "cell_type": "code",
   "execution_count": null,
   "id": "e0ef6f37-af2f-4423-9911-a4ae950d8e08",
   "metadata": {},
   "outputs": [],
   "source": [
    "sns.boxplot(data = df_data, y = 'Q', x = 'month');\n",
    "plt.xlabel('month')\n",
    "plt.ylabel('GWh')\n",
    "plt.title('Electricity consumption vs months')\n",
    "plt.grid(linestyle = ':');"
   ]
  },
  {
   "cell_type": "code",
   "execution_count": null,
   "id": "333c46b3-36b2-42c6-90c5-c0ebb45d36ee",
   "metadata": {},
   "outputs": [],
   "source": [
    "sns.boxplot(data = df_data, y = 'CLDD', x = 'month');\n",
    "plt.xlabel('month')\n",
    "plt.ylabel('CLDD')\n",
    "plt.title('Cooling degree days vs months')\n",
    "plt.ylim(0, 1200)\n",
    "plt.grid(linestyle = ':');"
   ]
  },
  {
   "cell_type": "code",
   "execution_count": null,
   "id": "b65a8bfa-6caa-4728-a9da-9bc55bb2978b",
   "metadata": {},
   "outputs": [],
   "source": [
    "sns.boxplot(data = df_data, y = 'HTDD', x = 'month');\n",
    "plt.xlabel('month')\n",
    "plt.ylabel('HTDD')\n",
    "plt.ylim(0, 1200)\n",
    "plt.title('Heating degree days vs months')\n",
    "plt.grid(linestyle = ':');"
   ]
  },
  {
   "cell_type": "markdown",
   "id": "ce3640ff-9a1b-4806-be57-dda51c5c6317",
   "metadata": {},
   "source": [
    "#### What is the right functional form?"
   ]
  },
  {
   "cell_type": "code",
   "execution_count": null,
   "id": "5ff52c66-b8ed-4cc8-91d0-d8c06722d98a",
   "metadata": {},
   "outputs": [],
   "source": [
    "sns.regplot(data = df_data, x=\"CLDD_avg\", y=\"lnQ\", \n",
    "            ci = None, line_kws= {'color': 'k'}, scatter_kws= {'s': 20},\n",
    "            color = 'royalblue')\n",
    "plt.grid(linestyle = ':')\n",
    "plt.xlabel('average cooling degree days')\n",
    "plt.ylabel('log electricity consuption (ln GWh)');"
   ]
  },
  {
   "cell_type": "code",
   "execution_count": null,
   "id": "71ad9984-df98-44e0-a85e-5352a22220e4",
   "metadata": {},
   "outputs": [],
   "source": [
    "sns.regplot(data = df_data, x=\"DCLDD_avg\", y=\"DlnQ\", \n",
    "            ci = None, line_kws= {'color': 'k'}, scatter_kws= {'s': 20},\n",
    "            color = 'royalblue')\n",
    "plt.grid(linestyle = ':')\n",
    "plt.xlabel('average cooling degree days monthly change')\n",
    "plt.ylabel('log electricity consumption monthly change (ln GWh)');"
   ]
  },
  {
   "cell_type": "code",
   "execution_count": null,
   "id": "988b1e7c-0e0e-4902-84b2-b196c5064bc4",
   "metadata": {},
   "outputs": [],
   "source": [
    "sns.regplot(data = df_data, x=\"HTDD_avg\", y=\"lnQ\", \n",
    "            ci = None, line_kws= {'color': 'k'}, scatter_kws= {'s': 20},\n",
    "            color = 'royalblue')\n",
    "plt.grid(linestyle = ':')\n",
    "plt.xlabel('average heating degree days')\n",
    "plt.ylabel('log electricity consumption (ln GWh)');"
   ]
  },
  {
   "cell_type": "code",
   "execution_count": null,
   "id": "a6b9611d-66e5-44c7-9deb-606eaa0e1955",
   "metadata": {},
   "outputs": [],
   "source": [
    "sns.regplot(data = df_data, x=\"DHTDD_avg\", y=\"DlnQ\", \n",
    "            ci = None, line_kws= {'color': 'k'}, scatter_kws= {'s': 20},\n",
    "            color = 'royalblue')\n",
    "plt.grid(linestyle = ':')\n",
    "plt.xlabel('average heating degree days monthly change')\n",
    "plt.ylabel('log electricity consumption monthly change (ln GWh)')\n",
    "plt.text(x = -7.5, y = 0.3, s = 'linear\\nregression', fontsize = 12);"
   ]
  },
  {
   "cell_type": "code",
   "execution_count": null,
   "id": "6589692d-be74-4f1b-b3b1-f1af1190f810",
   "metadata": {},
   "outputs": [],
   "source": [
    "sns.regplot(data = df_data, x=\"DHTDD_avg\", y=\"DlnQ\", lowess = True,\n",
    "            ci = None, line_kws= {'color': 'k'}, scatter_kws= {'s': 20},\n",
    "            color = 'royalblue')\n",
    "plt.grid(linestyle = ':')\n",
    "plt.xlabel('average heating degree days monthly change')\n",
    "plt.ylabel('log electricity consumption monthly change (ln GWh)')\n",
    "plt.text(x = -7.5, y = 0.3, s = 'lowess\\nregression', fontsize = 12);"
   ]
  },
  {
   "cell_type": "code",
   "execution_count": null,
   "id": "ac81a28a-7ea7-41bf-8d25-3e3e8198482b",
   "metadata": {},
   "outputs": [],
   "source": [
    "sns.regplot(data = df_data, x = 'CL_HT', y = 'Q', \n",
    "            lowess = True,\n",
    "            # order = 2, \n",
    "            ci = None, \n",
    "            line_kws = {'color' : 'k'}, scatter_kws= {'s': 20})\n",
    "plt.xlabel('cooling degree days - heating degree days')\n",
    "plt.ylabel('GWh')\n",
    "plt.grid(linestyle = ':');"
   ]
  },
  {
   "cell_type": "code",
   "execution_count": null,
   "id": "8e73d136-d7bd-4499-a4a9-a943246b4fc3",
   "metadata": {},
   "outputs": [],
   "source": [
    "sns.regplot(data = df_data, x = 'CL_HT', y = 'Q', \n",
    "            # lowess = True,\n",
    "            order = 2, \n",
    "            ci = None, \n",
    "            line_kws = {'color' : 'k'}, scatter_kws= {'s': 20})\n",
    "plt.xlabel('cooling degree days - heating degree days')\n",
    "plt.ylabel('GWh')\n",
    "plt.grid(linestyle = ':');"
   ]
  },
  {
   "cell_type": "markdown",
   "id": "21e1c952-1435-4d02-b0bb-7035f32c1415",
   "metadata": {},
   "source": [
    "#### Stationarity"
   ]
  },
  {
   "cell_type": "markdown",
   "id": "e26ec52f-d597-4a53-986e-8508ba891887",
   "metadata": {},
   "source": [
    "**level**"
   ]
  },
  {
   "cell_type": "code",
   "execution_count": null,
   "id": "e56c70da-b581-45da-bd1a-0f314d4969af",
   "metadata": {},
   "outputs": [],
   "source": [
    "print(PhillipsPerron(df_data.lnQ, lags=12, test_type=\"rho\", trend=\"n\").summary())"
   ]
  },
  {
   "cell_type": "markdown",
   "id": "2f9664d3-ff1d-4092-9e90-67f1549b0d42",
   "metadata": {},
   "source": [
    "**diff**"
   ]
  },
  {
   "cell_type": "code",
   "execution_count": null,
   "id": "5d7d7be7-702a-4b5f-8512-683afcbe8ce2",
   "metadata": {},
   "outputs": [],
   "source": [
    "print(PhillipsPerron(df_data[df_data.DlnQ.isna() == False].DlnQ, lags=12, test_type=\"rho\", trend=\"n\").summary())"
   ]
  },
  {
   "cell_type": "markdown",
   "id": "54e1bab5-7ee0-4154-afc7-a08b93a2ded6",
   "metadata": {},
   "source": [
    "## Linear Regression"
   ]
  },
  {
   "cell_type": "markdown",
   "id": "3948c3bf-9569-4eff-8f24-1ec5ece39790",
   "metadata": {},
   "source": [
    "**log consumption change vs change in HTDD & CLDD**"
   ]
  },
  {
   "cell_type": "code",
   "execution_count": null,
   "id": "4de81cdc-b136-415c-a8fa-54c884b107b9",
   "metadata": {},
   "outputs": [],
   "source": [
    "reg1 = smf.ols(\"DlnQ ~ DCLDD_avg + DHTDD_avg\", df_data).fit().get_robustcov_results(cov_type=\"HAC\", maxlags=18)"
   ]
  },
  {
   "cell_type": "code",
   "execution_count": null,
   "id": "03ce4496-2785-430e-81a6-15bac6d3de32",
   "metadata": {},
   "outputs": [],
   "source": [
    "print(reg1.summary())"
   ]
  },
  {
   "cell_type": "markdown",
   "id": "f3cfe771-2046-465b-9f9a-eae86d9acc06",
   "metadata": {},
   "source": [
    "**log consumption change vs change in HTDD & CLDD + months as factors**"
   ]
  },
  {
   "cell_type": "code",
   "execution_count": null,
   "id": "66b5f6df-72ec-4a01-ba54-0e84643e8174",
   "metadata": {},
   "outputs": [],
   "source": [
    "reg2 = smf.ols(\"DlnQ ~ DCLDD_avg + DHTDD_avg + C(month)\", df_data).fit().get_robustcov_results(cov_type=\"HAC\", maxlags=18)"
   ]
  },
  {
   "cell_type": "code",
   "execution_count": null,
   "id": "af5a49e1-a2eb-49d6-91ed-74d9e1b499c2",
   "metadata": {},
   "outputs": [],
   "source": [
    "print(reg2.summary())"
   ]
  },
  {
   "cell_type": "markdown",
   "id": "e8d52fb4-d0e2-4982-afa5-cd328fbedd5e",
   "metadata": {},
   "source": [
    "**Question**: If months seem to be correlated with CLDD & HTDD, why do we have better results by adding the months as factors?"
   ]
  },
  {
   "cell_type": "markdown",
   "id": "04e34540-7d33-47c0-96a8-4e243d904ff2",
   "metadata": {},
   "source": [
    "A good regression produces normally distributed residuals. Are our resudals follow a normal distribution (with $E({\\epsilon_i})=0$)?"
   ]
  },
  {
   "cell_type": "markdown",
   "id": "5bfdd2d7-1ea2-43e8-ba47-f483fe2ef418",
   "metadata": {},
   "source": [
    "Visual inspection."
   ]
  },
  {
   "cell_type": "code",
   "execution_count": null,
   "id": "f8872922-3030-403a-b836-10813f4109ed",
   "metadata": {},
   "outputs": [],
   "source": [
    "plt.hist(reg2.resid, bins = 40, rwidth = 0.9)\n",
    "plt.title('Regression 2 residual distribution');"
   ]
  },
  {
   "cell_type": "markdown",
   "id": "440bb668-e215-47ea-8b43-a1487a832046",
   "metadata": {},
   "source": [
    "Formal statistical test."
   ]
  },
  {
   "cell_type": "code",
   "execution_count": null,
   "id": "a73f67c3-6b73-4662-b714-3ca6c95b46ac",
   "metadata": {},
   "outputs": [],
   "source": [
    "from scipy.stats import kstest\n",
    "\n",
    "stat, p = kstest(reg2.resid, 'norm')\n",
    "print('Statistics=%.3f, p=%.3f' % (stat, p))"
   ]
  },
  {
   "cell_type": "code",
   "execution_count": null,
   "id": "4f329ecc-2966-4a7c-b488-e19fa851dca5",
   "metadata": {},
   "outputs": [],
   "source": [
    "kstest(reg2.resid, 'norm')"
   ]
  },
  {
   "cell_type": "markdown",
   "id": "93675023-153c-4e8e-8e81-338b12167caf",
   "metadata": {},
   "source": [
    "The $H_0$ of the `Kolmogorov-Smirnov Test` is that $x$ follows a normal distribution. Are our residuals normal?"
   ]
  },
  {
   "cell_type": "markdown",
   "id": "dc785242-21e9-4039-bb4d-69194c81268c",
   "metadata": {},
   "source": [
    "**log consumption vs *level* of HTDD & CLDD + months as factors**"
   ]
  },
  {
   "cell_type": "code",
   "execution_count": null,
   "id": "c595e0c7-bbd6-4d3b-9977-91961fb82d94",
   "metadata": {},
   "outputs": [],
   "source": [
    "reg3 = smf.ols(\"DlnQ ~ CLDD_avg + HTDD_avg + C(month)\", df_data).fit().get_robustcov_results(cov_type=\"HAC\", maxlags=18)"
   ]
  },
  {
   "cell_type": "code",
   "execution_count": null,
   "id": "cea1c8cf-808f-459f-9cfd-716b2fefa4b0",
   "metadata": {},
   "outputs": [],
   "source": [
    "print(reg3.summary())"
   ]
  },
  {
   "cell_type": "code",
   "execution_count": null,
   "id": "9134a0af-a505-4f40-9bbc-cb16961086fa",
   "metadata": {},
   "outputs": [],
   "source": [
    "plt.hist(reg3.resid, bins = 40, rwidth = 0.9)\n",
    "plt.title('Regression 2 residual distribution');"
   ]
  },
  {
   "cell_type": "code",
   "execution_count": null,
   "id": "f5212b98-3655-46cd-b0e4-fd9628609694",
   "metadata": {},
   "outputs": [],
   "source": [
    "stat, p = kstest(reg3.resid, 'norm')\n",
    "print('Statistics=%.3f, p=%.3f' % (stat, p))"
   ]
  },
  {
   "cell_type": "markdown",
   "id": "310ac43c-aec1-4619-ba15-b5bb369398b7",
   "metadata": {},
   "source": [
    "#### A digression into time series modelling: testing for autocorrelation"
   ]
  },
  {
   "cell_type": "code",
   "execution_count": null,
   "id": "3d113c79-d4fe-439f-b005-f789350aecfe",
   "metadata": {},
   "outputs": [],
   "source": [
    "from statsmodels.graphics import tsaplots"
   ]
  },
  {
   "cell_type": "code",
   "execution_count": null,
   "id": "ab7372df-8cd9-48fd-945f-a821fa1cef7f",
   "metadata": {},
   "outputs": [],
   "source": [
    "#plot autocorrelation function\n",
    "fig = tsaplots.plot_acf(reg3.resid, lags = 12)\n",
    "plt.show()"
   ]
  },
  {
   "cell_type": "markdown",
   "id": "de71d6a4-63ce-4228-90f7-7667bad44caa",
   "metadata": {},
   "source": [
    "`Autocorrelation` means that elements of a tine series are correlated with/dependent on their previous values. *Dependence means that these elements are not random*! If residuals from  time series are autocorrelated, that is they are not random, then we are missing some important patterns from our model. Remember: if we can identify the correct pattern, than all we have left - the residuals - should be completely random. \n",
    "\n",
    "Autocorrelation can be sometimes handled by using the lagged value(s) of our dependent variable amongst the independent variables. Sometimes this hepls, sometimes does not. \n",
    "\n",
    "The `acf` function of the `statsmodels.api.tsa` package calculates autocorrelation between variables and their lagged values."
   ]
  },
  {
   "cell_type": "code",
   "execution_count": null,
   "id": "7c495068-0c67-40cd-8fd4-5c4318fb443f",
   "metadata": {},
   "outputs": [],
   "source": [
    "for i, v in enumerate(smapi.tsa.acf(reg3.resid)[0:13]):\n",
    "    print('lag ' + str(i).rjust(2), str(f'{v:.3f}').rjust(7))"
   ]
  },
  {
   "cell_type": "code",
   "execution_count": null,
   "id": "d04fb88f-8c26-45d5-83e5-ca1ce8da49f9",
   "metadata": {},
   "outputs": [],
   "source": [
    "reg4 = smf.ols(\"DlnQ ~ CLDD_avg + HTDD_avg + C(month) + DlnQ.shift(1)\", df_data).fit().get_robustcov_results(cov_type=\"HAC\", maxlags=18)"
   ]
  },
  {
   "cell_type": "code",
   "execution_count": null,
   "id": "7446155f-c352-4679-9979-7c308f939e94",
   "metadata": {},
   "outputs": [],
   "source": [
    "print(reg4.summary())"
   ]
  },
  {
   "cell_type": "code",
   "execution_count": null,
   "id": "80b5f828-05a7-4bce-8917-65e168e104be",
   "metadata": {},
   "outputs": [],
   "source": [
    "fig = tsaplots.plot_acf(reg4.resid, lags = 12)\n",
    "plt.show()"
   ]
  },
  {
   "cell_type": "markdown",
   "id": "6c980b6d-5234-48a4-ab29-ed6ea6e8de02",
   "metadata": {},
   "source": [
    "#### Cumulative/long-run associations"
   ]
  },
  {
   "cell_type": "code",
   "execution_count": null,
   "id": "8f4499da-7fc4-497e-b397-ba943a94dd02",
   "metadata": {},
   "outputs": [],
   "source": [
    "df_data[\"DDCLDD_avg\"] = df_data[\"DCLDD_avg\"] - df_data[\"DCLDD_avg\"].shift()\n",
    "df_data[\"DDHTDD_avg\"] = df_data[\"DHTDD_avg\"] - df_data[\"DHTDD_avg\"].shift()"
   ]
  },
  {
   "cell_type": "code",
   "execution_count": null,
   "id": "96f11695-f98b-46f0-b0a2-597e832ee1da",
   "metadata": {},
   "outputs": [],
   "source": [
    "reg5 = smf.ols(\n",
    "    \"\"\"DlnQ ~ \n",
    "        DCLDD_avg.shift(2) + DHTDD_avg.shift(2) + \n",
    "        DDCLDD_avg + DDHTDD_avg + \n",
    "        DDCLDD_avg.shift(1) + DDHTDD_avg.shift(1) + \n",
    "        C(month)\"\"\",\n",
    "    df_data,\n",
    ").fit()"
   ]
  },
  {
   "cell_type": "code",
   "execution_count": null,
   "id": "934052b4-d111-4f01-a176-d685acf894a6",
   "metadata": {},
   "outputs": [],
   "source": [
    "stargazer = Stargazer([reg5])\n",
    "stargazer.covariate_order([\"DCLDD_avg.shift(2)\", \"DHTDD_avg.shift(2)\"])\n",
    "stargazer.rename_covariates(\n",
    "    {\n",
    "        \"DCLDD_avg.shift(2)\": \"ΔCD cumulative coeff\",\n",
    "        \"DHTDD_avg.shift(2)\": \"ΔHD cumulative coeff\",\n",
    "    }\n",
    ")\n",
    "stargazer"
   ]
  },
  {
   "cell_type": "code",
   "execution_count": null,
   "id": "a1221058-fb06-4112-9519-2795a895bf01",
   "metadata": {},
   "outputs": [],
   "source": []
  }
 ],
 "metadata": {
  "kernelspec": {
   "display_name": "Python 3 (ipykernel)",
   "language": "python",
   "name": "python3"
  },
  "language_info": {
   "codemirror_mode": {
    "name": "ipython",
    "version": 3
   },
   "file_extension": ".py",
   "mimetype": "text/x-python",
   "name": "python",
   "nbconvert_exporter": "python",
   "pygments_lexer": "ipython3",
   "version": "3.12.4"
  }
 },
 "nbformat": 4,
 "nbformat_minor": 5
}
