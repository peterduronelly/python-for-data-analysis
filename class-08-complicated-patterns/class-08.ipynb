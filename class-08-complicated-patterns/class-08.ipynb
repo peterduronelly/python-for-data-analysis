{
 "cells": [
  {
   "cell_type": "markdown",
   "id": "0a1c2455-c926-45a5-8944-05ab0bc3d5ba",
   "metadata": {},
   "source": [
    "# <center>Class 8: Complicated Patterns </center>"
   ]
  },
  {
   "cell_type": "code",
   "execution_count": null,
   "id": "caa7500a-c857-4c54-b2f9-0d3e5458b42a",
   "metadata": {},
   "outputs": [],
   "source": [
    "import os\n",
    "import sys\n",
    "import warnings\n",
    "from typing import List\n",
    "import copy\n",
    "\n",
    "import numpy as np\n",
    "import pandas as pd\n",
    "import statsmodels.api as sm\n",
    "import statsmodels.formula.api as smf\n",
    "import math\n",
    "\n",
    "import matplotlib.pyplot as plt\n",
    "import seaborn as sns\n",
    "\n",
    "warnings.filterwarnings(\"ignore\")"
   ]
  },
  {
   "cell_type": "code",
   "execution_count": null,
   "id": "700c5b8e-25dc-4236-ad95-e2bb5726af7f",
   "metadata": {},
   "outputs": [],
   "source": [
    "%matplotlib inline"
   ]
  },
  {
   "cell_type": "markdown",
   "id": "1d1e278e-7755-4ee9-86cd-904d95122086",
   "metadata": {},
   "source": [
    "## Data - Hotels"
   ]
  },
  {
   "cell_type": "code",
   "execution_count": null,
   "id": "d454dc3c-1303-4e7a-b4a0-430305ebd20e",
   "metadata": {},
   "outputs": [],
   "source": [
    "path = os.path.join(os.pardir, 'data', 'hotels-vienna.csv') # this will produce a path with the right syntax for your operating system\n",
    "path"
   ]
  },
  {
   "cell_type": "code",
   "execution_count": null,
   "id": "75b2e84d-000d-4653-ab7d-b1352b08cf8c",
   "metadata": {},
   "outputs": [],
   "source": [
    "df_hotels = pd.read_csv(path)"
   ]
  },
  {
   "cell_type": "code",
   "execution_count": null,
   "id": "7df3331c-a19c-4b05-b5a5-7f0ddee2c630",
   "metadata": {},
   "outputs": [],
   "source": [
    "df_hotels"
   ]
  },
  {
   "cell_type": "code",
   "execution_count": null,
   "id": "306cc9f0-6b1d-4bfe-95be-f7004d508d35",
   "metadata": {},
   "outputs": [],
   "source": [
    "df_hotels = df_hotels[\n",
    "    (df_hotels.accommodation_type == 'Hotel')\n",
    "    & (df_hotels.city_actual == 'Vienna')\n",
    "    & (df_hotels.stars >= 3)\n",
    "    & (df_hotels.stars <= 4)\n",
    "    & (df_hotels.price <= 600)]\n"
   ]
  },
  {
   "cell_type": "code",
   "execution_count": null,
   "id": "7890cf52-622f-4d46-9611-1bfc0e0da7de",
   "metadata": {},
   "outputs": [],
   "source": [
    "df_hotels.shape"
   ]
  },
  {
   "cell_type": "markdown",
   "id": "2235460c-d9ab-4e29-a1f9-9a0febaadb56",
   "metadata": {},
   "source": [
    "Adding log variables."
   ]
  },
  {
   "cell_type": "code",
   "execution_count": null,
   "id": "3c5efb9e-6b18-42be-92d0-70de7fe4a3af",
   "metadata": {},
   "outputs": [],
   "source": [
    "df_hotels[\"lnprice\"] = np.log(df_hotels[\"price\"])\n",
    "df_hotels[\"distance2\"] = df_hotels[\"distance\"]\n",
    "df_hotels.loc[df_hotels[\"distance2\"] < 0.05, \"distance2\"] = 0.05 # making sure that the log transformation is feasible\n",
    "df_hotels[\"lndistance\"] = np.log(df_hotels[\"distance2\"])"
   ]
  },
  {
   "cell_type": "code",
   "execution_count": null,
   "id": "8536ea4a-0273-43ef-8b09-400217e7d977",
   "metadata": {},
   "outputs": [],
   "source": [
    "df_hotels.price.describe()"
   ]
  },
  {
   "cell_type": "code",
   "execution_count": null,
   "id": "5d43f1e2-ab7d-418f-967c-d2f9744382bc",
   "metadata": {},
   "outputs": [],
   "source": [
    "df_hotels.lnprice.describe()"
   ]
  },
  {
   "cell_type": "code",
   "execution_count": null,
   "id": "ba26b4bd-5d8f-482d-a8d5-ca72929b1406",
   "metadata": {},
   "outputs": [],
   "source": [
    "df_hotels.sort_values(by = 'distance', ascending = True, inplace = True) # we only do it for plotting purposes, linear regression does not require sorted data"
   ]
  },
  {
   "cell_type": "markdown",
   "id": "0514b14c-09c7-41d2-9fd2-c4c33330d3ed",
   "metadata": {},
   "source": [
    "<br> \n",
    "\n",
    "As a reminder: prices and distances are not normally distributed. **Why normal distribution is important?**"
   ]
  },
  {
   "cell_type": "code",
   "execution_count": null,
   "id": "8c3b8af8-4f23-4254-81cf-49ab24077c23",
   "metadata": {},
   "outputs": [],
   "source": [
    "df_hotels.price.plot(\n",
    "    kind = 'hist',  bins = range(50, 425, 25), rwidth = 0.9\n",
    "    , figsize = (8,5)\n",
    "    , xticks = range(50, 425, 25)\n",
    "    , xlabel = 'USD'\n",
    "    , title = 'Distribution of room prices'\n",
    ");"
   ]
  },
  {
   "cell_type": "code",
   "execution_count": null,
   "id": "e30bd180-48db-467d-a87d-172feddf45bc",
   "metadata": {},
   "outputs": [],
   "source": [
    "df_hotels.lnprice.plot(\n",
    "    kind = 'hist',  rwidth = 0.9, bins = 11\n",
    "    , figsize = (8,5)\n",
    "    , xticks = [x/100 for x in range(375, 650, 25)]\n",
    "    , xlabel = 'log of USD prices'\n",
    "    , title = 'Distribution of log room prices'\n",
    ");"
   ]
  },
  {
   "cell_type": "code",
   "execution_count": null,
   "id": "1b8a3fb8-91bf-4ec5-bf77-cd8319918727",
   "metadata": {},
   "outputs": [],
   "source": [
    "df_hotels.distance.plot(\n",
    "    kind = 'hist',  bins = [i/10 for i in range(0, 70, 5)], rwidth = 0.9\n",
    "    , figsize = (8,5)\n",
    "    , xticks = [i/10 for i in range(0, 70, 5)]\n",
    "    , xlabel = 'miles'\n",
    "    , title = 'Distances from the city center'\n",
    ");"
   ]
  },
  {
   "cell_type": "code",
   "execution_count": null,
   "id": "62041104-1ebb-4f9f-ae46-bcf8afb1c7f8",
   "metadata": {},
   "outputs": [],
   "source": [
    "df_hotels.lndistance.plot(\n",
    "    kind = 'hist',  bins = 20, rwidth = 0.9\n",
    "    , figsize = (8,5)\n",
    "    , xlabel = 'log miles'\n",
    "    , title = 'Log distances from the city center'\n",
    "    , xticks = [x/10 for x in range(-30, 21, 5)]\n",
    ");"
   ]
  },
  {
   "cell_type": "code",
   "execution_count": null,
   "id": "84aaf2c0-2bb3-47e3-93da-ab26ad7f653b",
   "metadata": {},
   "outputs": [],
   "source": [
    "#or with seaborn\n",
    "sns.histplot(df_hotels.distance, bins = 20, log_scale=True)\n",
    "plt.xlabel('log miles')\n",
    "plt.ylabel('Frequency')\n",
    "plt.title('Log distances from the city center')\n",
    "plt.show()\n"
   ]
  },
  {
   "cell_type": "markdown",
   "id": "4c043323-8823-451b-af39-7d86ddb67ec6",
   "metadata": {},
   "source": [
    "## Regression: Comparing Linear and Non-Linear Patterns"
   ]
  },
  {
   "cell_type": "markdown",
   "id": "7e1f0217-4d6a-47cf-93e0-e3d7e59ebdc0",
   "metadata": {},
   "source": [
    "**price vs distance**"
   ]
  },
  {
   "cell_type": "code",
   "execution_count": null,
   "id": "9a379f74-c7ea-4bb4-b642-131a519944af",
   "metadata": {},
   "outputs": [],
   "source": [
    "regression_1 = smf.ols('price ~ distance', data = df_hotels).fit(cov_type = 'HC0')"
   ]
  },
  {
   "cell_type": "markdown",
   "id": "ab413e12-8f37-42b8-a24a-8fe5a7ab1fb5",
   "metadata": {},
   "source": [
    "We are quantifying a linear relationship between price and distance. The regression line in the plot below is what `seaborn` estimates and not the fitted values from or regression. The two lines, however, should match, as there is only one solution to the error minimization problem."
   ]
  },
  {
   "cell_type": "code",
   "execution_count": null,
   "id": "76a94131-8f91-4277-a5cc-d9038010deaf",
   "metadata": {},
   "outputs": [],
   "source": [
    "sns.regplot(\n",
    "    data = df_hotels, x = 'distance', y = 'price'\n",
    "    , marker = '.', fit_reg = True , ci = None\n",
    "    , scatter_kws = {'color': 'royalblue'}\n",
    "    , line_kws = {'color': 'k'}\n",
    ")\n",
    "plt.xlabel('distance in miles')\n",
    "plt.ylabel('price in USD')\n",
    "plt.title('Vienna hotel prices vs distances from city center');"
   ]
  },
  {
   "cell_type": "markdown",
   "id": "9358d5ba-b33a-43d0-b9ad-deb0357ffaa0",
   "metadata": {},
   "source": [
    "This is how our model actually looks like."
   ]
  },
  {
   "cell_type": "code",
   "execution_count": null,
   "id": "0d63fc44-cc47-4923-aa45-6e5a4732517c",
   "metadata": {},
   "outputs": [],
   "source": [
    "print(regression_1.summary())"
   ]
  },
  {
   "cell_type": "code",
   "execution_count": null,
   "id": "365bbb6a-9794-4b49-b124-55084dc53796",
   "metadata": {},
   "outputs": [],
   "source": [
    "regression_1.pvalues"
   ]
  },
  {
   "cell_type": "code",
   "execution_count": null,
   "id": "a94d5d83-250b-4d05-9efc-9a9a693f2a76",
   "metadata": {},
   "outputs": [],
   "source": [
    "print('The the p-value of distance variable: {:.10f}'.format(regression_1.pvalues.distance))"
   ]
  },
  {
   "cell_type": "code",
   "execution_count": null,
   "id": "e17d3cf1-d729-4b1b-8522-01b4d1cff1df",
   "metadata": {},
   "outputs": [],
   "source": [
    "regression_1.tvalues.distance"
   ]
  },
  {
   "cell_type": "code",
   "execution_count": null,
   "id": "57837bc6-3c88-43db-a3c8-e1fc92825dab",
   "metadata": {},
   "outputs": [],
   "source": [
    "regression_1.fvalue"
   ]
  },
  {
   "cell_type": "code",
   "execution_count": null,
   "id": "a0946e47-95e9-49f7-99cb-5c82ffcf3dd3",
   "metadata": {},
   "outputs": [],
   "source": [
    "regression_1.tvalues.distance**2"
   ]
  },
  {
   "cell_type": "markdown",
   "id": "91a0e457-b944-476e-bc6e-eedd3dc1c6dd",
   "metadata": {},
   "source": [
    "<br> \n",
    "\n",
    "**price vs log distance**"
   ]
  },
  {
   "cell_type": "code",
   "execution_count": null,
   "id": "444f1f6d-c5b8-4790-ae61-2d803a743056",
   "metadata": {},
   "outputs": [],
   "source": [
    "regression_2 = smf.ols('price ~ lndistance', data = df_hotels).fit(cov_type = 'HC0')"
   ]
  },
  {
   "cell_type": "code",
   "execution_count": null,
   "id": "d2f7f07d-4e22-4046-965d-22f414020da4",
   "metadata": {},
   "outputs": [],
   "source": [
    "sns.regplot(\n",
    "    data = df_hotels, x = 'lndistance', y = 'price'\n",
    "    , marker = '.', fit_reg = True, ci = None\n",
    "    , scatter_kws = {'color': 'dimgrey'}\n",
    "    , line_kws = {'color': 'k'}\n",
    ")\n",
    "plt.xlabel('log distance in miles')\n",
    "plt.ylabel('price in USD')\n",
    "plt.title('Vienna hotel prices vs log distances from city center');"
   ]
  },
  {
   "cell_type": "code",
   "execution_count": null,
   "id": "01948c82-be9e-4322-8c1c-10d9b855569a",
   "metadata": {},
   "outputs": [],
   "source": [
    "print(regression_2.summary())"
   ]
  },
  {
   "cell_type": "markdown",
   "id": "ef560e8a-ecfd-4dc1-85eb-d482f2c278ea",
   "metadata": {},
   "source": [
    "<br> \n",
    "\n",
    "**log price vs distance**"
   ]
  },
  {
   "cell_type": "code",
   "execution_count": null,
   "id": "09b358c2-a7e5-4a7d-a7ed-5b605f3a6d99",
   "metadata": {},
   "outputs": [],
   "source": [
    "regression_3 = smf.ols('lnprice ~ distance', data = df_hotels).fit(cov_type = 'HC0')"
   ]
  },
  {
   "cell_type": "code",
   "execution_count": null,
   "id": "da41d124-2bb1-4a13-839f-274d9d182553",
   "metadata": {},
   "outputs": [],
   "source": [
    "sns.regplot(\n",
    "    data = df_hotels, x = 'distance', y = 'lnprice'\n",
    "    , marker = '.', fit_reg = True, ci = None\n",
    "    , scatter_kws = {'color': 'dimgrey'}\n",
    "    , line_kws = {'color': 'k'}\n",
    ")\n",
    "plt.xlabel('distance in miles')\n",
    "plt.ylabel('log price in USD')\n",
    "plt.title('Vienna hotel log prices vs distances from city center');"
   ]
  },
  {
   "cell_type": "code",
   "execution_count": null,
   "id": "3eb9c19e-cf5e-4046-bda2-355375cd3357",
   "metadata": {},
   "outputs": [],
   "source": [
    "print(regression_3.summary())"
   ]
  },
  {
   "cell_type": "markdown",
   "id": "2ed93377-a531-40c7-b7d8-9b7cb2a4d1ea",
   "metadata": {},
   "source": [
    "<br> \n",
    "\n",
    "**log price vs log distance**"
   ]
  },
  {
   "cell_type": "code",
   "execution_count": null,
   "id": "ab795fc4-002f-460e-b15d-baa15fac680f",
   "metadata": {},
   "outputs": [],
   "source": [
    "regression_4 = smf.ols('lnprice ~ lndistance', data = df_hotels).fit(cov_type = 'HC0')"
   ]
  },
  {
   "cell_type": "code",
   "execution_count": null,
   "id": "b0769e5a-4c31-41b9-913d-07d089413ba9",
   "metadata": {},
   "outputs": [],
   "source": [
    "sns.regplot(\n",
    "    data = df_hotels, x = 'lndistance', y = 'lnprice'\n",
    "    , marker = '.', fit_reg = True, ci = None\n",
    "    , scatter_kws = {'color': 'dimgrey'}\n",
    "    , line_kws = {'color': 'k'}\n",
    ")\n",
    "plt.xlabel('log distance in miles')\n",
    "plt.ylabel('log price in US')\n",
    "plt.title('Vienna hotel log prices vs log distances from city center');"
   ]
  },
  {
   "cell_type": "code",
   "execution_count": null,
   "id": "9aaad314-1a4c-4cbe-a411-c6da08ec3579",
   "metadata": {},
   "outputs": [],
   "source": [
    "print(regression_4.summary2())"
   ]
  },
  {
   "cell_type": "markdown",
   "id": "7c70215a-3104-4076-8a7e-27134e4dba4f",
   "metadata": {},
   "source": [
    "<br>\n",
    "\n",
    "- Now interpret the $\\beta_0$ and $\\beta_1$ parameters of the four regressions. \n",
    "- Which model has the best fit?\n",
    "- Which model shall we use if we also consider the issues with interpretation?"
   ]
  },
  {
   "cell_type": "markdown",
   "id": "01d4dea4-62ea-40d6-804d-22af28ce3944",
   "metadata": {},
   "source": [
    "**Visualizing the fitted values from the log-log regression in the original (non-transformed) variable space.**"
   ]
  },
  {
   "cell_type": "code",
   "execution_count": null,
   "id": "d73a01a6-3410-42de-9b2f-79fad8f8653e",
   "metadata": {},
   "outputs": [],
   "source": [
    "price_hat = regression_4.fittedvalues"
   ]
  },
  {
   "cell_type": "code",
   "execution_count": null,
   "id": "40985e71-224c-4bd0-b6d6-4345dcf1f687",
   "metadata": {},
   "outputs": [],
   "source": [
    "price_hat"
   ]
  },
  {
   "cell_type": "markdown",
   "id": "37015be9-7f98-46f2-bd77-c5cdbdc2975f",
   "metadata": {},
   "source": [
    "<br> \n",
    "\n",
    "Fitted values from the regression are calculated for the *log prices*. We, however, are NOT interested in the log prices but in the original dollar values. For this we need to convert the fitted log values to the original units (dollars in this case). This conversion is less straightforward than you would think: we need to adjust $e^{\\hat{ln y_i}}$ by a fuction of the standard deviation of the residual $\\hat{\\sigma}$ pf the regression model with $lny$ on its left-hand side.\n",
    "\n",
    "<center>$\\hat{y}_i = e^{\\hat{ln y_i}}*e^{\\sigma^2/2}$ </center>\n",
    "<br>\n",
    "\n",
    "This comes from the fact that the mean of the lognormal distribution is $e^{\\mu+{\\sigma^2/2}} = e^{\\mu}*e^{\\sigma^2/2}$\n",
    "\n",
    "\n",
    "See more in Békés-Kézdi @3.9: mean of a lognormal distribution & @14.3 prediction from a log model"
   ]
  },
  {
   "cell_type": "markdown",
   "id": "75e4a4cf-1238-4412-a120-f4b39eb542a9",
   "metadata": {},
   "source": [
    "1. Get the residuals\n",
    "2. Calculate their variance\n",
    "3. Use it in the formula"
   ]
  },
  {
   "cell_type": "code",
   "execution_count": null,
   "id": "c5a984e9-3e9b-4412-8318-1e457b134176",
   "metadata": {},
   "outputs": [],
   "source": [
    "regression_4.resid"
   ]
  },
  {
   "cell_type": "code",
   "execution_count": null,
   "id": "f57ad308-0ff5-4512-aaeb-c7397107db13",
   "metadata": {},
   "outputs": [],
   "source": [
    "residual_variance = np.var(regression_4.resid)\n",
    "residual_variance"
   ]
  },
  {
   "cell_type": "code",
   "execution_count": null,
   "id": "7a58129d-330a-40fa-8b7a-21908455cfa9",
   "metadata": {},
   "outputs": [],
   "source": [
    "price_hat = [math.exp(x)*math.exp(residual_variance/2) for x in price_hat]"
   ]
  },
  {
   "cell_type": "code",
   "execution_count": null,
   "id": "4f2e38de-1a10-43db-b79f-b0b8e288ad31",
   "metadata": {},
   "outputs": [],
   "source": [
    "price_hat[0:10]"
   ]
  },
  {
   "cell_type": "code",
   "execution_count": null,
   "id": "eace68cf-fe83-4ad2-a4c5-c69d3058638b",
   "metadata": {},
   "outputs": [],
   "source": [
    "fig = plt.figure(figsize = (6,4))\n",
    "ax = fig.add_axes([0,0,1,1])\n",
    "ax.scatter(x = df_hotels.distance, y = df_hotels.price, color = 'cornflowerblue', s = 5, label = 'actual price')\n",
    "ax.plot(df_hotels.distance, price_hat, color = 'k', label = 'fitted price')\n",
    "plt.title('Actual and fitted hotel price values from the log-log regression')\n",
    "plt.legend(labelcolor = ['cornflowerblue', 'black'])\n",
    "plt.xlabel('distance in miles')\n",
    "#plt.ylim(0,300)\n",
    "plt.ylabel('price in USD');"
   ]
  },
  {
   "cell_type": "markdown",
   "id": "f972e60e-34b2-4e02-ba57-35a8b5510a0a",
   "metadata": {},
   "source": [
    "**Question**: is this a _linear_ regression?"
   ]
  },
  {
   "cell_type": "markdown",
   "id": "78990c64-18bb-445d-899f-efb5a9074d45",
   "metadata": {},
   "source": [
    "### Data - Life Expectancy & Income"
   ]
  },
  {
   "cell_type": "code",
   "execution_count": null,
   "id": "9efd659a-396b-400a-b3ed-55fdf072bf9b",
   "metadata": {},
   "outputs": [],
   "source": [
    "path = os.path.join(os.pardir, 'data', 'worldbank-lifeexpectancy.csv') \n",
    "path"
   ]
  },
  {
   "cell_type": "code",
   "execution_count": null,
   "id": "d11b6d84-6e28-4579-9504-c2d39e6f9145",
   "metadata": {},
   "outputs": [],
   "source": [
    "df_wb = pd.read_csv(path)"
   ]
  },
  {
   "cell_type": "code",
   "execution_count": null,
   "id": "4c0b0674-b0e1-4807-ad02-7ef125819a14",
   "metadata": {},
   "outputs": [],
   "source": [
    "df_wb.head()"
   ]
  },
  {
   "cell_type": "code",
   "execution_count": null,
   "id": "f5aa9573-4ca0-48be-b2f7-78b0b9c36aaf",
   "metadata": {},
   "outputs": [],
   "source": [
    "df_wb.info()"
   ]
  },
  {
   "cell_type": "code",
   "execution_count": null,
   "id": "24d27bcd-41b8-45db-b535-8f993e5bf977",
   "metadata": {},
   "outputs": [],
   "source": [
    "df_wb.year.unique()"
   ]
  },
  {
   "cell_type": "code",
   "execution_count": null,
   "id": "e5fd1587-fb74-4726-8a3f-8b1caee336b2",
   "metadata": {},
   "outputs": [],
   "source": [
    "df_wb = df_wb[df_wb.year == 2017]\n",
    "df_wb"
   ]
  },
  {
   "cell_type": "code",
   "execution_count": null,
   "id": "346ed8e4-6f2e-4d89-8fe8-eab15e2ae1e2",
   "metadata": {},
   "outputs": [],
   "source": [
    "df_wb.sort_values(by = 'gdppc', inplace = True) # only for plotting purposes"
   ]
  },
  {
   "cell_type": "code",
   "execution_count": null,
   "id": "a39c8d86-5aba-421a-b329-2fa5445cc29d",
   "metadata": {},
   "outputs": [],
   "source": [
    "df_wb.reset_index(drop = True, inplace = True)"
   ]
  },
  {
   "cell_type": "code",
   "execution_count": null,
   "id": "f1d77913-4e07-444e-9cfd-24e7da8e4201",
   "metadata": {},
   "outputs": [],
   "source": [
    "df_wb[\"gdptot\"] = df_wb[\"gdppc\"] * df_wb[\"population\"]\n",
    "df_wb[\"lngdppc\"] = np.log(df_wb[\"gdppc\"])\n",
    "df_wb[\"lngdptot\"] = np.log(df_wb[\"gdptot\"])"
   ]
  },
  {
   "cell_type": "markdown",
   "id": "75cb1dd0-8754-49b0-8884-fffd85de3fd2",
   "metadata": {},
   "source": [
    "### EDA"
   ]
  },
  {
   "cell_type": "code",
   "execution_count": null,
   "id": "b2220d1c-8c8f-420b-ba56-6d53d99cabb6",
   "metadata": {},
   "outputs": [],
   "source": [
    "df_wb[[\"lifeexp\", \"gdppc\", \"gdptot\", \"lngdppc\", \"lngdptot\"]].describe().T.round(3)"
   ]
  },
  {
   "cell_type": "code",
   "execution_count": null,
   "id": "d675d7c8-a646-42ac-8129-6ed66dd2775e",
   "metadata": {},
   "outputs": [],
   "source": [
    "sns.histplot(df_wb.lifeexp, bins = 31)\n",
    "plt.xlabel('life expectancy in years')\n",
    "plt.title('Distribution of life expectancy in 2017')\n",
    "plt.text(x = 55, y = 15, s = 'definitely not lognormal');"
   ]
  },
  {
   "cell_type": "code",
   "execution_count": null,
   "id": "0f5f06c2-d436-4ce8-b4b5-f2c78e08ec14",
   "metadata": {},
   "outputs": [],
   "source": [
    "sns.histplot(\n",
    "    df_wb.gdppc\n",
    "    , bins = range(0,125,5)\n",
    "    , shrink = 0.90 # resize the columns to add gaps between them\n",
    ")\n",
    "plt.xlabel('thousand USD')\n",
    "plt.text(40, 40, 'What distribution is this?')\n",
    "plt.title('Distribution of GDP per capita in 2017');"
   ]
  },
  {
   "cell_type": "code",
   "execution_count": null,
   "id": "988224b7-7ba4-4d55-9289-47770b5af4d6",
   "metadata": {},
   "outputs": [],
   "source": [
    "sns.histplot(\n",
    "    df_wb.gdppc\n",
    "    , log_scale= True\n",
    "    , bins = 24\n",
    "    , shrink = 0.90\n",
    ")\n",
    "plt.xlabel('thousand USD')\n",
    "plt.text(0.75, 12, 'using it as lognormal is OK')\n",
    "plt.title('Distribution of GDP per capita in 2017');"
   ]
  },
  {
   "cell_type": "code",
   "execution_count": null,
   "id": "7fb1b5ce-0460-4058-aa95-fcf017ec9ca0",
   "metadata": {},
   "outputs": [],
   "source": [
    "sns.scatterplot(\n",
    "    data = df_wb, x = 'gdppc', y = 'lifeexp')\n",
    "plt.title('GDP per capita vs life expectancy')\n",
    "plt.xlabel('thousand USD');\n",
    "plt.ylabel('years');"
   ]
  },
  {
   "cell_type": "markdown",
   "id": "9b46622f-99ed-4c2c-a1a8-91fffd30eabf",
   "metadata": {},
   "source": [
    "Adding a regression line."
   ]
  },
  {
   "cell_type": "code",
   "execution_count": null,
   "id": "55a8c1f3-615f-4bdf-a9ff-ff795aeb132d",
   "metadata": {},
   "outputs": [],
   "source": [
    "sns.regplot(\n",
    "    data = df_wb, x = 'gdppc', y = 'lifeexp'\n",
    "    , fit_reg= True, ci = None, line_kws = {'color': 'k'})\n",
    "plt.title('GDP per capita vs life expectancy - linear model')\n",
    "plt.xlabel('thousand USD');\n",
    "plt.ylabel('years');"
   ]
  },
  {
   "cell_type": "code",
   "execution_count": null,
   "id": "2d07737d-abad-4511-9cac-58da41cc4046",
   "metadata": {},
   "outputs": [],
   "source": [
    "sns.regplot(\n",
    "    data = df_wb, x = 'gdppc', y = 'lifeexp'\n",
    "    , fit_reg= True, lowess= True, ci = None, line_kws = {'color': 'k'})\n",
    "plt.title('GDP per capita vs life expectancy - lowess')\n",
    "plt.xlabel('thousand USD');\n",
    "plt.ylabel('years');"
   ]
  },
  {
   "cell_type": "markdown",
   "id": "0327e610-c861-4a36-b2fd-f4f0a2c6a84c",
   "metadata": {},
   "source": [
    "Regplot with log in GDP per capita"
   ]
  },
  {
   "cell_type": "markdown",
   "id": "0c9d1d17-a53c-4548-b044-57d2cdc16443",
   "metadata": {},
   "source": [
    "Original data, transformed x-axis."
   ]
  },
  {
   "cell_type": "code",
   "execution_count": null,
   "id": "83077c2a-4e05-45df-b8d4-3ea331a8a995",
   "metadata": {},
   "outputs": [],
   "source": [
    "g = sns.regplot(\n",
    "    data = df_wb, x = 'gdppc', y = 'lifeexp'\n",
    "    , fit_reg = True, ci = None\n",
    "    , logx= True # here we tell seaborn to take x logs\n",
    "    , line_kws = {'color': 'k'})\n",
    "plt.semilogx() # we are changing the scale of the x axis to logarithmic\n",
    "plt.title('Log GDP per capita vs life expectancy')\n",
    "plt.xlabel('thousand USD, log scale');\n",
    "plt.ylabel('years');"
   ]
  },
  {
   "cell_type": "markdown",
   "id": "cbed4595-8e57-49a8-b464-b87983dd7134",
   "metadata": {},
   "source": [
    "Reformat x-axis values to meaningful units."
   ]
  },
  {
   "cell_type": "code",
   "execution_count": null,
   "id": "3cce49de-f14d-41df-b3eb-9baf8f547d71",
   "metadata": {},
   "outputs": [],
   "source": [
    "g.get_xticks()"
   ]
  },
  {
   "cell_type": "code",
   "execution_count": null,
   "id": "3e90923f-8fae-470d-aad2-b12489a194fd",
   "metadata": {},
   "outputs": [],
   "source": [
    "['{:,.0f}'.format(x) for x in g.get_xticks()]"
   ]
  },
  {
   "cell_type": "code",
   "execution_count": null,
   "id": "1316606b-ce71-4085-bba9-849040ba721e",
   "metadata": {},
   "outputs": [],
   "source": [
    "g = sns.regplot(\n",
    "    data = df_wb, x = 'gdppc', y = 'lifeexp'\n",
    "    , fit_reg = True, logx= True, ci = None\n",
    "    , line_kws = {'color': 'k'})\n",
    "plt.semilogx() # we are changing the scale of the x axis to logarithmic\n",
    "xlabels = ['{:,.0f}'.format(x) for x in g.get_xticks()] #  getting the x ticks and reformatting them as decimals\n",
    "g.set_xticklabels(xlabels) # adding the reformatted ticks\n",
    "plt.title('Log GDP per capita vs life expectancy')\n",
    "plt.xlabel('thousand USD, log scale');\n",
    "plt.ylabel('years');"
   ]
  },
  {
   "cell_type": "markdown",
   "id": "33d9b816-d8cc-4a23-92dc-e9323bd0e23e",
   "metadata": {},
   "source": [
    "The fitted values from the level-log regression look like this on the oringinal data."
   ]
  },
  {
   "cell_type": "code",
   "execution_count": null,
   "id": "ce48a77b-704b-406b-9451-51c26295fec1",
   "metadata": {},
   "outputs": [],
   "source": [
    "# Here we are telling Seaborn to fit a regression to the logx data but we plot it in the original decimal space. \n",
    "g = sns.regplot(\n",
    "    data = df_wb, x = 'gdppc', y = 'lifeexp'\n",
    "    , fit_reg = True, logx= True, ci = None\n",
    "    , line_kws = {'color': 'k'})\n",
    "xlabels = ['{:,.0f}'.format(x) for x in g.get_xticks()]\n",
    "g.set_xticklabels(xlabels)\n",
    "plt.title('Log GDP per capita vs life expectancy \\noriginal scale')\n",
    "plt.xlabel('thousand USD');\n",
    "plt.ylabel('years');"
   ]
  },
  {
   "cell_type": "markdown",
   "id": "70f0aed6-0494-40b5-a846-a82177adb5b3",
   "metadata": {},
   "source": [
    "### Regressions: Logs, Splines & Polinomials"
   ]
  },
  {
   "cell_type": "markdown",
   "id": "715ab5d0-408c-4d7c-a836-7b7209addba7",
   "metadata": {},
   "source": [
    "#### Logs"
   ]
  },
  {
   "cell_type": "markdown",
   "id": "8339347a-6f16-477e-bce5-f84f424629e3",
   "metadata": {},
   "source": [
    "**level-level**"
   ]
  },
  {
   "cell_type": "code",
   "execution_count": null,
   "id": "61c42a73-5fdc-4062-a735-c7770bd7fe2f",
   "metadata": {},
   "outputs": [],
   "source": [
    "regression_life_1 = smf.ols(formula = 'lifeexp ~ gdppc', data = df_wb).fit(cov_type = 'HC0')"
   ]
  },
  {
   "cell_type": "code",
   "execution_count": null,
   "id": "a1211195-19ec-41ee-a0ae-9b22de576c78",
   "metadata": {},
   "outputs": [],
   "source": [
    "print(regression_life_1.summary())"
   ]
  },
  {
   "cell_type": "markdown",
   "id": "2acea836-60dd-4a3b-ac8f-f53234ace886",
   "metadata": {},
   "source": [
    "**level-log**"
   ]
  },
  {
   "cell_type": "code",
   "execution_count": null,
   "id": "1dfb00e2-99aa-4067-9fba-fa07db5dd03b",
   "metadata": {},
   "outputs": [],
   "source": [
    "regression_life_2 = smf.ols(formula = 'lifeexp ~ lngdppc', data = df_wb).fit(cov_type = 'HC0')"
   ]
  },
  {
   "cell_type": "code",
   "execution_count": null,
   "id": "b5fa6a6e-2598-4cbb-bb11-ce31db78b2a2",
   "metadata": {},
   "outputs": [],
   "source": [
    "print(regression_life_2.summary())"
   ]
  },
  {
   "cell_type": "markdown",
   "id": "bd250597-6e2a-4c94-b39d-b00becade358",
   "metadata": {},
   "source": [
    "#### Spline"
   ]
  },
  {
   "cell_type": "markdown",
   "id": "693c9622-d996-4de3-8548-8770ba85137a",
   "metadata": {},
   "source": [
    "For a spline we need helper functions."
   ]
  },
  {
   "cell_type": "code",
   "execution_count": null,
   "id": "bc1f98d8-3cd7-4f9d-be0c-ba77fa8a23c0",
   "metadata": {},
   "outputs": [],
   "source": [
    "cutoff = 50\n",
    "cutoff_ln = np.log(cutoff)\n",
    "cutoff_ln"
   ]
  },
  {
   "cell_type": "code",
   "execution_count": null,
   "id": "b108bcbc-df1c-47d2-bcff-d4ab29124d0a",
   "metadata": {},
   "outputs": [],
   "source": [
    "def knot_ceil(vector: np.array, knot: float) -> np.array:\n",
    "    \"\"\"\n",
    "    Apply a ceiling value to elements in a numpy array.\n",
    "\n",
    "    This function takes a numpy array and a ceiling value (knot). It returns a copy of the array where all elements greater than the ceiling value are replaced by the ceiling value.\n",
    "\n",
    "    Parameters:\n",
    "    vector (np.array): The input numpy array.\n",
    "    knot (float): The ceiling value to apply.\n",
    "\n",
    "    Returns:\n",
    "    np.array: A new numpy array with elements capped at the ceiling value.\n",
    "    \n",
    "    Example:\n",
    "    >>> import numpy as np\n",
    "    >>> vector = np.array([1, 2, 3, 4, 5])\n",
    "    >>> knot = 3\n",
    "    >>> knot_ceil(vector, knot)\n",
    "    array([1, 2, 3, 3, 3])\n",
    "    \"\"\"\n",
    "    \n",
    "    vector_copy = copy.deepcopy(vector)\n",
    "    vector_copy[vector_copy > knot] = knot\n",
    "    return vector_copy\n",
    "\n",
    "\n",
    "def lspline(series: pd.Series, knots: List[float]) -> np.array:\n",
    "    \"\"\"\n",
    "    Generate a linear spline basis matrix for a given pandas Series and knots.\n",
    "\n",
    "    This function creates a design matrix for linear splines based on the provided knots. \n",
    "    It iteratively applies a ceiling function to the series values at each knot, \n",
    "    subtracting the resulting column from the series to prepare for the next knot.\n",
    "\n",
    "    Parameters:\n",
    "    series (pd.Series): The input pandas Series.\n",
    "    knots (List[float]): A list of knot values where the spline should change slope.\n",
    "\n",
    "    Returns:\n",
    "    np.array: A design matrix where each column corresponds to a segment of the linear spline.\n",
    "\n",
    "    Example:\n",
    "    >>> import pandas as pd\n",
    "    >>> series = pd.Series([1, 2, 3, 4, 5])\n",
    "    >>> knots = [2, 4]\n",
    "    >>> lspline(series, knots)\n",
    "    array([[1, 0, 0],\n",
    "           [2, 0, 0],\n",
    "           [2, 1, 0],\n",
    "           [2, 2, 0],\n",
    "           [2, 2, 1]])\n",
    "    \"\"\"\n",
    "    \n",
    "    if type(knots) != list:\n",
    "        knots = [knots]\n",
    "    design_matrix = None\n",
    "    vector = series.values\n",
    "\n",
    "    for i in range(len(knots)):\n",
    "        if i == 0:\n",
    "            column = knot_ceil(vector, knots[i])\n",
    "        else:\n",
    "            column = knot_ceil(vector, knots[i] - knots[i - 1])\n",
    "\n",
    "        if i == 0:\n",
    "            design_matrix = column\n",
    "        else:\n",
    "            design_matrix = np.column_stack((design_matrix, column))\n",
    "\n",
    "        vector = vector - column\n",
    "    design_matrix = np.column_stack((design_matrix, vector))\n",
    "\n",
    "    return design_matrix"
   ]
  },
  {
   "cell_type": "markdown",
   "id": "0d2af3e6-9ed3-48ac-8a09-aae18c2eb9ba",
   "metadata": {},
   "source": [
    "User-defined functions can directly be applied to statsmodels' formula definition! "
   ]
  },
  {
   "cell_type": "code",
   "execution_count": null,
   "id": "3327c8dd-aaf2-441a-a668-300f52ba0f71",
   "metadata": {},
   "outputs": [],
   "source": [
    "regression_spline = smf.ols(formula = 'lifeexp ~ lspline(lngdppc, cutoff_ln)', data = df_wb).fit(cov_tpe = 'HC0')"
   ]
  },
  {
   "cell_type": "code",
   "execution_count": null,
   "id": "3fa4299a-d3b3-4866-a357-d146d7e38851",
   "metadata": {},
   "outputs": [],
   "source": [
    "print(regression_spline.summary())"
   ]
  },
  {
   "cell_type": "markdown",
   "id": "2ae162fb-7e13-4764-b0ee-ef3652123fca",
   "metadata": {},
   "source": [
    "<br>\n",
    "\n",
    "**Questions**: \n",
    "\n",
    "- What do the t-value and the p-value of $\\beta_2$ suggest? How can we interpret $\\beta_2$?\n",
    "- Why did we pick USD 50K as cutoff? How can we find the best cutoff? "
   ]
  },
  {
   "cell_type": "code",
   "execution_count": null,
   "id": "d46c2bff-0ba6-45fe-b0d5-b68ba72ca27b",
   "metadata": {},
   "outputs": [],
   "source": [
    "df_wb['spline_prediction'] = regression_spline.predict()"
   ]
  },
  {
   "cell_type": "code",
   "execution_count": null,
   "id": "8e671846-92c8-4482-bd93-82522957a4c7",
   "metadata": {},
   "outputs": [],
   "source": [
    "g = sns.scatterplot(x = 'gdppc', y= 'lifeexp', data = df_wb)\n",
    "plt.plot(df_wb.gdppc, df_wb.spline_prediction, color = 'k')\n",
    "plt.semilogx()\n",
    "xlabels = ['{:,.0f}'.format(x) for x in g.get_xticks()]\n",
    "g.set_xticklabels(xlabels)\n",
    "plt.title('Log GDP per capita vs life expectancy \\npiecewise linear spline regression')\n",
    "plt.xlabel('thousand USD, log scale');\n",
    "plt.ylabel('years');"
   ]
  },
  {
   "cell_type": "code",
   "execution_count": null,
   "id": "132f1f87-429b-4b67-bae0-6cec4b3b3b35",
   "metadata": {},
   "outputs": [],
   "source": [
    "g = sns.scatterplot(x = 'gdppc', y= 'lifeexp', data = df_wb)\n",
    "plt.plot(df_wb.gdppc, df_wb.spline_prediction, color = 'k')\n",
    "# plt.semilogx()\n",
    "xlabels = ['{:,.0f}'.format(x) for x in g.get_xticks()]\n",
    "g.set_xticklabels(xlabels)\n",
    "plt.title('GDP per capita vs life expectancy \\npiecewise linear spline regression on log GDP')\n",
    "plt.xlabel('thousand USD, original scale')\n",
    "plt.ylabel('years');"
   ]
  },
  {
   "cell_type": "code",
   "execution_count": null,
   "id": "0483997c-a6a6-49ad-af3b-97fc7dbdf58c",
   "metadata": {},
   "outputs": [],
   "source": [
    "df_wb[(df_wb.gdppc > 20) & (df_wb.lifeexp < 60)]"
   ]
  },
  {
   "cell_type": "markdown",
   "id": "feea2fad-0423-494b-a18d-2e43655d4af9",
   "metadata": {},
   "source": [
    "**Question**: what can be an explanation for thris outlier value?"
   ]
  },
  {
   "cell_type": "markdown",
   "id": "df309d5f-4033-423b-b524-d904a1c9d67f",
   "metadata": {},
   "source": [
    "#### Polinomial"
   ]
  },
  {
   "cell_type": "code",
   "execution_count": null,
   "id": "54ef1a3b-d24d-445a-9966-d684a81303b2",
   "metadata": {},
   "outputs": [],
   "source": [
    "df_wb['lngdppc_sq'] = df_wb.lngdppc.pow(2)"
   ]
  },
  {
   "cell_type": "code",
   "execution_count": null,
   "id": "b90e0fd8-6381-4281-981c-9b6ab6442ab8",
   "metadata": {},
   "outputs": [],
   "source": [
    "regression_quadratic = smf.ols(formula = 'lifeexp ~ lngdppc + lngdppc_sq', data = df_wb).fit(cov_tpe = 'HC0')"
   ]
  },
  {
   "cell_type": "code",
   "execution_count": null,
   "id": "98dae8f7-0e19-40ef-b0d1-acf0211fccb3",
   "metadata": {},
   "outputs": [],
   "source": [
    "print(regression_quadratic.summary())"
   ]
  },
  {
   "cell_type": "code",
   "execution_count": null,
   "id": "37683c0e-166f-4055-9e70-eabe9084aa63",
   "metadata": {},
   "outputs": [],
   "source": [
    "df_wb['quadratic_prediction'] = regression_quadratic.fittedvalues"
   ]
  },
  {
   "cell_type": "code",
   "execution_count": null,
   "id": "da7594a3-96f3-4b15-bfd1-5f32a1908304",
   "metadata": {},
   "outputs": [],
   "source": [
    "g = sns.scatterplot(x = 'gdppc', y= 'lifeexp', data = df_wb)\n",
    "plt.plot(df_wb.gdppc, df_wb.quadratic_prediction, color = 'k')\n",
    "plt.semilogx()\n",
    "xlabels = ['{:,.0f}'.format(x) for x in g.get_xticks()]\n",
    "g.set_xticklabels(xlabels)\n",
    "plt.title('Log GDP per capita vs life expectancy \\nquadratic regression')\n",
    "plt.xlabel('thousand USD, log scale');\n",
    "plt.ylabel('years');"
   ]
  },
  {
   "cell_type": "markdown",
   "id": "3b2f1d2e-9590-4849-ba0b-60fd4f53fc0a",
   "metadata": {},
   "source": [
    "#### Weighted regression\n",
    "\n",
    "We are using population weights to estimate the regression parameters."
   ]
  },
  {
   "cell_type": "code",
   "execution_count": null,
   "id": "127e0f3b-78e0-49c6-baf5-9144b55db61b",
   "metadata": {},
   "outputs": [],
   "source": [
    "regression_weighted = smf.wls(formula = 'lifeexp ~ lngdppc', data= df_wb, weights = df_wb.gdptot).fit(cov_type = 'HC0')"
   ]
  },
  {
   "cell_type": "code",
   "execution_count": null,
   "id": "af0f8b2b-e664-47de-af55-f89de441565b",
   "metadata": {},
   "outputs": [],
   "source": [
    "print(regression_weighted.summary())"
   ]
  },
  {
   "cell_type": "code",
   "execution_count": null,
   "id": "6c8fba2c-dea4-483d-adc0-a735e5831777",
   "metadata": {},
   "outputs": [],
   "source": [
    "g = sns.scatterplot(x = 'gdppc', y= 'lifeexp', data = df_wb, size = 'gdptot', sizes = (10,500))\n",
    "plt.plot(df_wb.gdppc, regression_weighted.fittedvalues, color = 'k')\n",
    "plt.semilogx()\n",
    "xlabels = ['{:,.0f}'.format(x) for x in g.get_xticks()]\n",
    "g.set_xticklabels(xlabels)\n",
    "plt.title('Log GDP per capita vs life expectancy \\nweighted regression')\n",
    "plt.legend(labelspacing = 1)\n",
    "plt.xlabel('thousand USD, log scale');\n",
    "plt.ylabel('years');"
   ]
  }
 ],
 "metadata": {
  "kernelspec": {
   "display_name": "Python 3 (ipykernel)",
   "language": "python",
   "name": "python3"
  },
  "language_info": {
   "codemirror_mode": {
    "name": "ipython",
    "version": 3
   },
   "file_extension": ".py",
   "mimetype": "text/x-python",
   "name": "python",
   "nbconvert_exporter": "python",
   "pygments_lexer": "ipython3",
   "version": "3.12.4"
  }
 },
 "nbformat": 4,
 "nbformat_minor": 5
}
