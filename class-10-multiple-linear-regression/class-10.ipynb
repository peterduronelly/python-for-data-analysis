{
 "cells": [
  {
   "cell_type": "markdown",
   "id": "9e1f687c-bc8f-4709-95ce-93683e274164",
   "metadata": {},
   "source": [
    "### <center>Class 10: Multiple Linear Regression</center>"
   ]
  },
  {
   "cell_type": "code",
   "execution_count": null,
   "id": "0b0df47c-cacd-4516-a2cc-45c8b952ccaf",
   "metadata": {},
   "outputs": [],
   "source": [
    "import os\n",
    "import sys\n",
    "import warnings\n",
    "from typing import List\n",
    "import copy\n",
    "\n",
    "import numpy as np\n",
    "import pandas as pd\n",
    "import statsmodels.api as sm\n",
    "import statsmodels.formula.api as smf\n",
    "import math\n",
    "# from patsy import dmatrices\n",
    "from stargazer.stargazer import Stargazer\n",
    "from utils import lspline\n",
    "\n",
    "import matplotlib.pyplot as plt\n",
    "import seaborn as sns\n",
    "\n",
    "warnings.filterwarnings(\"ignore\")"
   ]
  },
  {
   "cell_type": "code",
   "execution_count": null,
   "id": "761dba91-752d-445f-a999-4af71c6eb9d3",
   "metadata": {},
   "outputs": [],
   "source": [
    "%matplotlib inline"
   ]
  },
  {
   "cell_type": "markdown",
   "id": "63fc73a3-a11e-4852-838c-61ab0972b9fb",
   "metadata": {},
   "source": [
    "## Data - Hotels"
   ]
  },
  {
   "cell_type": "code",
   "execution_count": null,
   "id": "d83b7c92-c194-459a-a730-2e085d523893",
   "metadata": {},
   "outputs": [],
   "source": [
    "path = os.path.join(os.pardir, 'data', 'hotels-vienna.csv') # this will produce a path with the right syntax for your operating system\n",
    "path"
   ]
  },
  {
   "cell_type": "code",
   "execution_count": null,
   "id": "e91b78b5-45e8-421a-a251-f6a07800147c",
   "metadata": {},
   "outputs": [],
   "source": [
    "df_hotels = pd.read_csv(path)"
   ]
  },
  {
   "cell_type": "code",
   "execution_count": null,
   "id": "da02c189-3516-4664-81ac-3b6816b54dfa",
   "metadata": {},
   "outputs": [],
   "source": [
    "df_hotels"
   ]
  },
  {
   "cell_type": "code",
   "execution_count": null,
   "id": "ac3a37d7-48ad-4936-9493-94e82e044155",
   "metadata": {},
   "outputs": [],
   "source": [
    "df_hotels = df_hotels[\n",
    "    (df_hotels.accommodation_type == 'Hotel')\n",
    "    & (df_hotels.city_actual == 'Vienna')\n",
    "    & (df_hotels.stars >= 3)\n",
    "    & (df_hotels.stars <= 4)\n",
    "    & (df_hotels.price <= 600)]\n"
   ]
  },
  {
   "cell_type": "code",
   "execution_count": null,
   "id": "704f44d0-f971-4390-993a-01f0fb8c884d",
   "metadata": {},
   "outputs": [],
   "source": [
    "df_hotels.shape"
   ]
  },
  {
   "cell_type": "code",
   "execution_count": null,
   "id": "ebf3046b-ba89-473b-a9d8-72966967d90c",
   "metadata": {},
   "outputs": [],
   "source": [
    "df_hotels[\"lnprice\"] = np.log(df_hotels[\"price\"])\n",
    "df_hotels[\"distance2\"] = df_hotels[\"distance\"]\n",
    "df_hotels.loc[df_hotels[\"distance2\"] < 0.05, \"distance2\"] = 0.05 # making sure that the log transformation is feasible\n",
    "df_hotels[\"lndistance\"] = np.log(df_hotels[\"distance2\"])\n",
    "df_hotels[\"star35\"] = df_hotels[\"stars\"] == 3.5\n",
    "df_hotels[\"star4\"] = df_hotels[\"stars\"] == 4"
   ]
  },
  {
   "cell_type": "code",
   "execution_count": null,
   "id": "74af4e33-711f-452f-8fac-44aaa8255ab4",
   "metadata": {},
   "outputs": [],
   "source": [
    "df_hotels[[\"distance\", \"price\", \"lnprice\"]].describe().T.round(2)"
   ]
  },
  {
   "cell_type": "markdown",
   "id": "c8cc97c1-ab68-4cfb-a82d-e6c6a495456f",
   "metadata": {},
   "source": [
    "## Multiple Linear Regressions\n",
    "\n",
    "**rating, distance, and both**"
   ]
  },
  {
   "cell_type": "code",
   "execution_count": null,
   "id": "04cd90bd-cbe5-44ac-97c0-acde3a238442",
   "metadata": {},
   "outputs": [],
   "source": [
    "reg0 = smf.ols(\"lnprice ~ rating\", data = df_hotels).fit(cov_type = 'HC0')\n",
    "reg1 = smf.ols(\"lnprice ~ distance\", data = df_hotels).fit(cov_type = 'HC0')\n",
    "reg2 = smf.ols(\"lnprice ~ distance + rating\", data = df_hotels).fit(cov_type = 'HC0')"
   ]
  },
  {
   "cell_type": "code",
   "execution_count": null,
   "id": "647cb6eb-77e2-4f03-b99e-42b20ad52237",
   "metadata": {},
   "outputs": [],
   "source": [
    "Stargazer([reg0, reg1, reg2])"
   ]
  },
  {
   "cell_type": "markdown",
   "id": "d57a3874-84d3-4d84-9b8b-f15fc28cd7de",
   "metadata": {},
   "source": [
    "The `dmatrices` method in the `Patsy` package is used to create design matrices for statistical models. It takes a formula string and a data frame as input and returns two matrices: one for the dependent variable(s) and one for the independent variable(s). This is particularly useful for preparing data for regression analysis or other statistical modeling."
   ]
  },
  {
   "cell_type": "raw",
   "id": "5f8efd3c-61aa-4173-a550-a4a84b5d4235",
   "metadata": {},
   "source": [
    "y, X = dmatrices(\n",
    "    \"lnprice ~ lspline(distance,[1,4]) + lspline(rating, 3.5) + star35 + star4\", df_hotels\n",
    ")\n"
   ]
  },
  {
   "cell_type": "raw",
   "id": "951187fe-1ee2-4fbf-8458-bee4188e39af",
   "metadata": {},
   "source": [
    "y.shape"
   ]
  },
  {
   "cell_type": "raw",
   "id": "34867e13-b792-4df7-92c8-acdc9cad4b9b",
   "metadata": {},
   "source": [
    "X.shape"
   ]
  },
  {
   "cell_type": "raw",
   "id": "66db609c-2906-4774-bdff-f5da98b2a0ff",
   "metadata": {},
   "source": [
    "X"
   ]
  },
  {
   "cell_type": "raw",
   "id": "5f17a4bb-4618-445a-9cb5-cb359c37cb73",
   "metadata": {},
   "source": [
    "np.asarray(X)"
   ]
  },
  {
   "cell_type": "raw",
   "id": "ccabf1a3-54f7-445d-b95b-4c233136f3f0",
   "metadata": {},
   "source": [
    "np.asarray(X)[0:5]"
   ]
  },
  {
   "cell_type": "raw",
   "id": "70819d8c-e226-4c01-a7e2-f54c0b0e03cd",
   "metadata": {},
   "source": [
    "df_hotels[['star35', 'star4', 'distance', 'rating']].head()"
   ]
  },
  {
   "cell_type": "markdown",
   "id": "e4706b1f-7856-48ff-974a-1da5d31354a7",
   "metadata": {},
   "source": [
    "**distance and rating with splines + stars**"
   ]
  },
  {
   "cell_type": "code",
   "execution_count": null,
   "id": "75047409-b6be-409f-ae2f-0bb44b49d1f6",
   "metadata": {},
   "outputs": [],
   "source": [
    "reg3 = smf.ols(\n",
    "    \"lnprice ~ lspline(distance,[1,4]) + lspline(rating, 3.5) + star35 + star4\",\n",
    "    data = df_hotels,\n",
    ").fit(cov_type = 'HC0')"
   ]
  },
  {
   "cell_type": "code",
   "execution_count": null,
   "id": "6a185462-1933-49c3-908d-4c4389a09325",
   "metadata": {},
   "outputs": [],
   "source": [
    "print(reg3.summary())"
   ]
  },
  {
   "cell_type": "markdown",
   "id": "f1a9091e-290e-4222-9bc3-8948dcf79336",
   "metadata": {},
   "source": [
    "**distance with splines only**"
   ]
  },
  {
   "cell_type": "code",
   "execution_count": null,
   "id": "a156acd6-12ab-4ecb-8f03-9b0689ef2cde",
   "metadata": {},
   "outputs": [],
   "source": [
    "reg4 = smf.ols(\"lnprice ~ lspline(distance,[1,4])\", data = df_hotels).fit(cov_type = 'HC0')"
   ]
  },
  {
   "cell_type": "code",
   "execution_count": null,
   "id": "19c877de-79fb-43b0-abfe-b4e1016549ec",
   "metadata": {},
   "outputs": [],
   "source": [
    "Stargazer([reg0, reg1, reg2, reg3, reg4])"
   ]
  },
  {
   "cell_type": "markdown",
   "id": "3eaae894-200c-482b-a062-357ffbbad98e",
   "metadata": {},
   "source": [
    "**Question**: How can we interpret the rating splines and the star dummies? How are they related?"
   ]
  },
  {
   "cell_type": "markdown",
   "id": "0bc3bcb8-4a9f-4eab-b8e4-179e0f583b75",
   "metadata": {},
   "source": [
    "#### Finding best deals"
   ]
  },
  {
   "cell_type": "code",
   "execution_count": null,
   "id": "1d39a913-2fe3-45ec-8db0-f1d17fdf6777",
   "metadata": {},
   "outputs": [],
   "source": [
    "df_hotels['lnprice_hat'] = reg3.predict(df_hotels)"
   ]
  },
  {
   "cell_type": "code",
   "execution_count": null,
   "id": "a40700d5-55d2-4b0c-bcde-0db76da911e9",
   "metadata": {},
   "outputs": [],
   "source": [
    "pd.DataFrame({'a': df_hotels['lnprice_hat'], 'b':reg3.fittedvalues})"
   ]
  },
  {
   "cell_type": "code",
   "execution_count": null,
   "id": "fd0a58e6-cf9e-4bd4-a0a6-0c7c9c6f665a",
   "metadata": {},
   "outputs": [],
   "source": [
    "plt.figure(figsize = (6,6))\n",
    "sns.scatterplot(data = df_hotels, x = 'lnprice_hat', y = 'lnprice')\n",
    "plt.plot(df_hotels.lnprice_hat, df_hotels.lnprice_hat, color = 'k')\n",
    "plt.xlabel('predicted price')\n",
    "plt.ylabel('actual price')\n",
    "plt.title('Predicted vs actual prices in Vienna');"
   ]
  },
  {
   "cell_type": "markdown",
   "id": "a4211213-d808-44fd-a7d5-1ea2fdb336ef",
   "metadata": {},
   "source": [
    "The best deal is where the model overestimates the most, aka where the `residuals` are the largest in abosulte value. But how are the residuals calculated?"
   ]
  },
  {
   "cell_type": "code",
   "execution_count": null,
   "id": "4bddee28-c295-4bee-a69d-1cdcd4176062",
   "metadata": {},
   "outputs": [],
   "source": [
    "df_hotels['residuals'] = reg3.resid"
   ]
  },
  {
   "cell_type": "code",
   "execution_count": null,
   "id": "8a62ad69-2d3e-446e-9a8b-230f3d0b2010",
   "metadata": {},
   "outputs": [],
   "source": [
    "df_hotels[['lnprice', 'lnprice_hat', 'residuals']].iloc[0:10]"
   ]
  },
  {
   "cell_type": "markdown",
   "id": "2347a047-a1f7-4bf6-acc2-3a3e223116dd",
   "metadata": {},
   "source": [
    "As we can see \n",
    "\\begin{equation}\n",
    "\\text{residuals = actual - predicted}\n",
    "\\end{equation}\n",
    "\n",
    "So the best deal is..."
   ]
  },
  {
   "cell_type": "code",
   "execution_count": null,
   "id": "dbdf0e8f-8883-4cdd-9733-8636a5e3a406",
   "metadata": {},
   "outputs": [],
   "source": [
    "df_best_deal = df_hotels[df_hotels.residuals == df_hotels.residuals.min()]\n",
    "df_best_deal.T"
   ]
  },
  {
   "cell_type": "code",
   "execution_count": null,
   "id": "b60e7daa-8192-40f5-b8c0-23c04ab6a3fb",
   "metadata": {},
   "outputs": [],
   "source": [
    "plt.figure(figsize = (6,6))\n",
    "# predicted vs actual prices\n",
    "sns.scatterplot(data = df_hotels, x = 'lnprice_hat', y = 'lnprice')\n",
    "# 45-degree line to separate over- and underpriced datapoints\n",
    "plt.plot(df_hotels.lnprice_hat, df_hotels.lnprice_hat, color = 'k')\n",
    "plt.xlabel('predicted price')\n",
    "plt.ylabel('actual price')\n",
    "# identifying the best deal\n",
    "plt.plot(df_best_deal.lnprice_hat, df_best_deal.lnprice, marker = 'o', color = 'indianred') # add an extra point to cover the best deal\n",
    "# aesthetics\n",
    "# plt.xlim([3.75, 6])\n",
    "# plt.ylim([3.75, 6])\n",
    "plt.text(x= df_best_deal.lnprice_hat + 0.05, y = df_best_deal.lnprice, s = 'best deal', color = 'indianred')\n",
    "plt.title('Predicted vs actual prices in Vienna \\nand the best deal');"
   ]
  },
  {
   "cell_type": "code",
   "execution_count": null,
   "id": "82d3c65f-3ff8-4015-934f-9bfcd4e157c0",
   "metadata": {},
   "outputs": [],
   "source": [
    "df_hotels.sort_values(by = 'distance', inplace = True, ascending= True)"
   ]
  },
  {
   "cell_type": "markdown",
   "id": "5967ec07-904b-4884-b8ff-2f02af02fe9c",
   "metadata": {},
   "source": [
    "Once we have multiple independent variables we rarely plot actual and predicted against one dependent variable in a scatterplot. For demonstration pruposes, however, it makes sense to go back and plot our results in the $lnprice$ vs $distance$ space once more, since distance is probably an important variable for the user. "
   ]
  },
  {
   "cell_type": "code",
   "execution_count": null,
   "id": "9c4b0c21-04a2-4f3c-aeeb-2b0a7e6c8196",
   "metadata": {},
   "outputs": [],
   "source": [
    "fig, ax = plt.subplots(figsize = (7,5))\n",
    "ax.scatter(df_hotels.distance, df_hotels.lnprice, color = 'royalblue', s = 10, label = 'actual')\n",
    "ax.scatter(df_hotels.distance, df_hotels.lnprice_hat, color = 'k', s = 20, label = 'predicted')\n",
    "plt.legend(labelcolor = ['royalblue', 'k'])\n",
    "plt.xlabel('distance in miles')\n",
    "plt.ylabel('log price')\n",
    "plt.title('Actual vs predicted prices in Vienna');"
   ]
  },
  {
   "cell_type": "markdown",
   "id": "6fb022bd-d651-458e-b4bb-c80abd85421e",
   "metadata": {},
   "source": [
    "## Data - Earnings"
   ]
  },
  {
   "cell_type": "code",
   "execution_count": null,
   "id": "0b455063-de7b-4336-8d91-a72c51980557",
   "metadata": {},
   "outputs": [],
   "source": [
    "path = os.path.join(os.pardir, 'data', 'morg-2014-emp.csv') # this will produce a path with the right syntax for your operating system\n",
    "path"
   ]
  },
  {
   "cell_type": "code",
   "execution_count": null,
   "id": "ab018cd5-9c5c-4eda-80cd-00fa84287e0b",
   "metadata": {},
   "outputs": [],
   "source": [
    "df_earnings = pd.read_csv(path, index_col = 0)"
   ]
  },
  {
   "cell_type": "code",
   "execution_count": null,
   "id": "1ab1a8ec-ec37-4dc1-b508-dfaabc822fb8",
   "metadata": {},
   "outputs": [],
   "source": [
    "df_earnings.head()"
   ]
  },
  {
   "cell_type": "code",
   "execution_count": null,
   "id": "e16a5ea8-55ee-4557-b5dc-79b22e9ec461",
   "metadata": {},
   "outputs": [],
   "source": [
    "df_earnings.shape"
   ]
  },
  {
   "cell_type": "code",
   "execution_count": null,
   "id": "3a70d559-e9e7-4878-b3a9-e9e2201654f0",
   "metadata": {},
   "outputs": [],
   "source": [
    "df_earnings.info()"
   ]
  },
  {
   "cell_type": "code",
   "execution_count": null,
   "id": "c4f261a9-6dfc-4b41-af8c-552f59c55e04",
   "metadata": {},
   "outputs": [],
   "source": [
    "df_earnings = df_earnings.query(\"uhours >= 20 & earnwke > 0 & age >= 24 & age <= 64 & grade92 >= 44\")"
   ]
  },
  {
   "cell_type": "code",
   "execution_count": null,
   "id": "2b0e9859-976b-4c93-9c29-a69efa31befc",
   "metadata": {},
   "outputs": [],
   "source": [
    "df_earnings.shape"
   ]
  },
  {
   "cell_type": "code",
   "execution_count": null,
   "id": "52fcfc30-e67b-4c99-917c-ade7759570d5",
   "metadata": {},
   "outputs": [],
   "source": [
    "df_earnings.sort_values(by = 'age', inplace = True) # for plotting"
   ]
  },
  {
   "cell_type": "markdown",
   "id": "4f6f3b0c-e578-4c89-a946-f46e3ab51d2a",
   "metadata": {},
   "source": [
    "#### Feature engineering + EDA"
   ]
  },
  {
   "cell_type": "code",
   "execution_count": null,
   "id": "8ff2eece-abf9-4c15-9c0b-6a93ee982a67",
   "metadata": {},
   "outputs": [],
   "source": [
    "df_earnings.sex.value_counts()"
   ]
  },
  {
   "cell_type": "code",
   "execution_count": null,
   "id": "ac1ed421-8598-42a3-ab5e-8a4f3cbcb047",
   "metadata": {},
   "outputs": [],
   "source": [
    "df_earnings[\"female\"] = (df_earnings.sex == 2).astype(int)\n",
    "df_earnings[\"w\"] = df_earnings[\"earnwke\"] / df_earnings[\"uhours\"]\n",
    "df_earnings[\"lnw\"] = np.log(df_earnings[\"w\"])\n",
    "df_earnings['gender'] = df_earnings.sex.map(lambda x: 'female' if x == 2 else 'male') # for plotting"
   ]
  },
  {
   "cell_type": "code",
   "execution_count": null,
   "id": "3f2ef13d-e763-463d-b725-6a365c329022",
   "metadata": {},
   "outputs": [],
   "source": [
    "df_earnings.gender.value_counts()"
   ]
  },
  {
   "cell_type": "code",
   "execution_count": null,
   "id": "fd268a8f-ffcd-4d9d-9c0f-dd31dbd40acb",
   "metadata": {},
   "outputs": [],
   "source": [
    "df_earnings.loc[:, [\"earnwke\", \"uhours\", \"w\"]].describe().T"
   ]
  },
  {
   "cell_type": "markdown",
   "id": "f63e77df-02a3-411b-9928-711b40927c66",
   "metadata": {},
   "source": [
    "Visualization of gender distribution.\n",
    "\n",
    "`seaborn`"
   ]
  },
  {
   "cell_type": "code",
   "execution_count": null,
   "id": "bf383d55-404b-4da1-ae6c-40c20a54483a",
   "metadata": {},
   "outputs": [],
   "source": [
    "g = sns.FacetGrid(data = df_earnings, col= \"gender\", height= 5, aspect = 0.9)\n",
    "g.map(sns.histplot, \"age\", bins = range(25, 70, 5), shrink = 0.9)\n",
    "plt.suptitle('Age distribution by sex');"
   ]
  },
  {
   "cell_type": "markdown",
   "id": "dd9de0aa-876a-4cbb-88c6-dcb87fc6805b",
   "metadata": {},
   "source": [
    "`matplotlib`"
   ]
  },
  {
   "cell_type": "code",
   "execution_count": null,
   "id": "8ecb4298-6420-4a18-9ad3-3aa4bf0cc1a7",
   "metadata": {},
   "outputs": [],
   "source": [
    "fig, (ax1, ax2) = plt.subplots(ncols = 2, figsize = (10,5), sharey= True)\n",
    "ax1.hist(df_earnings[df_earnings.gender == 'male'].age, bins = range(25, 70, 5), rwidth = 0.9, edgecolor = 'k')\n",
    "ax1.set_title('males')\n",
    "ax1.set_xticks(range(25, 70, 5))\n",
    "ax1.set_ylabel('Count')\n",
    "ax1.set_xlabel('age')\n",
    "ax2.hist(df_earnings[df_earnings.gender == 'female'].age, bins = range(25, 70, 5), rwidth = 0.9, edgecolor = 'k')\n",
    "ax2.set_title('females')\n",
    "ax2.set_xticks(range(25, 70, 5))\n",
    "ax2.set_xlabel('age')\n",
    "fig.suptitle('Age distribution by sex');"
   ]
  },
  {
   "cell_type": "code",
   "execution_count": null,
   "id": "5d6d8fb1-a513-4c84-b51b-553d9926b62f",
   "metadata": {},
   "outputs": [],
   "source": [
    "sns.kdeplot(data = df_earnings, x = 'age', hue = 'gender', palette = ['k', 'royalblue'], )\n",
    "plt.xticks(range(20, 75, 5))\n",
    "plt.title('Age distribution: males vs females');"
   ]
  },
  {
   "cell_type": "markdown",
   "id": "56a472fe-edef-49dc-82ad-e7bec7fd6dd6",
   "metadata": {},
   "source": [
    "## Regressions"
   ]
  },
  {
   "cell_type": "markdown",
   "id": "325d6133-2f4f-42dc-a517-9fc322eb82a4",
   "metadata": {},
   "source": [
    "**log earnings, gender, age**"
   ]
  },
  {
   "cell_type": "code",
   "execution_count": null,
   "id": "0293ed0e-6036-42ef-8c2d-6d1899fa8ef9",
   "metadata": {},
   "outputs": [],
   "source": [
    "reg0 = smf.ols(formula = \"lnw ~ female\", data = df_earnings).fit(cov_type=\"HC1\")\n",
    "reg1 = smf.ols(formula=\"lnw ~ female + age\", data = df_earnings).fit(cov_type=\"HC1\")\n",
    "reg2 = smf.ols(formula = \"age  ~female\", data = df_earnings).fit(cov_type=\"HC1\")"
   ]
  },
  {
   "cell_type": "markdown",
   "id": "7ce6b60f-b1ef-4ae6-957d-95a52809ceea",
   "metadata": {},
   "source": [
    "**Note**: on heteroscedasticity-consistent standard errorrs see this: https://en.wikipedia.org/wiki/Heteroskedasticity-consistent_standard_errors or this: https://www.statsmodels.org/dev/generated/statsmodels.regression.linear_model.RegressionResults.html"
   ]
  },
  {
   "cell_type": "code",
   "execution_count": null,
   "id": "45af3d07-3028-4626-8bd9-3d2754c676c5",
   "metadata": {},
   "outputs": [],
   "source": [
    "stargazer = Stargazer([reg0, reg1, reg2])\n",
    "stargazer.custom_columns([\"ln wage\", \"ln wage\", \"age\"], [1, 1, 1])\n",
    "stargazer.rename_covariates({\"Intercept\": \"Constant\"})\n",
    "stargazer"
   ]
  },
  {
   "cell_type": "markdown",
   "id": "a16f71f9-4708-453f-a2de-1d046194b501",
   "metadata": {},
   "source": [
    "**Question**: How would you interpret the constant?"
   ]
  },
  {
   "cell_type": "markdown",
   "id": "7cbdf278-6113-4d3e-a45b-1fd0911d81c7",
   "metadata": {},
   "source": [
    "**log wage vs age in various function forms**"
   ]
  },
  {
   "cell_type": "code",
   "execution_count": null,
   "id": "a70da556-b8f6-4d9f-a2f5-d7bd6883d562",
   "metadata": {},
   "outputs": [],
   "source": [
    "df_earnings[\"agesq\"] = np.power(df_earnings[\"age\"], 2)\n",
    "df_earnings[\"agecu\"] = np.power(df_earnings[\"age\"], 3)\n",
    "df_earnings[\"agequ\"] = np.power(df_earnings[\"age\"], 4)"
   ]
  },
  {
   "cell_type": "code",
   "execution_count": null,
   "id": "d4ed8e2b-09a0-460c-b749-7f42c9566fb4",
   "metadata": {},
   "outputs": [],
   "source": [
    "reg3 = smf.ols(formula=\"lnw ~ female\", data=df_earnings).fit(cov_type=\"HC1\")\n",
    "reg4 = smf.ols(formula=\"lnw ~ female + age\", data=df_earnings).fit(cov_type=\"HC1\")\n",
    "reg5 = smf.ols(formula=\"lnw ~ female + age + agesq\", data=df_earnings).fit(cov_type=\"HC1\")\n",
    "reg6 = smf.ols(formula=\"lnw ~ female + age + agesq + agecu + agequ\", data=df_earnings).fit(cov_type=\"HC1\")"
   ]
  },
  {
   "cell_type": "code",
   "execution_count": null,
   "id": "9d1af377-1640-4e97-8c24-7b80b64ceab1",
   "metadata": {},
   "outputs": [],
   "source": [
    "stargazer = Stargazer([reg3, reg4, reg5, reg6])\n",
    "stargazer.covariate_order([\"Intercept\", \"female\", \"age\", \"agesq\", \"agecu\", \"agequ\"])\n",
    "stargazer.rename_covariates({\"Intercept\": \"Constant\"})\n",
    "stargazer"
   ]
  },
  {
   "cell_type": "markdown",
   "id": "15570ddd-8653-4450-b2b4-913bafb37bce",
   "metadata": {},
   "source": [
    "**log earnings, gender and education**"
   ]
  },
  {
   "cell_type": "code",
   "execution_count": null,
   "id": "d41bd5a0-8a25-468e-9a1d-79af7344cdba",
   "metadata": {},
   "outputs": [],
   "source": [
    "df_earnings[\"ed_MA\"] = (df_earnings[\"grade92\"] == 44).astype(int)\n",
    "df_earnings[\"ed_Profess\"] = (df_earnings[\"grade92\"] == 45).astype(int)\n",
    "df_earnings[\"ed_Phd\"] = (df_earnings[\"grade92\"] == 46).astype(int)"
   ]
  },
  {
   "cell_type": "code",
   "execution_count": null,
   "id": "d9c331c1-745e-434e-acb1-ffb421ac619b",
   "metadata": {},
   "outputs": [],
   "source": [
    "reg7 = smf.ols(formula=\"lnw ~ female\", data=df_earnings).fit(cov_type=\"HC1\")\n",
    "reg8 = smf.ols(formula=\"lnw ~ female + ed_Profess + ed_Phd\", data=df_earnings).fit(cov_type=\"HC1\")\n",
    "reg9 = smf.ols(formula=\"lnw ~ female + ed_Profess + ed_MA\", data=df_earnings).fit(cov_type=\"HC1\")"
   ]
  },
  {
   "cell_type": "code",
   "execution_count": null,
   "id": "5500f1eb-176d-43c6-9fd2-a791f7f4d7f9",
   "metadata": {},
   "outputs": [],
   "source": [
    "stargazer = Stargazer([reg7, reg8, reg9])\n",
    "stargazer.covariate_order([\"Intercept\", \"female\", \"ed_Profess\", \"ed_Phd\", \"ed_MA\"])\n",
    "stargazer.rename_covariates({\"Intercept\": \"Constant\"})\n",
    "stargazer"
   ]
  },
  {
   "cell_type": "markdown",
   "id": "2547d75a-6931-495f-9fc4-a3b4a625e54a",
   "metadata": {},
   "source": [
    "**log earnings, gender, age, and their interaction**"
   ]
  },
  {
   "cell_type": "code",
   "execution_count": null,
   "id": "42831d9c-394a-436f-b7ed-02fe121b1904",
   "metadata": {},
   "outputs": [],
   "source": [
    "reg10 = smf.ols(formula=\"lnw ~ age\", data=df_earnings.query(\"female==1\")).fit(cov_type=\"HC1\")\n",
    "reg11 = smf.ols(formula=\"lnw ~ age\", data=df_earnings.query(\"female==0\")).fit(cov_type=\"HC1\")\n",
    "reg12 = smf.ols(formula=\"lnw ~ female + age + age  *female\", data=df_earnings).fit(cov_type=\"HC1\")"
   ]
  },
  {
   "cell_type": "code",
   "execution_count": null,
   "id": "26b7e687-8853-4819-b752-71fd2ba65292",
   "metadata": {},
   "outputs": [],
   "source": [
    "stargazer = Stargazer([reg10, reg11, reg12])\n",
    "stargazer.covariate_order([\"Intercept\", \"female\", \"age\", \"age:female\"])\n",
    "stargazer.rename_covariates({\"Intercept\": \"Constant\", \"age:female\": \"female x age\"})\n",
    "stargazer.custom_columns([\"Women\", \"Men\", \"All\"], [1, 1, 1])\n",
    "stargazer"
   ]
  },
  {
   "cell_type": "markdown",
   "id": "d6223f54-d047-4fe3-9ebf-eb6a6a701a4b",
   "metadata": {},
   "source": [
    "**gender-age interactions on steroids**"
   ]
  },
  {
   "cell_type": "code",
   "execution_count": null,
   "id": "14159996-8374-4d58-bc04-985108b01ca1",
   "metadata": {},
   "outputs": [],
   "source": [
    "reg13 = smf.ols(formula=\"lnw ~ age + agesq + agecu + agequ\", data=df_earnings.query(\"female==1\")).fit(\n",
    "    cov_type=\"HC1\"\n",
    ")\n",
    "reg14 = smf.ols(formula=\"lnw ~ age + agesq + agecu + agequ\", data=df_earnings.query(\"female==0\")).fit(\n",
    "    cov_type=\"HC1\"\n",
    ")\n",
    "reg15 = smf.ols(\n",
    "    formula=\"lnw ~ age + agesq + agecu + agequ + female + female*age + female*agesq + female*agecu + female*agequ\",\n",
    "    data=df_earnings,\n",
    ").fit(cov_type=\"HC1\")"
   ]
  },
  {
   "cell_type": "code",
   "execution_count": null,
   "id": "07b53a9b-db9c-4821-bf3c-68e5798d63c5",
   "metadata": {},
   "outputs": [],
   "source": [
    "stargazer = Stargazer([reg13, reg14, reg15])\n",
    "stargazer.custom_columns([\"Women\", \"Men\", \"All\"], [1, 1, 1])\n",
    "stargazer"
   ]
  },
  {
   "cell_type": "markdown",
   "id": "329acd82-d58a-42f8-aa0b-38d48105273e",
   "metadata": {},
   "source": [
    "#### Prediction of the general pattern between males and females\n",
    "\n",
    "We are using `reg12`, where $age$ is interacted with $sex$. Why are we using reg12 and not reg15?"
   ]
  },
  {
   "cell_type": "markdown",
   "id": "d33adda7-1df4-4f5d-aeac-1ab9e729a757",
   "metadata": {},
   "source": [
    "**males**"
   ]
  },
  {
   "cell_type": "code",
   "execution_count": null,
   "id": "2c7cb03d-d0e2-4c48-82f2-db9825922ecf",
   "metadata": {},
   "outputs": [],
   "source": [
    "df_earnings_m = df_earnings.query(\"female==0\")\n",
    "df_earnings_m"
   ]
  },
  {
   "cell_type": "code",
   "execution_count": null,
   "id": "625419aa-dfa8-4fc7-a2c7-d6e217530ac2",
   "metadata": {},
   "outputs": [],
   "source": [
    "pred = reg12.get_prediction(df_earnings_m).summary_frame()[['mean', 'mean_ci_lower', 'mean_ci_upper']]"
   ]
  },
  {
   "cell_type": "code",
   "execution_count": null,
   "id": "11de5d18-300e-4954-a6f2-1fd290b384cd",
   "metadata": {},
   "outputs": [],
   "source": [
    "pred.rename(columns={'mean':'fit'}, inplace=True)"
   ]
  },
  {
   "cell_type": "code",
   "execution_count": null,
   "id": "b049e133-a5ba-41f6-bab4-997dd18e1464",
   "metadata": {},
   "outputs": [],
   "source": [
    "pred"
   ]
  },
  {
   "cell_type": "code",
   "execution_count": null,
   "id": "6b94941d-10fe-4e4e-b391-72234bc0a4c9",
   "metadata": {},
   "outputs": [],
   "source": [
    "df_earnings_m = df_earnings_m.reset_index(drop = True).join(pred)"
   ]
  },
  {
   "cell_type": "code",
   "execution_count": null,
   "id": "12d42af6-fd04-436e-94eb-730162f282d7",
   "metadata": {},
   "outputs": [],
   "source": [
    "df_earnings_m.tail()"
   ]
  },
  {
   "cell_type": "code",
   "execution_count": null,
   "id": "805c7b49-a419-49fe-9463-b78077232bef",
   "metadata": {},
   "outputs": [],
   "source": [
    "df_earnings_f = df_earnings.query(\"female==1\")\n",
    "pred = reg12.get_prediction(df_earnings_f).summary_frame()[['mean', 'mean_ci_lower', 'mean_ci_upper']]\n",
    "pred.rename(columns={'mean':'fit'}, inplace=True)\n",
    "df_earnings_f = df_earnings_f.reset_index(drop = True).join(pred)"
   ]
  },
  {
   "cell_type": "code",
   "execution_count": null,
   "id": "eafc0c06-36b0-4a22-be19-a2f654569220",
   "metadata": {},
   "outputs": [],
   "source": [
    "fig, ax = plt.subplots(figsize = (7,5))\n",
    "# males\n",
    "ax.plot(df_earnings_m.age, df_earnings_m.fit, color = 'k', label = 'males')\n",
    "ax.fill_between(df_earnings_m.age, df_earnings_m.mean_ci_lower, df_earnings_m.mean_ci_upper, color = 'k', alpha = 0.4)\n",
    "# females\n",
    "ax.plot(df_earnings_f.age, df_earnings_f.fit, color = 'indianred', label = 'females')\n",
    "ax.fill_between(df_earnings_f.age, df_earnings_f.mean_ci_lower, df_earnings_f.mean_ci_upper, color = 'indianred', alpha = 0.4)\n",
    "# aesthetics\n",
    "ax.legend(labelcolor = ['k', 'indianred'])\n",
    "ax.grid(linestyle='dotted')\n",
    "ax.set_ylim([2.8, 3.8])\n",
    "ax.set_xlabel('years')\n",
    "ax.set_ylabel('log(hourly earnings, USD)')\n",
    "ax.set_title('Expected log wage as a linear function of age - males and females');"
   ]
  },
  {
   "cell_type": "markdown",
   "id": "7fe99038-b8c7-42c7-8cc2-2e6920005521",
   "metadata": {},
   "source": [
    "Same exercise, using `reg15`, the 'best fit' model."
   ]
  },
  {
   "cell_type": "code",
   "execution_count": null,
   "id": "1779a856-ff6c-4f90-8db1-5e13666824d9",
   "metadata": {},
   "outputs": [],
   "source": [
    "df_earnings_m = df_earnings.query(\"female==0\")\n",
    "pred = reg15.get_prediction(df_earnings_m).summary_frame()[['mean', 'mean_ci_lower', 'mean_ci_upper']]\n",
    "pred.rename(columns={'mean':'fit'}, inplace=True)\n",
    "df_earnings_m = df_earnings_m.reset_index(drop = True).join(pred)"
   ]
  },
  {
   "cell_type": "code",
   "execution_count": null,
   "id": "abcf2657-91ac-460d-9541-11c08441983f",
   "metadata": {},
   "outputs": [],
   "source": [
    "df_earnings_f = df_earnings.query(\"female==1\")\n",
    "pred = reg15.get_prediction(df_earnings_f).summary_frame()[['mean', 'mean_ci_lower', 'mean_ci_upper']]\n",
    "pred.rename(columns={'mean':'fit'}, inplace=True)\n",
    "df_earnings_f = df_earnings_f.reset_index(drop = True).join(pred)"
   ]
  },
  {
   "cell_type": "code",
   "execution_count": null,
   "id": "7d27869f-310b-4c75-a4ec-d76985a23658",
   "metadata": {},
   "outputs": [],
   "source": [
    "fig, ax = plt.subplots(figsize = (7,5))\n",
    "# males\n",
    "ax.plot(df_earnings_m.age, df_earnings_m.fit, color = 'k', label = 'males')\n",
    "ax.fill_between(df_earnings_m.age, df_earnings_m.mean_ci_lower, df_earnings_m.mean_ci_upper, color = 'k', alpha = 0.4)\n",
    "# females\n",
    "ax.plot(df_earnings_f.age, df_earnings_f.fit, color = 'indianred', label = 'females')\n",
    "ax.fill_between(df_earnings_f.age, df_earnings_f.mean_ci_lower, df_earnings_f.mean_ci_upper, color = 'indianred', alpha = 0.4)\n",
    "# aesthetics\n",
    "ax.legend(labelcolor = ['k', 'indianred'])\n",
    "ax.grid(linestyle='dotted')\n",
    "ax.set_ylim([2.8, 3.8])\n",
    "ax.set_xlabel('years')\n",
    "ax.set_ylabel('log(hourly earnings, USD)')\n",
    "ax.set_title('Expected log wage as a non-linear function of age - males and females');"
   ]
  },
  {
   "cell_type": "markdown",
   "id": "cbcdaaf1-d9ca-4e54-9a4a-48bf5b99761f",
   "metadata": {},
   "source": [
    "#### Extended regression: all variables to find the marginal impact of gender"
   ]
  },
  {
   "cell_type": "code",
   "execution_count": null,
   "id": "42a891ff-9d50-49d7-9c68-8a0c8e9d1224",
   "metadata": {},
   "outputs": [],
   "source": [
    "df_earnings = df_earnings.query(\"age >= 40 & age <= 60\")"
   ]
  },
  {
   "cell_type": "code",
   "execution_count": null,
   "id": "8abb8127-666d-45c8-8db4-03b84cf1ee04",
   "metadata": {},
   "outputs": [],
   "source": [
    "df_earnings[\"white\"] = (df_earnings[\"race\"] == 1).astype(int)\n",
    "df_earnings[\"afram\"] = (df_earnings[\"race\"] == 2).astype(int)\n",
    "df_earnings[\"asian\"] = (df_earnings[\"race\"] == 4).astype(int)\n",
    "df_earnings[\"hisp\"] = (df_earnings[\"ethnic\"].notna()).astype(int)\n",
    "df_earnings[\"othernonw\"] = (\n",
    "    (df_earnings[\"white\"] == 0) & (df_earnings[\"afram\"] == 0) & (df_earnings[\"asian\"] == 0) & (df_earnings[\"hisp\"] == 0)\n",
    ").astype(int)\n",
    "df_earnings[\"nonUSborn\"] = (\n",
    "    (df_earnings[\"prcitshp\"] == \"Foreign Born, US Cit By Naturalization\")\n",
    "    | (df_earnings[\"prcitshp\"] == \"Foreign Born, Not a US Citizen\")\n",
    ").astype(int)"
   ]
  },
  {
   "cell_type": "code",
   "execution_count": null,
   "id": "a6532a33-77ce-4da8-bc94-4f070a1d4627",
   "metadata": {},
   "outputs": [],
   "source": [
    "# Potentially endogeneous demographics\n",
    "df_earnings[\"married\"] = ((df_earnings[\"marital\"] == 1) | (df_earnings[\"marital\"] == 2)).astype(int)\n",
    "df_earnings[\"divorced\"] = ((df_earnings[\"marital\"] == 3) & (df_earnings[\"marital\"] == 5)).astype(int)\n",
    "df_earnings[\"wirowed\"] = (df_earnings[\"marital\"] == 4).astype(int)\n",
    "df_earnings[\"nevermar\"] = (df_earnings[\"marital\"] == 7).astype(int)\n",
    "\n",
    "df_earnings[\"child0\"] = (df_earnings[\"chldpres\"] == 0).astype(int)\n",
    "df_earnings[\"child1\"] = (df_earnings[\"chldpres\"] == 1).astype(int)\n",
    "df_earnings[\"child2\"] = (df_earnings[\"chldpres\"] == 2).astype(int)\n",
    "df_earnings[\"child3\"] = (df_earnings[\"chldpres\"] == 3).astype(int)\n",
    "df_earnings[\"child4pl\"] = (df_earnings[\"chldpres\"] >= 4).astype(int)\n",
    "\n",
    "# Work-related variables\n",
    "df_earnings[\"fedgov\"] = (df_earnings[\"class\"] == \"Government - Federal\").astype(int)\n",
    "df_earnings[\"stagov\"] = (df_earnings[\"class\"] == \"Government - State\").astype(int)\n",
    "df_earnings[\"locgov\"] = (df_earnings[\"class\"] == \"Government - Local\").astype(int)\n",
    "df_earnings[\"nonprof\"] = (df_earnings[\"class\"] == \"Private, Nonprofit\").astype(int)\n",
    "df_earnings[\"ind2dig\"] = ((pd.Categorical(df_earnings[\"ind02\"]).codes + 1) / 100).astype(int)\n",
    "df_earnings[\"occ2dig\"] = (df_earnings[\"occ2012\"] / 100).astype(int)\n",
    "df_earnings[\"union\"] = ((df_earnings[\"unionmme\"] == \"Yes\") | (df_earnings[\"unioncov\"] == \"Yes\")).astype(int)"
   ]
  },
  {
   "cell_type": "code",
   "execution_count": null,
   "id": "8741c75a-f508-4599-a538-a383eb9c54af",
   "metadata": {},
   "outputs": [],
   "source": [
    "df_earnings[\"uhourssq\"] = np.power(df_earnings[\"uhours\"], 2)\n",
    "df_earnings[\"uhourscu\"] = np.power(df_earnings[\"uhours\"], 3)\n",
    "df_earnings[\"uhoursqu\"] = np.power(df_earnings[\"uhours\"], 4)"
   ]
  },
  {
   "cell_type": "code",
   "execution_count": null,
   "id": "aff77a0c-9a9a-40c1-8a5a-0e9b56924897",
   "metadata": {},
   "outputs": [],
   "source": [
    "df_earnings.stfips"
   ]
  },
  {
   "cell_type": "code",
   "execution_count": null,
   "id": "12bd3ab1-778d-4f3f-b5d8-6db58c5aaa60",
   "metadata": {},
   "outputs": [],
   "source": [
    "reg1 = smf.ols(formula=\"lnw ~ female\", data=df_earnings).fit(cov_type=\"HC1\")\n",
    "\n",
    "reg2 = smf.ols(\n",
    "    formula=\"lnw ~ female + age + ed_Profess + ed_Phd\", data=df_earnings\n",
    ").fit(cov_type=\"HC1\")\n",
    "\n",
    "reg3 = smf.ols(\n",
    "    formula=\"lnw ~ female + age + afram + hisp + asian + othernonw + nonUSborn + ed_Profess + ed_Phd + married + divorced+ wirowed + child1 + child2 + child3 +child4pl + C(stfips) + uhours + fedgov + stagov + locgov + nonprof + union + C(ind2dig) + C(occ2dig)\",\n",
    "    data=df_earnings,\n",
    ").fit(cov_type=\"HC1\")\n",
    "\n",
    "reg4 = smf.ols(\n",
    "    formula=\"lnw ~ female + age + afram + hisp + asian + othernonw + nonUSborn + ed_Profess + ed_Phd + married + divorced+ wirowed + child1 + child2 + child3 +child4pl + C(stfips) + uhours + fedgov + stagov + locgov + nonprof + union + C(ind2dig) + C(occ2dig) + agesq + agecu + agequ + uhoursqu + uhourscu + uhourssq\",\n",
    "    data=df_earnings,\n",
    ").fit(cov_type=\"HC1\")"
   ]
  },
  {
   "cell_type": "code",
   "execution_count": null,
   "id": "836fc400-d142-4143-8489-65174356fcd3",
   "metadata": {},
   "outputs": [],
   "source": [
    "print(reg3.summary())"
   ]
  },
  {
   "cell_type": "code",
   "execution_count": null,
   "id": "a380348d-7b48-4a4e-9a0b-744fba00c209",
   "metadata": {},
   "outputs": [],
   "source": [
    "print(reg4.summary())"
   ]
  },
  {
   "cell_type": "code",
   "execution_count": null,
   "id": "3da2c849-6370-497c-8603-339272185ebf",
   "metadata": {},
   "outputs": [],
   "source": [
    "reg4.pvalues.where(lambda x: x < 0.05).dropna()"
   ]
  },
  {
   "cell_type": "markdown",
   "id": "f3e64bc5-7ee2-44d1-b8b4-981c9404ad58",
   "metadata": {},
   "source": [
    "## Summar findings"
   ]
  },
  {
   "cell_type": "markdown",
   "id": "51b7d1eb-9fc9-4273-aae6-d4e49a29897b",
   "metadata": {},
   "source": [
    "The following simplified Stargazer output summarizes the models built. Only the `female` variable is shown with parameter values. Other variables are grouped into logical categories and indicated whether they are included in the appropriate model. "
   ]
  },
  {
   "cell_type": "code",
   "execution_count": null,
   "id": "eeb60de2-44d6-4d44-94f1-419cba96fdde",
   "metadata": {},
   "outputs": [],
   "source": [
    "stargazer = Stargazer([reg1, reg2, reg3, reg4])\n",
    "stargazer.covariate_order([\"female\"])\n",
    "stargazer.add_line(\"Age and education\", [\"\", \"Yes\", \"Yes\", \"Yes\"])\n",
    "stargazer.add_line(\"Family circumstances\", [\"\", \"\", \"Yes\", \"Yes\"])\n",
    "stargazer.add_line(\"Demographic background\", [\"\", \"\", \"Yes\", \"Yes\"])\n",
    "stargazer.add_line(\"Job characteristics\", [\"\", \"\", \"Yes\", \"Yes\"])\n",
    "stargazer.add_line(\"Age in polynomial\", [\"\", \"\", \"\", \"Yes\"])\n",
    "stargazer.add_line(\"Hours in polynomial\", [\"\", \"\", \"\", \"Yes\"])\n",
    "stargazer"
   ]
  }
 ],
 "metadata": {
  "kernelspec": {
   "display_name": "Python 3 (ipykernel)",
   "language": "python",
   "name": "python3"
  },
  "language_info": {
   "codemirror_mode": {
    "name": "ipython",
    "version": 3
   },
   "file_extension": ".py",
   "mimetype": "text/x-python",
   "name": "python",
   "nbconvert_exporter": "python",
   "pygments_lexer": "ipython3",
   "version": "3.12.4"
  }
 },
 "nbformat": 4,
 "nbformat_minor": 5
}
