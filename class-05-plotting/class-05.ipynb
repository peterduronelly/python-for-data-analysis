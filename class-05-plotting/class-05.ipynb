{
 "cells": [
  {
   "cell_type": "markdown",
   "id": "4c54005a-9221-4de9-979d-0d92d6666456",
   "metadata": {},
   "source": [
    "# <center>Class 5</center>"
   ]
  },
  {
   "cell_type": "markdown",
   "id": "d7a661c7-0b9d-45c1-a2b3-2160d8216c66",
   "metadata": {},
   "source": [
    "## Plotting"
   ]
  },
  {
   "cell_type": "markdown",
   "id": "d8bfb9f9-27a0-4645-8896-4028db634a6f",
   "metadata": {},
   "source": [
    "### Getting Data: I/O and Manipulation"
   ]
  },
  {
   "cell_type": "markdown",
   "id": "1cbaaf5f-7815-4efe-886e-dba7f249c4d0",
   "metadata": {},
   "source": [
    "Load exchange rate data from JSON."
   ]
  },
  {
   "cell_type": "code",
   "execution_count": null,
   "id": "6ae46c04-c9c4-4010-adf9-9cea2d51d64d",
   "metadata": {},
   "outputs": [],
   "source": [
    "import json\n",
    "import os"
   ]
  },
  {
   "cell_type": "code",
   "execution_count": null,
   "id": "00cbe9cb-94a2-47da-b166-16c129e2033f",
   "metadata": {},
   "outputs": [],
   "source": [
    "file = os.path.join(os.pardir, 'data', 'currency_rates.json')"
   ]
  },
  {
   "cell_type": "code",
   "execution_count": null,
   "id": "ebadaeca-9bfa-4f9d-812d-e2705db08e8e",
   "metadata": {},
   "outputs": [],
   "source": [
    "with open(file, 'r') as rp:\n",
    "    dc_ccies = json.load(rp)"
   ]
  },
  {
   "cell_type": "markdown",
   "id": "1b0727bc-d8f5-4011-9de1-a8c8c6941012",
   "metadata": {},
   "source": [
    "Note the difference in the methods (check JSON-part in Class 2):\n",
    "- `json.loads()` **takes a string** and tries to convert it to a dictionary\n",
    "- `json.load()` **loads a file** with the appropriate I/O action. (Under the hood it does use json.load() though.)"
   ]
  },
  {
   "cell_type": "code",
   "execution_count": null,
   "id": "7851fb4b-f30a-4bd2-894f-8a7a10a643fc",
   "metadata": {},
   "outputs": [],
   "source": [
    "type(dc_ccies)"
   ]
  },
  {
   "cell_type": "code",
   "execution_count": null,
   "id": "22c151c3-7af0-4c14-8fd9-6848f028c0d9",
   "metadata": {},
   "outputs": [],
   "source": [
    "dc_ccies.keys()"
   ]
  },
  {
   "cell_type": "code",
   "execution_count": null,
   "id": "68542d03-4ebf-44cd-8a4c-075d5a29ff08",
   "metadata": {},
   "outputs": [],
   "source": [
    "for key in dc_ccies.keys():\n",
    "    print(key, type(dc_ccies[key]))"
   ]
  },
  {
   "cell_type": "markdown",
   "id": "fcc578cf-1d14-42c3-a8fe-d3fee1d07af1",
   "metadata": {},
   "source": [
    "#### Excercise"
   ]
  },
  {
   "cell_type": "markdown",
   "id": "0c452d50-3c8f-4446-9136-746f9313840a",
   "metadata": {},
   "source": [
    "- Print the first ten elements of each list. \n",
    "- Find the data type of the list elements. (Elements within each of these lists are of the same data type.)"
   ]
  },
  {
   "cell_type": "code",
   "execution_count": null,
   "id": "5b29cf48-5e2d-4c5d-9d39-d49b0d89f954",
   "metadata": {},
   "outputs": [],
   "source": [
    "for key in dc_ccies.keys():\n",
    "    print(key, dc_ccies[key][0:10])\n",
    "\n",
    "for key in dc_ccies.keys():\n",
    "    print(key, type(dc_ccies[key][0]))"
   ]
  },
  {
   "cell_type": "code",
   "execution_count": null,
   "id": "2d3c8857-3876-4258-92bb-60418ff9b4de",
   "metadata": {},
   "outputs": [],
   "source": [
    "dc_ccies['Date'][0]"
   ]
  },
  {
   "cell_type": "markdown",
   "id": "4c0ebf57-320a-4f50-ab42-8a616c217c3f",
   "metadata": {},
   "source": [
    "The `Date` key contains UNIX timestamps. Use ***list comprehension*** to convert these timestamps to `datetime.date` objects."
   ]
  },
  {
   "cell_type": "code",
   "execution_count": null,
   "id": "4e9c3d79-5a22-441b-9947-3fd5548a0435",
   "metadata": {},
   "outputs": [],
   "source": [
    "# Some help\n",
    "import datetime\n",
    "\n",
    "x = dc_ccies['Date'][0]\n",
    "print(x)\n",
    "print(datetime.date.fromtimestamp(x))"
   ]
  },
  {
   "cell_type": "code",
   "execution_count": null,
   "id": "1e1bb73b-5add-465c-8172-b38ca4c6a0e5",
   "metadata": {},
   "outputs": [],
   "source": [
    "dc_ccies['Date'] = [datetime.date.fromtimestamp(x) for x in dc_ccies['Date']]"
   ]
  },
  {
   "cell_type": "markdown",
   "id": "bd81f2c5-2911-4dde-ac05-4b506d59c499",
   "metadata": {},
   "source": [
    "### Plotting with Matplotlib"
   ]
  },
  {
   "cell_type": "code",
   "execution_count": null,
   "id": "f90ee19e-361c-47ea-955a-875db96bd2d9",
   "metadata": {},
   "outputs": [],
   "source": [
    "import matplotlib.pyplot as plt\n",
    "%matplotlib inline"
   ]
  },
  {
   "cell_type": "markdown",
   "id": "d02a8756-c6c6-4ecc-b601-f3a993f6b6e9",
   "metadata": {},
   "source": [
    "`matplotlib` is the primary charting library of Python. It is a massive library, which offers so much, that it can easily become overwhelming. Creating a basic chart is fairly simple, but sometimes just a little customization already requires a deep dive into the API.\r\n",
    "\r\n",
    "One of the reasons we cover matplotlib here though is that many other libraries are also built on the matplotlib API, and plotting charts directly from Pandas dataframes is easier if we have a basic understading of matplotlib's mechanics. There are other popular charting packages, such a`seaborn` n  `Plotly`  , but we think that a real Pythonista should be able to work with matplotlib objects."
   ]
  },
  {
   "cell_type": "markdown",
   "id": "fbd7ed33-da7c-4af0-8f7f-b25ec37ef5fe",
   "metadata": {},
   "source": [
    "A good sumary of the hows and whys of matplotlib can be found here: [https://heartbeat.comet.ml/introduction-to-matplotlib-data-visualization-in-python-d9143287ae39](https://heartbeat.comet.ml/introduction-to-matplotlib-data-visualization-in-python-d9143287ae39). "
   ]
  },
  {
   "cell_type": "markdown",
   "id": "d138ebca-cc36-4b03-b51f-a7375f304312",
   "metadata": {},
   "source": [
    "There are two ways of creating a matplotlib plot."
   ]
  },
  {
   "cell_type": "markdown",
   "id": "d4f31f5b-e126-4672-abf7-1f3a68dde1b6",
   "metadata": {},
   "source": [
    "**1. the functional approach**"
   ]
  },
  {
   "cell_type": "code",
   "execution_count": null,
   "id": "8baa1bda-1a6e-43ba-9e87-222d4195d7a6",
   "metadata": {},
   "outputs": [],
   "source": [
    "x = range(0, 10)\n",
    "y = [i ** 2 for i in x]\n",
    "\n",
    "plt.plot(x,y)\n",
    "plt.title('x-square')\n",
    "plt.xlabel('x')\n",
    "plt.ylabel('y')\n",
    "plt.show()"
   ]
  },
  {
   "cell_type": "code",
   "execution_count": null,
   "id": "48fc8dc0-0e55-43fa-abf5-e6dbcfaefaf9",
   "metadata": {},
   "outputs": [],
   "source": [
    "plt.subplot(1,2,1) # nrows, ncols, index of the next plot starting with index 1 from the top left and increasing to the right\n",
    "plt.plot(x, y, 'r--') # 'r' stands for red, '--' stands for dash\n",
    "plt.title('x-square')\n",
    "plt.subplot(1,2,2)\n",
    "plt.plot(y, x, 'g*-')\n",
    "plt.title('x-root');  # insted of plt.show() you can also use a semicolon to show the plot"
   ]
  },
  {
   "cell_type": "markdown",
   "id": "92c73cd7-0997-4026-9d2c-dfc3ee7d6fe6",
   "metadata": {},
   "source": [
    "Matplotlib color options can be found here: [https://matplotlib.org/stable/gallery/color/named_colors.html](https://matplotlib.org/stable/gallery/color/named_colors.html)"
   ]
  },
  {
   "cell_type": "markdown",
   "id": "93eea401-7bc1-4936-8f2f-e42a839f45dc",
   "metadata": {},
   "source": [
    "**2. the object-oriented API**"
   ]
  },
  {
   "cell_type": "markdown",
   "id": "de1a7764-c039-4035-8cb9-d25564422563",
   "metadata": {},
   "source": [
    "There are two key components in a Plot; namely, `Figure` and `Axes`.\n",
    "\n",
    "The `Figure` is the top-level container that acts as the window or page on which everything is drawn. It can contain multiple independent figures, or `Axes`, a subtitle (which is a centered title for the figure), a legend, a color bar, etc."
   ]
  },
  {
   "cell_type": "code",
   "execution_count": null,
   "id": "ee930e3a-ad12-44d5-abac-8e7e3ea04ae8",
   "metadata": {},
   "outputs": [],
   "source": [
    "fig = plt.figure()\n",
    "axes = fig.add_axes([0.1, 0.1, 0.9, 0.9])"
   ]
  },
  {
   "cell_type": "markdown",
   "id": "dad15ce1-c5e8-41ce-9541-df3b36ae7ff8",
   "metadata": {},
   "source": [
    "The `Axes` is the area on which we plot our data and any labels/ticks associated with it. Each Axes has an X-Axis and a Y-Axis"
   ]
  },
  {
   "cell_type": "code",
   "execution_count": null,
   "id": "7c22dc9b-cf4e-4e48-be20-b6dcadc086de",
   "metadata": {},
   "outputs": [],
   "source": [
    "x = range(0, 10)\n",
    "y = [i ** 2 for i in x]\n",
    "\n",
    "fig = plt.figure()\n",
    "axes = fig.add_axes([0.1, 0.1, 0.9, 0.9]) # left, bottom, width, height (range 0 to 1)\n",
    "\n",
    "axes.plot(x, y, 'r')\n",
    "\n",
    "axes.set_xlabel('x')\n",
    "axes.set_ylabel('y')\n",
    "axes.set_title('Simple x-squared as an OOP Plot');"
   ]
  },
  {
   "cell_type": "markdown",
   "id": "b78d110e-549f-426d-9732-8b2218b05694",
   "metadata": {},
   "source": [
    "We can do a plot within a plot."
   ]
  },
  {
   "cell_type": "code",
   "execution_count": null,
   "id": "94c23bbd-f2f1-4f38-bf28-cd920979dccc",
   "metadata": {},
   "outputs": [],
   "source": [
    "fig = plt.figure(figsize = (6,10))\n",
    "\n",
    "axes1 = fig.add_axes([0, 0, 0.8, 0.8]) # main axes\n",
    "axes2 = fig.add_axes([0.1, 0.4, 0.4, 0.3]) # inset axes: left and bottom of the lower-left corner, width, height\n",
    "\n",
    "# main figure\n",
    "axes1.plot(x, y, 'r')\n",
    "axes1.set_xlabel('x')\n",
    "axes1.set_ylabel('y')\n",
    "axes1.set_title('square')\n",
    "\n",
    "# insert\n",
    "axes2.plot(y, x, 'g')\n",
    "axes2.set_xlabel('y')\n",
    "axes2.set_ylabel('x')\n",
    "axes2.set_title('root');"
   ]
  },
  {
   "cell_type": "markdown",
   "id": "1f98891e-b120-45a2-8717-b7c16040998e",
   "metadata": {},
   "source": [
    "Charting currency movements, basic plot. "
   ]
  },
  {
   "cell_type": "code",
   "execution_count": null,
   "id": "1867bdd0-22f2-4496-bb9a-ea314043bb11",
   "metadata": {},
   "outputs": [],
   "source": [
    "date = dc_ccies['Date']\n",
    "fxrate = dc_ccies['EURUSD']\n",
    "\n",
    "fig = plt.figure(figsize=(10,6)) # figsize = width, height in inches\n",
    "ax = fig.add_axes([0,0,1,1])\n",
    "ax.set_title('EURUSD')\n",
    "ax.plot(date, fxrate)\n",
    "ax.plot;"
   ]
  },
  {
   "cell_type": "markdown",
   "id": "bc058064-a742-4cdf-857d-7c09184c7efa",
   "metadata": {},
   "source": [
    "Adding additional chart elements.\n",
    "- y-axis limits\n",
    "- legends"
   ]
  },
  {
   "cell_type": "code",
   "execution_count": null,
   "id": "45b3631c-77cb-4d20-a236-fcf4533f3fa7",
   "metadata": {},
   "outputs": [],
   "source": [
    "date = dc_ccies['Date']\n",
    "fxrate = dc_ccies['EURUSD']\n",
    "\n",
    "fig = plt.figure(figsize=(8,5))\n",
    "ax = fig.add_axes([0,0,1,1])\n",
    "ax.set_title('EURUSD')\n",
    "ax.plot(date, fxrate, label = 'EURUSD closing prices')\n",
    "ax.set_ylim(0.9,1.3)\n",
    "plt.legend(loc = 'upper left');"
   ]
  },
  {
   "cell_type": "markdown",
   "id": "d9aad501-22dd-4a45-9f1a-3a9280b88f60",
   "metadata": {},
   "source": [
    "- average line"
   ]
  },
  {
   "cell_type": "code",
   "execution_count": null,
   "id": "0c2d88f1-6be8-4eca-91d5-eaed3a185359",
   "metadata": {},
   "outputs": [],
   "source": [
    "import numpy as np"
   ]
  },
  {
   "cell_type": "code",
   "execution_count": null,
   "id": "88f492e5-a47d-494f-8b04-53b2b06a88c2",
   "metadata": {},
   "outputs": [],
   "source": [
    "date = dc_ccies['Date']\n",
    "fxrate = dc_ccies['EURUSD']\n",
    "meanrate = np.mean(fxrate)\n",
    "\n",
    "fig, ax = plt.subplots(figsize = (10,6)) # to add chart elements, we use the plt.subplots() method here\n",
    "ax = fig.add_axes([0,0,1,1])\n",
    "ax.hlines(y = meanrate, xmin = date[0], xmax = date[-1], linestyle = '--', label = 'avg')\n",
    "ax.plot(date, fxrate, label = 'EURUSD', linewidth = 2)\n",
    "ax.set_ylim(0.9,1.3)\n",
    "ax.set_title('EURUSD against its average')\n",
    "plt.legend();"
   ]
  },
  {
   "cell_type": "markdown",
   "id": "dfbcb3e2-26e5-49b3-8de1-d45bcd29f7ab",
   "metadata": {},
   "source": [
    "#### Exercise\n",
    "\n",
    "- Plot the same graph but for the average use only the last 200 days of data and position the average line accordingly.\n",
    "- The average line should be black. "
   ]
  },
  {
   "cell_type": "code",
   "execution_count": null,
   "id": "389004eb-0ebe-49fe-858b-b49d70512859",
   "metadata": {},
   "outputs": [],
   "source": [
    "# Your solution goes here"
   ]
  },
  {
   "cell_type": "markdown",
   "id": "b528bada-d072-42b0-b8ad-78e8b2451fe0",
   "metadata": {},
   "source": [
    "- secondary y-axis"
   ]
  },
  {
   "cell_type": "code",
   "execution_count": null,
   "id": "b6dca4db-41b8-4a20-a5b4-40cebc86f773",
   "metadata": {},
   "outputs": [],
   "source": [
    "date = dc_ccies['Date']\n",
    "eurusd = dc_ccies['EURUSD']\n",
    "usdjpy = dc_ccies['USDJPY']\n",
    "\n",
    "\n",
    "fig, ax1 = plt.subplots(figsize = (10,6))\n",
    "\n",
    "ax1.plot(date, eurusd, color = 'k')\n",
    "ax1.xaxis_date()\n",
    "ax1.set_ylabel(\"EURUSD\", color = 'k')\n",
    "ax2 = ax1.twinx()\n",
    "ax2.plot(date, usdjpy, color = \"firebrick\")\n",
    "ax2.set_ylabel(\"USDJPY\", color = \"firebrick\")\n",
    "plt.title('EURUSD and USDJPY, past two years');"
   ]
  },
  {
   "cell_type": "markdown",
   "id": "b7afbc32-76c4-47e3-99b8-25774a6dcd72",
   "metadata": {},
   "source": [
    "#### Excercise"
   ]
  },
  {
   "cell_type": "markdown",
   "id": "ea02b958-fa5b-447d-8e0a-407884a9013c",
   "metadata": {},
   "source": [
    "Construct a plot within a plot.\n",
    "- The main plot is EURGBP for the whole period.\n",
    "- The subplot is positioned on the bottom-right section of the main plot, and shows EURUSD for the last 200 days of data. \n",
    "- Add chart title, x and y axis legend for both plot elements. "
   ]
  },
  {
   "cell_type": "code",
   "execution_count": null,
   "id": "ed04a119-cd49-4555-a55f-02c209ea0f16",
   "metadata": {},
   "outputs": [],
   "source": [
    "date = dc_ccies['Date']\n",
    "usdjpy = dc_ccies['USDJPY']\n",
    "eurusd = dc_ccies['EURUSD']\n",
    "\n",
    "fig = plt.figure(figsize = (10,6))\n",
    "\n",
    "axes1 = fig.add_axes([0, 0, 1, 1]) # main axes\n",
    "axes2 = fig.add_axes([0.075, 0.55, 0.40, 0.4]) # inset axes\n",
    "\n",
    "# main figure\n",
    "axes1.plot(date, usdjpy)\n",
    "axes1.set_xlabel('date')\n",
    "axes1.set_ylabel('USDJPY')\n",
    "axes1.set_title('USDJPY exchange rate')\n",
    "\n",
    "\n",
    "# insert\n",
    "axes2.plot(date[-200:], eurusd[-200:], color = 'black')\n",
    "axes2.set_xlabel('date', fontsize = 8)\n",
    "axes2.set_ylabel('EURUSD',  fontsize = 8)\n",
    "axes2.set_title('EURUSD exchange rate', fontsize = 8);"
   ]
  },
  {
   "cell_type": "code",
   "execution_count": null,
   "id": "9ef8bf36-5682-4c31-a4a4-5db29f690097",
   "metadata": {},
   "outputs": [],
   "source": [
    "import pandas as pd"
   ]
  },
  {
   "cell_type": "code",
   "execution_count": null,
   "id": "e6b6eb0e-5ce2-4d78-9d8b-3c2a3215cdd5",
   "metadata": {},
   "outputs": [],
   "source": [
    "df = pd.DataFrame(dc_ccies)"
   ]
  },
  {
   "cell_type": "code",
   "execution_count": null,
   "id": "3252e682-7f54-49b7-a123-3e1cfd3b7ab9",
   "metadata": {},
   "outputs": [],
   "source": [
    "df.head()"
   ]
  },
  {
   "cell_type": "code",
   "execution_count": null,
   "id": "5fa70b8a-d6b1-4285-8d9d-fd06fb9cd99f",
   "metadata": {},
   "outputs": [],
   "source": [
    "df.info()"
   ]
  },
  {
   "cell_type": "markdown",
   "id": "daac6f87-4939-4ac0-bd58-9b76c983a93a",
   "metadata": {},
   "source": [
    "#### Histograms\n",
    "\n",
    "- histograms of daily price changes"
   ]
  },
  {
   "cell_type": "code",
   "execution_count": null,
   "id": "af57dee1-0d4e-4901-96be-14b7fe2c7284",
   "metadata": {},
   "outputs": [],
   "source": [
    "df['EURUSD_pct_chg'] = df.EURUSD.pct_change(periods=1)"
   ]
  },
  {
   "cell_type": "code",
   "execution_count": null,
   "id": "080ecb02-f282-47d4-b6ae-b46a63091344",
   "metadata": {},
   "outputs": [],
   "source": [
    "fig = plt.figure(figsize=(8,5))\n",
    "ax = fig.add_axes([0,0,1,1])\n",
    "ax.set_title('EURUSD Daily Pct Price Changes')\n",
    "ax.hist(df.EURUSD_pct_chg, bins = 50);"
   ]
  },
  {
   "cell_type": "markdown",
   "id": "09c52b6e-6e50-4f66-a892-f9274f4e2ded",
   "metadata": {},
   "source": [
    "- spacing between the bars + horizontal grids"
   ]
  },
  {
   "cell_type": "code",
   "execution_count": null,
   "id": "d0d92482-ad5b-4a85-a846-47bd77ab297d",
   "metadata": {},
   "outputs": [],
   "source": [
    "fig = plt.figure(figsize=(8,5))\n",
    "ax = fig.add_axes([0,0,1,1])\n",
    "ax.set_title('EURUSD Daily Pct Price Changes')\n",
    "ax.hist(df.EURUSD_pct_chg, bins = 50, rwidth= 0.9)\n",
    "plt.grid(axis = 'y', linestyle='--', linewidth=1);"
   ]
  },
  {
   "cell_type": "markdown",
   "id": "5ec46f83-21fd-427f-bb2f-54e0631979b2",
   "metadata": {},
   "source": [
    " - add more in-between ticks for the x-axis"
   ]
  },
  {
   "cell_type": "code",
   "execution_count": null,
   "id": "b77d524c-04ab-4c19-be12-0cedf5f7c26d",
   "metadata": {},
   "outputs": [],
   "source": [
    "np.linspace(-0.05, 0.05, 5)"
   ]
  },
  {
   "cell_type": "code",
   "execution_count": null,
   "id": "e4ab5d10-4ebd-45c1-9d6e-01ceb622d01c",
   "metadata": {},
   "outputs": [],
   "source": [
    "fig = plt.figure(figsize=(10,6))\n",
    "ax = fig.add_axes([0,0,1,1])\n",
    "ax.set_title('EURUSD Daily Pct Price Changes')\n",
    "ax.hist(df.EURUSD_pct_chg, bins = 50, rwidth= 0.9)\n",
    "ax.set_xticks(np.linspace(-0.05, 0.10, 33))\n",
    "plt.grid(axis = 'y', linestyle='--', linewidth=1);"
   ]
  },
  {
   "cell_type": "markdown",
   "id": "cc15a07c-07ed-4b81-bdbc-2b6e2f4f688b",
   "metadata": {},
   "source": [
    "- format x-axis labels as percent\n",
    "- define your own bins"
   ]
  },
  {
   "cell_type": "code",
   "execution_count": null,
   "id": "78642e16-7e96-413c-b68b-8a07fd304f95",
   "metadata": {},
   "outputs": [],
   "source": [
    "import matplotlib as mpl"
   ]
  },
  {
   "cell_type": "code",
   "execution_count": null,
   "id": "6ca5375d-31ae-44b0-a85d-208146130e30",
   "metadata": {},
   "outputs": [],
   "source": [
    "fig = plt.figure(figsize=(10,6))\n",
    "ax = fig.add_axes([0,0,1,1])\n",
    "ax.set_title('EURUSD Daily Pct Price Changes')\n",
    "ax.hist(df.EURUSD_pct_chg, bins = np.linspace(-0.03, 0.02, 51) , rwidth= 0.9) # redefining bins\n",
    "ax.set_xticks(np.linspace(-0.03, 0.02, 11))\n",
    "ax.xaxis.set_major_formatter(mpl.ticker.PercentFormatter(xmax=10.0))\n",
    "plt.grid(axis = 'y', linestyle='--', linewidth=1);"
   ]
  },
  {
   "cell_type": "markdown",
   "id": "dd798de7-9e69-42d4-9fd8-391cc45d643d",
   "metadata": {},
   "source": [
    "**Analytical question** (requires domain knowledge, or some critical thinking): \n",
    "- The distribution of the price changes looks kind of normal - except for the left tail. Why do we have that extra negative number? Is it an anomaly or something inherent in the underlying `Data Generation Process`?"
   ]
  }
 ],
 "metadata": {
  "kernelspec": {
   "display_name": "Python 3 (ipykernel)",
   "language": "python",
   "name": "python3"
  },
  "language_info": {
   "codemirror_mode": {
    "name": "ipython",
    "version": 3
   },
   "file_extension": ".py",
   "mimetype": "text/x-python",
   "name": "python",
   "nbconvert_exporter": "python",
   "pygments_lexer": "ipython3",
   "version": "3.12.4"
  }
 },
 "nbformat": 4,
 "nbformat_minor": 5
}
