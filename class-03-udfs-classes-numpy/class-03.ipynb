{
 "cells": [
  {
   "cell_type": "markdown",
   "id": "01236b05-dfd2-4404-99ab-574245622c85",
   "metadata": {},
   "source": [
    "# <center>Class 3</center>"
   ]
  },
  {
   "cell_type": "markdown",
   "id": "97c8b1f4-8d46-4433-84c1-6abfd4f2b599",
   "metadata": {},
   "source": [
    "## User-defined functions (UDFs)"
   ]
  },
  {
   "cell_type": "markdown",
   "id": "ec052f01-3cda-483c-8093-738bed1e1cdb",
   "metadata": {},
   "source": [
    "A function is a block of organized, reusable code that is used to perform a single, related action. Functions provide better modularity for your application and a high degree of code reusing.\n",
    "\n",
    "You can define functions to provide the required functionality. Here are simple rules to define a function in Python.\n",
    "\n",
    "* Function blocks begin with the keyword ```def``` followed by the function name and parentheses ```( )```.\n",
    "* Any input parameters or arguments should be placed within these parentheses. You can also define parameters inside these parentheses.\n",
    "* The first statement of a function can be an optional statement - the documentation string of the function or docstring.\n",
    "* The code block within every function starts with a colon (```:```) and is **indented**.\n",
    "* The statement ```return``` [expression] returns a value, or a serious of values, a list, a dictionary, .... A return statement with no arguments is the same as\n",
    "```python\n",
    "    return None\n",
    "``` \n",
    "* Nevertheless, functions do not have to close with a `return` statement."
   ]
  },
  {
   "cell_type": "markdown",
   "id": "da91d083-65c1-4403-b135-2796e5e6ddfa",
   "metadata": {},
   "source": [
    "A simple function which does not return anything."
   ]
  },
  {
   "cell_type": "code",
   "execution_count": null,
   "id": "c456e9b5-78a7-4f04-9f9d-95f672c489be",
   "metadata": {},
   "outputs": [],
   "source": [
    "def print_my_name(name):\n",
    "    print(f'This is may name: {name}.')"
   ]
  },
  {
   "cell_type": "code",
   "execution_count": null,
   "id": "4a4a230c-534b-494c-b65a-724ec0fb7551",
   "metadata": {},
   "outputs": [],
   "source": [
    "print_my_name('Peter')"
   ]
  },
  {
   "cell_type": "code",
   "execution_count": null,
   "id": "1ffc7c59-9e3a-481a-b55e-89481849a3dd",
   "metadata": {},
   "outputs": [],
   "source": [
    "print_my_name(1)"
   ]
  },
  {
   "cell_type": "markdown",
   "id": "ad2c9788-dab4-40b8-8806-ed3a63846105",
   "metadata": {},
   "source": [
    "Functions, though, usually have some sort of return value. In addition, we can even have `type hints`. [Type hints](https://docs.python.org/3/library/typing.html) are just that: hints. The interpreter does not check the validity of the inputs so if the types are important you have to check them within your functions. Type hints are primarily for [readability and debugging](https://joshdimella.com/blog/python-typing-best-practices)."
   ]
  },
  {
   "cell_type": "code",
   "execution_count": null,
   "id": "b381cc17-f87d-43dd-a123-9213e6dbcaf0",
   "metadata": {},
   "outputs": [],
   "source": [
    "def divide_two_numbers(dividend: float, divisor: float) -> float:\n",
    "    return dividend / divisor"
   ]
  },
  {
   "cell_type": "code",
   "execution_count": null,
   "id": "0837e3b6-2fe5-4056-8d59-a32d23494aa6",
   "metadata": {},
   "outputs": [],
   "source": [
    "divide_two_numbers(23, 5)"
   ]
  },
  {
   "cell_type": "code",
   "execution_count": null,
   "id": "cd3fca7a-5e39-4397-a8b3-9a6f374acfb6",
   "metadata": {},
   "outputs": [],
   "source": [
    "a = divide_two_numbers(23, 5)"
   ]
  },
  {
   "cell_type": "code",
   "execution_count": null,
   "id": "03333707-f85f-4252-ac1a-5a66453c6eaf",
   "metadata": {},
   "outputs": [],
   "source": [
    "print(a)"
   ]
  },
  {
   "cell_type": "code",
   "execution_count": null,
   "id": "052d866d-f105-4884-adf3-2c4cc03ac340",
   "metadata": {},
   "outputs": [],
   "source": [
    "a"
   ]
  },
  {
   "cell_type": "markdown",
   "id": "11a624c2-d4ba-4500-af02-6c0396dfbe0c",
   "metadata": {},
   "source": [
    "You can also add a default value to any of the inputs."
   ]
  },
  {
   "cell_type": "code",
   "execution_count": null,
   "id": "71d28297-56b6-4303-a1bd-eb4584b6b1db",
   "metadata": {},
   "outputs": [],
   "source": [
    "def divide_two_numbers(dividend: float, divisor: float = 2) -> float:\n",
    "    return dividend / divisor"
   ]
  },
  {
   "cell_type": "code",
   "execution_count": null,
   "id": "c0daf2d4-5adc-476e-b1ad-3c584b43b20b",
   "metadata": {},
   "outputs": [],
   "source": [
    "divide_two_numbers(10)"
   ]
  },
  {
   "cell_type": "code",
   "execution_count": null,
   "id": "27617b8c-0ab3-4037-9ff8-9097db2db63e",
   "metadata": {},
   "outputs": [],
   "source": [
    "divide_two_numbers(10, 4)"
   ]
  },
  {
   "cell_type": "markdown",
   "id": "fb413c6f-835b-4a76-8b9d-35dd26205451",
   "metadata": {},
   "source": [
    "Inputs, or *arguments* can be of two types:\n",
    "- **positional arguments**: you only provide the input values when calling the function, all in the order of the function definition."
   ]
  },
  {
   "cell_type": "code",
   "execution_count": null,
   "id": "0f074e3a-d913-4892-887f-de53e8375e97",
   "metadata": {},
   "outputs": [],
   "source": [
    "divide_two_numbers(20, 5)"
   ]
  },
  {
   "cell_type": "markdown",
   "id": "32ed04d6-419e-4410-94c5-8c52f460ddef",
   "metadata": {},
   "source": [
    "- **keyword arguments**: you provide them using the argument names; in this case the order does not matter"
   ]
  },
  {
   "cell_type": "code",
   "execution_count": null,
   "id": "447c6e8e-05bd-4c47-b8ab-18a49bbd7b5b",
   "metadata": {},
   "outputs": [],
   "source": [
    "divide_two_numbers(divisor = 5, dividend = 20) # the input order is switched but the function produces the right result"
   ]
  },
  {
   "cell_type": "markdown",
   "id": "5f5984ef-d62f-489c-b973-2610abc9728a",
   "metadata": {},
   "source": [
    "Additional considerations. \n",
    "1. You can return more than one objects.\n",
    "2. You need to get used to adding correct documentation to your function. For documentation standards please read [this article](https://www.datacamp.com/tutorial/docstrings-python). It used to be a pain for most developers but the good news is that most coding LLM services will take for it for you. "
   ]
  },
  {
   "cell_type": "code",
   "execution_count": null,
   "id": "5536d18e-fa07-4bac-8afd-313673729178",
   "metadata": {},
   "outputs": [],
   "source": [
    "from typing import Tuple # our function returns two objects as a tuple\n",
    "\n",
    "def divide_numbers(dividend: float, divisor: float) -> Tuple[float, float]:\n",
    "    \"\"\"\n",
    "    Divide two numbers and return the quotient and remainder.\n",
    "\n",
    "    Parameters:\n",
    "    dividend (float): The number to be divided.\n",
    "    divisor (float): The number by which to divide the dividend.\n",
    "\n",
    "    Returns:\n",
    "    Tuple[float, float]: A tuple containing the quotient and the remainder.\n",
    "    \n",
    "    Raises:\n",
    "    ZeroDivisionError: If the divisor is zero.\n",
    "    \"\"\"\n",
    "    quotient = dividend // divisor\n",
    "    remainder = dividend % divisor\n",
    "    \n",
    "    return quotient, remainder\n",
    "    "
   ]
  },
  {
   "cell_type": "markdown",
   "id": "5d1c3833-1897-417b-8ea0-1e117c5e1df7",
   "metadata": {},
   "source": [
    "Once you have defined your function and added `docstrings` you can call the `help()` function to get information. \n",
    "\n",
    "Note: This docstring was generated through an LLM service."
   ]
  },
  {
   "cell_type": "code",
   "execution_count": null,
   "id": "82fed5f5-965d-4cf9-8dc3-020ea2b33ae9",
   "metadata": {},
   "outputs": [],
   "source": [
    "help(divide_numbers)"
   ]
  },
  {
   "cell_type": "code",
   "execution_count": null,
   "id": "89279f09-711c-47b5-9b1c-3e4bf9e4f0fa",
   "metadata": {},
   "outputs": [],
   "source": [
    "q, r = divide_numbers(25, 3)\n",
    "print(q, r)"
   ]
  },
  {
   "cell_type": "code",
   "execution_count": null,
   "id": "3f31ada2-5804-4313-9ce1-dc0c418b9d35",
   "metadata": {},
   "outputs": [],
   "source": [
    "q, r = divide_numbers(25, 0) # you can handle this using try - except"
   ]
  },
  {
   "cell_type": "code",
   "execution_count": null,
   "id": "0f983e3e-92e5-4311-9d7c-1c7c49f17481",
   "metadata": {},
   "outputs": [],
   "source": [
    "q, r = divide_numbers(10.2, 4.2)\n",
    "print(q, r)"
   ]
  },
  {
   "cell_type": "markdown",
   "id": "9ca00f45-d6b4-4759-a489-1723652c18d0",
   "metadata": {},
   "source": [
    "## Classes\n",
    "\n",
    "This part of the course is for those who aspire to more than the very basics of Python. You can write good-quality, ecevutable codes without defining new classes but the more you get into Python the more you will find then useful. "
   ]
  },
  {
   "cell_type": "markdown",
   "id": "ab5aef56-05e6-440d-8fbf-7d91ffb210a8",
   "metadata": {},
   "source": [
    "`Object-oriented programming` (`OOP`) is a programming paradigm that uses \"*objects*\" to design software. It is based on several key concepts that help organize code in a way that is modular, reusable, and easier to maintain. Here are the main principles of OOP:\r\n",
    "\r\n",
    "1. **Classes and Objects**:\r\n",
    "   - **Class**: A blueprint or template for creating objects. It defines a set of attributes (data) and methods (functions) that the created objects will have.\r\n",
    "   - **Object**: An instance of a class. It represents a specific implementation of the class with its own unique data.\r\n",
    "\r\n",
    "2. **Encapsulation**:\r\n",
    "   - This principle involves bundling the data (attributes) and methods (functions) that operate on the data into a single unit, or class. It restricts direct access to some of the object's components, which can help prevent unintended interference and misuse of the data. Access to the data is typically controlled through public methods (getters and setters).\r\n",
    "\r\n",
    "3. **Inheritance**:\r\n",
    "   - Inheritance allows a new class (subclass or derived class) to inherit attributes and methods from an existing class (superclass or base class). This promotes code reusability and establishes a hierarchical relationship between classes.\r\n",
    "\r\n",
    "4. **Polymorphism**:\r\n",
    "   - Polymorphism allows methods to do different things based on the object it is acting upon, even if they share the same name. This can be achieved through method overriding (where a subclass provides a specific implementation of a method that is already defined in its superclass) and method overloading (where multiple methods have the same name but differ in parameters).\r\n",
    "\r\n",
    "5. **Abstraction**:\r\n",
    "   - Abstraction is the concept of hiding the complex implementation details and showing only the essential features of the object. This simplifies the interaction with the object and reduces complexity.\r\n",
    "\r\n",
    "OOP is widely used in many programming languages, including Python, Java, C++, and C#. It helps in building scalable and maintainable software systems by promoting a clear structure and organization of code."
   ]
  },
  {
   "attachments": {},
   "cell_type": "markdown",
   "id": "68b69ea8-3fee-4e42-b5d4-056d02b41aaa",
   "metadata": {},
   "source": [
    "**OOP vs  Procedural Programming**\n",
    "\n",
    "- Procedural programming\n",
    "    - code as a sequence of steps\n",
    "    - great for data analyis and short scripts\n",
    "- Object-oriented programming\n",
    "    - code as *interactions* of objects\n",
    "    - great for building frameworks and tools\n",
    "    - *maintainable and reusable code*"
   ]
  },
  {
   "cell_type": "markdown",
   "id": "3e52be63-4c00-4ae2-90c5-a50f1bb7a0a4",
   "metadata": {},
   "source": [
    "Classes are the key features of object-oriented programming. A `class` is a structure for representing an object and the operations that can be performed on the object. \n",
    "\n",
    "A class is defined with the `class` keyword and defines the *class attributes* (variables) and the *class methods* (functions). Class names are defined with `CamelCase`, functions and attributes with `lower_snake_case` as a PEP8 convention.\n",
    "\n",
    "- Each class should have a `self` argument as a self-reference of the actual *instance* of the object.\n",
    "- Some class methods have special meaning.   \n",
    "      - `__init__()`: it is a `constructor` that assigns the initial mandatory attributes at the moment when the object is created.   \n",
    "      - `__str__()`: it defines the *string representation* of the object, for instance when it is printed.   \n",
    "      - `__repr__()`: is almost the same as `__str__()`, still a little different; it's the printable representation of the object. \n",
    "\n"
   ]
  },
  {
   "cell_type": "markdown",
   "id": "03759361-341e-4085-8064-a5aabe709615",
   "metadata": {},
   "source": [
    "### Defining classes, class methods and class attributes"
   ]
  },
  {
   "cell_type": "code",
   "execution_count": null,
   "id": "95e02ffa-5f20-4361-9e47-65117edd8ab6",
   "metadata": {},
   "outputs": [],
   "source": [
    "import math"
   ]
  },
  {
   "cell_type": "code",
   "execution_count": null,
   "id": "c787acd3-9ca5-4a42-85f1-0e489b4e6b79",
   "metadata": {},
   "outputs": [],
   "source": [
    "class Triangle:\n",
    "    \n",
    "    def __init__(self, a: float, b: float, c: float):\n",
    "        self.a = a\n",
    "        self.b = b\n",
    "        self.c = c\n",
    "        self.area = self.calculate_area() # this is a class attribute which calculated by a class method defined below\n",
    "\n",
    "    def calculate_area(self):\n",
    "        s = (self.a + self.b + self.c) / 2\n",
    "        area = math.sqrt(s * (s - self.a) * (s - self.b) * (s - self.c))\n",
    "        return area\n",
    "\n",
    "    def __str__(self):\n",
    "        return ('The triangle has the following sides: {:,.2f}, {:,.2f}, {:,.2f}.'.format(self.a, self.b, self.c))"
   ]
  },
  {
   "cell_type": "code",
   "execution_count": null,
   "id": "78b6487a-3c49-4890-a754-5cb25aef4312",
   "metadata": {},
   "outputs": [],
   "source": [
    "my_triangle = Triangle(3,4,5)"
   ]
  },
  {
   "cell_type": "markdown",
   "id": "f7abbb67-db7e-4d3e-a2a8-1729dca89281",
   "metadata": {},
   "source": [
    "The cells above *instantiates* a Triangle object. **my_triangle** is an *instance* of the Triangle class. "
   ]
  },
  {
   "cell_type": "code",
   "execution_count": null,
   "id": "3c522f3f-c62f-4d88-a503-0b1d4b0d47b7",
   "metadata": {},
   "outputs": [],
   "source": [
    "my_triangle.area"
   ]
  },
  {
   "cell_type": "code",
   "execution_count": null,
   "id": "632d5ae3-6a69-4461-b77b-d1d8d149deff",
   "metadata": {},
   "outputs": [],
   "source": [
    "my_triangle.calculate_area()"
   ]
  },
  {
   "cell_type": "code",
   "execution_count": null,
   "id": "8eecf047-e117-4988-9aa8-0ca74ce3b1d2",
   "metadata": {},
   "outputs": [],
   "source": [
    "print(my_triangle)"
   ]
  },
  {
   "cell_type": "code",
   "execution_count": null,
   "id": "0d6bc04a-06c3-4f00-aa19-4563bc20dfc6",
   "metadata": {},
   "outputs": [],
   "source": [
    "my_triangle"
   ]
  },
  {
   "cell_type": "markdown",
   "id": "919a8141-c580-4119-bda8-d8e9a23c54d7",
   "metadata": {},
   "source": [
    "Note: you can use `import math` in the class definition as well, but it is generally recommended to place all import statements at the top of your Python file. This is a common practice for several reasons:\r\n",
    "\r\n",
    "1. **Readability**: Having all imports at the top makes it easier for someone reading the code to see which modules are being used without having to search through the class definitions.\r\n",
    "\r\n",
    "2. **Performance**: Importing modules at the top of the file ensures that they are loaded once when the module is first imported, rather than potentially being imported multiple times if the class is instantiated multiple times.\r\n",
    "\r\n",
    "3. **Convention**: Following the convention of placing imports at the top of the file aligns wit[h the PEP 8 style](https://peps.python.org/pep-0008/) guide for Python code, which promotes consistency and readability.\r\n",
    "\r\n",
    "However, if you have a specific reason to import a module within a class (for example, if the import is only needed in that class and you want to limit the scope), you can do so. Just keep in mind that it may not be the best practice in most cases."
   ]
  },
  {
   "cell_type": "markdown",
   "id": "03d6d333-20ba-4df6-a7c7-375c9689770b",
   "metadata": {},
   "source": [
    "### Polymorphism"
   ]
  },
  {
   "cell_type": "code",
   "execution_count": null,
   "id": "7cadc870-1681-48f6-8f03-3d3f2ea0f2f5",
   "metadata": {},
   "outputs": [],
   "source": [
    "class Square:\n",
    "\n",
    "    \"\"\"\n",
    "    A class to represent a square.\n",
    "\n",
    "    Attributes\n",
    "    ----------\n",
    "    a : float\n",
    "        The length of the side of the square.\n",
    "    area : float\n",
    "        The area of the square, calculated upon initialization.\n",
    "\n",
    "    Methods\n",
    "    -------\n",
    "    calculate_area():\n",
    "        Calculates and returns the area of the square.\n",
    "    \"\"\"\n",
    "    \n",
    "    def __init__(self, a: float):\n",
    "        self.a = a\n",
    "        self.area = self.calculate_area()\n",
    "\n",
    "    def calculate_area(self):\n",
    "        area = self.a * self.a\n",
    "        return area"
   ]
  },
  {
   "cell_type": "code",
   "execution_count": null,
   "id": "82046282-d5a0-4e24-b9d9-3b715550327b",
   "metadata": {},
   "outputs": [],
   "source": [
    "my_square = Square(7)\n",
    "my_square.area"
   ]
  },
  {
   "cell_type": "code",
   "execution_count": null,
   "id": "0e5fa3c6-4fe8-4627-a03a-81dc773ee4f2",
   "metadata": {},
   "outputs": [],
   "source": [
    "my_square.calculate_area()"
   ]
  },
  {
   "cell_type": "code",
   "execution_count": null,
   "id": "fb74872d-28b6-4988-9088-3e440127098a",
   "metadata": {},
   "outputs": [],
   "source": [
    "# We did not define a string representation for a Square object. \n",
    "print(my_square)"
   ]
  },
  {
   "cell_type": "code",
   "execution_count": null,
   "id": "7a069db3-8627-4b27-adbe-01eba0f2f61e",
   "metadata": {},
   "outputs": [],
   "source": [
    "my_square"
   ]
  },
  {
   "cell_type": "markdown",
   "id": "93e22c4b-166f-4887-9029-09fda1048e55",
   "metadata": {},
   "source": [
    "### Check the validity of object definition using an Exception"
   ]
  },
  {
   "cell_type": "markdown",
   "id": "d964a4a2-adcc-4686-91cf-48b067c07554",
   "metadata": {},
   "source": [
    "Create a custom Exception using `class inheritance` based on the `Exception` class."
   ]
  },
  {
   "cell_type": "code",
   "execution_count": null,
   "id": "be6fa7ac-81ee-4d69-858f-47370e27088c",
   "metadata": {},
   "outputs": [],
   "source": [
    "class TriangleError(Exception): # now the interpreter knows that 'TriangleError' is an exception\n",
    "    pass"
   ]
  },
  {
   "cell_type": "markdown",
   "id": "808eeeb0-3268-4808-895f-fad359c96bc3",
   "metadata": {},
   "source": [
    "We defined the *TriangleError* class as the the child class of the *Exception* class."
   ]
  },
  {
   "cell_type": "code",
   "execution_count": null,
   "id": "3d39ed4e-fda1-45ea-b46e-1e1b9e42f416",
   "metadata": {},
   "outputs": [],
   "source": [
    "class Triangle:\n",
    "    \n",
    "    def __init__(self, a: float, b: float, c: float):\n",
    "        if a + b > c and b + c > a and c + a > b:\n",
    "            self.a = a\n",
    "            self.b = b\n",
    "            self.c = c\n",
    "            self.area = self.calculate_area()\n",
    "        else:\n",
    "            raise TriangleError('Invalid triangle sides: any side should be smaller than the sum of the other two.')\n",
    "\n",
    "    def calculate_area(self):\n",
    "        s = (self.a + self.b + self.c) / 2\n",
    "        area = math.sqrt(s * (s - self.a) * (s - self.b) * (s - self.c))\n",
    "        return area\n",
    "\n",
    "    def __str__(self):\n",
    "        return ('The triangle has the following sides: {:,.2f}, {:,.2f}, {:,.2f}.'.format(self.a, self.b, self.c))"
   ]
  },
  {
   "cell_type": "code",
   "execution_count": null,
   "id": "cc3a9f6e-d309-44e8-be49-f7e45420a462",
   "metadata": {},
   "outputs": [],
   "source": [
    "your_triangle = Triangle(3, 4, 10)"
   ]
  },
  {
   "cell_type": "markdown",
   "id": "3ed98d60-bdff-48a9-9b73-a71f9cbf5254",
   "metadata": {},
   "source": [
    "We can even catch these defined arrors"
   ]
  },
  {
   "cell_type": "code",
   "execution_count": null,
   "id": "43a9d323-ca49-447c-b635-ed3973829136",
   "metadata": {},
   "outputs": [],
   "source": [
    "a, b, c = 3, 4, 15\n",
    "\n",
    "try: \n",
    "    your_triangle = Triangle(a, b, c)\n",
    "except TriangleError:\n",
    "    print('Invalid triangle, redefining triangle using the shortest side only.')\n",
    "    side = min(a, b, c)\n",
    "    your_triangle = Triangle(side, side, side)\n",
    "    "
   ]
  },
  {
   "cell_type": "code",
   "execution_count": null,
   "id": "7cf8749d-4d9f-4d0d-a5cc-141dd5c6738c",
   "metadata": {},
   "outputs": [],
   "source": [
    "print(your_triangle)"
   ]
  },
  {
   "cell_type": "code",
   "execution_count": null,
   "id": "5a90b349-f9d3-46c9-8233-ef271dfd75e1",
   "metadata": {},
   "outputs": [],
   "source": [
    "# get attribute of an object contains its user-defined attributes and their values\n",
    "your_triangle.__dict__"
   ]
  },
  {
   "cell_type": "code",
   "execution_count": null,
   "id": "cd5ebf43-d793-437c-965e-df00ffcc2b63",
   "metadata": {},
   "outputs": [],
   "source": [
    "# returning all attributes and methods of an object (including magic methods and other general attributes added by Python)\n",
    "dir(your_triangle)"
   ]
  },
  {
   "cell_type": "markdown",
   "id": "5e861569-d0d4-4287-979a-aed4afbaf392",
   "metadata": {},
   "source": [
    "### Comparison: `overloading` the comparison operators"
   ]
  },
  {
   "cell_type": "markdown",
   "id": "0f680a8c-55e2-498f-b416-0a757344bf6c",
   "metadata": {},
   "source": [
    "- `__eq__()` is called when to objects are compared using `==`\n",
    "- accepts two arguments: `self` and `other`\n",
    "- returns a Boolean"
   ]
  },
  {
   "cell_type": "code",
   "execution_count": null,
   "id": "1a876722-0dbc-48b5-9ccc-7ff36e783340",
   "metadata": {},
   "outputs": [],
   "source": [
    "class Rectangle:\n",
    "    \n",
    "    def __init__(self, a: float, b: float):\n",
    "        self.a = a\n",
    "        self.b = b\n",
    "        self.area = self.calculate_area()\n",
    "\n",
    "    def calculate_area(self):\n",
    "        area = self.a * self.b\n",
    "        return area\n",
    "\n",
    "    def __eq__(self, other):\n",
    "        return self.area == other.area"
   ]
  },
  {
   "cell_type": "code",
   "execution_count": null,
   "id": "7f8a21ed-3934-44c2-a64c-82a47227ed4a",
   "metadata": {},
   "outputs": [],
   "source": [
    "rectangle_1 = Rectangle(4,5)\n",
    "rectangle_1.area"
   ]
  },
  {
   "cell_type": "code",
   "execution_count": null,
   "id": "97a55d3b-59ce-4940-aeb5-55300e80b6ee",
   "metadata": {},
   "outputs": [],
   "source": [
    "rectangle_2 = Rectangle(2,10)\n",
    "rectangle_2.area"
   ]
  },
  {
   "cell_type": "code",
   "execution_count": null,
   "id": "edb0963e-1d3e-4459-a3b8-bf165624ba6a",
   "metadata": {},
   "outputs": [],
   "source": [
    "rectangle_1 == rectangle_2"
   ]
  },
  {
   "cell_type": "markdown",
   "id": "194af3c2-5471-4baa-968d-defff6ea78fa",
   "metadata": {},
   "source": [
    "Check out all the comparisons and other [special methods](https://docs.python.org/2/reference/datamodel.html#special-method-names) in the documentation."
   ]
  },
  {
   "cell_type": "markdown",
   "id": "123625c5-b0c8-4c1a-a30c-0a6f27bd2282",
   "metadata": {},
   "source": [
    "#### Class attributes\n",
    "\n",
    "These are data shared among all instances of a class. We define them in the body of a class. "
   ]
  },
  {
   "cell_type": "code",
   "execution_count": null,
   "id": "0e9c8cef-a458-4456-b474-5a5c3843fa8f",
   "metadata": {},
   "outputs": [],
   "source": [
    "class Employee:\n",
    "    # Class attributes\n",
    "    MIN_SALARY = 30_000\n",
    "\n",
    "    def __init__(self, first_name: str, last_name: str, salary: float):\n",
    "        self.first_name = first_name\n",
    "        self.last_name = last_name\n",
    "        if salary >= Employee.MIN_SALARY:\n",
    "            self.salary = salary\n",
    "        else:\n",
    "            self.salary = Employee.MIN_SALARY\n",
    "\n",
    "    # Redefine/overload how the object itself printed to the console.\n",
    "    def __repr__(self):\n",
    "        return f\"Employee('{self.last_name}, {self.first_name}', {self.salary})\""
   ]
  },
  {
   "cell_type": "code",
   "execution_count": null,
   "id": "ed04d2a8-9635-43e0-9a8b-493e95a1c2ab",
   "metadata": {},
   "outputs": [],
   "source": [
    "emp1 = Employee('Margaret', 'Mitchell', 25_000)\n",
    "emp2 = Employee('Jean', 'Austen', 35_000)"
   ]
  },
  {
   "cell_type": "code",
   "execution_count": null,
   "id": "c54671ff-2e79-4452-932f-1cc310b94c9c",
   "metadata": {},
   "outputs": [],
   "source": [
    "emp1"
   ]
  },
  {
   "cell_type": "code",
   "execution_count": null,
   "id": "2702f630-8887-4669-9475-907ce2c75c6a",
   "metadata": {},
   "outputs": [],
   "source": [
    "emp2"
   ]
  },
  {
   "cell_type": "code",
   "execution_count": null,
   "id": "37c3e5dd-8031-42f3-86b9-a96a4e606a53",
   "metadata": {},
   "outputs": [],
   "source": [
    "emp2.salary"
   ]
  },
  {
   "cell_type": "markdown",
   "id": "68f6ab60-6f7c-4b59-b94f-17e3cd59afb7",
   "metadata": {},
   "source": [
    "#### `Encapsulation`: private and public variables"
   ]
  },
  {
   "cell_type": "code",
   "execution_count": null,
   "id": "730157c1-6db4-4954-a596-b721a768f903",
   "metadata": {},
   "outputs": [],
   "source": [
    "# problem\n",
    "emp1.salary = 25_000 # lower than MIN_SALARY\n",
    "emp1"
   ]
  },
  {
   "cell_type": "markdown",
   "id": "6402f10e-291c-46ba-94dc-53bb9d529066",
   "metadata": {},
   "source": [
    "We are using *underscores* and `decorators` to manage *data access*. For the role of underscores read [this article](https://www.datacamp.com/tutorial/role-underscore-python). Python decorators are a bit more complicated concept. A good way to start is [here](https://www.freecodecamp.org/news/python-decorators-explained-with-examples/)"
   ]
  },
  {
   "cell_type": "code",
   "execution_count": null,
   "id": "dde26e0d-48a7-49f3-b7fc-f154f53b5069",
   "metadata": {},
   "outputs": [],
   "source": [
    "class Employee:\n",
    "    # Class attributes\n",
    "    MIN_SALARY = 30_000\n",
    "\n",
    "    def __init__(self, first_name: str, last_name: str, new_salary: float):\n",
    "        self.first_name = first_name\n",
    "        self.last_name = last_name\n",
    "        if new_salary < Employee.MIN_SALARY:\n",
    "            self._salary = Employee.MIN_SALARY # note the underscore in _salary\n",
    "        else:\n",
    "            self._salary = new_salary # salary now is an internal, 'protected' attribute\n",
    "\n",
    "    @property \n",
    "    def salary(self): # the @property decorator on a method whose name is exactly the name of the restricted attribute\n",
    "                        # returns the internal attribute\n",
    "                        # it is defined as a function but behaves like an attribute\n",
    "        return self._salary\n",
    "        \n",
    "    # Redefine/overload how the object is printed to the console.\n",
    "    def __repr__(self):\n",
    "        return f\"Employee('{self.last_name}, {self.first_name}', {self._salary})\""
   ]
  },
  {
   "cell_type": "code",
   "execution_count": null,
   "id": "344e47c5-5427-4875-a42d-507bec1ed0db",
   "metadata": {},
   "outputs": [],
   "source": [
    "emp3 = Employee('Virginia', 'Woolf', 50_000)"
   ]
  },
  {
   "cell_type": "code",
   "execution_count": null,
   "id": "0dbc113c-7049-4a67-9f19-a112e8e72043",
   "metadata": {},
   "outputs": [],
   "source": [
    "emp3"
   ]
  },
  {
   "cell_type": "code",
   "execution_count": null,
   "id": "a1a1f0bf-35e5-43a4-8a7f-adb06616176c",
   "metadata": {},
   "outputs": [],
   "source": [
    "dir(emp3)"
   ]
  },
  {
   "cell_type": "code",
   "execution_count": null,
   "id": "da39467c-4f7a-4f2f-866a-afc19e4c0a53",
   "metadata": {},
   "outputs": [],
   "source": [
    "emp3.salary"
   ]
  },
  {
   "cell_type": "code",
   "execution_count": null,
   "id": "274c059e-b1af-4b6d-8ff0-9244ef407e52",
   "metadata": {},
   "outputs": [],
   "source": [
    "emp3.salary = 32_000 # this wont work since 'salary' itself is not an attribute, just an output returned by the @property decorator; '_salary' is the real attribute"
   ]
  },
  {
   "cell_type": "markdown",
   "id": "8f7cfd00-b86b-4daa-9390-4fc6c5904291",
   "metadata": {},
   "source": [
    "You can add a `setter` method. "
   ]
  },
  {
   "cell_type": "code",
   "execution_count": null,
   "id": "5c27fe7e-fe2e-4404-a48d-cabcb25349d2",
   "metadata": {},
   "outputs": [],
   "source": [
    "class Employee:\n",
    "    # Class attributes\n",
    "    MIN_SALARY = 30_000\n",
    "\n",
    "    def __init__(self, first_name: str, last_name: str, new_salary: float):\n",
    "        self.first_name = first_name\n",
    "        self.last_name = last_name\n",
    "        if new_salary < Employee.MIN_SALARY:\n",
    "            self._salary = Employee.MIN_SALARY\n",
    "        else:\n",
    "            self._salary = new_salary # salary now is an internal, 'protected' attribute\n",
    "\n",
    "    @property \n",
    "    def salary(self): # the @property decorator on a method whose name is exactly the name of the restricted attribute\n",
    "                        # returns the internal attribute\n",
    "        return self._salary\n",
    "\n",
    "    @salary.setter # now you can build additional checks in setting salary\n",
    "    def salary(self, new_salary):\n",
    "        if new_salary < Employee.MIN_SALARY:\n",
    "            raise ValueError('Invalid salary.')\n",
    "        else:\n",
    "            self._salary = new_salary\n",
    "        \n",
    "    # Redefine/overload how the object is printed to the console.\n",
    "    def __repr__(self):\n",
    "        return f\"Employee('{self.last_name}, {self.first_name}', {self._salary:,.0f})\""
   ]
  },
  {
   "cell_type": "code",
   "execution_count": null,
   "id": "9a8ae26a-052a-4ccc-83da-0874855c85c7",
   "metadata": {},
   "outputs": [],
   "source": [
    "emp3 = Employee('Virginia', 'Woolf', 25_000)"
   ]
  },
  {
   "cell_type": "code",
   "execution_count": null,
   "id": "e5dcae66-a034-495c-be60-92ef578b9599",
   "metadata": {},
   "outputs": [],
   "source": [
    "emp3"
   ]
  },
  {
   "cell_type": "code",
   "execution_count": null,
   "id": "70da5a07-d1d2-4e19-a541-d5655ce2a23e",
   "metadata": {},
   "outputs": [],
   "source": [
    "emp3.salary = 25_000"
   ]
  },
  {
   "cell_type": "code",
   "execution_count": null,
   "id": "9a27b12c-6873-4444-9d0e-3c435915598d",
   "metadata": {},
   "outputs": [],
   "source": [
    "emp3"
   ]
  },
  {
   "cell_type": "code",
   "execution_count": null,
   "id": "18815626-a6a5-450e-a595-ffddf2d2a0b9",
   "metadata": {},
   "outputs": [],
   "source": [
    "emp3.salary = 42_000"
   ]
  },
  {
   "cell_type": "code",
   "execution_count": null,
   "id": "4b2ad058-4bfd-4212-8a83-b7eeafd636a4",
   "metadata": {},
   "outputs": [],
   "source": [
    "emp3"
   ]
  },
  {
   "cell_type": "markdown",
   "id": "faaa7b57-9dea-4959-9d37-8845cb0ad37a",
   "metadata": {},
   "source": [
    "Note: Python lets you redefine the attribute even if it is defined by a classmethod at instantiation. \n",
    "\n",
    "This makes Python less rigid regardung public and private variables than, for instance, Java, but the phylosophy of Python is that users and developers are adults who will not mess up these values just for the heck of it. "
   ]
  },
  {
   "cell_type": "code",
   "execution_count": null,
   "id": "bbae5e0d-2f5c-401b-a9ac-ec12da124c74",
   "metadata": {},
   "outputs": [],
   "source": [
    "my_triangle.area = 25"
   ]
  },
  {
   "cell_type": "code",
   "execution_count": null,
   "id": "34764390-3ef1-4309-8a34-2f0580b3b8bc",
   "metadata": {},
   "outputs": [],
   "source": [
    "my_triangle.area"
   ]
  },
  {
   "cell_type": "markdown",
   "id": "7246c7ff-165f-4143-8710-eea5a0d9519a",
   "metadata": {},
   "source": [
    "## Numpy -  multidimensional data arrays\n",
    "### Introduction"
   ]
  },
  {
   "cell_type": "markdown",
   "id": "bb393b3f-9c3e-4692-b24b-48310ee7ae95",
   "metadata": {},
   "source": [
    "The `numpy` package (module) is used in almost all numerical computation using Python. It is a package that provide high-performance vector, matrix and higher-dimensional data structures for Python. It is implemented in C and Fortran so when calculations are vectorized (formulated with vectors and matrices), performance is very good. \n",
    "\n",
    "To use `numpy` you need to import the module, using for example:"
   ]
  },
  {
   "cell_type": "code",
   "execution_count": null,
   "id": "44ffccd4-b7bc-4845-bb66-95302953eb5d",
   "metadata": {
    "tags": []
   },
   "outputs": [],
   "source": [
    "import numpy as np"
   ]
  },
  {
   "cell_type": "markdown",
   "id": "dd4f784d-1d54-4d50-a24d-89e2f038c9ed",
   "metadata": {},
   "source": [
    "In the `numpy` package the terminology used for vectors, matrices and higher-dimensional data sets is *array*. \n",
    "\n"
   ]
  },
  {
   "cell_type": "markdown",
   "id": "04e15d05-7ef7-4bff-8844-0607ae68a52c",
   "metadata": {},
   "source": [
    "### Creating `numpy` arrays"
   ]
  },
  {
   "cell_type": "markdown",
   "id": "7cc9e758-08a4-4cdf-9a97-3500db2943a2",
   "metadata": {},
   "source": [
    "There are a number of ways to initialize new numpy arrays, for example from\n",
    "\n",
    "* a Python list or tuples\n",
    "* using functions that are dedicated to generating numpy arrays, such as `arange`, `linspace`, etc.\n",
    "* reading data from files"
   ]
  },
  {
   "cell_type": "markdown",
   "id": "7f60f206-6112-4d02-bdab-3bf234fb6147",
   "metadata": {},
   "source": [
    "#### From lists"
   ]
  },
  {
   "cell_type": "markdown",
   "id": "3e1a5ab6-036a-4d04-8f5b-2c82e06d7e7d",
   "metadata": {},
   "source": [
    "For example, to create new vector and matrix arrays from Python lists we can use the `numpy.array` function."
   ]
  },
  {
   "cell_type": "code",
   "execution_count": null,
   "id": "ca8a9eb3-26a1-4dbe-bb6a-5762ee0ae565",
   "metadata": {},
   "outputs": [],
   "source": [
    "# a vector: the argument to the array function is a Python list\n",
    "v = np.array([1,2,3,4])\n",
    "v"
   ]
  },
  {
   "cell_type": "code",
   "execution_count": null,
   "id": "469de1b9-9b1c-42db-82bc-afbcb3cc0c33",
   "metadata": {},
   "outputs": [],
   "source": [
    "# a matrix: the argument to the array function is a nested Python list\n",
    "M = np.array([[1, 2], [3, 4]])\n",
    "M"
   ]
  },
  {
   "cell_type": "markdown",
   "id": "8395779e-a66d-49eb-a483-02e69c9f11b2",
   "metadata": {},
   "source": [
    "The `v` and `M` objects are both of the type `ndarray` that the `numpy` module provides."
   ]
  },
  {
   "cell_type": "code",
   "execution_count": null,
   "id": "396bdcff-84f2-4403-856d-1da74baa4bbe",
   "metadata": {},
   "outputs": [],
   "source": [
    "type(v), type(M)"
   ]
  },
  {
   "cell_type": "markdown",
   "id": "d842cacf-8400-4aed-ba88-f6e84c662374",
   "metadata": {},
   "source": [
    "The difference between the `v` and `M` arrays is their shapes. We can get information about the shape of an array by using the `ndarray.shape` property.\n",
    "\n",
    "**Question**: Why are $v$ lower-case and $M$ upper-case?"
   ]
  },
  {
   "cell_type": "code",
   "execution_count": null,
   "id": "83766eaa-4523-48ce-b815-06cc99fdb7a4",
   "metadata": {},
   "outputs": [],
   "source": [
    "v.shape"
   ]
  },
  {
   "cell_type": "code",
   "execution_count": null,
   "id": "21836240-13ea-413a-b2ed-01505d3ab7f6",
   "metadata": {},
   "outputs": [],
   "source": [
    "M.shape"
   ]
  },
  {
   "cell_type": "markdown",
   "id": "be81086f-44de-4c8e-8107-a8dbdda7b6a1",
   "metadata": {},
   "source": [
    "The number of elements in the array is available through the `ndarray.size` property:"
   ]
  },
  {
   "cell_type": "code",
   "execution_count": null,
   "id": "b6f2cd2a-fe16-4af4-9e7b-d5fe4a447c6c",
   "metadata": {},
   "outputs": [],
   "source": [
    "M.size"
   ]
  },
  {
   "cell_type": "code",
   "execution_count": null,
   "id": "13414249-8b9f-43d5-9e16-83881af31a21",
   "metadata": {},
   "outputs": [],
   "source": [
    "v.flatten()"
   ]
  },
  {
   "cell_type": "code",
   "execution_count": null,
   "id": "a6fd1c7a-8353-4fc8-ba80-ce2d694a6724",
   "metadata": {},
   "outputs": [],
   "source": [
    "M.flatten()"
   ]
  },
  {
   "cell_type": "markdown",
   "id": "71039ee2-c923-4bd3-92e3-4d92fc56d499",
   "metadata": {},
   "source": [
    "Equivalently, we could use the function `numpy.shape` and `numpy.size`"
   ]
  },
  {
   "cell_type": "code",
   "execution_count": null,
   "id": "373d2b3b-b006-457a-907f-c6baa35dcde3",
   "metadata": {},
   "outputs": [],
   "source": [
    "np.shape(M)"
   ]
  },
  {
   "cell_type": "code",
   "execution_count": null,
   "id": "6a59682f-591f-4053-8e4c-6e1153471bce",
   "metadata": {},
   "outputs": [],
   "source": [
    "np.size(M)"
   ]
  },
  {
   "cell_type": "markdown",
   "id": "73b714fd-c2f7-458e-9087-99a867ba38d2",
   "metadata": {},
   "source": [
    "We can also do simple mathematical operations on numpy arrays."
   ]
  },
  {
   "cell_type": "code",
   "execution_count": null,
   "id": "221fdbb5-7ec3-4d63-bde5-45e93a712681",
   "metadata": {},
   "outputs": [],
   "source": [
    "M * 4"
   ]
  },
  {
   "cell_type": "code",
   "execution_count": null,
   "id": "3485f6b0-5611-49d4-904d-c7ca20614c35",
   "metadata": {},
   "outputs": [],
   "source": [
    "M * 4 + 3"
   ]
  },
  {
   "cell_type": "markdown",
   "id": "010c57fe-6e09-4f6b-965c-56b5f220b22e",
   "metadata": {},
   "source": [
    "So far the `numpy.ndarray` looks awefully much like a Python list (or nested list). Why not simply use Python lists for computations instead of creating a new array type? \n",
    "\n",
    "There are several reasons:\n",
    "\n",
    "* Python lists are very general. They can contain any kinds of objects. They are dynamically typed. They do not support mathematical functions such as matrix and dot multiplications, etc. Implementing such functions for Python lists would not be very efficient because of the dynamic typing.\n",
    "* Numpy arrays are **statically typed** and **homogeneous**. The type of the elements is determined when the array is created.\n",
    "* Numpy arrays are **MEMORY EFFICIENT AND SUPERFAST**.\n",
    "* Because of the static typing, fast implementation of mathematical functions such as multiplication and addition of `numpy` arrays can be implemented in a compiled language (C and Fortran is used).\n",
    "\n",
    "Using the `dtype` (data type) property of an `ndarray`, we can see what type the data of an array has:"
   ]
  },
  {
   "cell_type": "code",
   "execution_count": null,
   "id": "80d94bfe-fb26-4f45-8225-55f127ca897d",
   "metadata": {},
   "outputs": [],
   "source": [
    "M.dtype"
   ]
  },
  {
   "cell_type": "markdown",
   "id": "a00eaa81-88dc-4406-8d7f-dd9c480d0c40",
   "metadata": {},
   "source": [
    "We get an error if we try to assign a value of the wrong type to an element in a numpy array:"
   ]
  },
  {
   "cell_type": "code",
   "execution_count": null,
   "id": "88ee61ff-05d4-4a65-89f6-692a02b9c906",
   "metadata": {},
   "outputs": [],
   "source": [
    "M[0,0] = \"hello\""
   ]
  },
  {
   "cell_type": "markdown",
   "id": "afd7467d-4371-4c55-bccd-430684c555e2",
   "metadata": {},
   "source": [
    "If we want, we can explicitly define the type of the array data when we create it, using the `dtype` keyword argument: "
   ]
  },
  {
   "cell_type": "code",
   "execution_count": null,
   "id": "8c5580bd-ca22-4869-8222-59499a8a4c6e",
   "metadata": {},
   "outputs": [],
   "source": [
    "M = np.array([[1, 2], [3, 4]], dtype=complex)\n",
    "M"
   ]
  },
  {
   "cell_type": "code",
   "execution_count": null,
   "id": "172ca136-b04b-44b5-861c-d488476ee5cf",
   "metadata": {},
   "outputs": [],
   "source": [
    "M = np.array([[1, 2], [3, 4]], dtype=float)\n",
    "M"
   ]
  },
  {
   "cell_type": "code",
   "execution_count": null,
   "id": "8a99ded1-c96d-42ed-86fe-924e565b5e05",
   "metadata": {},
   "outputs": [],
   "source": [
    "M = np.array([[1, 2], [3, 4.0]])\n",
    "M"
   ]
  },
  {
   "cell_type": "markdown",
   "id": "262bcbbb-f698-4a29-8d42-3e42a7c8290c",
   "metadata": {},
   "source": [
    "Common data types that can be used with `dtype` are: `int`, `float`, `complex`, `bool`, `object`, etc.\n",
    "\n",
    "We can also explicitly define the bit size of the data types, for example: `int64`, `int16`, `float128`, `complex128`."
   ]
  },
  {
   "cell_type": "markdown",
   "id": "b5a3b156-4991-4e5e-be1f-1eeb031b6261",
   "metadata": {},
   "source": [
    "### Using array-generating functions"
   ]
  },
  {
   "cell_type": "markdown",
   "id": "0f8786a5-7cd7-4539-bdce-9c2b5ca3c38b",
   "metadata": {},
   "source": [
    "For larger arrays it is inpractical to initialize the data manually, using explicit python lists. Instead we can use one of the many functions in `numpy` that generate arrays of different forms. Some of the more common are:"
   ]
  },
  {
   "cell_type": "markdown",
   "id": "0f416b9f-a97c-4698-a55c-dc50ed3a53b0",
   "metadata": {},
   "source": [
    "#### arange & linspace"
   ]
  },
  {
   "cell_type": "code",
   "execution_count": null,
   "id": "11b7dd73-b6c1-4ee0-8eec-2b8e6d61736e",
   "metadata": {},
   "outputs": [],
   "source": [
    "# create a range\n",
    "x = np.arange(0, 10, 1) # arguments: start, stop, step. Like the function range for lists!\n",
    "x"
   ]
  },
  {
   "cell_type": "code",
   "execution_count": null,
   "id": "7bb23f24-af28-451b-90d7-e61760d43065",
   "metadata": {},
   "outputs": [],
   "source": [
    "x = np.arange(-1, 1, 0.1) #note that here we can use floats and non-integer steps. You could not do this with lists\n",
    "x"
   ]
  },
  {
   "cell_type": "code",
   "execution_count": null,
   "id": "a5c33a3d-ba7a-4a03-bd68-ea582e7fefda",
   "metadata": {},
   "outputs": [],
   "source": [
    "# using linspace, both end points ARE included\n",
    "np.linspace(0, 10, 25)"
   ]
  },
  {
   "cell_type": "markdown",
   "id": "a71cc363-f097-4d7b-b5bc-864f8a6e0bd9",
   "metadata": {},
   "source": [
    "#### random data"
   ]
  },
  {
   "cell_type": "code",
   "execution_count": null,
   "id": "37ee2e4c-309f-4582-b12d-38f5d3d3a687",
   "metadata": {},
   "outputs": [],
   "source": [
    "from numpy import random #numpy has also its random set of functions"
   ]
  },
  {
   "cell_type": "markdown",
   "id": "e025737c-f867-45a3-a5c7-9a2a237f0e2a",
   "metadata": {},
   "source": [
    "Uniform random numbers in [0,1]"
   ]
  },
  {
   "cell_type": "code",
   "execution_count": null,
   "id": "eb4b0ccd-b7f5-4376-b14f-1e1f11e85f09",
   "metadata": {},
   "outputs": [],
   "source": [
    "np.random.rand(5,5)"
   ]
  },
  {
   "cell_type": "markdown",
   "id": "5ab4ef97-adbf-4108-bfb8-cbf68de28412",
   "metadata": {},
   "source": [
    "<br>\n",
    " \n",
    "standard normal distributed random numbers $\\mu = 0$ and $\\sigma^2=1$"
   ]
  },
  {
   "cell_type": "code",
   "execution_count": null,
   "id": "7116dd24-b880-4695-a3dc-cefb1126bad7",
   "metadata": {},
   "outputs": [],
   "source": [
    "np_a = np.random.randn(1000,1000)"
   ]
  },
  {
   "cell_type": "code",
   "execution_count": null,
   "id": "bb66267c-4a85-4958-938c-99fd5d0a95f4",
   "metadata": {},
   "outputs": [],
   "source": [
    "np_a"
   ]
  },
  {
   "cell_type": "code",
   "execution_count": null,
   "id": "e6b7cc01-2d3d-4f31-a26d-384d3d715f98",
   "metadata": {},
   "outputs": [],
   "source": [
    "np.mean(np_a) # this will be close to, but not equal to, zero"
   ]
  },
  {
   "cell_type": "code",
   "execution_count": null,
   "id": "e28faf37-2def-4972-b4c3-6db59bb1736c",
   "metadata": {},
   "outputs": [],
   "source": [
    "np.var(np_a)"
   ]
  },
  {
   "cell_type": "markdown",
   "id": "5952635b-457b-4e69-a521-4c5faa832b48",
   "metadata": {},
   "source": [
    "<br>\n",
    " \n",
    "standard normal distributed random numbers  𝜇 = 1  and  $\\sigma^2=1$"
   ]
  },
  {
   "cell_type": "code",
   "execution_count": null,
   "id": "90bef87c-8256-4613-8d51-5f42a805719c",
   "metadata": {},
   "outputs": [],
   "source": [
    "np_b = np.random.randn(5, 5) + 1\n",
    "np_b"
   ]
  },
  {
   "cell_type": "code",
   "execution_count": null,
   "id": "8e20bef6-8967-4c6d-a89d-42912cffe060",
   "metadata": {},
   "outputs": [],
   "source": [
    "np.mean(np_b)"
   ]
  },
  {
   "cell_type": "code",
   "execution_count": null,
   "id": "8933da10-df60-4d00-8ae9-ec276b01c484",
   "metadata": {},
   "outputs": [],
   "source": [
    "np.var(np_b)"
   ]
  },
  {
   "cell_type": "markdown",
   "id": "4628849d-237a-443a-bc08-2a98342d30a5",
   "metadata": {},
   "source": [
    "How do you make sure that noise will not make mean and variance meaningfully different from 1?"
   ]
  },
  {
   "cell_type": "markdown",
   "id": "8de3bbf3-8ba1-4a5e-9732-bab0d0d5f6f7",
   "metadata": {},
   "source": [
    "<br>\n",
    " \n",
    "How do you generate an array of normally distributed random numbers where 𝜇 = 1  and  $\\sigma^2=4$?"
   ]
  },
  {
   "cell_type": "code",
   "execution_count": null,
   "id": "1fb88622-a2fc-4c2a-b8f9-379f1895f07c",
   "metadata": {},
   "outputs": [],
   "source": [
    "np_c = np.random.randn(1000,1000)*2 + 1"
   ]
  },
  {
   "cell_type": "code",
   "execution_count": null,
   "id": "ab51c9c4-5032-44c9-a57b-6f561abc6121",
   "metadata": {},
   "outputs": [],
   "source": [
    "np.var(np_c)"
   ]
  },
  {
   "cell_type": "code",
   "execution_count": null,
   "id": "be073be0-a878-44d5-9566-b8d6ffdf47b3",
   "metadata": {},
   "outputs": [],
   "source": [
    "np.mean(np_c)"
   ]
  },
  {
   "cell_type": "markdown",
   "id": "ff3ba69a-3320-4c6d-982f-c13ee9e70cd0",
   "metadata": {},
   "source": [
    "### Index slicing"
   ]
  },
  {
   "cell_type": "markdown",
   "id": "c113c7a9-0af0-4b0c-8d8a-bf037315a85b",
   "metadata": {},
   "source": [
    "Index slicing is the technical name for the syntax `M[lower:upper:step]` to extract part of an array:"
   ]
  },
  {
   "cell_type": "code",
   "execution_count": null,
   "id": "4b31b5c5-1de2-4f6a-b35e-2fe01504c456",
   "metadata": {
    "tags": []
   },
   "outputs": [],
   "source": [
    "A = np.array([1,2,3,4,5])"
   ]
  },
  {
   "cell_type": "markdown",
   "id": "4d32d54d-e69b-46bd-8317-42f8b154f583",
   "metadata": {},
   "source": [
    "It works in the same way as for **lists**. Refresh it (class 1)!"
   ]
  },
  {
   "cell_type": "code",
   "execution_count": null,
   "id": "a1c3d58d-551c-4509-948f-4fb0c81e695c",
   "metadata": {},
   "outputs": [],
   "source": [
    "A[1:3]"
   ]
  },
  {
   "cell_type": "markdown",
   "id": "4759f02d-7435-4dd8-be73-f4151b73cef9",
   "metadata": {},
   "source": [
    "Numpy arrays are **mutable**! "
   ]
  },
  {
   "cell_type": "code",
   "execution_count": null,
   "id": "7cb09f79-edbf-4794-9e93-46a6467b20ae",
   "metadata": {},
   "outputs": [],
   "source": [
    "A[1:3] = [-2,-3]\n",
    "A"
   ]
  },
  {
   "cell_type": "code",
   "execution_count": null,
   "id": "3718b8e2-bd38-4acb-a144-c47c4b94e253",
   "metadata": {},
   "outputs": [],
   "source": [
    "A[::] # lower, upper, step all take the default values"
   ]
  },
  {
   "cell_type": "code",
   "execution_count": null,
   "id": "719da294-95d1-4c32-a31f-d527c0664f0e",
   "metadata": {},
   "outputs": [],
   "source": [
    "A[::2] # step is 2, lower and upper defaults to the beginning and end of the array"
   ]
  },
  {
   "cell_type": "code",
   "execution_count": null,
   "id": "086f1c84-50c6-4f70-b23a-8ed5f703d45f",
   "metadata": {},
   "outputs": [],
   "source": [
    "A[:3] # first three elements"
   ]
  },
  {
   "cell_type": "code",
   "execution_count": null,
   "id": "8368dd5e-5deb-4dda-92c2-6be457e4e39f",
   "metadata": {},
   "outputs": [],
   "source": [
    "A[3:] # elements from index 3"
   ]
  },
  {
   "cell_type": "markdown",
   "id": "edc620f2-0129-44f5-8d8a-a1a04b2d4203",
   "metadata": {},
   "source": [
    "Negative indices counts from the end of the array (positive index from the begining):"
   ]
  },
  {
   "cell_type": "code",
   "execution_count": null,
   "id": "027d1036-6bcb-4c60-b4f4-8c13917d8775",
   "metadata": {},
   "outputs": [],
   "source": [
    "A[-1:]"
   ]
  },
  {
   "cell_type": "code",
   "execution_count": null,
   "id": "536c6cac-ddc6-4504-964f-3d8eaf132e54",
   "metadata": {},
   "outputs": [],
   "source": [
    "A[-2:]"
   ]
  },
  {
   "cell_type": "markdown",
   "id": "df699670-a450-4f97-863a-2e52179b2036",
   "metadata": {},
   "source": [
    "Index slicing works exactly the same way for multidimensional arrays:"
   ]
  },
  {
   "cell_type": "code",
   "execution_count": null,
   "id": "421765df-10ac-48e1-a687-5bb73d1982f2",
   "metadata": {},
   "outputs": [],
   "source": [
    "A = np.array([[n+m*10 for n in range(5)] for m in range(5)])\n",
    "\n",
    "A"
   ]
  },
  {
   "cell_type": "code",
   "execution_count": null,
   "id": "4f6dbaa0-9e9f-4635-a4be-70e832a35a25",
   "metadata": {},
   "outputs": [],
   "source": [
    "# a block from the original array\n",
    "A[1:5, 1:3]"
   ]
  },
  {
   "cell_type": "markdown",
   "id": "447997eb-4c9b-4002-a9da-39c656a38095",
   "metadata": {},
   "source": [
    "### Fancy indexing\n",
    "Fancy indexing is the name for when an array or list is used in-place of an index: "
   ]
  },
  {
   "cell_type": "code",
   "execution_count": null,
   "id": "2368a9a4-6af1-4ecc-a4ac-44cb48abc78e",
   "metadata": {},
   "outputs": [],
   "source": [
    "row_indices = [1, 2, 3]\n",
    "A[row_indices,:] # this selects the second, third and fourth row of A, and all its columns"
   ]
  },
  {
   "cell_type": "code",
   "execution_count": null,
   "id": "c3000847-8cad-4395-865e-75c7c48ba58e",
   "metadata": {},
   "outputs": [],
   "source": [
    "A[row_indices] #this is equivalent to the expression above"
   ]
  },
  {
   "cell_type": "code",
   "execution_count": null,
   "id": "83e31b07-d08b-447c-8df5-8645b61e0ca2",
   "metadata": {},
   "outputs": [],
   "source": [
    "col_indices = [1, 2, -1] # remember, index -1 means the last element\n",
    "A[row_indices, col_indices]"
   ]
  },
  {
   "cell_type": "code",
   "execution_count": null,
   "id": "437dc06f-a478-425d-b0ff-25a64d180efe",
   "metadata": {},
   "outputs": [],
   "source": [
    "different_col_indices = [1, -1, 2] \n",
    "A[row_indices, different_col_indices]"
   ]
  },
  {
   "cell_type": "markdown",
   "id": "43656920-5fe3-4ebc-bb04-c428bd929c6d",
   "metadata": {},
   "source": [
    "### Data Processing With Numpy"
   ]
  },
  {
   "cell_type": "code",
   "execution_count": null,
   "id": "a0506495-56ad-486d-91d8-cbba9b5f5028",
   "metadata": {},
   "outputs": [],
   "source": [
    "import os"
   ]
  },
  {
   "cell_type": "code",
   "execution_count": null,
   "id": "ecf505bf-147a-4b82-a2d1-72ed413a0823",
   "metadata": {},
   "outputs": [],
   "source": [
    "stockholm_wether = os.path.join(os.pardir, 'data', 'stockholm_daily_mean_temperature_1756_2017.txt')"
   ]
  },
  {
   "cell_type": "code",
   "execution_count": null,
   "id": "ddf3194b-afcb-4b74-95c1-8f4e1bf544bf",
   "metadata": {},
   "outputs": [],
   "source": [
    "data=np.loadtxt(stockholm_wether) "
   ]
  },
  {
   "cell_type": "code",
   "execution_count": null,
   "id": "e946c9dd-4c1c-4a74-80df-253a72cf60d5",
   "metadata": {},
   "outputs": [],
   "source": [
    "data"
   ]
  },
  {
   "cell_type": "code",
   "execution_count": null,
   "id": "2d2ad6c0-365b-4b28-9c76-43db08304db6",
   "metadata": {},
   "outputs": [],
   "source": [
    "data.shape"
   ]
  },
  {
   "cell_type": "code",
   "execution_count": null,
   "id": "83eacb15-0883-44f8-bdd6-04a8f95ebcc5",
   "metadata": {},
   "outputs": [],
   "source": [
    "data.dtype"
   ]
  },
  {
   "cell_type": "markdown",
   "id": "844b9674-8348-487b-9c52-ed3724618f34",
   "metadata": {},
   "source": [
    "This is Stockholm weather data from 1756 through 2017. We only need to first four columns: year, month, day, average daily temperature. "
   ]
  },
  {
   "cell_type": "code",
   "execution_count": null,
   "id": "0cb960dd-5652-4efa-aafb-23265beb42ea",
   "metadata": {},
   "outputs": [],
   "source": [
    "data = data[:, 0:4] # every row, columns from index 0 to index 3"
   ]
  },
  {
   "cell_type": "code",
   "execution_count": null,
   "id": "adf7971f-40ce-4d46-98a8-b834b2a1cc0b",
   "metadata": {},
   "outputs": [],
   "source": [
    "data.shape"
   ]
  },
  {
   "cell_type": "markdown",
   "id": "d0e72172-51d9-4000-8dee-4cf3cea046dd",
   "metadata": {},
   "source": [
    "Elements in a numpy arrays always have a the same data type."
   ]
  },
  {
   "cell_type": "code",
   "execution_count": null,
   "id": "755cd68b-4e2a-4e14-a3cf-fccbcede848e",
   "metadata": {},
   "outputs": [],
   "source": [
    "data[0:10,]"
   ]
  },
  {
   "cell_type": "markdown",
   "id": "7c118752-d5c4-4470-a1ce-0b1036af32fa",
   "metadata": {},
   "source": [
    "To have a better view we can call the `array_repr` method for a string representation of the array."
   ]
  },
  {
   "cell_type": "code",
   "execution_count": null,
   "id": "4851584b-7cab-46c8-9c5a-8e02dce3481d",
   "metadata": {},
   "outputs": [],
   "source": [
    "np.array_repr(data[0:5,], suppress_small=True) # This will give back a string of the rows in the numpy array"
   ]
  },
  {
   "cell_type": "code",
   "execution_count": null,
   "id": "1163caf4-c50b-4323-a127-4a3167f31b28",
   "metadata": {},
   "outputs": [],
   "source": [
    "for row in data[0:10,]:\n",
    "    print(np.array_repr(row, suppress_small=True))"
   ]
  },
  {
   "cell_type": "markdown",
   "id": "b37f083b-b197-4f25-bac0-f50af52d95be",
   "metadata": {},
   "source": [
    "### Quick Stats"
   ]
  },
  {
   "cell_type": "markdown",
   "id": "cb36f6fd-db74-4ec3-9601-703e5781c58a",
   "metadata": {},
   "source": [
    "#### mean"
   ]
  },
  {
   "cell_type": "code",
   "execution_count": null,
   "id": "31962d76-d441-456a-a22b-98fc5a0a70c7",
   "metadata": {},
   "outputs": [],
   "source": [
    "# the temperature data is in column 3\n",
    "np.mean(data[:,3])"
   ]
  },
  {
   "cell_type": "markdown",
   "id": "63ee7e3f-235e-42f4-a590-fe43e546685e",
   "metadata": {},
   "source": [
    "The daily mean temperature in Stockholm over the last 250 years has been about 6.1 C."
   ]
  },
  {
   "cell_type": "code",
   "execution_count": null,
   "id": "f46d3b6e-b7ab-4b67-8df2-cbf32f32defd",
   "metadata": {},
   "outputs": [],
   "source": [
    "# another way of getting the same mean value is using the class method on the object instance \n",
    "data[:,3].mean()"
   ]
  },
  {
   "cell_type": "markdown",
   "id": "5d6ee6fe-eb69-4aa7-a5e8-dbe94fefc6c4",
   "metadata": {},
   "source": [
    "#### standard deviations and variance"
   ]
  },
  {
   "cell_type": "code",
   "execution_count": null,
   "id": "fc083125-8450-45bf-a271-276782410167",
   "metadata": {},
   "outputs": [],
   "source": [
    "np.std(data[:,3]), np.var(data[:,3])"
   ]
  },
  {
   "cell_type": "markdown",
   "id": "59268a2b-23df-4c37-9f9e-3140c19de2d8",
   "metadata": {},
   "source": [
    "#### min and max\n",
    "\n",
    "*min()* and *max()* together with many other statistical functions are ***class methods*** for any numpy arrays. It means that you can call them simply on your numpy object. "
   ]
  },
  {
   "cell_type": "markdown",
   "id": "1c7c88ec-14af-4dd8-a80a-afff62368ab5",
   "metadata": {},
   "source": [
    "What is this??? How do you handle that?"
   ]
  },
  {
   "cell_type": "code",
   "execution_count": null,
   "id": "e00fecc2-ce0a-4142-9f39-e8258c7ab213",
   "metadata": {},
   "outputs": [],
   "source": [
    "# lowest daily average temperature\n",
    "data[:,3].min()"
   ]
  },
  {
   "cell_type": "code",
   "execution_count": null,
   "id": "430c6c4b-66d0-400e-85ba-a1b4a0aa6bd7",
   "metadata": {},
   "outputs": [],
   "source": [
    "# highest daily average temperature\n",
    "data[:,3].max()"
   ]
  },
  {
   "cell_type": "markdown",
   "id": "b35a86fc-9e9f-459f-bb71-6823dfda5fe3",
   "metadata": {},
   "source": [
    "### Masking: selecting subsets of arrays\n",
    "Masking is a kind of fancy indexing."
   ]
  },
  {
   "cell_type": "code",
   "execution_count": null,
   "id": "3484a197-585b-43bb-8981-e0dcb1d8a814",
   "metadata": {},
   "outputs": [],
   "source": [
    "mask = (data[:, 0] == 1971)\n",
    "mask"
   ]
  },
  {
   "cell_type": "code",
   "execution_count": null,
   "id": "d120b58d-a0c5-4c2a-bda8-1c34417367d0",
   "metadata": {},
   "outputs": [],
   "source": [
    "data[mask].shape"
   ]
  },
  {
   "cell_type": "code",
   "execution_count": null,
   "id": "84d1c765-be08-4eda-b8e4-89b1bd3363aa",
   "metadata": {},
   "outputs": [],
   "source": [
    "data[mask, 0] # years only"
   ]
  },
  {
   "cell_type": "code",
   "execution_count": null,
   "id": "13dffc03-53df-474a-9e2f-13532c71a948",
   "metadata": {},
   "outputs": [],
   "source": [
    " data[mask, 3] # temperatures only"
   ]
  },
  {
   "cell_type": "code",
   "execution_count": null,
   "id": "840573c1-5b06-49d5-a201-9e0cb49cb336",
   "metadata": {},
   "outputs": [],
   "source": [
    "print(\"The mean temperature in Stockholm in 1971 was \" + str(np.mean(data[mask,3])))"
   ]
  },
  {
   "cell_type": "code",
   "execution_count": null,
   "id": "9a9fee7e-9115-47f0-80aa-58f8c855ba57",
   "metadata": {},
   "outputs": [],
   "source": [
    "print(\"The mean temperature in Stockholm in 1971 was {:.2f} degrees.\".format(np.mean(data[mask,3])))"
   ]
  },
  {
   "cell_type": "markdown",
   "id": "0bbcbce9-dc1e-42bb-82df-d5bf2d4ddb54",
   "metadata": {},
   "source": [
    "Get the unique values from an array"
   ]
  },
  {
   "cell_type": "code",
   "execution_count": null,
   "id": "750471a9-45da-4926-9fe2-00607b6ccbdc",
   "metadata": {},
   "outputs": [],
   "source": [
    "months = np.unique(data[:, 1]) # this wil give us the months\n",
    "months"
   ]
  },
  {
   "cell_type": "markdown",
   "id": "8a456b71-02e8-45a1-bb0d-e009c571ab15",
   "metadata": {
    "tags": []
   },
   "source": [
    "### High-performance calculations"
   ]
  },
  {
   "cell_type": "markdown",
   "id": "ac43fd3d-c669-42bf-8aad-5f24d0e01d22",
   "metadata": {},
   "source": [
    "#### Quantiles"
   ]
  },
  {
   "cell_type": "markdown",
   "id": "e087d52a-bd64-4847-8d2c-8a0ff94e1b51",
   "metadata": {},
   "source": [
    "One of numpy's main advantage to Pandas (see next time) is the high performance calculations. For instance quantiles are resource-intensive caluclations but numpy handles them smoothly. "
   ]
  },
  {
   "cell_type": "code",
   "execution_count": null,
   "id": "75e59a4e-2276-4c71-8e89-9c1679d8a86b",
   "metadata": {},
   "outputs": [],
   "source": [
    "np.percentile(data[:,3], 10) # 1st decile of daily temperatures in the dataset"
   ]
  },
  {
   "cell_type": "markdown",
   "id": "0a15a74e-39f2-47ff-9c67-092acc439278",
   "metadata": {},
   "source": [
    "#### Handling outlier data\n",
    "\n",
    "If $min$ and/or $max$ values are obviously off any meaningful range, either because of some anomaly or because of data error, we may want to use quantiles to define the 'very low' or 'very high' values."
   ]
  },
  {
   "cell_type": "code",
   "execution_count": null,
   "id": "7e279b95-114d-4ab9-9e7c-daac4c8f66f7",
   "metadata": {},
   "outputs": [],
   "source": [
    "np.percentile(data[:,3], 50) # how do you interpret this number?"
   ]
  },
  {
   "cell_type": "code",
   "execution_count": null,
   "id": "22bb69c2-9f89-47b6-b44e-ba88f8a94167",
   "metadata": {},
   "outputs": [],
   "source": [
    "np.percentile(data[:,3], 0.1) # and this?"
   ]
  },
  {
   "cell_type": "markdown",
   "id": "0479b7d1-d8e6-4f22-a2d0-e6e5bc4dc1c1",
   "metadata": {},
   "source": [
    "#### Substituting and dropping outlier data"
   ]
  },
  {
   "cell_type": "markdown",
   "id": "fd35fc0e-07e1-41b9-a4b9-f19e1f55c396",
   "metadata": {},
   "source": [
    "Find the weird observation(s), where temperature is -999, in the dataset using masking. Why do we have these values in the dataset? Do they imply something?"
   ]
  },
  {
   "cell_type": "code",
   "execution_count": null,
   "id": "f0d51c63-2175-4197-a490-37efd3f3610c",
   "metadata": {},
   "outputs": [],
   "source": [
    "mask = (data[:, 3] == -999)\n",
    "data[mask]"
   ]
  },
  {
   "cell_type": "markdown",
   "id": "9bb9b2f3-3dcb-41f3-8ad5-2f8ac74efdb2",
   "metadata": {},
   "source": [
    "Substituting anomalous data with NA. Remember: numpy arrays are *mutable*!"
   ]
  },
  {
   "cell_type": "code",
   "execution_count": null,
   "id": "6d5f86e7-deea-4ce5-9296-e8b976a565f2",
   "metadata": {},
   "outputs": [],
   "source": [
    "data[mask, 3] = np.nan"
   ]
  },
  {
   "cell_type": "code",
   "execution_count": null,
   "id": "94ec6eff-0938-4516-9ede-532b693a9aee",
   "metadata": {},
   "outputs": [],
   "source": [
    "data[mask]"
   ]
  },
  {
   "cell_type": "code",
   "execution_count": null,
   "id": "2e1652c1-2cb4-4ab3-a27a-5b3d84ec01a5",
   "metadata": {},
   "outputs": [],
   "source": [
    "type(np.nan)"
   ]
  },
  {
   "cell_type": "markdown",
   "id": "e3583c84-1d21-4745-b05b-5497c361870f",
   "metadata": {},
   "source": [
    "The data makes more sense this way. "
   ]
  },
  {
   "cell_type": "code",
   "execution_count": null,
   "id": "ce2a2a83-60e6-4db0-9f85-e77053162204",
   "metadata": {},
   "outputs": [],
   "source": [
    "data[:3].min()"
   ]
  },
  {
   "cell_type": "markdown",
   "id": "57d5ea4c-66c1-4e8c-9d36-881753fa6895",
   "metadata": {},
   "source": [
    "NaNs, however, make some other calculations, for instance percentiles, disfunctional so we'd better drop these observations."
   ]
  },
  {
   "cell_type": "code",
   "execution_count": null,
   "id": "305acbbc-b63f-43dc-b60b-3085a7dc78b7",
   "metadata": {},
   "outputs": [],
   "source": [
    "data.shape"
   ]
  },
  {
   "cell_type": "code",
   "execution_count": null,
   "id": "882f5221-2f51-4901-9c2b-4bc79e619371",
   "metadata": {},
   "outputs": [],
   "source": [
    "data = data[~ mask] # ~ stands for the complementing set"
   ]
  },
  {
   "cell_type": "code",
   "execution_count": null,
   "id": "d3a376d5-cd3d-44b3-ba07-0baae9ef8133",
   "metadata": {},
   "outputs": [],
   "source": [
    "data.shape"
   ]
  },
  {
   "cell_type": "markdown",
   "id": "bb08e0c6-4f13-42d3-9e23-5cb7febae46a",
   "metadata": {},
   "source": [
    "Finding the `mode` of the distribution."
   ]
  },
  {
   "cell_type": "code",
   "execution_count": null,
   "id": "bd265c5e-e8f7-4a26-a6d5-ebc1c5d236b7",
   "metadata": {},
   "outputs": [],
   "source": [
    "import scipy"
   ]
  },
  {
   "cell_type": "code",
   "execution_count": null,
   "id": "3c6ba4e4-2a6f-42e8-a09e-349888533cf3",
   "metadata": {},
   "outputs": [],
   "source": [
    "scipy.stats.mode(data[:, 3])"
   ]
  },
  {
   "cell_type": "markdown",
   "id": "3a89a84d-3a4a-40c6-b639-d326eb617813",
   "metadata": {
    "tags": []
   },
   "source": [
    "#### Excercise"
   ]
  },
  {
   "cell_type": "markdown",
   "id": "0c8a5f91-a01d-43c8-8c3d-3c0332679cb8",
   "metadata": {},
   "source": [
    "Iterate through the months, calculate and print out the number of the month, the first (D1) and the ninth decile (D9) of the temperatures for that particular  month."
   ]
  },
  {
   "cell_type": "markdown",
   "id": "736aa9d8-c4e8-4a99-888d-f958460ccf66",
   "metadata": {},
   "source": [
    "### copy and \"deep copy\""
   ]
  },
  {
   "cell_type": "markdown",
   "id": "6636a85a-6ec2-4ce3-96a9-a3a4febc2e27",
   "metadata": {},
   "source": [
    "To achieve high performance, assignments in Python usually do not copy the underlying objects. This is important, for example, when objects are passed between functions, to avoid an excessive amount of memory copying when it is not necessary (technical term: pass by reference). "
   ]
  },
  {
   "cell_type": "code",
   "execution_count": null,
   "id": "04f5dc57-c9a5-48ad-8980-a6d5d1284e71",
   "metadata": {},
   "outputs": [],
   "source": [
    "A = np.array([[1, 2], [3, 4]])\n",
    "A"
   ]
  },
  {
   "cell_type": "code",
   "execution_count": null,
   "id": "bc5f664d-0603-4fd4-93dd-d30f8d898383",
   "metadata": {},
   "outputs": [],
   "source": [
    "# now B is referring to the same array data as A \n",
    "B = A\n",
    "B"
   ]
  },
  {
   "cell_type": "code",
   "execution_count": null,
   "id": "ec34513e-b4df-4c9b-9a31-038804381378",
   "metadata": {},
   "outputs": [],
   "source": [
    "# changing B affects A\n",
    "B[0,0] = 10\n",
    "B"
   ]
  },
  {
   "cell_type": "code",
   "execution_count": null,
   "id": "86a6117e-51d6-4afd-b468-f1a9382368da",
   "metadata": {},
   "outputs": [],
   "source": [
    "A"
   ]
  },
  {
   "cell_type": "markdown",
   "id": "016f49d8-8856-426d-8d31-1042c22eabae",
   "metadata": {},
   "source": [
    "If we want to avoid this behavior, so that when we get a new completely independent object `B` copied from `A`, then we need to do a so-called **\"deep copy\"** using the function `copy`:"
   ]
  },
  {
   "cell_type": "code",
   "execution_count": null,
   "id": "2b4389a2-7105-4168-b94f-112e7e6920ff",
   "metadata": {},
   "outputs": [],
   "source": [
    "B = np.copy(A)"
   ]
  },
  {
   "cell_type": "code",
   "execution_count": null,
   "id": "318b6140-1e1c-443c-97f1-b4aea71e4969",
   "metadata": {},
   "outputs": [],
   "source": [
    "# now, if we modify B, A is not affected\n",
    "B[0,0] = -5\n",
    "B"
   ]
  },
  {
   "cell_type": "code",
   "execution_count": null,
   "id": "bb314b24-c443-4aca-87a2-2c8c8adff2c3",
   "metadata": {},
   "outputs": [],
   "source": [
    "A"
   ]
  },
  {
   "cell_type": "markdown",
   "id": "babc9e6a-199e-477e-9855-91458c26f326",
   "metadata": {},
   "source": [
    "### Applying a function to a numpy array"
   ]
  },
  {
   "cell_type": "code",
   "execution_count": null,
   "id": "68cbb496-6596-4465-97d4-b6f86a36deab",
   "metadata": {},
   "outputs": [],
   "source": [
    "theta = np.arange(-10, 10, 1)\n",
    "theta"
   ]
  },
  {
   "cell_type": "code",
   "execution_count": null,
   "id": "eedbe238-51ec-4c20-b060-652d68f23e67",
   "metadata": {},
   "outputs": [],
   "source": [
    "theta = theta.reshape(5,4)\n",
    "theta"
   ]
  },
  {
   "cell_type": "markdown",
   "id": "98b8b73b-462f-4bab-8ef9-64e8d4b4dbfb",
   "metadata": {},
   "source": [
    "When you apply an UDF, something weird happens."
   ]
  },
  {
   "cell_type": "code",
   "execution_count": null,
   "id": "a59af282-203c-4717-8ac2-50bf420cd7d8",
   "metadata": {},
   "outputs": [],
   "source": [
    "relu = lambda x: 0 if x < 0 else x\n",
    "relu(theta)"
   ]
  },
  {
   "cell_type": "markdown",
   "id": "7ed4c762-506b-4b7b-9586-81e51e6a8439",
   "metadata": {},
   "source": [
    "You need to `vectorize` the function."
   ]
  },
  {
   "cell_type": "code",
   "execution_count": null,
   "id": "a9a5690c-4618-4854-8e50-276838be98bd",
   "metadata": {},
   "outputs": [],
   "source": [
    "relu_v = np.vectorize(relu)"
   ]
  },
  {
   "cell_type": "code",
   "execution_count": null,
   "id": "3e4760bb-ad12-487c-a4b5-3dfb4e7a9e24",
   "metadata": {},
   "outputs": [],
   "source": [
    "relu_v(theta)"
   ]
  },
  {
   "cell_type": "markdown",
   "id": "a7f5e845-dd1a-406d-9d02-a3532f2b7adc",
   "metadata": {},
   "source": [
    "Note: '*relu*' stands for '*rectified linear unit*' and it is widely used in neural networks."
   ]
  },
  {
   "cell_type": "markdown",
   "id": "392d2225-f0a6-4137-be83-ed5e85f6780c",
   "metadata": {},
   "source": [
    "## Linear algebra with Numpy"
   ]
  },
  {
   "cell_type": "markdown",
   "id": "155e6aaf-fb73-4789-8d2d-593eb259f5a1",
   "metadata": {},
   "source": [
    "It goes beyond this course to delve into matrix algebra but here's a short example. "
   ]
  },
  {
   "cell_type": "code",
   "execution_count": null,
   "id": "32f0b3d1-b270-4916-9d48-67690503f303",
   "metadata": {},
   "outputs": [],
   "source": [
    "M = np.array([[1,2], [3,4]])\n",
    "v = np.arange(2)"
   ]
  },
  {
   "cell_type": "code",
   "execution_count": null,
   "id": "a24e4aa7-8875-4467-a5cb-cd1fb37da28c",
   "metadata": {},
   "outputs": [],
   "source": [
    "M"
   ]
  },
  {
   "cell_type": "code",
   "execution_count": null,
   "id": "361cc8fd-5cdb-4fb3-8efd-8c05b6cb1515",
   "metadata": {},
   "outputs": [],
   "source": [
    "print(M)"
   ]
  },
  {
   "cell_type": "code",
   "execution_count": null,
   "id": "36e832e5-db70-464e-8a32-ecfd9d2e2690",
   "metadata": {},
   "outputs": [],
   "source": [
    "v"
   ]
  },
  {
   "cell_type": "markdown",
   "id": "57bf7ee9-79d6-44e5-a069-a75b8392ceda",
   "metadata": {},
   "source": [
    "Define dot product as\n",
    "\n",
    "$$\n",
    "\\mathbf{v} \\in \\mathbb{R}^n, \\quad \\mathbf{M} \\in \\mathbb{R}^{n \\times n} \\implies \\mathbf{M} \\cdot \\mathbf{v} \\in \\mathbb{R}$$\n"
   ]
  },
  {
   "cell_type": "code",
   "execution_count": null,
   "id": "3e47a40d-05b8-4672-bcc9-31838f025a0f",
   "metadata": {},
   "outputs": [],
   "source": [
    "np.dot(M, v)"
   ]
  },
  {
   "cell_type": "markdown",
   "id": "b04438b8-226e-408a-8d43-651047f77b30",
   "metadata": {},
   "source": [
    "The other way around:\n",
    "\n",
    "$$\n",
    " \\mathbf{v} \\cdot \\mathbf{M} \\in \\mathbb{R}$$\n"
   ]
  },
  {
   "cell_type": "code",
   "execution_count": null,
   "id": "50563968-3c9b-4f93-8bd3-453d5d631457",
   "metadata": {},
   "outputs": [],
   "source": [
    "np.dot(v, M)"
   ]
  },
  {
   "cell_type": "code",
   "execution_count": null,
   "id": "17d233da-a148-45c9-a6a6-331a047fe807",
   "metadata": {},
   "outputs": [],
   "source": [
    "v = np.arange(0, 5)"
   ]
  },
  {
   "cell_type": "code",
   "execution_count": null,
   "id": "ba0ea77c-5033-4f0c-990a-815f1a78af22",
   "metadata": {},
   "outputs": [],
   "source": [
    "v"
   ]
  },
  {
   "cell_type": "code",
   "execution_count": null,
   "id": "e4d74d7b-f4fd-4b74-8b87-b3b8e0cf4ad1",
   "metadata": {},
   "outputs": [],
   "source": [
    "np.dot(v, v) # what does the dot product of a vector equal to?"
   ]
  },
  {
   "cell_type": "markdown",
   "id": "5fb384d2-3ee1-4924-b17c-8bdabdcafd3b",
   "metadata": {},
   "source": [
    "Inverting a matrix"
   ]
  },
  {
   "cell_type": "code",
   "execution_count": null,
   "id": "45e8aa94-1fad-4cd1-82c9-e2cc8f692818",
   "metadata": {},
   "outputs": [],
   "source": [
    "from numpy.linalg import inv"
   ]
  },
  {
   "cell_type": "code",
   "execution_count": null,
   "id": "0627a967-a8f6-49e9-823d-1e12b630a28e",
   "metadata": {},
   "outputs": [],
   "source": [
    "inv(M)"
   ]
  },
  {
   "cell_type": "code",
   "execution_count": null,
   "id": "b215fa91-1e33-4292-8869-9ffd90a9c6ce",
   "metadata": {},
   "outputs": [],
   "source": [
    "np_singular = np.array([[1,2], [2,4]])"
   ]
  },
  {
   "cell_type": "code",
   "execution_count": null,
   "id": "497f10e4-7219-4845-a807-a3ae8aaeeaa6",
   "metadata": {},
   "outputs": [],
   "source": [
    "np_singular"
   ]
  },
  {
   "cell_type": "code",
   "execution_count": null,
   "id": "5f104087-4e1a-485e-aea3-3dc4165ad3f3",
   "metadata": {},
   "outputs": [],
   "source": [
    "inv(np_singular)"
   ]
  },
  {
   "cell_type": "markdown",
   "id": "32ff2693-a801-40a0-8262-1f1e4005e15b",
   "metadata": {},
   "source": [
    "<br> \n",
    " \n",
    "## Extra: Processing logs with Python"
   ]
  },
  {
   "cell_type": "markdown",
   "id": "c92cbe5c-56d9-4ef2-b8eb-cfa07ea16a23",
   "metadata": {},
   "source": [
    "### A side note: regex"
   ]
  },
  {
   "cell_type": "markdown",
   "id": "c81484d6-382c-4298-940e-62563a039011",
   "metadata": {},
   "source": [
    "**Regular expressions** allow you to specify a pattern of text to search for. Also called *regexes* for short, are descriptions for a pattern of text. For example, a \\d in a regex stands for a digit character—that is, any single numeral from 0 to 9. "
   ]
  },
  {
   "cell_type": "code",
   "execution_count": null,
   "id": "23f4d32f-141f-4d9c-84d2-277de9a565b6",
   "metadata": {},
   "outputs": [],
   "source": [
    "import re"
   ]
  },
  {
   "cell_type": "code",
   "execution_count": null,
   "id": "fc7a4984-e754-4b79-b163-126a2bfb6ba0",
   "metadata": {},
   "outputs": [],
   "source": [
    "phoneNumRegex = re.compile(r'\\d\\d\\d-\\d\\d\\d-\\d\\d\\d\\d')"
   ]
  },
  {
   "cell_type": "code",
   "execution_count": null,
   "id": "bcb1ba97-71a3-42bf-845a-af8ed35c4529",
   "metadata": {},
   "outputs": [],
   "source": [
    "mo = phoneNumRegex.search('My number is 415-555-4242.')\n",
    "print(mo.group())"
   ]
  },
  {
   "cell_type": "markdown",
   "id": "88af80a0-556e-4424-aba5-da205cbe42e0",
   "metadata": {},
   "source": [
    "Regex is \n",
    "- very complicated\n",
    "- relatively slow\n",
    "- can be used to various completely unstructured text.\n",
    "\n",
    "A quick intro to regex with examples is here [http://automatetheboringstuff.com/2e/chapter7/](http://automatetheboringstuff.com/2e/chapter7/)"
   ]
  },
  {
   "cell_type": "markdown",
   "id": "f109f030-1171-4eb7-9e17-5974df0a8539",
   "metadata": {},
   "source": [
    "### Semi-structured text"
   ]
  },
  {
   "cell_type": "markdown",
   "id": "afbd9259-52b0-4800-bb7f-2ec639bef7d4",
   "metadata": {},
   "source": [
    "Logs are usually text messages with a limited set of row/sentence *schema*. This schema helps us process text in a way which is \n",
    "- relatively simple\n",
    "- fast\n",
    "- but only works with texts of known structures."
   ]
  },
  {
   "cell_type": "markdown",
   "id": "9337e8d7-4a53-498b-8352-5f45a82ee9d2",
   "metadata": {},
   "source": [
    "**Task: find the hosts related to  authentication failures.**"
   ]
  },
  {
   "cell_type": "code",
   "execution_count": null,
   "id": "585d41cd-ac76-4bc8-9e27-1d9816f869ef",
   "metadata": {},
   "outputs": [],
   "source": [
    "file = os.path.join(os.pardir, 'data', 'Linux_2k.log')\n",
    "file"
   ]
  },
  {
   "cell_type": "code",
   "execution_count": null,
   "id": "fda5a088-5245-48be-8d0f-d1919917ef17",
   "metadata": {},
   "outputs": [],
   "source": [
    "with open(file, 'r') as f:\n",
    "    logtext = f.read()"
   ]
  },
  {
   "cell_type": "code",
   "execution_count": null,
   "id": "f67319b9-3ba6-4963-869e-f0621b008292",
   "metadata": {},
   "outputs": [],
   "source": [
    "logtext[:500]"
   ]
  },
  {
   "cell_type": "code",
   "execution_count": null,
   "id": "8aa6447e-4517-4ff1-8ca4-e252db261673",
   "metadata": {},
   "outputs": [],
   "source": [
    "logtext.split('\\n')[0:10]"
   ]
  },
  {
   "cell_type": "code",
   "execution_count": null,
   "id": "defa44bb-a07e-4f8e-87d1-dd65955d1477",
   "metadata": {},
   "outputs": [],
   "source": [
    "len(logtext)"
   ]
  },
  {
   "cell_type": "code",
   "execution_count": null,
   "id": "d8028ee8-cc22-4a68-94b8-0124f221793f",
   "metadata": {},
   "outputs": [],
   "source": [
    "for line in logtext.split('\\n')[0:10]:\n",
    "    if 'authentication failure' in line:\n",
    "        print(line.split())"
   ]
  },
  {
   "cell_type": "code",
   "execution_count": null,
   "id": "ac8a9fd2-cfa2-4b9b-b6ba-d0e663fabd1a",
   "metadata": {},
   "outputs": [],
   "source": [
    "for line in logtext.split('\\n')[0:10]:\n",
    "    if 'authentication failure' in line:\n",
    "        print(len(line.split(' ')))"
   ]
  },
  {
   "cell_type": "code",
   "execution_count": null,
   "id": "c09ac226-3ac6-4ec0-86a2-921cec1ff367",
   "metadata": {},
   "outputs": [],
   "source": [
    "for line in logtext.split('\\n')[0:10]:\n",
    "    if 'authentication failure' in line:\n",
    "        print(line.split('rhost='))"
   ]
  },
  {
   "cell_type": "code",
   "execution_count": null,
   "id": "e1b6d416-40cd-4e97-bd1d-9bfbf331ce0a",
   "metadata": {},
   "outputs": [],
   "source": [
    "for line in logtext.split('\\n')[0:10]:\n",
    "    if 'authentication failure' in line:\n",
    "        print(line.split('rhost=')[1].split()[0])"
   ]
  },
  {
   "cell_type": "markdown",
   "id": "54ac91bc-88ec-486c-a400-44c55fbc67a3",
   "metadata": {},
   "source": [
    "### Excercise\n",
    "- Find logs with 'authentication failure'\n",
    "- Collect the 'rhost' values (host addressses) as list them together with the appropriate month, day, and hour values in the following was: each row should look like:   \n",
    "      - month day hour host_address"
   ]
  },
  {
   "cell_type": "markdown",
   "id": "b9deb13f-6dd5-4a65-8ea1-2f763a031c42",
   "metadata": {},
   "source": [
    "Many more on the numpy homepage [https://numpy.org/](https://numpy.org/)"
   ]
  },
  {
   "cell_type": "markdown",
   "id": "64728752-abc7-450d-8179-5fc21993c3da",
   "metadata": {},
   "source": [
    "<details><summary><b>Click here for the solution</b></summary>\n",
    "    \n",
    "```python\n",
    "with open(file, 'r') as f:\n",
    "    for line in f:\n",
    "        if 'authentication failure' in line:\n",
    "            line = \" \".join(line.split()) # get rid of all (including double) whitespaces and link each element with a single whitespace\n",
    "            month = line.split(' ')[0]\n",
    "            day = line.split(' ')[1]\n",
    "            hour = line.split(' ')[2].split(':')[0]\n",
    "            host = line.split('rhost=')[1].split(' ')[0]\n",
    "            print(month, day, hour, host)\n",
    "```\n",
    "\n",
    "</details>"
   ]
  },
  {
   "cell_type": "code",
   "execution_count": null,
   "id": "1bbfe5d6-178d-448d-abd8-21258e647e09",
   "metadata": {},
   "outputs": [],
   "source": []
  }
 ],
 "metadata": {
  "kernelspec": {
   "display_name": "Python 3 (ipykernel)",
   "language": "python",
   "name": "python3"
  },
  "language_info": {
   "codemirror_mode": {
    "name": "ipython",
    "version": 3
   },
   "file_extension": ".py",
   "mimetype": "text/x-python",
   "name": "python",
   "nbconvert_exporter": "python",
   "pygments_lexer": "ipython3",
   "version": "3.12.4"
  }
 },
 "nbformat": 4,
 "nbformat_minor": 5
}
