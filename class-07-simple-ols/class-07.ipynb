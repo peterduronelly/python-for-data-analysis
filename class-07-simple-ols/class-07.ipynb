{
 "cells": [
  {
   "cell_type": "markdown",
   "id": "45833c7a-337a-4c28-adbd-5ff7b5b57200",
   "metadata": {},
   "source": [
    "### <center>Class 7: Simple Linear Regression </center>"
   ]
  },
  {
   "cell_type": "code",
   "execution_count": null,
   "id": "22b9d008-8c47-455d-8e40-6b1124be011b",
   "metadata": {},
   "outputs": [],
   "source": [
    "import os\n",
    "import sys\n",
    "import warnings\n",
    "\n",
    "import numpy as np\n",
    "import pandas as pd\n",
    "import statsmodels.api as sm\n",
    "import statsmodels.formula.api as smf\n",
    "\n",
    "import matplotlib.pyplot as plt\n",
    "import seaborn as sns\n",
    "\n",
    "warnings.filterwarnings(\"ignore\")"
   ]
  },
  {
   "cell_type": "code",
   "execution_count": null,
   "id": "e53ae576-07cf-4efe-b2bb-82d86531d180",
   "metadata": {},
   "outputs": [],
   "source": [
    "%matplotlib inline"
   ]
  },
  {
   "cell_type": "markdown",
   "id": "5e9eb4f9-a150-45ba-aa7b-42fa315585f4",
   "metadata": {},
   "source": [
    "## Data"
   ]
  },
  {
   "cell_type": "code",
   "execution_count": null,
   "id": "df83e49d-3758-4d2b-85c7-023684233352",
   "metadata": {},
   "outputs": [],
   "source": [
    "path = os.path.join(os.pardir, 'data', 'hotels-vienna.csv') # this will produce a path with the right syntax for your operating system\n",
    "path"
   ]
  },
  {
   "cell_type": "code",
   "execution_count": null,
   "id": "7f3c82ae-0021-4f5a-8526-1f4bf2cd15d8",
   "metadata": {},
   "outputs": [],
   "source": [
    "df_hotels = pd.read_csv(path)"
   ]
  },
  {
   "cell_type": "code",
   "execution_count": null,
   "id": "6d887fc1-5f4a-48e0-94bc-04eae8647b25",
   "metadata": {},
   "outputs": [],
   "source": [
    "df_hotels"
   ]
  },
  {
   "cell_type": "code",
   "execution_count": null,
   "id": "22eb3ed2-3a16-4676-b336-de8bbbb53ad8",
   "metadata": {},
   "outputs": [],
   "source": [
    "df_hotels.info()"
   ]
  },
  {
   "cell_type": "markdown",
   "id": "ca9ec78e-f853-4af0-9531-257846211578",
   "metadata": {},
   "source": [
    "### EDA (Explanatory Data Analysis) and Feature Engineering\n",
    "\n",
    "What kind of accomondations do we have? We are interested in hotels only. "
   ]
  },
  {
   "cell_type": "code",
   "execution_count": null,
   "id": "8e307493-28ae-443c-a44e-529dcdc14117",
   "metadata": {},
   "outputs": [],
   "source": [
    "df_hotels.accommodation_type.value_counts()"
   ]
  },
  {
   "cell_type": "markdown",
   "id": "6a83165a-e90f-4a43-ab6b-aaaff04ee3d7",
   "metadata": {},
   "source": [
    "Star rating? We want no luxury but no low-end budget accomodations either."
   ]
  },
  {
   "cell_type": "code",
   "execution_count": null,
   "id": "2c398ee9-c54a-4217-9fc1-8d13969f501c",
   "metadata": {},
   "outputs": [],
   "source": [
    "df_hotels.stars.value_counts()"
   ]
  },
  {
   "cell_type": "markdown",
   "id": "2dd2655a-4144-4f9c-b7e0-d8061706fbec",
   "metadata": {},
   "source": [
    "<br>\n",
    "Prices, main statistincs"
   ]
  },
  {
   "cell_type": "code",
   "execution_count": null,
   "id": "84cc69c8-6338-45bf-ae95-a73744424201",
   "metadata": {},
   "outputs": [],
   "source": [
    "df_hotels.price.describe()"
   ]
  },
  {
   "cell_type": "markdown",
   "id": "683aff66-4401-4b44-a70b-048b338ac3c1",
   "metadata": {},
   "source": [
    "A deeper look at price distribution: what is an extremely high price? How do you interpret those numbers?"
   ]
  },
  {
   "cell_type": "code",
   "execution_count": null,
   "id": "39a865dc-badc-4e61-8cb3-3dcb56a8d283",
   "metadata": {},
   "outputs": [],
   "source": [
    "df_hotels.price.quantile([0.1, 0.25, 0.5, 0.75, 0.90, 0.99, 0.999])"
   ]
  },
  {
   "cell_type": "markdown",
   "id": "ccfdabf2-1e1d-4def-aa42-274f9b6fdfb9",
   "metadata": {},
   "source": [
    "Filtering for the right observations."
   ]
  },
  {
   "cell_type": "code",
   "execution_count": null,
   "id": "306cc9f0-6b1d-4bfe-95be-f7004d508d35",
   "metadata": {},
   "outputs": [],
   "source": [
    "df_hotels = df_hotels[\n",
    "    (df_hotels.accommodation_type == 'Hotel')\n",
    "    & (df_hotels.city_actual == 'Vienna')\n",
    "    & (df_hotels.stars >= 3)\n",
    "    & (df_hotels.stars <= 4)\n",
    "    & (df_hotels.price <= 600)]\n"
   ]
  },
  {
   "cell_type": "code",
   "execution_count": null,
   "id": "07b6d7ba-8264-4c92-a7d6-8772ec567d1a",
   "metadata": {},
   "outputs": [],
   "source": [
    "df_hotels"
   ]
  },
  {
   "cell_type": "code",
   "execution_count": null,
   "id": "f1b5c193-f00c-4720-9868-2f457cf465f3",
   "metadata": {},
   "outputs": [],
   "source": [
    "df_hotels.price.describe(percentiles = [0.5, 0.95, 0.99])"
   ]
  },
  {
   "cell_type": "code",
   "execution_count": null,
   "id": "27a29998-5e61-4a60-9fc0-f5548f886a7a",
   "metadata": {},
   "outputs": [],
   "source": [
    "df_hotels.distance.describe(percentiles = [0.5, 0.95, 0.99])"
   ]
  },
  {
   "cell_type": "markdown",
   "id": "c7365cca-34dd-44dd-a038-b49ec78ddcf3",
   "metadata": {},
   "source": [
    "**Charting hotels data**"
   ]
  },
  {
   "cell_type": "code",
   "execution_count": null,
   "id": "b2e9b121-17e6-43e1-a253-0f164f1944d4",
   "metadata": {},
   "outputs": [],
   "source": [
    "df_hotels.price.plot(\n",
    "    kind = 'hist',  bins = range(50, 425, 25), rwidth = 0.9\n",
    "    , figsize = (8,5)\n",
    "    , xticks = range(50, 425, 25)\n",
    "    , xlabel = 'USD'\n",
    "    , title = 'Distribution of room prices'\n",
    ");"
   ]
  },
  {
   "cell_type": "code",
   "execution_count": null,
   "id": "27acab76-b556-4f55-8a51-59ebde9aa417",
   "metadata": {},
   "outputs": [],
   "source": [
    "df_hotels.distance.plot(\n",
    "    kind = 'hist',  bins = [i/10 for i in range(0, 70, 5)], rwidth = 0.9\n",
    "    , figsize = (8,5)\n",
    "    , xticks = [i/10 for i in range(0, 70, 5)] # note how we use the range() function here\n",
    "    , xlabel = 'miles'\n",
    "    , title = 'Distances from the city center'\n",
    ");"
   ]
  },
  {
   "cell_type": "markdown",
   "id": "5f484111-f4f6-4bbb-b229-eeb7ac2441a8",
   "metadata": {},
   "source": [
    "**Close vs Far**"
   ]
  },
  {
   "cell_type": "markdown",
   "id": "50d74a8f-303b-43f8-8e21-812a73af5e16",
   "metadata": {},
   "source": [
    "For a simple analysis of the effect of distance from the city center on price we split the hotels into two categories: 'close' and 'far'. We calculate the respective means and plot the mean prices by these categories. "
   ]
  },
  {
   "cell_type": "code",
   "execution_count": null,
   "id": "b6d34f65-1495-4daf-ba19-3964e7062a4c",
   "metadata": {},
   "outputs": [],
   "source": [
    "df_hotels['distance_category'] = df_hotels.distance.map(lambda x: 'Far' if x >= 2 else 'Close')"
   ]
  },
  {
   "cell_type": "code",
   "execution_count": null,
   "id": "ad30b619-f8e3-4ce3-b3b7-664a33c8b200",
   "metadata": {},
   "outputs": [],
   "source": [
    "df_hotels.head(10)"
   ]
  },
  {
   "cell_type": "code",
   "execution_count": null,
   "id": "d6238880-84d0-4de5-91e3-72a3b38b8a93",
   "metadata": {},
   "outputs": [],
   "source": [
    "df_hotels[['distance_category', 'distance', 'price']].groupby('distance_category').aggregate('describe')"
   ]
  },
  {
   "cell_type": "markdown",
   "id": "62b3f7ae-423e-4c09-86dd-d768ffdab7ea",
   "metadata": {},
   "source": [
    "Note: here we are working with a `DataFrameGroupBy` object."
   ]
  },
  {
   "cell_type": "code",
   "execution_count": null,
   "id": "6e348ec3-52bc-4be6-93fc-ae75e3df901a",
   "metadata": {},
   "outputs": [],
   "source": [
    "df_hotels[['distance_category', 'distance', 'price']].groupby('distance_category')"
   ]
  },
  {
   "cell_type": "code",
   "execution_count": null,
   "id": "64fbbb69-0dda-4eeb-aef3-d785dc3c0697",
   "metadata": {},
   "outputs": [],
   "source": [
    "type(df_hotels[['distance_category', 'distance', 'price']].groupby('distance_category'))"
   ]
  },
  {
   "cell_type": "markdown",
   "id": "0f9e3b11-bc6c-4bd1-a2ba-2f89f32f30a0",
   "metadata": {},
   "source": [
    "For plotting we are turning to the `seaborn` library. This library is built on the matplotlib library and gives additional charting options. More in the [official doclumentation](https://seaborn.pydata.org/index.html). "
   ]
  },
  {
   "cell_type": "code",
   "execution_count": null,
   "id": "7073db00-94a4-4fa2-933a-90333151066d",
   "metadata": {},
   "outputs": [],
   "source": [
    "ps_mean_by_distcat = df_hotels.groupby('distance_category')['price'].mean()\n",
    "ps_mean_by_distcat"
   ]
  },
  {
   "cell_type": "code",
   "execution_count": null,
   "id": "0d200a9d-7c57-4359-86f5-be5f667e64b0",
   "metadata": {},
   "outputs": [],
   "source": [
    "sns.pointplot(\n",
    "    data = ps_mean_by_distcat\n",
    "    , linestyle = 'none'\n",
    "    , marker = 'o'\n",
    "    , color = 'k'\n",
    ")\n",
    "plt.xlabel('distance category')\n",
    "plt.title('Mean price by distance category')\n",
    "plt.ylim(0,400)\n",
    "plt.grid(linestyle = '--');"
   ]
  },
  {
   "cell_type": "markdown",
   "id": "bfeada89-953f-4b56-a45f-5755a68266a1",
   "metadata": {},
   "source": [
    "**Question**: why not `scatterplot`?"
   ]
  },
  {
   "cell_type": "code",
   "execution_count": null,
   "id": "e19a00b8-1b16-4bfc-9d25-ca13c774c186",
   "metadata": {},
   "outputs": [],
   "source": [
    "sns.pointplot(\n",
    "    data = ps_mean_by_distcat\n",
    "    , linestyle = 'none'\n",
    "    , marker = 'o'\n",
    "    , color = 'k'\n",
    ")\n",
    "plt.xlabel('distance category')\n",
    "plt.text(\n",
    "    x = 'Close', y= ps_mean_by_distcat['Close'] + 20 # we add 20 to the y value to lift the annotation from the point itself\n",
    "    , s = str(round(ps_mean_by_distcat['Close']))\n",
    "    , fontsize=12, color='k')\n",
    "plt.text(\n",
    "    x = 'Far', y= ps_mean_by_distcat['Far'] + 20\n",
    "    , s = str(round(ps_mean_by_distcat['Far']))\n",
    "    , fontsize=12, color='k')\n",
    "plt.ylim(0,400)\n",
    "plt.title('Mean price by distance category')\n",
    "plt.grid(linestyle = '--');"
   ]
  },
  {
   "cell_type": "markdown",
   "id": "fa45a8b0-1817-4381-822c-5f0d8546f284",
   "metadata": {},
   "source": [
    "<br> **Elaborating on close vs far**: creating 4 distance categories, each being sort of a typical distance for that category."
   ]
  },
  {
   "cell_type": "code",
   "execution_count": null,
   "id": "3cb2eae7-b7e4-479d-a8cd-be7e5f904058",
   "metadata": {},
   "outputs": [],
   "source": [
    "df_hotels['dist_4_cat'] = df_hotels.distance.map(lambda x:  0.5 + 1 * int(x >= 1) + 1 * int(x >= 2) + 2.5 * int(x >= 3))"
   ]
  },
  {
   "cell_type": "code",
   "execution_count": null,
   "id": "d20eaff1-1dca-41b7-958a-ff727a71533b",
   "metadata": {},
   "outputs": [],
   "source": [
    "df_hotels[['dist_4_cat', 'distance', 'price']].groupby('dist_4_cat').aggregate('describe')"
   ]
  },
  {
   "cell_type": "code",
   "execution_count": null,
   "id": "d8d77b80-1d78-478a-9dbe-e06ca9c3b98c",
   "metadata": {},
   "outputs": [],
   "source": [
    "ps_mean_by_dist_4_cat = df_hotels.groupby('dist_4_cat')['price'].mean()\n",
    "ps_mean_by_dist_4_cat"
   ]
  },
  {
   "cell_type": "markdown",
   "id": "1290232c-0471-43af-8b11-d223775962e7",
   "metadata": {},
   "source": [
    "Since our categories are numerical values, we can use a `scatterplot`."
   ]
  },
  {
   "cell_type": "code",
   "execution_count": null,
   "id": "c916171c-c0b8-466a-945e-c9bcf061a3e3",
   "metadata": {},
   "outputs": [],
   "source": [
    "sns.scatterplot(\n",
    "    data = ps_mean_by_dist_4_cat\n",
    "    , marker = 'o'\n",
    "    , color = 'k'\n",
    ")\n",
    "for i in ps_mean_by_dist_4_cat.index: # we are adding chart elements by using a for loop\n",
    "    plt.text(\n",
    "        x = i, y = ps_mean_by_dist_4_cat[i] + 15\n",
    "        , s = str(round(ps_mean_by_dist_4_cat[i]))\n",
    "        , fontsize = 12, color = 'k'\n",
    "    )\n",
    "plt.xlabel('distance category (miles)')\n",
    "plt.ylabel('mean price')\n",
    "plt.ylim(0,400)\n",
    "plt.title('Mean price by distance category')\n",
    "plt.grid(linestyle = '--');"
   ]
  },
  {
   "cell_type": "markdown",
   "id": "67875e5f-979c-4b19-b712-77934a0e22f8",
   "metadata": {},
   "source": [
    "<br> Checking outliers using a `boxplot`."
   ]
  },
  {
   "cell_type": "code",
   "execution_count": null,
   "id": "05f15407-7628-41b4-a393-bacfd82f01e2",
   "metadata": {},
   "outputs": [],
   "source": [
    "sns.boxplot(\n",
    "    data = df_hotels, y = 'price', x = 'distance_category')\n",
    "plt.xlabel('distance category')\n",
    "plt.title('Typical and outlier values in hotel prices')\n",
    "plt.grid(axis = 'y');"
   ]
  },
  {
   "cell_type": "markdown",
   "id": "81dbf019-7f56-420d-a474-8c56d1a674f6",
   "metadata": {},
   "source": [
    "Finding the outlier observation."
   ]
  },
  {
   "cell_type": "code",
   "execution_count": null,
   "id": "80ea1537-f191-4a91-8c4f-f2820b1e7baf",
   "metadata": {},
   "outputs": [],
   "source": [
    "df_hotels[df_hotels.price == df_hotels.price.max()].T"
   ]
  },
  {
   "cell_type": "markdown",
   "id": "e56e736d-a954-4bf9-bbd1-668dced58978",
   "metadata": {},
   "source": [
    "**Plotting the point-by-point relationship between distance from city center and price**\n",
    "\n",
    "Starting with `lowess`"
   ]
  },
  {
   "cell_type": "code",
   "execution_count": null,
   "id": "098c489f-04d1-4ce0-8361-dc012ff96987",
   "metadata": {},
   "outputs": [],
   "source": [
    "sns.regplot(\n",
    "    data = df_hotels, x = 'distance', y = 'price'\n",
    "    , marker = '.'\n",
    "    , fit_reg = True, lowess = True\n",
    "    , scatter_kws = {'color': 'dimgrey'}\n",
    "    , line_kws = {'color': 'k'}\n",
    ")\n",
    "plt.xlabel('distance in miles')\n",
    "plt.ylabel('price in USD')\n",
    "plt.title('Vienna hotel prices vs distances from city center');"
   ]
  },
  {
   "cell_type": "markdown",
   "id": "c56ff46d-d4b7-417f-8e4b-8abd4fd26f18",
   "metadata": {},
   "source": [
    "### Building a Linear Regression Model Using `statsmodels`"
   ]
  },
  {
   "cell_type": "markdown",
   "id": "3793682c-5b3c-4d51-a287-98b861f7cdcd",
   "metadata": {},
   "source": [
    "Tools: on of the most-known tools data scientists use for predictive analysis is `scikit-learn`. Here, however, we use the `statsmodels` library that allows users to explore data, estimate statistical models, and perform statistical tests. Scikit-learn is great for building all kinds of predictive machine learning models, including linear regression, but spends little effort on providing _insights_ into the models themselves. That's why we turn to statsmodels instead."
   ]
  },
  {
   "cell_type": "code",
   "execution_count": null,
   "id": "d99bef76-24e2-4821-b85a-36f5cf2adea4",
   "metadata": {},
   "outputs": [],
   "source": [
    "df_hotels.sort_values(by = 'distance', ascending= True, inplace = True) # we are sorting the dataframe for easier charting"
   ]
  },
  {
   "cell_type": "markdown",
   "id": "8fd8100a-87b8-48b0-b40f-b4f845fb7acb",
   "metadata": {},
   "source": [
    "#### Model 0: lowess\n",
    "\n",
    "Note: the result of a lo(w)ess regression depends on the tools used. The values calculated below will be different compared to those seen on the `seaborn` regplot output."
   ]
  },
  {
   "cell_type": "code",
   "execution_count": null,
   "id": "65d761e0-6dfe-4c6e-9e66-31bcf56947da",
   "metadata": {},
   "outputs": [],
   "source": [
    "lowess = sm.nonparametric.lowess"
   ]
  },
  {
   "cell_type": "code",
   "execution_count": null,
   "id": "e6568431-06f0-4a9a-9938-b597284edfdb",
   "metadata": {},
   "outputs": [],
   "source": [
    "type(lowess)"
   ]
  },
  {
   "cell_type": "markdown",
   "id": "8d9caa29-c7b6-4d1d-8bca-3e6cbc5e65b5",
   "metadata": {},
   "source": [
    "We are getting function which for $x$ and $y$ input will return us the _fitted values_. "
   ]
  },
  {
   "cell_type": "code",
   "execution_count": null,
   "id": "9a1aa725-f9a7-4c00-8a49-3aa3576babb3",
   "metadata": {},
   "outputs": [],
   "source": [
    "y_hat_lowess = lowess(df_hotels.price, df_hotels.distance)\n",
    "y_hat_lowess[0:10]"
   ]
  },
  {
   "cell_type": "code",
   "execution_count": null,
   "id": "1874026e-6c6e-4457-96ce-10fc8e603721",
   "metadata": {},
   "outputs": [],
   "source": [
    "lowes_fitted_values = [x[1] for x in y_hat_lowess]\n",
    "lowes_fitted_values[0:10]"
   ]
  },
  {
   "cell_type": "markdown",
   "id": "abf9e1e4-2c75-48dc-933e-7291cf371111",
   "metadata": {},
   "source": [
    "Note: these are *not predictions, but fitted values*. Lowess can fit a curve on our existing data but will not be able to give us a fitted value on a new data point. We can use interpolation to get a fitted estimate on a new observation but only if its $x$ value is between the min and max in our existing sample. "
   ]
  },
  {
   "cell_type": "markdown",
   "id": "a20f7b9b-0631-4e3b-9590-41819c0cd209",
   "metadata": {},
   "source": [
    "**Question**: what is *interpolation*?"
   ]
  },
  {
   "cell_type": "markdown",
   "id": "08ea30aa-64a1-4a14-a52d-f4298c2dc4a0",
   "metadata": {},
   "source": [
    "#### Model 1: linear regression"
   ]
  },
  {
   "cell_type": "markdown",
   "id": "92505c33-f483-4c6a-a8af-d5c7a144ece3",
   "metadata": {},
   "source": [
    "Now we are using the `statsmodels.formula.api`. The key differences between this and the `stasmodels.api` are\n",
    "- The formula API uses string formulas to specify models, while the main API requires explicit matrix definitions.\n",
    "- The formula API is generally easier to use with pandas DataFrames and for specifying complex models.\n",
    "- The main API, however, offers more control and flexibility for advanced modeling techniques.\n",
    "- In API, similarly to the `R` approach, a constant is automatically added to your data and an intercept in fitted. In the main API you have to add the constant to the data matrix X yourself.\n",
    "```python\n",
    "X = sm.add_constant(X)\n",
    "```"
   ]
  },
  {
   "cell_type": "markdown",
   "id": "d424efa8-f8d7-4687-9364-3016e7a7ff34",
   "metadata": {},
   "source": [
    "The formula is defined in R-style: the dependent variable followed by a ~ and then the independent variables. "
   ]
  },
  {
   "cell_type": "code",
   "execution_count": null,
   "id": "ec6bc55b-131a-4b3e-9f36-3bfd287e5025",
   "metadata": {},
   "outputs": [],
   "source": [
    "regression = smf.ols(formula = 'price ~ distance', data = df_hotels).fit(cov_type=\"HC0\") # more on 'cov_type' later"
   ]
  },
  {
   "cell_type": "code",
   "execution_count": null,
   "id": "85ce5a97-19ea-4260-8cbd-9ec8322ae248",
   "metadata": {},
   "outputs": [],
   "source": [
    "type(regression)"
   ]
  },
  {
   "cell_type": "code",
   "execution_count": null,
   "id": "1831b5f0-d628-4c3b-835d-dc0510a002e3",
   "metadata": {},
   "outputs": [],
   "source": [
    "type(regression.summary())"
   ]
  },
  {
   "cell_type": "code",
   "execution_count": null,
   "id": "cdef4595-2f6b-453b-968b-b11eca9036ce",
   "metadata": {},
   "outputs": [],
   "source": [
    "print(regression.summary()) # the __str__() method of a statsmodels.iolib.summary.Summary object gives you a nicely formatted output"
   ]
  },
  {
   "cell_type": "markdown",
   "id": "df48c659-4c8e-4bb1-90d9-53811dfe59cd",
   "metadata": {},
   "source": [
    "<br>What can you say about the regression?\n",
    "- Does distance from the city center seem to be important in prcing hotels in Vienna?\n",
    "- If yes, does it give a sufficient information why any one hotel differs from the others regarding its room price? "
   ]
  },
  {
   "cell_type": "markdown",
   "id": "aee22715-808c-4c69-8379-61c9ded35525",
   "metadata": {},
   "source": [
    "How is the F-statistic is related to the t-value of the explanatory variable in a simple linear regression?"
   ]
  },
  {
   "cell_type": "markdown",
   "id": "22601ef4-d464-44bf-b2eb-bb873fd0914a",
   "metadata": {},
   "source": [
    "The F-value"
   ]
  },
  {
   "cell_type": "code",
   "execution_count": null,
   "id": "c54c5446-7951-43bb-a9b4-35da683d2f81",
   "metadata": {},
   "outputs": [],
   "source": [
    "regression.fvalue"
   ]
  },
  {
   "cell_type": "markdown",
   "id": "a4655cef-d455-400e-bdcd-a727dea87e4c",
   "metadata": {},
   "source": [
    "t-value of the independent variable"
   ]
  },
  {
   "cell_type": "code",
   "execution_count": null,
   "id": "c20987b9-11f9-45ad-8030-4f4beab8cb91",
   "metadata": {},
   "outputs": [],
   "source": [
    "regression.tvalues"
   ]
  },
  {
   "cell_type": "code",
   "execution_count": null,
   "id": "a26f7d66-7af2-45ab-bb41-5c08395b9ede",
   "metadata": {},
   "outputs": [],
   "source": [
    "regression.tvalues.distance"
   ]
  },
  {
   "cell_type": "code",
   "execution_count": null,
   "id": "ae0588fc-b246-42bc-b220-efc400df9e25",
   "metadata": {},
   "outputs": [],
   "source": [
    "regression.tvalues.distance**2"
   ]
  },
  {
   "cell_type": "markdown",
   "id": "9a0a715c-b0cd-42ff-915b-3d6194bcd8c5",
   "metadata": {},
   "source": [
    "Why is this?"
   ]
  },
  {
   "cell_type": "markdown",
   "id": "7536608e-3b41-4f16-bab2-8767c13edfeb",
   "metadata": {},
   "source": [
    "#### Fitted values of a linear regression model"
   ]
  },
  {
   "cell_type": "markdown",
   "id": "bd6b1a9f-19b5-4cb7-b30d-576880b01076",
   "metadata": {},
   "source": [
    "We can get the fitted values using the `fittedvalues` attribute of the _regression_ object. "
   ]
  },
  {
   "cell_type": "code",
   "execution_count": null,
   "id": "fe7051bd-cbc3-49b0-94d5-03df2fe9d771",
   "metadata": {},
   "outputs": [],
   "source": [
    "df_hotels['price_fitted'] = regression.fittedvalues"
   ]
  },
  {
   "cell_type": "markdown",
   "id": "0102de74-e540-4aad-8353-0c987e181801",
   "metadata": {},
   "source": [
    "More complicated, complex charts can still better handled by `matplotlib` graphs."
   ]
  },
  {
   "cell_type": "code",
   "execution_count": null,
   "id": "c0c8b99e-4346-43b6-9704-5781d3e63939",
   "metadata": {},
   "outputs": [],
   "source": [
    "fig = plt.figure(figsize = (6,4))\n",
    "ax = fig.add_axes([0,0,1,1])\n",
    "ax.scatter(df_hotels.distance, df_hotels.price, s = 3, color = 'dimgrey')\n",
    "ax.plot(df_hotels.distance, df_hotels.price_fitted, color = 'k')\n",
    "plt.xlabel('distance in miles')\n",
    "plt.ylabel('price')\n",
    "plt.title('Vienna hotel prices and fitted values');"
   ]
  },
  {
   "cell_type": "markdown",
   "id": "13a43eba-1610-4766-b451-9af033d0acf2",
   "metadata": {},
   "source": [
    "We can add the lowess regression's fitted values as well. "
   ]
  },
  {
   "cell_type": "code",
   "execution_count": null,
   "id": "37f35ac7-38f2-4d77-b72d-ad1aeee63a66",
   "metadata": {},
   "outputs": [],
   "source": [
    "fig = plt.figure(figsize = (6,4))\n",
    "ax = fig.add_axes([0,0,1,1])\n",
    "ax.scatter(df_hotels.distance, df_hotels.price, s = 10, color = 'dimgrey')\n",
    "ax.plot(df_hotels.distance, df_hotels.price_fitted, color = 'k', label ='linear regression fitted values')\n",
    "ax.plot(df_hotels.distance, lowes_fitted_values, color = 'blue', label ='lowess regression fitted values')\n",
    "plt.legend(labelcolor = ['black', 'blue'])\n",
    "plt.xlabel('distance in miles')\n",
    "plt.ylabel('price')\n",
    "plt.grid(linestyle = '--')\n",
    "plt.title('Vienna hotel prices and fitted values');"
   ]
  },
  {
   "cell_type": "markdown",
   "id": "a85b616e-644d-4c7e-ad1c-588b8ffc0917",
   "metadata": {},
   "source": [
    "### Build Your Own Regression Model on PL Matches"
   ]
  },
  {
   "cell_type": "code",
   "execution_count": null,
   "id": "013ad7ed-4208-4401-8c4d-cdaf549e7fa5",
   "metadata": {},
   "outputs": [],
   "source": [
    "path = os.path.join(os.pardir, 'data', 'premier_league_2021-22.csv')\n",
    "path"
   ]
  },
  {
   "cell_type": "code",
   "execution_count": null,
   "id": "ce912f9c-a103-4ef9-a4e7-66dcf72d68ae",
   "metadata": {},
   "outputs": [],
   "source": [
    "df_premier_league = pd.read_csv(path)"
   ]
  },
  {
   "cell_type": "code",
   "execution_count": null,
   "id": "fa53a74a-2fbe-49f4-8d02-9c56a1a52cff",
   "metadata": {},
   "outputs": [],
   "source": [
    "df_premier_league.head()"
   ]
  },
  {
   "cell_type": "markdown",
   "id": "23405940-8b6a-4177-8ca8-3b056988967a",
   "metadata": {},
   "source": [
    "Reading the csv file using the default option may result in unexpected columns. What has happened here? Check out the exact content of the csv file."
   ]
  },
  {
   "cell_type": "code",
   "execution_count": null,
   "id": "d0776653-f6c0-4e53-82b6-b6ed46ea4f2e",
   "metadata": {},
   "outputs": [],
   "source": [
    "df_premier_league = pd.read_csv(path, index_col = 0)"
   ]
  },
  {
   "cell_type": "code",
   "execution_count": null,
   "id": "95a339c6-06b4-4bbb-b738-2d68148d35ae",
   "metadata": {},
   "outputs": [],
   "source": [
    "df_premier_league.head()"
   ]
  },
  {
   "cell_type": "code",
   "execution_count": null,
   "id": "c53bc5db-ac82-4358-9421-f74e4783fe02",
   "metadata": {},
   "outputs": [],
   "source": [
    "df_premier_league.info()"
   ]
  },
  {
   "cell_type": "markdown",
   "id": "c6f31984-7833-4951-9091-66a32351f058",
   "metadata": {},
   "source": [
    "#### Build a regression model where you model the relationship between the *difference* in player enumerations and that of the bets of the playing teams."
   ]
  },
  {
   "cell_type": "markdown",
   "id": "06f5a1f1-c191-4498-8d30-b4f7cf4174b7",
   "metadata": {},
   "source": [
    "Interpret the results. \n",
    "- What is the interpretation of the $\\beta_0$ parameter? Does it have an actual meaning?\n",
    "- How about $\\beta_1$? Is it significantly different from zero? If not, how would you modify the your model to make it more sense, if it is possible at all?"
   ]
  },
  {
   "cell_type": "code",
   "execution_count": null,
   "id": "301c583f-b214-4201-b53a-528154730422",
   "metadata": {},
   "outputs": [],
   "source": [
    "regression = smf.ols(formula = 'ODDS_DIFF ~ HomeTeam_Excess_Weekly_Pay', data = df_premier_league).fit(cov_type=\"HC0\")"
   ]
  },
  {
   "cell_type": "code",
   "execution_count": null,
   "id": "802313c7-73e9-461f-abd5-e14e5c3ef4ae",
   "metadata": {},
   "outputs": [],
   "source": [
    "print(regression.summary())"
   ]
  },
  {
   "cell_type": "code",
   "execution_count": null,
   "id": "d8f5deb9-484a-405a-b5f4-00a82c3317d0",
   "metadata": {},
   "outputs": [],
   "source": [
    "regression.params"
   ]
  },
  {
   "cell_type": "code",
   "execution_count": null,
   "id": "c1c48e5e-3adc-414e-b888-b39f9108c679",
   "metadata": {},
   "outputs": [],
   "source": [
    "regression.params.HomeTeam_Excess_Weekly_Pay"
   ]
  },
  {
   "cell_type": "code",
   "execution_count": null,
   "id": "cf130e5f-fc6f-46e2-aecc-c5cb39683d4b",
   "metadata": {},
   "outputs": [],
   "source": [
    "print(f'{regression.params.HomeTeam_Excess_Weekly_Pay:.8f}')"
   ]
  },
  {
   "cell_type": "code",
   "execution_count": null,
   "id": "fe9ff40a-02c4-4892-ab57-cbade6552154",
   "metadata": {},
   "outputs": [],
   "source": [
    "df_premier_league[['ODDS_DIFF', 'HomeTeam_Weekly_Pay']].describe().style.format({'ODDS_DIFF': '{:.2f}', 'HomeTeam_Weekly_Pay': '{:,.2f}'})"
   ]
  },
  {
   "cell_type": "code",
   "execution_count": null,
   "id": "e0e2b601-f96b-4a34-9290-3aeaa43ac3f7",
   "metadata": {},
   "outputs": [],
   "source": [
    "df_premier_league['Home_Excess_10Kpounds'] = df_premier_league.HomeTeam_Excess_Weekly_Pay / 10_000"
   ]
  },
  {
   "cell_type": "code",
   "execution_count": null,
   "id": "ccd124e5-59ae-452d-a4e9-da29415eec41",
   "metadata": {},
   "outputs": [],
   "source": [
    "regression = smf.ols(formula = 'ODDS_DIFF ~ Home_Excess_10Kpounds', data = df_premier_league).fit(cov_type=\"HC0\")"
   ]
  },
  {
   "cell_type": "code",
   "execution_count": null,
   "id": "b22551d4-4b8a-4931-90d2-ec348b196303",
   "metadata": {},
   "outputs": [],
   "source": [
    "print(regression.summary())"
   ]
  },
  {
   "cell_type": "code",
   "execution_count": null,
   "id": "afb73d74-97df-4195-b912-e8fd50794618",
   "metadata": {},
   "outputs": [],
   "source": [
    "import this"
   ]
  },
  {
   "cell_type": "code",
   "execution_count": null,
   "id": "72da8637-0e91-459f-a2be-7ecbeded1c6f",
   "metadata": {},
   "outputs": [],
   "source": []
  }
 ],
 "metadata": {
  "kernelspec": {
   "display_name": "Python 3 (ipykernel)",
   "language": "python",
   "name": "python3"
  },
  "language_info": {
   "codemirror_mode": {
    "name": "ipython",
    "version": 3
   },
   "file_extension": ".py",
   "mimetype": "text/x-python",
   "name": "python",
   "nbconvert_exporter": "python",
   "pygments_lexer": "ipython3",
   "version": "3.12.4"
  }
 },
 "nbformat": 4,
 "nbformat_minor": 5
}
