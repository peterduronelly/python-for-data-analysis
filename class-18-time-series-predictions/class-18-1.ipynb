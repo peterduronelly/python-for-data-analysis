{
 "cells": [
  {
   "cell_type": "markdown",
   "metadata": {},
   "source": [
    "# <center>Class 18: Forecasting Time Series </center>\n",
    "## <center>Part One </center>"
   ]
  },
  {
   "cell_type": "code",
   "execution_count": null,
   "metadata": {},
   "outputs": [],
   "source": [
    "import pandas as pd\n",
    "import numpy as np\n",
    "import warnings\n",
    "import sys\n",
    "import os\n",
    "from datetime import datetime\n",
    "import matplotlib.pyplot as plt\n",
    "import seaborn as sns\n",
    "from patsy import dmatrices\n",
    "from sklearn.model_selection import LeaveOneGroupOut\n",
    "from sklearn.linear_model import LinearRegression\n",
    "from sklearn.metrics import mean_squared_error\n",
    "import statsmodels.api as sm\n",
    "\n",
    "warnings.filterwarnings(\"ignore\")"
   ]
  },
  {
   "cell_type": "code",
   "execution_count": null,
   "metadata": {},
   "outputs": [],
   "source": [
    "try: \n",
    "    import holidays\n",
    "except:\n",
    "    !pip install holidays\n",
    "    import holidays"
   ]
  },
  {
   "cell_type": "code",
   "execution_count": null,
   "metadata": {},
   "outputs": [],
   "source": [
    "try:\n",
    "    from prophet import Prophet\n",
    "except: \n",
    "    !pip install Prophet\n",
    "    from prophet import Prophet\n",
    "\n",
    "from prophet.diagnostics import cross_validation\n",
    "from prophet.diagnostics import performance_metrics"
   ]
  },
  {
   "cell_type": "code",
   "execution_count": null,
   "metadata": {},
   "outputs": [],
   "source": [
    "%matplotlib inline"
   ]
  },
  {
   "cell_type": "markdown",
   "metadata": {},
   "source": [
    "## Data"
   ]
  },
  {
   "cell_type": "code",
   "execution_count": null,
   "metadata": {},
   "outputs": [],
   "source": [
    "path = os.path.join(os.pardir, 'data', 'swim_work.csv') # this will produce a path with the right syntax for your operating system\n",
    "path"
   ]
  },
  {
   "cell_type": "code",
   "execution_count": null,
   "metadata": {},
   "outputs": [],
   "source": [
    "# DATA IMPORT - FROM FILE\n",
    "df = pd.read_csv(path)"
   ]
  },
  {
   "cell_type": "code",
   "execution_count": null,
   "metadata": {},
   "outputs": [],
   "source": [
    "df.head()"
   ]
  },
  {
   "cell_type": "raw",
   "metadata": {},
   "source": [
    "# Import the prewritten helper functions\n",
    "from py_helper_functions import *"
   ]
  },
  {
   "cell_type": "raw",
   "metadata": {},
   "source": [
    "# DATA IMPORT - FROM FILE\n",
    "data = pd.read_csv(os.path.join(data_path, 'swim_work.csv'), parse_dates=['date'])"
   ]
  },
  {
   "cell_type": "raw",
   "metadata": {},
   "source": [
    "# DATA IMPORT - FROM GITHUB\n",
    "data = pd.read_csv('https://raw.githubusercontent.com/peterduronelly/DA3-Python-Codes/main/data/swim_work.csv')"
   ]
  },
  {
   "cell_type": "code",
   "execution_count": null,
   "metadata": {},
   "outputs": [],
   "source": [
    "df.head()"
   ]
  },
  {
   "cell_type": "code",
   "execution_count": null,
   "metadata": {},
   "outputs": [],
   "source": [
    "df.info()"
   ]
  },
  {
   "cell_type": "markdown",
   "metadata": {},
   "source": [
    "### EDA"
   ]
  },
  {
   "cell_type": "code",
   "execution_count": null,
   "metadata": {},
   "outputs": [],
   "source": [
    "df_daily_agg = df.copy()"
   ]
  },
  {
   "cell_type": "code",
   "execution_count": null,
   "metadata": {},
   "outputs": [],
   "source": [
    "df_daily_agg.date = pd.to_datetime(df_daily_agg.date, format= '%Y-%m-%d')"
   ]
  },
  {
   "cell_type": "code",
   "execution_count": null,
   "metadata": {},
   "outputs": [],
   "source": [
    "df_daily_agg.info()"
   ]
  },
  {
   "cell_type": "code",
   "execution_count": null,
   "metadata": {},
   "outputs": [],
   "source": [
    "df_daily_agg[\"year\"] = df_daily_agg[\"date\"].dt.year\n",
    "df_daily_agg[\"quarter\"] = df_daily_agg[\"date\"].dt.quarter\n",
    "df_daily_agg[\"month\"] = df_daily_agg[\"date\"].dt.month\n",
    "df_daily_agg[\"day\"] = df_daily_agg[\"date\"].dt.day\n",
    "df_daily_agg[\"dow\"] = df_daily_agg[\"date\"].dt.dayofweek + 1\n",
    "df_daily_agg[\"weekend\"] = df_daily_agg[\"dow\"].isin([6, 7])"
   ]
  },
  {
   "cell_type": "code",
   "execution_count": null,
   "metadata": {},
   "outputs": [],
   "source": [
    "df_daily_agg[\"school_off\"] = (\n",
    "    ((df_daily_agg[\"day\"] > 15) & (df_daily_agg[\"month\"] == 5) & (df_daily_agg[\"day\"] <= 30))\n",
    "    | ((df_daily_agg[\"month\"] == 6) | (df_daily_agg[\"month\"] == 7))\n",
    "    | ((df_daily_agg[\"day\"] < 15) & (df_daily_agg[\"month\"] == 8))\n",
    "    | ((df_daily_agg[\"day\"] > 20) & (df_daily_agg[\"month\"] == 12))\n",
    ")"
   ]
  },
  {
   "cell_type": "code",
   "execution_count": null,
   "metadata": {},
   "outputs": [],
   "source": [
    "df_daily_agg[\"trend\"] = df_daily_agg.index + 1"
   ]
  },
  {
   "cell_type": "code",
   "execution_count": null,
   "metadata": {},
   "outputs": [],
   "source": [
    "# Get holiday calendar ----------------------------------"
   ]
  },
  {
   "cell_type": "raw",
   "metadata": {},
   "source": [
    "nyse = mcal.get_calendar(\"NYSE\")\n",
    "\n",
    "holidays = nyse.holidays().holidays"
   ]
  },
  {
   "cell_type": "code",
   "execution_count": null,
   "metadata": {},
   "outputs": [],
   "source": [
    "minyear = df_daily_agg.date.min().year\n",
    "maxyear = df_daily_agg.date.max().year"
   ]
  },
  {
   "cell_type": "code",
   "execution_count": null,
   "metadata": {},
   "outputs": [],
   "source": [
    "usholidays = holidays.UnitedStates(years = [x for x in range(minyear, maxyear + 1, 1)])"
   ]
  },
  {
   "cell_type": "code",
   "execution_count": null,
   "metadata": {},
   "outputs": [],
   "source": [
    "for dat in usholidays.items():\n",
    "    print(dat)"
   ]
  },
  {
   "cell_type": "code",
   "execution_count": null,
   "metadata": {},
   "outputs": [],
   "source": [
    "holiday_days = [x[0] for x in usholidays.items()]"
   ]
  },
  {
   "cell_type": "code",
   "execution_count": null,
   "metadata": {},
   "outputs": [],
   "source": [
    "holiday_days[0:10]"
   ]
  },
  {
   "cell_type": "code",
   "execution_count": null,
   "metadata": {},
   "outputs": [],
   "source": [
    "df_daily_agg.date[0]"
   ]
  },
  {
   "cell_type": "code",
   "execution_count": null,
   "metadata": {},
   "outputs": [],
   "source": [
    "df_daily_agg[\"isHoliday\"] = df_daily_agg[\"date\"].isin(holiday_days)"
   ]
  },
  {
   "cell_type": "markdown",
   "metadata": {},
   "source": [
    "Did we get the holidays right?"
   ]
  },
  {
   "cell_type": "code",
   "execution_count": null,
   "metadata": {},
   "outputs": [],
   "source": [
    "df_daily_agg[df_daily_agg.date.isin([datetime(2010,7,4), datetime(2012,12,4), datetime(2012,12,25)])]"
   ]
  },
  {
   "cell_type": "markdown",
   "metadata": {},
   "source": [
    "Is *Maria Himmelfahrt* a holiday in the US?"
   ]
  },
  {
   "cell_type": "code",
   "execution_count": null,
   "metadata": {},
   "outputs": [],
   "source": [
    "df_daily_agg[df_daily_agg.date == datetime(2010,8,15)]"
   ]
  },
  {
   "cell_type": "markdown",
   "metadata": {},
   "source": [
    "### Define vars for analysis"
   ]
  },
  {
   "cell_type": "code",
   "execution_count": null,
   "metadata": {},
   "outputs": [],
   "source": [
    "df_daily_agg[\"q_month\"] = df_daily_agg.groupby(\"month\")[\"QUANTITY\"].transform(\"mean\")\n",
    "df_daily_agg[\"QUANTITY2\"] = np.where(df_daily_agg[\"QUANTITY\"] < 1, 1, df_daily_agg[\"QUANTITY\"])\n",
    "df_daily_agg[\"q_ln\"] = np.log(df_daily_agg[\"QUANTITY2\"])\n",
    "df_daily_agg[\"tickets\"] = df_daily_agg.groupby([\"month\", \"dow\"])[\"QUANTITY\"].transform(\"mean\")\n",
    "df_daily_agg[\"tickets_ln\"] = df_daily_agg.groupby([\"month\", \"dow\"])[\"q_ln\"].transform(\"mean\")\n",
    "df_daily_agg[\"dow_abb\"] = df_daily_agg[\"date\"].dt.day_name().str[:3]\n",
    "df_daily_agg[\"month_abb\"] = df_daily_agg[\"date\"].dt.month_name().str[:3]"
   ]
  },
  {
   "cell_type": "code",
   "execution_count": null,
   "metadata": {},
   "outputs": [],
   "source": [
    "df_daily_agg.head()"
   ]
  },
  {
   "cell_type": "code",
   "execution_count": null,
   "metadata": {},
   "outputs": [],
   "source": [
    "df_daily_agg.tail().T"
   ]
  },
  {
   "cell_type": "markdown",
   "metadata": {},
   "source": [
    "## Descriptive graphs"
   ]
  },
  {
   "cell_type": "raw",
   "metadata": {},
   "source": [
    "ggplot(\n",
    "    df_daily_agg.loc[df_daily_agg.year == 2015, :], aes(x=\"date\", y=\"QUANTITY\")\n",
    ") + geom_line(size=0.4, color=color[0]) + scale_x_date(\n",
    "    breaks=[\"2015-01-01\", \"2015-04-01\", \"2015-07-01\", \"2015-10-01\", \"2016-01-01\"],\n",
    "    labels=date_format(\"%d%b%Y\"),\n",
    "    date_minor_breaks=\"1 month\",\n",
    ") + labs(\n",
    "    x=\"Date (day)\", y=\"Daily ticket sales\"\n",
    ") + theme_bw()"
   ]
  },
  {
   "cell_type": "code",
   "execution_count": null,
   "metadata": {},
   "outputs": [],
   "source": [
    "df_daily_agg[df_daily_agg.year == 2015].plot(\n",
    "    kind = 'line', figsize = (8,6),\n",
    "    x = 'date', y = 'QUANTITY', \n",
    "    grid = True, legend = False, title = 'Daily ticket sales in 2015');"
   ]
  },
  {
   "cell_type": "raw",
   "metadata": {},
   "source": [
    "ggplot(\n",
    "    df_daily_agg.loc[(df_daily_agg.year >= 2010) & (df_daily_agg.year <= 2014), :],\n",
    "    aes(x=\"date\", y=\"QUANTITY\"),\n",
    ") + geom_line(size=0.2, color=color[0]) + scale_x_date(\n",
    "    breaks=[\n",
    "        \"2010-01-01\",\n",
    "        \"2011-01-01\",\n",
    "        \"2012-01-01\",\n",
    "        \"2013-01-01\",\n",
    "        \"2014-01-01\",\n",
    "        \"2015-01-01\",\n",
    "    ],\n",
    "    labels=date_format(\"%d%b%Y\"),\n",
    "    date_minor_breaks=\"3 months\",\n",
    ") + labs(\n",
    "    x=\"Date (day)\", y=\"Daily ticket sales\"\n",
    ") + theme_bw()"
   ]
  },
  {
   "cell_type": "code",
   "execution_count": null,
   "metadata": {},
   "outputs": [],
   "source": [
    "df_daily_agg[df_daily_agg.year < 2016].plot(\n",
    "    kind = 'line', figsize = (8,6),\n",
    "    x = 'date', y = 'QUANTITY', linewidth = 0.5,\n",
    "    grid = True, legend = False, title = 'Daily ticket sales between 2010-2015');"
   ]
  },
  {
   "cell_type": "raw",
   "metadata": {},
   "source": [
    "ggplot(df_daily_agg, aes(x=\"reorder(month_abb,month)\", y=\"QUANTITY\")) + geom_boxplot(\n",
    "    color=color[0],size=0.8, outlier_stroke=0.4, outlier_color=\"yellow\", outlier_alpha=0.6\n",
    ") + labs(x=\"Date (month)\", y=\"Daily ticket sales\") + theme_bw()"
   ]
  },
  {
   "cell_type": "code",
   "execution_count": null,
   "metadata": {},
   "outputs": [],
   "source": [
    "ax = sns.boxplot(data= df_daily_agg, x = 'month', y = 'QUANTITY')\n",
    "ax.set_ylabel('Daily ticket sales')\n",
    "ax.set_title('Ticket sales distribution by month');"
   ]
  },
  {
   "cell_type": "raw",
   "metadata": {},
   "source": [
    "ggplot(\n",
    "    df_daily_agg, aes(x=\"reorder(dow_abb,dow)\", y=\"QUANTITY\")\n",
    ") + geom_boxplot(\n",
    "    color=color[0],size=0.8, outlier_stroke=0.4, outlier_color=\"yellow\", outlier_alpha=0.6\n",
    ") + labs(x=\"Day of the week\", y=\"Daily ticket sales\", title = 'Ticket sales distribution by day of week'\n",
    ") + theme_bw()"
   ]
  },
  {
   "cell_type": "code",
   "execution_count": null,
   "metadata": {},
   "outputs": [],
   "source": [
    "ax = sns.boxplot(data= df_daily_agg, x = 'dow', y = 'QUANTITY', color = 'grey')\n",
    "ax.set_ylabel('Daily ticket sales')\n",
    "ax.set_title('Ticket sales distribution by day of week');"
   ]
  },
  {
   "cell_type": "code",
   "execution_count": null,
   "metadata": {},
   "outputs": [],
   "source": [
    "df_daily_agg.pivot_table(index=\"month\", columns=\"dow\", values=\"QUANTITY\", aggfunc='sum')"
   ]
  },
  {
   "cell_type": "code",
   "execution_count": null,
   "metadata": {},
   "outputs": [],
   "source": [
    "df_daily_agg.pivot_table(index=\"month\", columns=\"dow\", values=\"QUANTITY\", aggfunc='mean')"
   ]
  },
  {
   "cell_type": "code",
   "execution_count": null,
   "metadata": {},
   "outputs": [],
   "source": [
    "sns.heatmap(\n",
    "    data = df_daily_agg.pivot_table(index=\"month\", columns=\"dow\", values=\"QUANTITY\", aggfunc='mean'), \n",
    "    annot = True, \n",
    "    # which colormap do you prefer?\n",
    "    # cmap = 'turbo',\n",
    "    cmap = 'coolwarm',\n",
    "    fmt = '.0f');"
   ]
  },
  {
   "cell_type": "markdown",
   "metadata": {},
   "source": [
    "`matplotlib` colormaps [here](https://matplotlib.org/stable/users/explain/colors/colormaps.html)"
   ]
  },
  {
   "cell_type": "markdown",
   "metadata": {},
   "source": [
    "### Prediction\n",
    "\n",
    "#### Create train/holdout data"
   ]
  },
  {
   "cell_type": "code",
   "execution_count": null,
   "metadata": {},
   "outputs": [],
   "source": [
    "df_daily_agg.info()"
   ]
  },
  {
   "cell_type": "code",
   "execution_count": null,
   "metadata": {},
   "outputs": [],
   "source": [
    "factor_cols = [\"month\", \"dow\", \"isHoliday\", \"school_off\"]\n",
    "\n",
    "df_daily_agg[factor_cols] = df_daily_agg[factor_cols].astype(\"category\")\n",
    "df_holdout = df_daily_agg.loc[df_daily_agg['year']==2016,:]\n",
    "df_train = df_daily_agg.loc[df_daily_agg['year']<2016,:]"
   ]
  },
  {
   "cell_type": "code",
   "execution_count": null,
   "metadata": {},
   "outputs": [],
   "source": [
    "df_daily_agg.info()"
   ]
  },
  {
   "cell_type": "code",
   "execution_count": null,
   "metadata": {},
   "outputs": [],
   "source": [
    "df_train.tail()"
   ]
  },
  {
   "cell_type": "code",
   "execution_count": null,
   "metadata": {},
   "outputs": [],
   "source": [
    "logo = LeaveOneGroupOut()\n",
    "groups = df_train.loc[:,'year'].to_numpy()\n",
    "groups"
   ]
  },
  {
   "cell_type": "markdown",
   "metadata": {},
   "source": [
    "Note: `LeaveOneOut()` is equivalent to `KFold(n_splits=n)`"
   ]
  },
  {
   "cell_type": "code",
   "execution_count": null,
   "metadata": {},
   "outputs": [],
   "source": [
    "df_train.year.unique()"
   ]
  },
  {
   "cell_type": "markdown",
   "metadata": {},
   "source": [
    "#### Linear regression"
   ]
  },
  {
   "cell_type": "code",
   "execution_count": null,
   "metadata": {},
   "outputs": [],
   "source": [
    "lin_reg = LinearRegression(fit_intercept=False)"
   ]
  },
  {
   "cell_type": "markdown",
   "metadata": {},
   "source": [
    "LeaveOneGroupOut object's `split` method:\n",
    "- **X**: array-like of shape (n_samples, n_features); training data, where n_samples is the number of samples and n_features is the number of features.\n",
    "- **y**: object; always ignored, exists for compatibility.\n",
    "- **groups**: object; always ignored, exists for compatibility."
   ]
  },
  {
   "cell_type": "code",
   "execution_count": null,
   "metadata": {},
   "outputs": [],
   "source": [
    "y, X = dmatrices(\"QUANTITY ~ 1 + trend + month\", df_train)\n",
    "for train_index, test_index in logo.split(X, y, groups):\n",
    "    print(train_index, '\\n', test_index)\n",
    "    print('--------')"
   ]
  },
  {
   "cell_type": "code",
   "execution_count": null,
   "metadata": {},
   "outputs": [],
   "source": [
    "def fit_cv_model_get_rmse(y, X, groups):\n",
    "    rmse_folds = []\n",
    "    for train_index, test_index in logo.split(X, y, groups):\n",
    "        X_train, X_test = X[train_index], X[test_index]\n",
    "        y_train, y_test = y[train_index], y[test_index]\n",
    "        lin_reg.fit(X_train, y_train)\n",
    "        y_hat = lin_reg.predict(X_test)\n",
    "        rmse_folds.append(mean_squared_error(y_test, y_hat, squared=False))\n",
    "\n",
    "    return np.mean(rmse_folds)"
   ]
  },
  {
   "cell_type": "markdown",
   "metadata": {},
   "source": [
    "**Model 1: linear trend + monthly seasonality**"
   ]
  },
  {
   "cell_type": "code",
   "execution_count": null,
   "metadata": {},
   "outputs": [],
   "source": [
    "%%time\n",
    "y, X = dmatrices(\"QUANTITY ~ 1 + trend + month\", df_train)"
   ]
  },
  {
   "cell_type": "code",
   "execution_count": null,
   "metadata": {},
   "outputs": [],
   "source": [
    "X"
   ]
  },
  {
   "cell_type": "code",
   "execution_count": null,
   "metadata": {},
   "outputs": [],
   "source": [
    "rmse_reg1 = fit_cv_model_get_rmse(y, X, groups)"
   ]
  },
  {
   "cell_type": "code",
   "execution_count": null,
   "metadata": {},
   "outputs": [],
   "source": [
    "rmse_reg1"
   ]
  },
  {
   "cell_type": "markdown",
   "metadata": {},
   "source": [
    "**Model 2: linear trend + monthly seasonality + days of week seasonality**"
   ]
  },
  {
   "cell_type": "code",
   "execution_count": null,
   "metadata": {},
   "outputs": [],
   "source": [
    "y,X = dmatrices(\"QUANTITY ~ 1+ trend + month + dow\",df_train)\n",
    "\n",
    "rmse_reg2 = fit_cv_model_get_rmse(y, X, groups)\n",
    "rmse_reg2"
   ]
  },
  {
   "cell_type": "markdown",
   "metadata": {},
   "source": [
    "**Model 3: linear trend + monthly seasonality + days of week  seasonality + holidays**"
   ]
  },
  {
   "cell_type": "code",
   "execution_count": null,
   "metadata": {},
   "outputs": [],
   "source": [
    "y,X = dmatrices(\"QUANTITY ~ 1 + trend + month + dow + isHoliday\",df_train)\n",
    "\n",
    "rmse_reg3 = fit_cv_model_get_rmse(y, X, groups)\n",
    "rmse_reg3"
   ]
  },
  {
   "cell_type": "markdown",
   "metadata": {},
   "source": [
    "**Model 4: linear trend + monthly seasonality + days of week  seasonality + holidays + sch$*$dow**"
   ]
  },
  {
   "cell_type": "code",
   "execution_count": null,
   "metadata": {},
   "outputs": [],
   "source": [
    "y,X = dmatrices(\"QUANTITY ~ 1 + trend + month + dow + isHoliday + school_off*dow\", df_train)\n",
    "\n",
    "rmse_reg4 = fit_cv_model_get_rmse(y, X, groups)\n",
    "rmse_reg4"
   ]
  },
  {
   "cell_type": "markdown",
   "metadata": {},
   "source": [
    "**Model 5: linear trend + monthly seasonality + days of week  seasonality + holidays + interactions**"
   ]
  },
  {
   "cell_type": "code",
   "execution_count": null,
   "metadata": {},
   "outputs": [],
   "source": [
    "y, X = dmatrices(\n",
    "    \"QUANTITY ~ 1 + trend + month + dow + isHoliday + school_off*dow+ weekend*month\",\n",
    "    df_train,\n",
    ")\n",
    "\n",
    "rmse_reg5 = fit_cv_model_get_rmse(y, X, groups)\n",
    "rmse_reg5"
   ]
  },
  {
   "cell_type": "code",
   "execution_count": null,
   "metadata": {},
   "outputs": [],
   "source": [
    "df_train2 = df_train[df_train.QUANTITY >= 1]\n",
    "groups = df_train2.loc[:,'year'].to_numpy()"
   ]
  },
  {
   "cell_type": "markdown",
   "metadata": {},
   "source": [
    "Note: we could have done:\n",
    "```python\n",
    "groups = df_train2.year.to_numpy()\n",
    "```"
   ]
  },
  {
   "cell_type": "markdown",
   "metadata": {},
   "source": [
    "**Model 6: trend + monthly seasonality + days of week seasonality + holidays + interactions**\n",
    "\n",
    "Why is it different than Model 5?"
   ]
  },
  {
   "cell_type": "code",
   "execution_count": null,
   "metadata": {},
   "outputs": [],
   "source": [
    "y, X = dmatrices(\n",
    "    \"q_ln ~ 1 + trend + month + dow +school_off*dow\", df_train2\n",
    ")\n",
    "\n",
    "rmse_folds = []\n",
    "for train_index, test_index in logo.split(X, y, groups):\n",
    "    X_train, X_test = X[train_index], X[test_index]\n",
    "    y_train, y_test = y[train_index], y[test_index]\n",
    "    lin_reg.fit(X_train, y_train)\n",
    "    y_hat = lin_reg.predict(X)\n",
    "\n",
    "    corrb = mean_squared_error(y , y_hat)\n",
    "\n",
    "    y_hat = np.exp((lin_reg.predict(X_test) + corrb / 2))\n",
    "    rmse_folds.append(mean_squared_error(np.exp(y_test), y_hat, squared=False))\n",
    "\n",
    "rmse_reg6 = np.mean(rmse_folds)\n",
    "rmse_reg6"
   ]
  },
  {
   "cell_type": "markdown",
   "metadata": {},
   "source": [
    "#### Prophet"
   ]
  },
  {
   "cell_type": "markdown",
   "metadata": {},
   "source": [
    "Cross-validation with `Prophet` done with prophet: https://facebook.github.io/prophet/docs/diagnostics.html. This is a *time-series-based (!!!)* cross-validation."
   ]
  },
  {
   "cell_type": "markdown",
   "metadata": {},
   "source": [
    "*Question*: why are we building an additive model?"
   ]
  },
  {
   "cell_type": "code",
   "execution_count": null,
   "metadata": {},
   "outputs": [],
   "source": [
    "model_prophet = Prophet(\n",
    "    seasonality_mode=\"additive\",\n",
    "    yearly_seasonality=\"auto\",\n",
    "    weekly_seasonality=\"auto\",\n",
    "    growth=\"linear\",\n",
    "    daily_seasonality=True,\n",
    ")\n",
    "\n",
    "model_prophet = Prophet.add_country_holidays(model_prophet,\"US\")"
   ]
  },
  {
   "cell_type": "code",
   "execution_count": null,
   "metadata": {},
   "outputs": [],
   "source": [
    "model_prophet = Prophet.fit(\n",
    "    model_prophet,\n",
    "    df=df_train[[\"date\", \"QUANTITY\"]].rename({\"date\": \"ds\", \"QUANTITY\": \"y\"}, axis=1),\n",
    ")"
   ]
  },
  {
   "cell_type": "code",
   "execution_count": null,
   "metadata": {},
   "outputs": [],
   "source": [
    "cv_pred = cross_validation(\n",
    "    model_prophet, \n",
    "    initial=\"365 days\", \n",
    "    period=\"365 days\", \n",
    "    horizon=\"365 days\"\n",
    ")"
   ]
  },
  {
   "cell_type": "code",
   "execution_count": null,
   "metadata": {},
   "outputs": [],
   "source": [
    "cv_pred"
   ]
  },
  {
   "cell_type": "code",
   "execution_count": null,
   "metadata": {},
   "outputs": [],
   "source": [
    "performance_metrics(cv_pred,rolling_window = 1)"
   ]
  },
  {
   "cell_type": "code",
   "execution_count": null,
   "metadata": {},
   "outputs": [],
   "source": [
    "rmse_prophet_cv = performance_metrics(cv_pred, rolling_window = 1)[\"rmse\"][0]\n",
    "rmse_prophet_cv"
   ]
  },
  {
   "cell_type": "markdown",
   "metadata": {},
   "source": [
    "Note: M6 log model rmse is slightly different from the one found in the book"
   ]
  },
  {
   "cell_type": "code",
   "execution_count": null,
   "metadata": {},
   "outputs": [],
   "source": [
    "pd.DataFrame(\n",
    "    [rmse_reg1, rmse_reg2, rmse_reg3, rmse_reg4, rmse_reg5, rmse_reg6, rmse_prophet_cv],\n",
    "    [\"M\" + str(i) for i in range(1, 6)] + [\"M6 (log)\", \"M7 (Prophet)\"],\n",
    "    columns=[\"RMSE\"],\n",
    ").round(2)"
   ]
  },
  {
   "cell_type": "markdown",
   "metadata": {},
   "source": [
    "### Evaluate best model on the holdout set"
   ]
  },
  {
   "cell_type": "code",
   "execution_count": null,
   "metadata": {},
   "outputs": [],
   "source": [
    "lin_reg = LinearRegression(fit_intercept=False)\n",
    "\n",
    "y, X = dmatrices(\n",
    "    \"QUANTITY ~ 1 + trend + month + dow + isHoliday + school_off*dow+ weekend*month\",\n",
    "    df_train,\n",
    ")\n",
    "\n",
    "lin_reg.fit(X, y)\n",
    "\n",
    "_, X_holdout = dmatrices(\n",
    "    \"QUANTITY ~ 1 + trend + month + dow + isHoliday + school_off*dow+ weekend*month\",\n",
    "    df_holdout,\n",
    ")"
   ]
  },
  {
   "cell_type": "markdown",
   "metadata": {},
   "source": [
    "*Question*: what is '`_`' in the previous code chunk?"
   ]
  },
  {
   "cell_type": "code",
   "execution_count": null,
   "metadata": {},
   "outputs": [],
   "source": [
    "df_holdout[\"y_hat_5\"] = lin_reg.predict(X_holdout)"
   ]
  },
  {
   "cell_type": "code",
   "execution_count": null,
   "metadata": {},
   "outputs": [],
   "source": [
    "rmse_holdout_best = mean_squared_error(\n",
    "    df_holdout.QUANTITY, \n",
    "    df_holdout.y_hat_5, \n",
    "    squared=False # default: True > returns MSE\n",
    ")\n",
    "rmse_holdout_best"
   ]
  },
  {
   "cell_type": "markdown",
   "metadata": {},
   "source": [
    "#### Detour: interpreting regression coefficients. What are the actual seasonal effects in ticket sales?"
   ]
  },
  {
   "cell_type": "code",
   "execution_count": null,
   "metadata": {},
   "outputs": [],
   "source": [
    "y, X = dmatrices(\n",
    "    \"QUANTITY ~ trend + month + dow + isHoliday + school_off*dow+ weekend*month\",\n",
    "    df_train,\n",
    ")"
   ]
  },
  {
   "cell_type": "code",
   "execution_count": null,
   "metadata": {},
   "outputs": [],
   "source": [
    "best_ols_results = sm.OLS(y, X).fit()"
   ]
  },
  {
   "cell_type": "code",
   "execution_count": null,
   "metadata": {},
   "outputs": [],
   "source": [
    "print(best_ols_results.summary2())"
   ]
  },
  {
   "cell_type": "markdown",
   "metadata": {},
   "source": [
    "<br>\n",
    "\n",
    "- What does it mean?\n",
    "\n",
    "```\n",
    "\"The smallest eigenvalue is .... This might indicate that there are \n",
    "strong multicollinearity problems or that the design matrix is singular\" \n",
    "\n",
    "```\n",
    "."
   ]
  },
  {
   "cell_type": "code",
   "execution_count": null,
   "metadata": {},
   "outputs": [],
   "source": [
    "best_ols_results.eigenvals.min()"
   ]
  },
  {
   "cell_type": "code",
   "execution_count": null,
   "metadata": {},
   "outputs": [],
   "source": [
    "np.max(best_ols_results.eigenvals) / np.min(best_ols_results.eigenvals)"
   ]
  },
  {
   "cell_type": "code",
   "execution_count": null,
   "metadata": {},
   "outputs": [],
   "source": [
    "plt.hist(best_ols_results.resid, bins = 51, rwidth = 0.9);"
   ]
  },
  {
   "cell_type": "markdown",
   "metadata": {},
   "source": [
    "### Plot best predictions\n",
    "\n",
    "Relative RMSE on the holdout set per month"
   ]
  },
  {
   "cell_type": "code",
   "execution_count": null,
   "metadata": {},
   "outputs": [],
   "source": [
    "group = df_holdout.sort_values(by=[\"month\"]).groupby(\"month\")"
   ]
  },
  {
   "cell_type": "code",
   "execution_count": null,
   "metadata": {},
   "outputs": [],
   "source": [
    "type(group)"
   ]
  },
  {
   "cell_type": "code",
   "execution_count": null,
   "metadata": {},
   "outputs": [],
   "source": [
    "group.apply(lambda x: mean_squared_error(x.QUANTITY, x.y_hat_5, squared=False))"
   ]
  },
  {
   "cell_type": "code",
   "execution_count": null,
   "metadata": {},
   "outputs": [],
   "source": [
    "rmse_monthly = pd.DataFrame(\n",
    "    [\n",
    "        group.apply(lambda x: mean_squared_error(x.QUANTITY, x.y_hat_5, squared=False)),\n",
    "        group.apply(\n",
    "            lambda x: mean_squared_error(x.QUANTITY, x.y_hat_5, squared=False) / np.mean(x.QUANTITY)\n",
    "        ),\n",
    "    ],\n",
    "    index=[\"RMSE\", \"RMSE_norm\"],\n",
    ").T.reset_index()"
   ]
  },
  {
   "cell_type": "code",
   "execution_count": null,
   "metadata": {},
   "outputs": [],
   "source": [
    "rmse_monthly"
   ]
  },
  {
   "cell_type": "code",
   "execution_count": null,
   "metadata": {},
   "outputs": [],
   "source": [
    "ax = sns.barplot(data = rmse_monthly, x = 'month', y = 'RMSE_norm')\n",
    "ax.grid(visible = True, axis = 'y')\n",
    "ax.set_ylabel('normalized RMSE')\n",
    "ax.set_title('Normalized RMSE across months');"
   ]
  },
  {
   "cell_type": "code",
   "execution_count": null,
   "metadata": {},
   "outputs": [],
   "source": [
    "x = df_holdout[(df_holdout.year == 2016) & (df_holdout.month == 8)].date\n",
    "y1 = df_holdout[(df_holdout.year == 2016) & (df_holdout.month == 8)].QUANTITY\n",
    "y2 = df_holdout[(df_holdout.year == 2016) & (df_holdout.month == 8)].y_hat_5"
   ]
  },
  {
   "cell_type": "code",
   "execution_count": null,
   "metadata": {},
   "outputs": [],
   "source": [
    "plt.subplots(figsize = (8,6))\n",
    "plt.plot(x, y1, color = 'k')\n",
    "plt.plot(x, y2, color = 'k', linestyle = '--')\n",
    "plt.fill_between(x, y1, y2, color = 'lightblue')\n",
    "plt.legend(['actual', 'predicted'])\n",
    "plt.ylabel('tickets sold')\n",
    "plt.grid(True)\n",
    "plt.title('Actual vs predicted ticket sales, August 2016')\n",
    "plt.xticks(x.tolist()[0::7]);"
   ]
  },
  {
   "cell_type": "code",
   "execution_count": null,
   "metadata": {},
   "outputs": [],
   "source": []
  }
 ],
 "metadata": {
  "kernelspec": {
   "display_name": "Python 3 (ipykernel)",
   "language": "python",
   "name": "python3"
  },
  "language_info": {
   "codemirror_mode": {
    "name": "ipython",
    "version": 3
   },
   "file_extension": ".py",
   "mimetype": "text/x-python",
   "name": "python",
   "nbconvert_exporter": "python",
   "pygments_lexer": "ipython3",
   "version": "3.12.4"
  }
 },
 "nbformat": 4,
 "nbformat_minor": 4
}
